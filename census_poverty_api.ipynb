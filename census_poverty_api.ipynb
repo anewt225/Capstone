{
 "cells": [
  {
   "cell_type": "code",
   "execution_count": 1,
   "metadata": {},
   "outputs": [],
   "source": [
    "import requests"
   ]
  },
  {
   "cell_type": "code",
   "execution_count": 2,
   "metadata": {},
   "outputs": [],
   "source": [
    "import json"
   ]
  },
  {
   "cell_type": "code",
   "execution_count": 3,
   "metadata": {},
   "outputs": [],
   "source": [
    "import pandas as pd\n",
    "import numpy as np"
   ]
  },
  {
   "cell_type": "code",
   "execution_count": 4,
   "metadata": {},
   "outputs": [
    {
     "data": {
      "text/plain": [
       "200"
      ]
     },
     "execution_count": 4,
     "metadata": {},
     "output_type": "execute_result"
    }
   ],
   "source": [
    "census1 = requests.get(\"https://api.census.gov/data/timeseries/poverty/saipe/schdist?get=GEOID,LEAID,SD_NAME,GRADE,SAEPOVRAT5_17RV_PT&for=school%20district%20(unified):*&in=state:*&time=2018&key=2b07e25a69e507e080faa2c31f9da3b42d178b4e\")\n",
    "census1.status_code"
   ]
  },
  {
   "cell_type": "code",
   "execution_count": 5,
   "metadata": {},
   "outputs": [],
   "source": [
    "census_poverty = json.loads(census1.content)\n",
    "poverty = pd.DataFrame(data=census_poverty)\n",
    "poverty.columns = poverty.iloc[0]\n",
    "poverty = poverty[1:]\n",
    "poverty['GEOID']= poverty['GEOID'].str.zfill(7)\n",
    "poverty.rename(columns={'GEOID':'leaid'}, inplace=True)"
   ]
  },
  {
   "cell_type": "code",
   "execution_count": 6,
   "metadata": {},
   "outputs": [
    {
     "data": {
      "text/html": [
       "<div>\n",
       "<style scoped>\n",
       "    .dataframe tbody tr th:only-of-type {\n",
       "        vertical-align: middle;\n",
       "    }\n",
       "\n",
       "    .dataframe tbody tr th {\n",
       "        vertical-align: top;\n",
       "    }\n",
       "\n",
       "    .dataframe thead th {\n",
       "        text-align: right;\n",
       "    }\n",
       "</style>\n",
       "<table border=\"1\" class=\"dataframe\">\n",
       "  <thead>\n",
       "    <tr style=\"text-align: right;\">\n",
       "      <th></th>\n",
       "      <th>SD_NAME</th>\n",
       "      <th>GRADE</th>\n",
       "      <th>SAEPOVRAT5_17RV_PT</th>\n",
       "      <th>time</th>\n",
       "      <th>state</th>\n",
       "      <th>school district (unified)</th>\n",
       "    </tr>\n",
       "    <tr>\n",
       "      <th>leaid</th>\n",
       "      <th></th>\n",
       "      <th></th>\n",
       "      <th></th>\n",
       "      <th></th>\n",
       "      <th></th>\n",
       "      <th></th>\n",
       "    </tr>\n",
       "  </thead>\n",
       "  <tbody>\n",
       "    <tr>\n",
       "      <th>0100001</th>\n",
       "      <td>Fort Rucker School District</td>\n",
       "      <td>KG-12</td>\n",
       "      <td>12.4</td>\n",
       "      <td>2018</td>\n",
       "      <td>01</td>\n",
       "      <td>00001</td>\n",
       "    </tr>\n",
       "    <tr>\n",
       "      <th>0100003</th>\n",
       "      <td>Maxwell AFB School District</td>\n",
       "      <td>KG-12</td>\n",
       "      <td>15.2</td>\n",
       "      <td>2018</td>\n",
       "      <td>01</td>\n",
       "      <td>00003</td>\n",
       "    </tr>\n",
       "    <tr>\n",
       "      <th>0100005</th>\n",
       "      <td>Albertville City School District</td>\n",
       "      <td>KG-12</td>\n",
       "      <td>30.1</td>\n",
       "      <td>2018</td>\n",
       "      <td>01</td>\n",
       "      <td>00005</td>\n",
       "    </tr>\n",
       "    <tr>\n",
       "      <th>0100006</th>\n",
       "      <td>Marshall County School District</td>\n",
       "      <td>PK-12</td>\n",
       "      <td>26.6</td>\n",
       "      <td>2018</td>\n",
       "      <td>01</td>\n",
       "      <td>00006</td>\n",
       "    </tr>\n",
       "    <tr>\n",
       "      <th>0100007</th>\n",
       "      <td>Hoover City School District</td>\n",
       "      <td>KG-12</td>\n",
       "      <td>7.3</td>\n",
       "      <td>2018</td>\n",
       "      <td>01</td>\n",
       "      <td>00007</td>\n",
       "    </tr>\n",
       "  </tbody>\n",
       "</table>\n",
       "</div>"
      ],
      "text/plain": [
       "0                                 SD_NAME  GRADE SAEPOVRAT5_17RV_PT  time  \\\n",
       "leaid                                                                       \n",
       "0100001       Fort Rucker School District  KG-12               12.4  2018   \n",
       "0100003       Maxwell AFB School District  KG-12               15.2  2018   \n",
       "0100005  Albertville City School District  KG-12               30.1  2018   \n",
       "0100006   Marshall County School District  PK-12               26.6  2018   \n",
       "0100007       Hoover City School District  KG-12                7.3  2018   \n",
       "\n",
       "0       state school district (unified)  \n",
       "leaid                                    \n",
       "0100001    01                     00001  \n",
       "0100003    01                     00003  \n",
       "0100005    01                     00005  \n",
       "0100006    01                     00006  \n",
       "0100007    01                     00007  "
      ]
     },
     "execution_count": 6,
     "metadata": {},
     "output_type": "execute_result"
    }
   ],
   "source": [
    "poverty.columns.str.lower()\n",
    "poverty.drop(columns='LEAID',inplace=True)\n",
    "poverty.set_index('leaid', inplace=True)\n",
    "poverty.head()"
   ]
  },
  {
   "cell_type": "code",
   "execution_count": 7,
   "metadata": {},
   "outputs": [
    {
     "name": "stdout",
     "output_type": "stream",
     "text": [
      "<class 'pandas.core.frame.DataFrame'>\n",
      "Index: 10863 entries, 0100001 to 7200030\n",
      "Data columns (total 1 columns):\n",
      " #   Column              Non-Null Count  Dtype \n",
      "---  ------              --------------  ----- \n",
      " 0   SAEPOVRAT5_17RV_PT  10863 non-null  object\n",
      "dtypes: object(1)\n",
      "memory usage: 169.7+ KB\n"
     ]
    }
   ],
   "source": [
    "poverty_2018 = poverty[['SAEPOVRAT5_17RV_PT']]\n",
    "poverty_2018.info()"
   ]
  },
  {
   "cell_type": "code",
   "execution_count": 8,
   "metadata": {},
   "outputs": [
    {
     "data": {
      "text/html": [
       "<div>\n",
       "<style scoped>\n",
       "    .dataframe tbody tr th:only-of-type {\n",
       "        vertical-align: middle;\n",
       "    }\n",
       "\n",
       "    .dataframe tbody tr th {\n",
       "        vertical-align: top;\n",
       "    }\n",
       "\n",
       "    .dataframe thead th {\n",
       "        text-align: right;\n",
       "    }\n",
       "</style>\n",
       "<table border=\"1\" class=\"dataframe\">\n",
       "  <thead>\n",
       "    <tr style=\"text-align: right;\">\n",
       "      <th></th>\n",
       "      <th>SAEPOVRAT5_17RV_PT</th>\n",
       "    </tr>\n",
       "    <tr>\n",
       "      <th>leaid</th>\n",
       "      <th></th>\n",
       "    </tr>\n",
       "  </thead>\n",
       "  <tbody>\n",
       "    <tr>\n",
       "      <th>0100001</th>\n",
       "      <td>12.4</td>\n",
       "    </tr>\n",
       "    <tr>\n",
       "      <th>0100003</th>\n",
       "      <td>15.2</td>\n",
       "    </tr>\n",
       "    <tr>\n",
       "      <th>0100005</th>\n",
       "      <td>30.1</td>\n",
       "    </tr>\n",
       "    <tr>\n",
       "      <th>0100006</th>\n",
       "      <td>26.6</td>\n",
       "    </tr>\n",
       "    <tr>\n",
       "      <th>0100007</th>\n",
       "      <td>7.3</td>\n",
       "    </tr>\n",
       "  </tbody>\n",
       "</table>\n",
       "</div>"
      ],
      "text/plain": [
       "0       SAEPOVRAT5_17RV_PT\n",
       "leaid                     \n",
       "0100001               12.4\n",
       "0100003               15.2\n",
       "0100005               30.1\n",
       "0100006               26.6\n",
       "0100007                7.3"
      ]
     },
     "execution_count": 8,
     "metadata": {},
     "output_type": "execute_result"
    }
   ],
   "source": [
    "poverty_2018.head()"
   ]
  },
  {
   "cell_type": "code",
   "execution_count": 9,
   "metadata": {},
   "outputs": [],
   "source": [
    "poverty_2018.to_pickle('data/poverty_2018.pkl')"
   ]
  }
 ],
 "metadata": {
  "kernelspec": {
   "display_name": "Python 3",
   "language": "python",
   "name": "python3"
  },
  "language_info": {
   "codemirror_mode": {
    "name": "ipython",
    "version": 3
   },
   "file_extension": ".py",
   "mimetype": "text/x-python",
   "name": "python",
   "nbconvert_exporter": "python",
   "pygments_lexer": "ipython3",
   "version": "3.8.5"
  }
 },
 "nbformat": 4,
 "nbformat_minor": 4
}
