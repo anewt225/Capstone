{
 "cells": [
  {
   "cell_type": "markdown",
   "metadata": {},
   "source": [
    "# Education EDA\n",
    "\n",
    "This notebook explores educational assessment data provided by the [Department of Education's National Center for Education Statistics (NCES) in the Ed*Facts*]('https://www2.ed.gov/about/inits/ed/edfacts/data-files/index.html') dataset collection."
   ]
  },
  {
   "cell_type": "markdown",
   "metadata": {},
   "source": [
    "# Notebook Outline\n",
    "\n",
    "1. [Get the Data](#Get-the-Data)\n",
    "\n",
    "2. [Explore the Data](#Explore-Data)\n",
    "\n",
    "3. [Visualize the Data](#Visualize)\n",
    "\n",
    "4. [Fix the Data](#Get-NM-and_VA-new-data)\n",
    "\n",
    "\n",
    "\n",
    "\n",
    "[Census Broadband Dataa](#Census-Broadband-Data)\n",
    "\n",
    "[Census Device Data](#Census-Device-Data)\n",
    "\n",
    "[Geographical Data](#Geographical-Data)"
   ]
  },
  {
   "cell_type": "code",
   "execution_count": 1,
   "metadata": {},
   "outputs": [],
   "source": [
    "## Import necessary modules:\n",
    "\n",
    "import pandas as pd \n",
    "import numpy as np\n",
    "import matplotlib.pyplot as plt\n",
    "## for visualizations:\n",
    "import seaborn as sns\n",
    "## for viewing missing values\n",
    "import missingno as msno\n",
    "## for editing Regular Expressions:\n",
    "import re"
   ]
  },
  {
   "cell_type": "code",
   "execution_count": 76,
   "metadata": {},
   "outputs": [],
   "source": [
    "import geopandas\n",
    "import descartes\n",
    "import fiona\n",
    "from shapely.geometry import linestring"
   ]
  },
  {
   "cell_type": "markdown",
   "metadata": {},
   "source": [
    "# Get the Data:"
   ]
  },
  {
   "cell_type": "markdown",
   "metadata": {},
   "source": [
    "## Data Overview\n",
    "\n",
    "The website contains:\n",
    "\n",
    "### Data Files:\n",
    "- School Year (AY 2013 - 2018)\n",
    "- Subject (Math or Reading/Language Arts)\n",
    "- Metric (achievement, participation, or adjusted cohort graduation rate)\n",
    "- Geographical Unit (Local Education Agency (LEA) or school)\n",
    "\n",
    "### Documentation:\n",
    "- Documentation\n",
    "- Data Notes (state notes)\n",
    "- Performance Mapping\n",
    "\n",
    "For this project, we're focusing on:\n",
    "- Academic Year **2017-18** published April 2020\n",
    "- **Math** AND **Reading / Language Arts** Scores\n",
    "- **Achievement** metric for success\n",
    "- **Local Education Agency** to link with census data"
   ]
  },
  {
   "cell_type": "markdown",
   "metadata": {},
   "source": [
    "### Direct Links:\n",
    "\n",
    "The datasets used in this project are linked here directly.\n",
    "\n",
    "[Math Achievement Percentage Proficiency by Local Education Agency, 2017-18](https://www2.ed.gov/about/inits/ed/edfacts/data-files/math-achievement-lea-sy2017-18.csv)\n",
    "\n",
    "[Reading / Language Arts Achievement Percentage Proficiency by Local Education Agency, 2017-18](https://www2.ed.gov/about/inits/ed/edfacts/data-files/rla-achievement-lea-sy2017-18.csv)"
   ]
  },
  {
   "cell_type": "markdown",
   "metadata": {},
   "source": [
    "### Additional Data:\n",
    "\n",
    "The workflow below can be used to quickly select additional datasets by year, subject, metric, or geography:"
   ]
  },
  {
   "cell_type": "code",
   "execution_count": 2,
   "metadata": {},
   "outputs": [
    {
     "ename": "SyntaxError",
     "evalue": "invalid syntax (<ipython-input-2-dd7d3329df60>, line 1)",
     "output_type": "error",
     "traceback": [
      "\u001b[1;36m  File \u001b[1;32m\"<ipython-input-2-dd7d3329df60>\"\u001b[1;36m, line \u001b[1;32m1\u001b[0m\n\u001b[1;33m    <!--\u001b[0m\n\u001b[1;37m    ^\u001b[0m\n\u001b[1;31mSyntaxError\u001b[0m\u001b[1;31m:\u001b[0m invalid syntax\n"
     ]
    }
   ],
   "source": [
    "<!--\n",
    "\n",
    "## Prompt for input on customizable datasets\n",
    "subject=input(\"Enter Assessment Subject: 'math' for math OR 'rla' for reading / language arts\")\n",
    "geog=input(\"Enter Detail Level: 'lea' for Local Education Agency OR 'sch' for school\")\n",
    "data_file=input(\"Enter dataset type: 'achievement' for assessment proficiency OR 'participation' for assessment participation OR 'acgr' for Adjusted Cohort Graduation Rate\")\n",
    "school_year=input(\"Enter academic year as: YYYY-YY\")\n",
    "\n",
    "## Insert input specifications into URL to get from website\n",
    "df = pd.read_csv('https://www2.ed.gov/about/inits/ed/edfacts/data-files/{subject}-{data_file}-{geog}-sy{school_year}.csv'\n",
    "                 .format(subject=subject, data_file=data_file,  geog=geog, school_year=school_year),\n",
    "                 low_memory=False)\n",
    "\n",
    "## Convert the LEAID column to strings in order to manipulate for merging\n",
    "df['LEAID'] = df['LEAID'].astype(str)\n",
    "\n",
    "## Based on reading documentation, remove leading information from LEAID\n",
    "## Ensure that LEAID has 7 digits to facilitate merging later\n",
    "df['LEAID'] = df['LEAID'].str.lstrip('9700000US').str.zfill(7)\n",
    "\n",
    "## Save the file to the data folder with the appropriate name\n",
    "df.to_pickle('../data/education/{subject}_{data_file}_{school_year}.pkl'.format(subject=subject, data_file=data_file, school_year=school_year))\n",
    "\n",
    "##Preview Data\n",
    "df.head()\n",
    "\n",
    "-->"
   ]
  },
  {
   "cell_type": "markdown",
   "metadata": {},
   "source": [
    "Since we know what data we want, we're going to pass those parameters directly into the data query / call. From here, we'll bring in math data as well as reading / languagee arts data, and then merge the datasets to have one complete dataset of academic achievement: \n",
    "- **Percent Proficient in Math and Reading / Language Arts in each Local Education Agency (LEA) for Academic Year 2017-18** "
   ]
  },
  {
   "cell_type": "markdown",
   "metadata": {},
   "source": [
    "## Import Math Data"
   ]
  },
  {
   "cell_type": "code",
   "execution_count": 3,
   "metadata": {},
   "outputs": [
    {
     "name": "stdout",
     "output_type": "stream",
     "text": [
      "<class 'pandas.core.frame.DataFrame'>\n",
      "RangeIndex: 15984 entries, 0 to 15983\n",
      "Columns: 262 entries, STNAM to MIL_MTHHSPCTPROF_1718\n",
      "dtypes: int64(2), object(260)\n",
      "memory usage: 32.0+ MB\n",
      "None\n",
      "     STNAM  FIPST    LEAID ST_LEAID             LEANM DATE_CUR  \\\n",
      "0  ALABAMA      1  0100005   AL-101  Albertville City  27MAR19   \n",
      "1  ALABAMA      1  0100006   AL-048   Marshall County  27MAR19   \n",
      "2  ALABAMA      1  0100007   AL-158       Hoover City  27MAR19   \n",
      "3  ALABAMA      1  0100008   AL-169      Madison City  27MAR19   \n",
      "4  ALABAMA      1  0100011   AL-167        Leeds City  27MAR19   \n",
      "\n",
      "   ALL_MTH00NUMVALID_1718 ALL_MTH00PCTPROF_1718 MAM_MTH00NUMVALID_1718  \\\n",
      "0                    2892                    45                      5   \n",
      "1                    2987                    43                     12   \n",
      "2                    7551                    70                      5   \n",
      "3                    5668                    76                     47   \n",
      "4                    1017                    40                      2   \n",
      "\n",
      "  MAM_MTH00PCTPROF_1718  ... MIL_MTH05NUMVALID_1718 MIL_MTH05PCTPROF_1718  \\\n",
      "0                    PS  ...                     14                  LT50   \n",
      "1                  GE50  ...                      1                    PS   \n",
      "2                    PS  ...                     12                  GE50   \n",
      "3                 60-69  ...                     34                 60-69   \n",
      "4                    PS  ...                      6                  LT50   \n",
      "\n",
      "  MIL_MTH06NUMVALID_1718 MIL_MTH06PCTPROF_1718 MIL_MTH07NUMVALID_1718  \\\n",
      "0                      5                    PS                     11   \n",
      "1                    NaN                   NaN                      3   \n",
      "2                      8                  GE50                      6   \n",
      "3                     38                 70-79                     42   \n",
      "4                    NaN                   NaN                      2   \n",
      "\n",
      "  MIL_MTH07PCTPROF_1718 MIL_MTH08NUMVALID_1718 MIL_MTH08PCTPROF_1718  \\\n",
      "0                  GE50                     14                  GE50   \n",
      "1                    PS                      2                    PS   \n",
      "2                  GE50                     12                  GE50   \n",
      "3                 60-69                     51                 70-79   \n",
      "4                    PS                      4                    PS   \n",
      "\n",
      "  MIL_MTHHSNUMVALID_1718 MIL_MTHHSPCTPROF_1718  \n",
      "0                     10                  GE50  \n",
      "1                      3                    PS  \n",
      "2                     20                 40-59  \n",
      "3                     44                 70-79  \n",
      "4                      3                    PS  \n",
      "\n",
      "[5 rows x 262 columns]\n"
     ]
    }
   ],
   "source": [
    "## Define specific variables\n",
    "subject='math'\n",
    "data_file='achievement'\n",
    "geog='lea'\n",
    "school_year='2017-18'\n",
    "\n",
    "## Insert input specifications into URL to get from website\n",
    "math_2018 = pd.read_csv('https://www2.ed.gov/about/inits/ed/edfacts/data-files/{subject}-{data_file}-{geog}-sy{school_year}.csv'\n",
    "                 .format(subject=subject, data_file=data_file,  geog=geog, school_year=school_year),\n",
    "                 low_memory=False)\n",
    "\n",
    "## Convert the LEAID column to strings in order to manipulate for merging\n",
    "math_2018['LEAID'] = math_2018['LEAID'].astype(str)\n",
    "\n",
    "## Based on reading documentation, remove leading information from LEAID\n",
    "## Ensure that LEAID has 7 digits to facilitate merging later\n",
    "math_2018['LEAID'] = math_2018['LEAID'].str.lstrip('9700000US').str.zfill(7)\n",
    "\n",
    "## Save the file to the data folder with the appropriate name\n",
    "math_2018.to_pickle('../data/education/{subject}_{data_file}_{school_year}.pkl'.format(subject=subject, data_file=data_file, school_year=school_year))\n",
    "\n",
    "## Preview first five observations of dataset\n",
    "print(math_2018.info())\n",
    "print(math_2018.head())"
   ]
  },
  {
   "cell_type": "markdown",
   "metadata": {},
   "source": [
    "From here, the important things we see are:\n",
    "- Rows: there are just under 16,000 observations in this dataset, each corresponding to a specific LEAID\n",
    "- Columns: the columns have specific formatting, and perhaps some redundancies\n",
    "\n",
    "Before touching anything, let's make sure we grabe the Reading and Language Arts dataset so that we can look at them both as a whole. Follow the same steps as prior, ensuring that we get the same general shape (same number of observations, at least - the exact number of features is not important at the moment)."
   ]
  },
  {
   "cell_type": "markdown",
   "metadata": {},
   "source": [
    "## Import Reading / Language Arts Data"
   ]
  },
  {
   "cell_type": "code",
   "execution_count": 4,
   "metadata": {},
   "outputs": [
    {
     "name": "stdout",
     "output_type": "stream",
     "text": [
      "     STNAM  FIPST    LEAID ST_LEAID             LEANM DATE_CUR  \\\n",
      "0  ALABAMA      1  0100005   AL-101  Albertville City  27MAR19   \n",
      "1  ALABAMA      1  0100006   AL-048   Marshall County  27MAR19   \n",
      "2  ALABAMA      1  0100007   AL-158       Hoover City  27MAR19   \n",
      "3  ALABAMA      1  0100008   AL-169      Madison City  27MAR19   \n",
      "4  ALABAMA      1  0100011   AL-167        Leeds City  27MAR19   \n",
      "\n",
      "   ALL_RLA00NUMVALID_1718 ALL_RLA00PCTPROF_1718 MAM_RLA00NUMVALID_1718  \\\n",
      "0                    2885                    38                      5   \n",
      "1                    2984                    36                     12   \n",
      "2                    7522                    65                      5   \n",
      "3                    5654                    74                     46   \n",
      "4                    1017                    41                      2   \n",
      "\n",
      "  MAM_RLA00PCTPROF_1718  ... MIL_RLA05NUMVALID_1718 MIL_RLA05PCTPROF_1718  \\\n",
      "0                    PS  ...                     14                  LT50   \n",
      "1                  GE50  ...                      1                    PS   \n",
      "2                    PS  ...                     11                  GE50   \n",
      "3                 50-59  ...                     34                 80-89   \n",
      "4                    PS  ...                      6                  LT50   \n",
      "\n",
      "  MIL_RLA06NUMVALID_1718 MIL_RLA06PCTPROF_1718 MIL_RLA07NUMVALID_1718  \\\n",
      "0                      5                    PS                     11   \n",
      "1                    NaN                   NaN                      3   \n",
      "2                      8                  GE50                      6   \n",
      "3                     38                 70-79                     42   \n",
      "4                    NaN                   NaN                      2   \n",
      "\n",
      "  MIL_RLA07PCTPROF_1718 MIL_RLA08NUMVALID_1718 MIL_RLA08PCTPROF_1718  \\\n",
      "0                  GE50                     14                  GE50   \n",
      "1                    PS                      2                    PS   \n",
      "2                  GE50                     12                  GE50   \n",
      "3                 70-79                     51                 70-79   \n",
      "4                    PS                      4                    PS   \n",
      "\n",
      "  MIL_RLAHSNUMVALID_1718 MIL_RLAHSPCTPROF_1718  \n",
      "0                     10                  GE50  \n",
      "1                      3                    PS  \n",
      "2                     20                 40-59  \n",
      "3                     44                 60-69  \n",
      "4                      3                    PS  \n",
      "\n",
      "[5 rows x 262 columns]\n",
      "<class 'pandas.core.frame.DataFrame'>\n",
      "RangeIndex: 16110 entries, 0 to 16109\n",
      "Columns: 262 entries, STNAM to MIL_RLAHSPCTPROF_1718\n",
      "dtypes: int64(2), object(260)\n",
      "memory usage: 32.2+ MB\n",
      "None\n"
     ]
    }
   ],
   "source": [
    "subject='rla'\n",
    "data_file='achievement'\n",
    "geog='lea'\n",
    "school_year='2017-18'\n",
    "\n",
    "## Insert input specifications into URL to get from website\n",
    "rla_2018 = pd.read_csv('https://www2.ed.gov/about/inits/ed/edfacts/data-files/{subject}-{data_file}-{geog}-sy{school_year}.csv'\n",
    "                 .format(subject=subject, data_file=data_file,  geog=geog, school_year=school_year),\n",
    "                 low_memory=False)\n",
    "\n",
    "## Convert the LEAID column to strings in order to manipulate for merging\n",
    "rla_2018['LEAID'] = rla_2018['LEAID'].astype(str)\n",
    "\n",
    "## Based on reading documentation, remove leading information from LEAID\n",
    "## Ensure that LEAID has 7 digits to facilitate merging later\n",
    "rla_2018['LEAID'] = rla_2018['LEAID'].str.lstrip('9700000US').str.zfill(7)\n",
    "\n",
    "## Save the file to the data folder with the appropriate name\n",
    "rla_2018.to_pickle('../data/education/{subject}_{data_file}_{school_year}.pkl'\n",
    "                   .format(subject=subject, data_file=data_file, school_year=school_year))\n",
    "\n",
    "## Preview first five observations of dataset\n",
    "print(rla_2018.head())\n",
    "print(rla_2018.info())"
   ]
  },
  {
   "cell_type": "markdown",
   "metadata": {},
   "source": [
    "Interestingly, the number of columns matches, but the range of observations is slightly bigger (just over 16,000) The explanation for why is in the previously linked documentation. However, since the number is minimal (about 200), we'll go ahead and continue merging the math and reading/language arts datasets, using LEAID as the common identifier."
   ]
  },
  {
   "cell_type": "code",
   "execution_count": 5,
   "metadata": {},
   "outputs": [
    {
     "name": "stdout",
     "output_type": "stream",
     "text": [
      "<class 'pandas.core.frame.DataFrame'>\n",
      "Int64Index: 16020 entries, 0 to 16019\n",
      "Columns: 523 entries, STNAM_x to MIL_RLAHSPCTPROF_1718\n",
      "dtypes: int64(4), object(519)\n",
      "memory usage: 64.0+ MB\n"
     ]
    }
   ],
   "source": [
    "## Merge observations, using LEAID index as merging reference\n",
    "## Only keep the data from each set that has an index in the other set (inner)\n",
    "assessments_2018 = pd.merge(math_2018, rla_2018, how='inner', on='LEAID')\n",
    "\n",
    "## Save all assessments data\n",
    "assessments_2018.to_pickle('../data/education/assessments_2018.pkl')\n",
    "\n",
    "## Preview information about dataframe\n",
    "assessments_2018.info()"
   ]
  },
  {
   "cell_type": "code",
   "execution_count": 6,
   "metadata": {},
   "outputs": [
    {
     "name": "stdout",
     "output_type": "stream",
     "text": [
      "<class 'pandas.core.frame.DataFrame'>\n",
      "Int64Index: 16020 entries, 0 to 16019\n",
      "Columns: 523 entries, STNAM_x to MIL_RLAHSPCTPROF_1718\n",
      "dtypes: int64(4), object(519)\n",
      "memory usage: 64.0+ MB\n"
     ]
    }
   ],
   "source": [
    "## Ensure that data saved correctly by reading\n",
    "assessments_2018 = pd.read_pickle('../data/education/assessments_2018.pkl')\n",
    "assessments_2018.info()"
   ]
  },
  {
   "cell_type": "markdown",
   "metadata": {},
   "source": [
    "Now we have one dataset that contains all the information for nationwide assessments saved."
   ]
  },
  {
   "cell_type": "markdown",
   "metadata": {},
   "source": [
    "## Preview Assessment Data Shape"
   ]
  },
  {
   "cell_type": "code",
   "execution_count": 7,
   "metadata": {},
   "outputs": [
    {
     "data": {
      "text/plain": [
       "(16020, 523)"
      ]
     },
     "execution_count": 7,
     "metadata": {},
     "output_type": "execute_result"
    }
   ],
   "source": [
    "## Observe shape of data\n",
    "assessments_2018.shape"
   ]
  },
  {
   "cell_type": "markdown",
   "metadata": {},
   "source": [
    "Great. So this merge shows us that we have a dataset with 2 datatypes, 523 columns, and around 16,000 entries. In the following steps, we get some more quick observations about the data in order to combine it with Census data shortly."
   ]
  },
  {
   "cell_type": "code",
   "execution_count": 8,
   "metadata": {},
   "outputs": [
    {
     "name": "stdout",
     "output_type": "stream",
     "text": [
      "<class 'pandas.core.frame.DataFrame'>\n",
      "Int64Index: 16020 entries, 0 to 16019\n",
      "Columns: 523 entries, STNAM_x to MIL_RLAHSPCTPROF_1718\n",
      "dtypes: int64(4), object(519)\n",
      "memory usage: 64.0+ MB\n"
     ]
    }
   ],
   "source": [
    "## Observe types of data\n",
    "assessments_2018.info()"
   ]
  },
  {
   "cell_type": "markdown",
   "metadata": {},
   "source": [
    "By looking at the shape and information of the data, we can immediately glean some useful informatino that will be applicable to our analysis later:\n",
    "\n",
    "- **Too many unknown columns** - Observing the info we know that 523 columns is too many to read completely through. \n",
    "- **Incorrect datatypes** - We see that only 4 of these columns are listed as integers, even though the documentation listed these valess as percentages, so we'll have to handle those later. \n",
    "- **Unique identifiers?** - While we think we have 16,000 observations for school districts, we should confirm that these are in fact unique values that can be used to join census data later. \n",
    "\n",
    "Reading the documentation helps us with the first issue of too many columns."
   ]
  },
  {
   "cell_type": "markdown",
   "metadata": {},
   "source": [
    "#### Columns\n",
    "\n",
    "\n",
    "The first set of columns contains identifying data:\n",
    "- STNAME - State Name\n",
    "- FIPST - ANSI 2-digit code for state\n",
    "- LEAID - NCES-assigned District ID\n",
    "- ST_LEAID - State-assigned District ID\n",
    "- LEANM - District Name\n",
    "- DATE_CUR - Date of data snapshot\n",
    "\n",
    "And the rest contain various groupings of the data for each observation (LEA) in the following format:\n",
    "- \\[SUBGROUP\\]_\\[SUBJECT\\]\\[GRADE\\]\\[METRIC\\]_\\[SCHOOLYEAR\\]\n",
    "\n",
    "Reading the [documentation]('https://www2.ed.gov/about/inits/ed/edfacts/data-files/assessments-sy2017-18-public-file-documentation.docx') provides an overview of those columns, along with their corresponding meanings:"
   ]
  },
  {
   "cell_type": "markdown",
   "metadata": {},
   "source": [
    "- **Subgroups** - Major Racial and Ethnic Groups / Special Populations\n",
    "    - ALL - All Students in the school\n",
    "    - Racial Subgroups (begin with M):\n",
    "        - MAM American Indian/Alaska Native\n",
    "        - MAS Asian/Pacific Islander\n",
    "        - MHI Hispanic\n",
    "        - MBL Black\n",
    "        - MWH White\n",
    "        - MTR Two or More Races\n",
    "    - Special Population Subgroups:\n",
    "        - CWD Children with disabilities\n",
    "        - ECD Economically disadvantaged\n",
    "        - LEP Limited English proficiency\n",
    "        - HOM Homeless\n",
    "        - MIG Migrant\n",
    "        - FCS Foster Care Status\n",
    "        - MIL Military Connected (new for '17-'18)\n",
    "        \n",
    "- **Subject** - Specific to each file.\n",
    "    - Math (MTH) or Reading/Language Arts (RLA)\n",
    "    \n",
    "- **Grade** \n",
    "    - 00 - aggregated across all grades\n",
    "    - 03-08 - Grades 3-8\n",
    "    - HS - High School\n",
    "    \n",
    "- **Metric**\n",
    "    - numvalid - # of students who completed assessment proficient\n",
    "    - pctprof - % of students proficient or higher\n",
    "    \n",
    "- **School Year**\n",
    "    - Limited to 2017-18 in this case\n",
    "    - May be able to add additional years later for better understanding\n",
    "    \n",
    "So, for example, the column labeled \"**MBL_MTH08PCTPROF_1718**\" describes: \n",
    "- in 2017-18 **\\[1718\\]**,\n",
    "- for Black students **\\[MBL\\]** \n",
    "- studying Math **\\[MTH\\]**\n",
    "- in the Eighth grade **\\[08\\]**, \n",
    "- what Percentage were deemed Proficient **\\[PCTPROF\\]**\n",
    "\n"
   ]
  },
  {
   "cell_type": "markdown",
   "metadata": {},
   "source": [
    "Knowing and observing this breakdown and groupings could prove helpful in improving the model later. For now, however, we'll keep only the following columns:\n",
    "- 'LEAID' - as our identifier / index. We'll convert this to a 7-digit string for concatenation.\n",
    "- 'ALL_MTH00PCTPROF_1718' and 'ALL_RLA00PCTPROF_1718' - This provides predictor columns to which we can append other datasets to get predictions\n",
    "\n",
    "Given the business understanding established previously, it makes sense to limit ourselves to these two predictor columns. So for the scope of this project, we'll limit the dataset to these three columns:"
   ]
  },
  {
   "cell_type": "code",
   "execution_count": 9,
   "metadata": {},
   "outputs": [
    {
     "name": "stdout",
     "output_type": "stream",
     "text": [
      "<class 'pandas.core.frame.DataFrame'>\n",
      "Int64Index: 16020 entries, 0 to 16019\n",
      "Data columns (total 3 columns):\n",
      " #   Column                 Non-Null Count  Dtype \n",
      "---  ------                 --------------  ----- \n",
      " 0   LEAID                  16020 non-null  object\n",
      " 1   ALL_MTH00PCTPROF_1718  16020 non-null  object\n",
      " 2   ALL_RLA00PCTPROF_1718  16020 non-null  object\n",
      "dtypes: object(3)\n",
      "memory usage: 500.6+ KB\n",
      "None\n",
      "     LEAID ALL_MTH00PCTPROF_1718 ALL_RLA00PCTPROF_1718\n",
      "0  0100005                    45                    38\n",
      "1  0100006                    43                    36\n",
      "2  0100007                    70                    65\n",
      "3  0100008                    76                    74\n",
      "4  0100011                    40                    41\n"
     ]
    }
   ],
   "source": [
    "## Create new dataframe which only contains desired features\n",
    "all_assessments_2018 = assessments_2018[['LEAID','ALL_MTH00PCTPROF_1718','ALL_RLA00PCTPROF_1718']]\n",
    "print(all_assessments_2018.info())\n",
    "print(all_assessments_2018.head())"
   ]
  },
  {
   "cell_type": "markdown",
   "metadata": {},
   "source": [
    "#### Rows\n",
    "There are almost 16,000 rows here. They appear to be unique observations for each Local Education Agency (LEA), but let's confirm:"
   ]
  },
  {
   "cell_type": "code",
   "execution_count": 10,
   "metadata": {},
   "outputs": [
    {
     "data": {
      "text/plain": [
       "False"
      ]
     },
     "execution_count": 10,
     "metadata": {},
     "output_type": "execute_result"
    }
   ],
   "source": [
    "## Ensure that LEAID is a unique value for each observation\n",
    "all_assessments_2018['LEAID'].nunique() == all_assessments_2018.shape[0]\n",
    "## Returns True if all values are unique, False if there are duplicates"
   ]
  },
  {
   "cell_type": "markdown",
   "metadata": {},
   "source": [
    "Alas, it appears that there are duplicate values. Let's see how many before we proceed, as this could impact our merge with census data, since we're using the LEAID as our merging identifier."
   ]
  },
  {
   "cell_type": "code",
   "execution_count": 11,
   "metadata": {},
   "outputs": [
    {
     "data": {
      "text/plain": [
       "0000000    49\n",
       "0200030     4\n",
       "0000060     4\n",
       "0000010     4\n",
       "0000030     4\n",
       "0803960     1\n",
       "1733420     1\n",
       "4800002     1\n",
       "1803840     1\n",
       "3904917     1\n",
       "Name: LEAID, dtype: int64"
      ]
     },
     "execution_count": 11,
     "metadata": {},
     "output_type": "execute_result"
    }
   ],
   "source": [
    "## Show how frequently each LEAID appears\n",
    "all_assessments_2018['LEAID'].value_counts(sort=True).head(10)"
   ]
  },
  {
   "cell_type": "markdown",
   "metadata": {},
   "source": [
    "From the documentation, LEAID = State FIPS \\[2 digits\\] + Unified School District (UNSD) Code \\[5 digits\\]. Since no state is assigned to \"00\", these are probably pseudo-districts or placeholders of some sort. Relative to the roughly 16,000 other school districts, this is a small number. So we'll only select the observations which have a unique LEAID before merging and preparing the data for the Machine Learning task."
   ]
  },
  {
   "cell_type": "code",
   "execution_count": 260,
   "metadata": {},
   "outputs": [],
   "source": [
    "## Drop observations with duplicate LEAIDs\n",
    "new_assessments_2018 = all_assessments_2018.drop_duplicates(subset='LEAID')\n",
    "\n",
    "## Create a copy so that \"copy of slice of dataframe\" error does not appear\n",
    "new_assessments_2018 = pd.DataFrame(new_assessments_2018).copy()"
   ]
  },
  {
   "cell_type": "code",
   "execution_count": 261,
   "metadata": {},
   "outputs": [
    {
     "data": {
      "text/plain": [
       "True"
      ]
     },
     "execution_count": 261,
     "metadata": {},
     "output_type": "execute_result"
    }
   ],
   "source": [
    "## Confirm unique identifiers again\n",
    "## Prints True if all items are unique, prints False if not\n",
    "new_assessments_2018['LEAID'].nunique() == new_assessments_2018.shape[0]"
   ]
  },
  {
   "cell_type": "code",
   "execution_count": 262,
   "metadata": {},
   "outputs": [
    {
     "data": {
      "text/html": [
       "<div>\n",
       "<style scoped>\n",
       "    .dataframe tbody tr th:only-of-type {\n",
       "        vertical-align: middle;\n",
       "    }\n",
       "\n",
       "    .dataframe tbody tr th {\n",
       "        vertical-align: top;\n",
       "    }\n",
       "\n",
       "    .dataframe thead th {\n",
       "        text-align: right;\n",
       "    }\n",
       "</style>\n",
       "<table border=\"1\" class=\"dataframe\">\n",
       "  <thead>\n",
       "    <tr style=\"text-align: right;\">\n",
       "      <th></th>\n",
       "      <th>LEAID</th>\n",
       "      <th>ALL_MTH00PCTPROF_1718</th>\n",
       "      <th>ALL_RLA00PCTPROF_1718</th>\n",
       "    </tr>\n",
       "  </thead>\n",
       "  <tbody>\n",
       "    <tr>\n",
       "      <th>0</th>\n",
       "      <td>0100005</td>\n",
       "      <td>45</td>\n",
       "      <td>38</td>\n",
       "    </tr>\n",
       "    <tr>\n",
       "      <th>1</th>\n",
       "      <td>0100006</td>\n",
       "      <td>43</td>\n",
       "      <td>36</td>\n",
       "    </tr>\n",
       "    <tr>\n",
       "      <th>2</th>\n",
       "      <td>0100007</td>\n",
       "      <td>70</td>\n",
       "      <td>65</td>\n",
       "    </tr>\n",
       "    <tr>\n",
       "      <th>3</th>\n",
       "      <td>0100008</td>\n",
       "      <td>76</td>\n",
       "      <td>74</td>\n",
       "    </tr>\n",
       "    <tr>\n",
       "      <th>4</th>\n",
       "      <td>0100011</td>\n",
       "      <td>40</td>\n",
       "      <td>41</td>\n",
       "    </tr>\n",
       "  </tbody>\n",
       "</table>\n",
       "</div>"
      ],
      "text/plain": [
       "     LEAID ALL_MTH00PCTPROF_1718 ALL_RLA00PCTPROF_1718\n",
       "0  0100005                    45                    38\n",
       "1  0100006                    43                    36\n",
       "2  0100007                    70                    65\n",
       "3  0100008                    76                    74\n",
       "4  0100011                    40                    41"
      ]
     },
     "execution_count": 262,
     "metadata": {},
     "output_type": "execute_result"
    }
   ],
   "source": [
    "## Preview new dataset\n",
    "new_assessments_2018.head()"
   ]
  },
  {
   "cell_type": "code",
   "execution_count": 263,
   "metadata": {},
   "outputs": [
    {
     "name": "stdout",
     "output_type": "stream",
     "text": [
      "<class 'pandas.core.frame.DataFrame'>\n",
      "Int64Index: 15960 entries, 0 to 16019\n",
      "Data columns (total 3 columns):\n",
      " #   Column                 Non-Null Count  Dtype \n",
      "---  ------                 --------------  ----- \n",
      " 0   LEAID                  15960 non-null  object\n",
      " 1   ALL_MTH00PCTPROF_1718  15960 non-null  object\n",
      " 2   ALL_RLA00PCTPROF_1718  15960 non-null  object\n",
      "dtypes: object(3)\n",
      "memory usage: 498.8+ KB\n"
     ]
    }
   ],
   "source": [
    "#Ensure that most of the data remains unharmed\n",
    "new_assessments_2018.info()"
   ]
  },
  {
   "cell_type": "markdown",
   "metadata": {},
   "source": [
    "Great. Since the unique number of LEAIDs (15960) matches the total number of observations for the dataset, we know that it is a unique value. We can use this value as our index later. The only issue remaining, which we will return to later, is the datatypes for all the columns - they are objects and not integers or floats, as we would want them to be if they were percentages being put into a regression."
   ]
  },
  {
   "cell_type": "markdown",
   "metadata": {},
   "source": [
    "# Explore Data"
   ]
  },
  {
   "cell_type": "markdown",
   "metadata": {},
   "source": [
    "In this section we'll explore and visualize the assessment data a little bit more, and prepare it for merging with geographic data and eventually census data as well: handling missing values, converting datatypes, and visualizing the data.\n",
    "\n",
    "First, for better readability, we'll change the names of the columns:"
   ]
  },
  {
   "cell_type": "code",
   "execution_count": 264,
   "metadata": {},
   "outputs": [
    {
     "data": {
      "text/html": [
       "<div>\n",
       "<style scoped>\n",
       "    .dataframe tbody tr th:only-of-type {\n",
       "        vertical-align: middle;\n",
       "    }\n",
       "\n",
       "    .dataframe tbody tr th {\n",
       "        vertical-align: top;\n",
       "    }\n",
       "\n",
       "    .dataframe thead th {\n",
       "        text-align: right;\n",
       "    }\n",
       "</style>\n",
       "<table border=\"1\" class=\"dataframe\">\n",
       "  <thead>\n",
       "    <tr style=\"text-align: right;\">\n",
       "      <th></th>\n",
       "      <th>LEAID</th>\n",
       "      <th>math_prof</th>\n",
       "      <th>rla_prof</th>\n",
       "    </tr>\n",
       "  </thead>\n",
       "  <tbody>\n",
       "    <tr>\n",
       "      <th>0</th>\n",
       "      <td>0100005</td>\n",
       "      <td>45</td>\n",
       "      <td>38</td>\n",
       "    </tr>\n",
       "    <tr>\n",
       "      <th>1</th>\n",
       "      <td>0100006</td>\n",
       "      <td>43</td>\n",
       "      <td>36</td>\n",
       "    </tr>\n",
       "    <tr>\n",
       "      <th>2</th>\n",
       "      <td>0100007</td>\n",
       "      <td>70</td>\n",
       "      <td>65</td>\n",
       "    </tr>\n",
       "    <tr>\n",
       "      <th>3</th>\n",
       "      <td>0100008</td>\n",
       "      <td>76</td>\n",
       "      <td>74</td>\n",
       "    </tr>\n",
       "    <tr>\n",
       "      <th>4</th>\n",
       "      <td>0100011</td>\n",
       "      <td>40</td>\n",
       "      <td>41</td>\n",
       "    </tr>\n",
       "  </tbody>\n",
       "</table>\n",
       "</div>"
      ],
      "text/plain": [
       "     LEAID math_prof rla_prof\n",
       "0  0100005        45       38\n",
       "1  0100006        43       36\n",
       "2  0100007        70       65\n",
       "3  0100008        76       74\n",
       "4  0100011        40       41"
      ]
     },
     "execution_count": 264,
     "metadata": {},
     "output_type": "execute_result"
    }
   ],
   "source": [
    "new_assessments_2018.rename(columns={'ALL_MTH00PCTPROF_1718': 'math_prof', 'ALL_RLA00PCTPROF_1718': 'rla_prof'}, inplace=True)\n",
    "new_assessments_2018.head()"
   ]
  },
  {
   "cell_type": "markdown",
   "metadata": {},
   "source": [
    "## Missing Values"
   ]
  },
  {
   "cell_type": "code",
   "execution_count": 17,
   "metadata": {},
   "outputs": [
    {
     "name": "stdout",
     "output_type": "stream",
     "text": [
      "<class 'pandas.core.frame.DataFrame'>\n",
      "Int64Index: 15960 entries, 0 to 16019\n",
      "Data columns (total 3 columns):\n",
      " #   Column     Non-Null Count  Dtype \n",
      "---  ------     --------------  ----- \n",
      " 0   LEAID      15960 non-null  object\n",
      " 1   math_prof  15960 non-null  object\n",
      " 2   rla_prof   15960 non-null  object\n",
      "dtypes: object(3)\n",
      "memory usage: 498.8+ KB\n"
     ]
    }
   ],
   "source": [
    "## Look at the shape of the dataset again\n",
    "new_assessments_2018.info()"
   ]
  },
  {
   "cell_type": "markdown",
   "metadata": {},
   "source": [
    "This shows that the dataset has 15960 entries, with 15960 of them non-null - i.e., zero null values!\n",
    "\n",
    "Can this be true? We'll take a further look. The missingno package helps to visualize if there are any missing values in the dataframe:"
   ]
  },
  {
   "cell_type": "code",
   "execution_count": 18,
   "metadata": {},
   "outputs": [
    {
     "data": {
      "image/png": "[encoded data removed]",
      "text/plain": [
       "<Figure size 1800x720 with 2 Axes>"
      ]
     },
     "metadata": {
      "needs_background": "light"
     },
     "output_type": "display_data"
    }
   ],
   "source": [
    "## Display missing values in missing no package\n",
    "msno.matrix(new_assessments_2018);"
   ]
  },
  {
   "cell_type": "markdown",
   "metadata": {},
   "source": [
    "Looking more granularly at the data:"
   ]
  },
  {
   "cell_type": "code",
   "execution_count": 19,
   "metadata": {},
   "outputs": [
    {
     "data": {
      "text/html": [
       "<div>\n",
       "<style scoped>\n",
       "    .dataframe tbody tr th:only-of-type {\n",
       "        vertical-align: middle;\n",
       "    }\n",
       "\n",
       "    .dataframe tbody tr th {\n",
       "        vertical-align: top;\n",
       "    }\n",
       "\n",
       "    .dataframe thead th {\n",
       "        text-align: right;\n",
       "    }\n",
       "</style>\n",
       "<table border=\"1\" class=\"dataframe\">\n",
       "  <thead>\n",
       "    <tr style=\"text-align: right;\">\n",
       "      <th></th>\n",
       "      <th>LEAID</th>\n",
       "      <th>math_prof</th>\n",
       "      <th>rla_prof</th>\n",
       "    </tr>\n",
       "  </thead>\n",
       "  <tbody>\n",
       "    <tr>\n",
       "      <th>0</th>\n",
       "      <td>0100005</td>\n",
       "      <td>45</td>\n",
       "      <td>38</td>\n",
       "    </tr>\n",
       "    <tr>\n",
       "      <th>1</th>\n",
       "      <td>0100006</td>\n",
       "      <td>43</td>\n",
       "      <td>36</td>\n",
       "    </tr>\n",
       "    <tr>\n",
       "      <th>2</th>\n",
       "      <td>0100007</td>\n",
       "      <td>70</td>\n",
       "      <td>65</td>\n",
       "    </tr>\n",
       "    <tr>\n",
       "      <th>3</th>\n",
       "      <td>0100008</td>\n",
       "      <td>76</td>\n",
       "      <td>74</td>\n",
       "    </tr>\n",
       "    <tr>\n",
       "      <th>4</th>\n",
       "      <td>0100011</td>\n",
       "      <td>40</td>\n",
       "      <td>41</td>\n",
       "    </tr>\n",
       "    <tr>\n",
       "      <th>5</th>\n",
       "      <td>0100012</td>\n",
       "      <td>41</td>\n",
       "      <td>40</td>\n",
       "    </tr>\n",
       "    <tr>\n",
       "      <th>6</th>\n",
       "      <td>0100013</td>\n",
       "      <td>76</td>\n",
       "      <td>71</td>\n",
       "    </tr>\n",
       "    <tr>\n",
       "      <th>7</th>\n",
       "      <td>0100030</td>\n",
       "      <td>42</td>\n",
       "      <td>40</td>\n",
       "    </tr>\n",
       "    <tr>\n",
       "      <th>8</th>\n",
       "      <td>0100060</td>\n",
       "      <td>39</td>\n",
       "      <td>41</td>\n",
       "    </tr>\n",
       "    <tr>\n",
       "      <th>9</th>\n",
       "      <td>0100090</td>\n",
       "      <td>21</td>\n",
       "      <td>25</td>\n",
       "    </tr>\n",
       "    <tr>\n",
       "      <th>10</th>\n",
       "      <td>0100100</td>\n",
       "      <td>74</td>\n",
       "      <td>68</td>\n",
       "    </tr>\n",
       "    <tr>\n",
       "      <th>11</th>\n",
       "      <td>0100120</td>\n",
       "      <td>54</td>\n",
       "      <td>51</td>\n",
       "    </tr>\n",
       "    <tr>\n",
       "      <th>12</th>\n",
       "      <td>0100180</td>\n",
       "      <td>41</td>\n",
       "      <td>44</td>\n",
       "    </tr>\n",
       "    <tr>\n",
       "      <th>13</th>\n",
       "      <td>0100185</td>\n",
       "      <td>72</td>\n",
       "      <td>63</td>\n",
       "    </tr>\n",
       "    <tr>\n",
       "      <th>14</th>\n",
       "      <td>0100188</td>\n",
       "      <td>21</td>\n",
       "      <td>24</td>\n",
       "    </tr>\n",
       "    <tr>\n",
       "      <th>15</th>\n",
       "      <td>0100189</td>\n",
       "      <td>59</td>\n",
       "      <td>61</td>\n",
       "    </tr>\n",
       "    <tr>\n",
       "      <th>16</th>\n",
       "      <td>0100190</td>\n",
       "      <td>55</td>\n",
       "      <td>54</td>\n",
       "    </tr>\n",
       "    <tr>\n",
       "      <th>17</th>\n",
       "      <td>0100194</td>\n",
       "      <td>54</td>\n",
       "      <td>53</td>\n",
       "    </tr>\n",
       "    <tr>\n",
       "      <th>18</th>\n",
       "      <td>0100195</td>\n",
       "      <td>47</td>\n",
       "      <td>55</td>\n",
       "    </tr>\n",
       "    <tr>\n",
       "      <th>19</th>\n",
       "      <td>0100197</td>\n",
       "      <td>20-29</td>\n",
       "      <td>20-29</td>\n",
       "    </tr>\n",
       "  </tbody>\n",
       "</table>\n",
       "</div>"
      ],
      "text/plain": [
       "      LEAID math_prof rla_prof\n",
       "0   0100005        45       38\n",
       "1   0100006        43       36\n",
       "2   0100007        70       65\n",
       "3   0100008        76       74\n",
       "4   0100011        40       41\n",
       "5   0100012        41       40\n",
       "6   0100013        76       71\n",
       "7   0100030        42       40\n",
       "8   0100060        39       41\n",
       "9   0100090        21       25\n",
       "10  0100100        74       68\n",
       "11  0100120        54       51\n",
       "12  0100180        41       44\n",
       "13  0100185        72       63\n",
       "14  0100188        21       24\n",
       "15  0100189        59       61\n",
       "16  0100190        55       54\n",
       "17  0100194        54       53\n",
       "18  0100195        47       55\n",
       "19  0100197     20-29    20-29"
      ]
     },
     "execution_count": 19,
     "metadata": {},
     "output_type": "execute_result"
    }
   ],
   "source": [
    "## View first 20 values in each column\n",
    "new_assessments_2018.head(20)"
   ]
  },
  {
   "cell_type": "markdown",
   "metadata": {},
   "source": [
    "Already we see one major issue, it looks like some of the data is saved as ranges, and not integers or floats. Let's look at the tail:"
   ]
  },
  {
   "cell_type": "code",
   "execution_count": 20,
   "metadata": {},
   "outputs": [
    {
     "data": {
      "text/html": [
       "<div>\n",
       "<style scoped>\n",
       "    .dataframe tbody tr th:only-of-type {\n",
       "        vertical-align: middle;\n",
       "    }\n",
       "\n",
       "    .dataframe tbody tr th {\n",
       "        vertical-align: top;\n",
       "    }\n",
       "\n",
       "    .dataframe thead th {\n",
       "        text-align: right;\n",
       "    }\n",
       "</style>\n",
       "<table border=\"1\" class=\"dataframe\">\n",
       "  <thead>\n",
       "    <tr style=\"text-align: right;\">\n",
       "      <th></th>\n",
       "      <th>LEAID</th>\n",
       "      <th>math_prof</th>\n",
       "      <th>rla_prof</th>\n",
       "    </tr>\n",
       "  </thead>\n",
       "  <tbody>\n",
       "    <tr>\n",
       "      <th>16000</th>\n",
       "      <td>5604260</td>\n",
       "      <td>40</td>\n",
       "      <td>53</td>\n",
       "    </tr>\n",
       "    <tr>\n",
       "      <th>16001</th>\n",
       "      <td>5604380</td>\n",
       "      <td>70-74</td>\n",
       "      <td>55-59</td>\n",
       "    </tr>\n",
       "    <tr>\n",
       "      <th>16002</th>\n",
       "      <td>5604450</td>\n",
       "      <td>9</td>\n",
       "      <td>12</td>\n",
       "    </tr>\n",
       "    <tr>\n",
       "      <th>16003</th>\n",
       "      <td>5604500</td>\n",
       "      <td>53</td>\n",
       "      <td>55</td>\n",
       "    </tr>\n",
       "    <tr>\n",
       "      <th>16004</th>\n",
       "      <td>5604510</td>\n",
       "      <td>46</td>\n",
       "      <td>51</td>\n",
       "    </tr>\n",
       "    <tr>\n",
       "      <th>16005</th>\n",
       "      <td>5604830</td>\n",
       "      <td>51</td>\n",
       "      <td>60</td>\n",
       "    </tr>\n",
       "    <tr>\n",
       "      <th>16006</th>\n",
       "      <td>5604860</td>\n",
       "      <td>65</td>\n",
       "      <td>63</td>\n",
       "    </tr>\n",
       "    <tr>\n",
       "      <th>16007</th>\n",
       "      <td>5605090</td>\n",
       "      <td>51</td>\n",
       "      <td>54</td>\n",
       "    </tr>\n",
       "    <tr>\n",
       "      <th>16008</th>\n",
       "      <td>5605160</td>\n",
       "      <td>60</td>\n",
       "      <td>61</td>\n",
       "    </tr>\n",
       "    <tr>\n",
       "      <th>16009</th>\n",
       "      <td>5605220</td>\n",
       "      <td>41</td>\n",
       "      <td>41</td>\n",
       "    </tr>\n",
       "    <tr>\n",
       "      <th>16010</th>\n",
       "      <td>5605302</td>\n",
       "      <td>47</td>\n",
       "      <td>52</td>\n",
       "    </tr>\n",
       "    <tr>\n",
       "      <th>16011</th>\n",
       "      <td>5605680</td>\n",
       "      <td>50-54</td>\n",
       "      <td>55-59</td>\n",
       "    </tr>\n",
       "    <tr>\n",
       "      <th>16012</th>\n",
       "      <td>5605690</td>\n",
       "      <td>57</td>\n",
       "      <td>58</td>\n",
       "    </tr>\n",
       "    <tr>\n",
       "      <th>16013</th>\n",
       "      <td>5605695</td>\n",
       "      <td>72</td>\n",
       "      <td>75</td>\n",
       "    </tr>\n",
       "    <tr>\n",
       "      <th>16014</th>\n",
       "      <td>5605700</td>\n",
       "      <td>48</td>\n",
       "      <td>48</td>\n",
       "    </tr>\n",
       "    <tr>\n",
       "      <th>16015</th>\n",
       "      <td>5605762</td>\n",
       "      <td>56</td>\n",
       "      <td>57</td>\n",
       "    </tr>\n",
       "    <tr>\n",
       "      <th>16016</th>\n",
       "      <td>5605820</td>\n",
       "      <td>60-69</td>\n",
       "      <td>60-69</td>\n",
       "    </tr>\n",
       "    <tr>\n",
       "      <th>16017</th>\n",
       "      <td>5605830</td>\n",
       "      <td>55</td>\n",
       "      <td>61</td>\n",
       "    </tr>\n",
       "    <tr>\n",
       "      <th>16018</th>\n",
       "      <td>5606090</td>\n",
       "      <td>40-44</td>\n",
       "      <td>50-54</td>\n",
       "    </tr>\n",
       "    <tr>\n",
       "      <th>16019</th>\n",
       "      <td>5606240</td>\n",
       "      <td>57</td>\n",
       "      <td>63</td>\n",
       "    </tr>\n",
       "  </tbody>\n",
       "</table>\n",
       "</div>"
      ],
      "text/plain": [
       "         LEAID math_prof rla_prof\n",
       "16000  5604260        40       53\n",
       "16001  5604380     70-74    55-59\n",
       "16002  5604450         9       12\n",
       "16003  5604500        53       55\n",
       "16004  5604510        46       51\n",
       "16005  5604830        51       60\n",
       "16006  5604860        65       63\n",
       "16007  5605090        51       54\n",
       "16008  5605160        60       61\n",
       "16009  5605220        41       41\n",
       "16010  5605302        47       52\n",
       "16011  5605680     50-54    55-59\n",
       "16012  5605690        57       58\n",
       "16013  5605695        72       75\n",
       "16014  5605700        48       48\n",
       "16015  5605762        56       57\n",
       "16016  5605820     60-69    60-69\n",
       "16017  5605830        55       61\n",
       "16018  5606090     40-44    50-54\n",
       "16019  5606240        57       63"
      ]
     },
     "execution_count": 20,
     "metadata": {},
     "output_type": "execute_result"
    }
   ],
   "source": [
    "## View last 20 values in each column\n",
    "new_assessments_2018.tail(20)"
   ]
  },
  {
   "cell_type": "code",
   "execution_count": 21,
   "metadata": {},
   "outputs": [
    {
     "data": {
      "text/plain": [
       "30-34    320\n",
       "35-39    304\n",
       "40-44    294\n",
       "25-29    293\n",
       "45-49    280\n",
       "        ... \n",
       "95         4\n",
       "GE99       2\n",
       "96         2\n",
       "94         2\n",
       "97         1\n",
       "Name: math_prof, Length: 137, dtype: int64"
      ]
     },
     "execution_count": 21,
     "metadata": {},
     "output_type": "execute_result"
    }
   ],
   "source": [
    "## Check values in individual columns\n",
    "new_assessments_2018.math_prof.value_counts()"
   ]
  },
  {
   "cell_type": "code",
   "execution_count": 22,
   "metadata": {},
   "outputs": [
    {
     "data": {
      "text/plain": [
       "40-44    355\n",
       "35-39    320\n",
       "45-49    316\n",
       "30-34    285\n",
       "50-54    283\n",
       "        ... \n",
       "96         5\n",
       "97         5\n",
       "6          4\n",
       "94         4\n",
       "3          3\n",
       "Name: rla_prof, Length: 136, dtype: int64"
      ]
     },
     "execution_count": 22,
     "metadata": {},
     "output_type": "execute_result"
    }
   ],
   "source": [
    "# check values in individual columns\n",
    "new_assessments_2018.rla_prof.value_counts()"
   ]
  },
  {
   "cell_type": "markdown",
   "metadata": {},
   "source": [
    "So before we can begin analyzing and visualizing the data, we'll have to handle the numerical data that's represented by strings in the proficiency columns."
   ]
  },
  {
   "cell_type": "markdown",
   "metadata": {},
   "source": [
    "## Convert Datatypes"
   ]
  },
  {
   "cell_type": "markdown",
   "metadata": {},
   "source": [
    "Further inspection reveals that \"nan\" values, \".\" values (also described as blank in documentation),  ranges, and strings are complicating the numerical analysis. Referring again to the documentation, these variations were intentionally introduced for student privacy concerns, with the following codes:\n",
    "\n",
    "- GE - Greater than or equal to\n",
    "- LE - Less than or equal to\n",
    "- GT Greater than\n",
    "- LT - Less than\n",
    "- PS - Privacy Suppressed (<5 students)\n",
    "\n",
    "Specifically, as specified in Part 1.5 and Table 2 of the documentation for 2017-18, for schools with less than 300 students, \"As the number of students reported increases, the magnitude of the range decreases\". \n",
    "\n",
    "Given these ranges, we could make a few choices:\n",
    "\n",
    "1. Dropna\n",
    "    - Drop all values that are not integers\n",
    "    - This would leave too few observations\n",
    "    \n",
    "2. Bin score ranges, for example:\n",
    "    - Smaller scale (e.g., 25-29)\n",
    "    - Medium-scale (e.g., Very High proficiency (>80%), high proficiency (60-80), proficient (40-60), low proficiency (20-40), very low proficiency (0-20)\n",
    "    - Large scale (e.g., >= 50% as proficient)\n",
    "\n",
    "3. Create integer out of ranges:\n",
    "    - Replace the string ranges (e.g., 50-55) with averages \n",
    "    - We can then convert these strings to numerical datatypes\n",
    "    \n",
    "\n",
    "For this analysis, we'll go with:\n",
    "- option 1 (drop) for observations that have letters in them\n",
    "    - Those ranges would be too wide to provide informative datapoints \n",
    "    - (e.g., % proficient > 50 could be anywhere between 50-100, and is not very accurate\n",
    "    \n",
    "- option 3 (create integer) for observations that have ranges\n",
    "    - We'll do this by averaging the two scores within the range\n",
    "    - This will allow us to perform a regression instead of a classification\n",
    "    - A regression will allow us to perform more detailed analysis later on\n",
    "    - This will also allow for better customization later on after the model is created."
   ]
  },
  {
   "cell_type": "markdown",
   "metadata": {},
   "source": [
    "### Convert ranges to integer averages"
   ]
  },
  {
   "cell_type": "code",
   "execution_count": 23,
   "metadata": {},
   "outputs": [],
   "source": [
    "assessments_test = new_assessments_2018.copy()"
   ]
  },
  {
   "cell_type": "code",
   "execution_count": 24,
   "metadata": {},
   "outputs": [],
   "source": [
    "## Create function to turn ranges into integer averages\n",
    "\n",
    "def range_cleaner(number):\n",
    "    \"\"\"Create average from range of numbers with \"-\" in them.\n",
    "    \n",
    "    Parameters: \n",
    "    number(string, int, float): Any number that might be a range (have \"-\")\n",
    "    \n",
    "    Returns:\n",
    "    int:Returning value\n",
    "    \n",
    "    \"\"\"\n",
    "    \n",
    "    number = str(number) # Convert values to string to enable RegEx functionality\n",
    "    if '-' in number: # Check if there is a dash in the string\n",
    "        x, y = number.split('-') # Divide the string into two numbers, splitting on dash\n",
    "        number = (int(x) + int(y)) / 2 # set number equal to the average  of x and y\n",
    "        number = int(number) # convert these new values to integers\n",
    "        return number #returns modified number\n",
    "    else:\n",
    "        return number #returns untouched numbers\n",
    "    "
   ]
  },
  {
   "cell_type": "code",
   "execution_count": 25,
   "metadata": {},
   "outputs": [
    {
     "name": "stdout",
     "output_type": "stream",
     "text": [
      "36\n",
      "<class 'int'>\n"
     ]
    }
   ],
   "source": [
    "## Test the function\n",
    "number = '31-42'\n",
    "number = range_cleaner(number)\n",
    "print(number)\n",
    "print(type(number))"
   ]
  },
  {
   "cell_type": "code",
   "execution_count": 26,
   "metadata": {},
   "outputs": [],
   "source": [
    "## Apply range cleaner function to test dataset math proficiency column\n",
    "assessments_test.math_prof = assessments_test.math_prof.apply(range_cleaner)\n",
    "\n",
    "## Apply range cleaner function to test dataset reading/language arts proficiency column\n",
    "assessments_test.rla_prof = assessments_test.rla_prof.apply(range_cleaner)"
   ]
  },
  {
   "cell_type": "code",
   "execution_count": 27,
   "metadata": {},
   "outputs": [
    {
     "name": "stdout",
     "output_type": "stream",
     "text": [
      "<class 'pandas.core.frame.DataFrame'>\n",
      "Int64Index: 15960 entries, 0 to 16019\n",
      "Data columns (total 3 columns):\n",
      " #   Column     Non-Null Count  Dtype \n",
      "---  ------     --------------  ----- \n",
      " 0   LEAID      15960 non-null  object\n",
      " 1   math_prof  15960 non-null  object\n",
      " 2   rla_prof   15960 non-null  object\n",
      "dtypes: object(3)\n",
      "memory usage: 498.8+ KB\n"
     ]
    }
   ],
   "source": [
    "assessments_test.info()"
   ]
  },
  {
   "cell_type": "markdown",
   "metadata": {},
   "source": [
    "### Remove letter range observations"
   ]
  },
  {
   "cell_type": "code",
   "execution_count": 28,
   "metadata": {
    "tags": [
     "function"
    ]
   },
   "outputs": [],
   "source": [
    "## Create function to change values with letters to NaN\n",
    "def remove_letters(number):\n",
    "    \"\"\"Remove range abbreviations GE, GT, LT, LE, PS from series\n",
    "    \n",
    "    Parameters: \n",
    "    number(string, int, float): A number that may have any of the above abbreviations in it\n",
    "    \n",
    "    Returns:\n",
    "    int:Returning value\n",
    "    \n",
    "    \"\"\"\n",
    "    number = str(number) # Convert values to string to enable RegEx functionality\n",
    "    remove_values = ['GT', 'GE', 'LT', 'LE', 'PS',] # Specify values to remove, as defined above\n",
    "    for value in remove_values: # Loop through each of the 5 values\n",
    "        if re.search(value, number): # Check if the value is in the string\n",
    "            number = 'REMOVE' # Assign a string to know to remove/convert to nan for dropping\n",
    "        else:\n",
    "            number = number # If not satisfied, only return untouched number\n",
    "    number = pd.to_numeric(number, errors='coerce') # set all values to numeric datatypes\n",
    "    return number"
   ]
  },
  {
   "cell_type": "code",
   "execution_count": 29,
   "metadata": {
    "tags": [
     "function"
    ]
   },
   "outputs": [
    {
     "name": "stdout",
     "output_type": "stream",
     "text": [
      "24\n",
      "<class 'numpy.int64'>\n"
     ]
    }
   ],
   "source": [
    "## Test the function\n",
    "\n",
    "new = '24'\n",
    "new = remove_letters(new)\n",
    "print(new)\n",
    "print(type(new))"
   ]
  },
  {
   "cell_type": "code",
   "execution_count": 30,
   "metadata": {},
   "outputs": [],
   "source": [
    "## Apply remove letters function to test dataset math proficiency column\n",
    "assessments_test.math_prof = assessments_test.math_prof.apply(remove_letters)\n",
    "\n",
    "## Apply remove letters function to test dataset reading/language arts proficiency column\n",
    "assessments_test.rla_prof = assessments_test.rla_prof.apply(remove_letters)"
   ]
  },
  {
   "cell_type": "code",
   "execution_count": 31,
   "metadata": {},
   "outputs": [],
   "source": [
    "## Drop nan values (which we intentionally created in the previous steps)\n",
    "assessments_test.dropna(inplace=True)"
   ]
  },
  {
   "cell_type": "code",
   "execution_count": 32,
   "metadata": {},
   "outputs": [
    {
     "name": "stdout",
     "output_type": "stream",
     "text": [
      "<class 'pandas.core.frame.DataFrame'>\n",
      "Int64Index: 14864 entries, 0 to 16019\n",
      "Data columns (total 3 columns):\n",
      " #   Column     Non-Null Count  Dtype  \n",
      "---  ------     --------------  -----  \n",
      " 0   LEAID      14864 non-null  object \n",
      " 1   math_prof  14864 non-null  float64\n",
      " 2   rla_prof   14864 non-null  float64\n",
      "dtypes: float64(2), object(1)\n",
      "memory usage: 464.5+ KB\n"
     ]
    }
   ],
   "source": [
    "## Preview the new shape of the dataset\n",
    "## Ensure not too many values dropped\n",
    "## Double check datatypes, etc.\n",
    "assessments_test.info()"
   ]
  },
  {
   "cell_type": "markdown",
   "metadata": {},
   "source": [
    "Looking at the shape of the dataset above, it looks like we're still good. We went from about 16,000 observations to just under 15,000. So we deleted about 1,000 observations which had wide ranges as values.\n",
    "\n",
    "Additionally, we can see that since we removed letter values, the math and reading / language arts proficiency percentages are all numerical datatyes. \n",
    "\n",
    "Since this works, we'll apply both functions to the dataset:"
   ]
  },
  {
   "cell_type": "markdown",
   "metadata": {},
   "source": [
    "### Apply both functions to both columns"
   ]
  },
  {
   "cell_type": "markdown",
   "metadata": {},
   "source": [
    "Apply range_cleaner and remove_letters to both columns."
   ]
  },
  {
   "cell_type": "code",
   "execution_count": 265,
   "metadata": {},
   "outputs": [
    {
     "name": "stdout",
     "output_type": "stream",
     "text": [
      "<class 'pandas.core.frame.DataFrame'>\n",
      "Int64Index: 15960 entries, 0 to 16019\n",
      "Data columns (total 3 columns):\n",
      " #   Column     Non-Null Count  Dtype \n",
      "---  ------     --------------  ----- \n",
      " 0   LEAID      15960 non-null  object\n",
      " 1   math_prof  15960 non-null  object\n",
      " 2   rla_prof   15960 non-null  object\n",
      "dtypes: object(3)\n",
      "memory usage: 498.8+ KB\n"
     ]
    }
   ],
   "source": [
    "## Apply range cleaner function to test dataset math proficiency column\n",
    "new_assessments_2018.math_prof = new_assessments_2018.math_prof.apply(range_cleaner)\n",
    "\n",
    "## Apply range cleaner function to test dataset reading/language arts proficiency column\n",
    "new_assessments_2018.rla_prof = new_assessments_2018.rla_prof.apply(range_cleaner)\n",
    "\n",
    "new_assessments_2018.info()"
   ]
  },
  {
   "cell_type": "code",
   "execution_count": 266,
   "metadata": {},
   "outputs": [
    {
     "name": "stdout",
     "output_type": "stream",
     "text": [
      "<class 'pandas.core.frame.DataFrame'>\n",
      "Int64Index: 15960 entries, 0 to 16019\n",
      "Data columns (total 3 columns):\n",
      " #   Column     Non-Null Count  Dtype  \n",
      "---  ------     --------------  -----  \n",
      " 0   LEAID      15960 non-null  object \n",
      " 1   math_prof  14920 non-null  float64\n",
      " 2   rla_prof   15099 non-null  float64\n",
      "dtypes: float64(2), object(1)\n",
      "memory usage: 498.8+ KB\n"
     ]
    }
   ],
   "source": [
    "## Apply remove letters  function to dataset math proficiency column\n",
    "new_assessments_2018.math_prof = new_assessments_2018.math_prof.apply(remove_letters)\n",
    "\n",
    "## Apply remove letters function to dataset reading/language arts proficiency column\n",
    "new_assessments_2018.rla_prof = new_assessments_2018.rla_prof.apply(remove_letters)\n",
    "new_assessments_2018.info()"
   ]
  },
  {
   "cell_type": "markdown",
   "metadata": {},
   "source": [
    "# Visualize"
   ]
  },
  {
   "cell_type": "markdown",
   "metadata": {},
   "source": [
    "## Visualize shape"
   ]
  },
  {
   "cell_type": "code",
   "execution_count": 267,
   "metadata": {},
   "outputs": [
    {
     "data": {
      "text/plain": [
       "(14864, 3)"
      ]
     },
     "execution_count": 267,
     "metadata": {},
     "output_type": "execute_result"
    }
   ],
   "source": [
    "## Remove the values we intentionally set to nan\n",
    "new_assessments_2018.dropna(inplace=True)\n",
    "new_assessments_2018.shape"
   ]
  },
  {
   "cell_type": "markdown",
   "metadata": {},
   "source": [
    "Great shape - 14,920 non-null floats. Let's save the file and continue previewing what this looks like."
   ]
  },
  {
   "cell_type": "code",
   "execution_count": null,
   "metadata": {},
   "outputs": [],
   "source": [
    "## Save data to pickle before previewing\n",
    "new_assessments_2018.to_pickle('../data/education/new_assessments_2018.pkl')"
   ]
  },
  {
   "cell_type": "code",
   "execution_count": 268,
   "metadata": {},
   "outputs": [
    {
     "data": {
      "text/html": [
       "<div>\n",
       "<style scoped>\n",
       "    .dataframe tbody tr th:only-of-type {\n",
       "        vertical-align: middle;\n",
       "    }\n",
       "\n",
       "    .dataframe tbody tr th {\n",
       "        vertical-align: top;\n",
       "    }\n",
       "\n",
       "    .dataframe thead th {\n",
       "        text-align: right;\n",
       "    }\n",
       "</style>\n",
       "<table border=\"1\" class=\"dataframe\">\n",
       "  <thead>\n",
       "    <tr style=\"text-align: right;\">\n",
       "      <th></th>\n",
       "      <th>LEAID</th>\n",
       "      <th>math_prof</th>\n",
       "      <th>rla_prof</th>\n",
       "    </tr>\n",
       "  </thead>\n",
       "  <tbody>\n",
       "    <tr>\n",
       "      <th>0</th>\n",
       "      <td>0100005</td>\n",
       "      <td>45.0</td>\n",
       "      <td>38.0</td>\n",
       "    </tr>\n",
       "    <tr>\n",
       "      <th>1</th>\n",
       "      <td>0100006</td>\n",
       "      <td>43.0</td>\n",
       "      <td>36.0</td>\n",
       "    </tr>\n",
       "    <tr>\n",
       "      <th>2</th>\n",
       "      <td>0100007</td>\n",
       "      <td>70.0</td>\n",
       "      <td>65.0</td>\n",
       "    </tr>\n",
       "    <tr>\n",
       "      <th>3</th>\n",
       "      <td>0100008</td>\n",
       "      <td>76.0</td>\n",
       "      <td>74.0</td>\n",
       "    </tr>\n",
       "    <tr>\n",
       "      <th>4</th>\n",
       "      <td>0100011</td>\n",
       "      <td>40.0</td>\n",
       "      <td>41.0</td>\n",
       "    </tr>\n",
       "    <tr>\n",
       "      <th>5</th>\n",
       "      <td>0100012</td>\n",
       "      <td>41.0</td>\n",
       "      <td>40.0</td>\n",
       "    </tr>\n",
       "    <tr>\n",
       "      <th>6</th>\n",
       "      <td>0100013</td>\n",
       "      <td>76.0</td>\n",
       "      <td>71.0</td>\n",
       "    </tr>\n",
       "    <tr>\n",
       "      <th>7</th>\n",
       "      <td>0100030</td>\n",
       "      <td>42.0</td>\n",
       "      <td>40.0</td>\n",
       "    </tr>\n",
       "    <tr>\n",
       "      <th>8</th>\n",
       "      <td>0100060</td>\n",
       "      <td>39.0</td>\n",
       "      <td>41.0</td>\n",
       "    </tr>\n",
       "    <tr>\n",
       "      <th>9</th>\n",
       "      <td>0100090</td>\n",
       "      <td>21.0</td>\n",
       "      <td>25.0</td>\n",
       "    </tr>\n",
       "  </tbody>\n",
       "</table>\n",
       "</div>"
      ],
      "text/plain": [
       "     LEAID  math_prof  rla_prof\n",
       "0  0100005       45.0      38.0\n",
       "1  0100006       43.0      36.0\n",
       "2  0100007       70.0      65.0\n",
       "3  0100008       76.0      74.0\n",
       "4  0100011       40.0      41.0\n",
       "5  0100012       41.0      40.0\n",
       "6  0100013       76.0      71.0\n",
       "7  0100030       42.0      40.0\n",
       "8  0100060       39.0      41.0\n",
       "9  0100090       21.0      25.0"
      ]
     },
     "execution_count": 268,
     "metadata": {},
     "output_type": "execute_result"
    }
   ],
   "source": [
    "## Display first 10 observations\n",
    "new_assessments_2018.head(10)"
   ]
  },
  {
   "cell_type": "code",
   "execution_count": 41,
   "metadata": {},
   "outputs": [
    {
     "data": {
      "text/html": [
       "<div>\n",
       "<style scoped>\n",
       "    .dataframe tbody tr th:only-of-type {\n",
       "        vertical-align: middle;\n",
       "    }\n",
       "\n",
       "    .dataframe tbody tr th {\n",
       "        vertical-align: top;\n",
       "    }\n",
       "\n",
       "    .dataframe thead th {\n",
       "        text-align: right;\n",
       "    }\n",
       "</style>\n",
       "<table border=\"1\" class=\"dataframe\">\n",
       "  <thead>\n",
       "    <tr style=\"text-align: right;\">\n",
       "      <th></th>\n",
       "      <th>math_prof</th>\n",
       "      <th>rla_prof</th>\n",
       "    </tr>\n",
       "  </thead>\n",
       "  <tbody>\n",
       "    <tr>\n",
       "      <th>count</th>\n",
       "      <td>14864.000000</td>\n",
       "      <td>14864.000000</td>\n",
       "    </tr>\n",
       "    <tr>\n",
       "      <th>mean</th>\n",
       "      <td>43.466362</td>\n",
       "      <td>48.853471</td>\n",
       "    </tr>\n",
       "    <tr>\n",
       "      <th>std</th>\n",
       "      <td>18.372749</td>\n",
       "      <td>17.386347</td>\n",
       "    </tr>\n",
       "    <tr>\n",
       "      <th>min</th>\n",
       "      <td>2.000000</td>\n",
       "      <td>2.000000</td>\n",
       "    </tr>\n",
       "    <tr>\n",
       "      <th>25%</th>\n",
       "      <td>30.000000</td>\n",
       "      <td>37.000000</td>\n",
       "    </tr>\n",
       "    <tr>\n",
       "      <th>50%</th>\n",
       "      <td>42.000000</td>\n",
       "      <td>48.000000</td>\n",
       "    </tr>\n",
       "    <tr>\n",
       "      <th>75%</th>\n",
       "      <td>56.000000</td>\n",
       "      <td>62.000000</td>\n",
       "    </tr>\n",
       "    <tr>\n",
       "      <th>max</th>\n",
       "      <td>98.000000</td>\n",
       "      <td>98.000000</td>\n",
       "    </tr>\n",
       "  </tbody>\n",
       "</table>\n",
       "</div>"
      ],
      "text/plain": [
       "          math_prof      rla_prof\n",
       "count  14864.000000  14864.000000\n",
       "mean      43.466362     48.853471\n",
       "std       18.372749     17.386347\n",
       "min        2.000000      2.000000\n",
       "25%       30.000000     37.000000\n",
       "50%       42.000000     48.000000\n",
       "75%       56.000000     62.000000\n",
       "max       98.000000     98.000000"
      ]
     },
     "execution_count": 41,
     "metadata": {},
     "output_type": "execute_result"
    }
   ],
   "source": [
    "## Get summary statistics\n",
    "new_assessments_2018.describe()"
   ]
  },
  {
   "cell_type": "code",
   "execution_count": 42,
   "metadata": {},
   "outputs": [
    {
     "data": {
      "image/png": "[encoded data removed]",
      "text/plain": [
       "<Figure size 432x288 with 2 Axes>"
      ]
     },
     "metadata": {
      "needs_background": "light"
     },
     "output_type": "display_data"
    }
   ],
   "source": [
    "## Display distributions of proficiency scores\n",
    "new_assessments_2018.hist();"
   ]
  },
  {
   "cell_type": "code",
   "execution_count": 43,
   "metadata": {},
   "outputs": [
    {
     "data": {
      "image/png": "[encoded data removed]",
      "text/plain": [
       "<Figure size 360x360 with 6 Axes>"
      ]
     },
     "metadata": {
      "needs_background": "light"
     },
     "output_type": "display_data"
    }
   ],
   "source": [
    "## Display any correlations, keep the regression line, use Kernel Density Estimate\n",
    "sns.pairplot(new_assessments_2018, vars=['math_prof', 'rla_prof'], kind='reg', diag_kind='kde');"
   ]
  },
  {
   "cell_type": "markdown",
   "metadata": {},
   "source": [
    "### Visualization Observations\n",
    "\n",
    "1. As might be expected, there is a definite linear correlation between Reading & Language Arts and Math proficiencies\n",
    "2. We can also observe that the math proficiency is skewed slightly to the left - this would suggest that across the nation, students tend to be more proficient in math than in Reading and Language Arts\n",
    "3. Summary statistics confirm this: \n",
    "    - The 50% mark for math proficiency is 42 \n",
    "    - The 50% mark for reading / language arts proficiency is 48\n",
    "    - Summary statstics also show that the maximum score, interestingly, is not 100 but 98 (minimum is 2)"
   ]
  },
  {
   "cell_type": "markdown",
   "metadata": {},
   "source": [
    "## Append geographic data to educational achievement dataset"
   ]
  },
  {
   "cell_type": "markdown",
   "metadata": {},
   "source": [
    "In order to visualize this academic achievment data in one more way, we'll plot it on a map of the United States, for context."
   ]
  },
  {
   "cell_type": "code",
   "execution_count": 93,
   "metadata": {},
   "outputs": [],
   "source": [
    "## Create new variable to read shapefiles (.shp) for unified school district (sdu)\n",
    "geodata_unified = gpd.read_file('../data/geodata/sdu_2018/tl_2018_us_sdu.shp')\n",
    "## Preview the data header\n",
    "geodata_unified.head()"
   ]
  },
  {
   "cell_type": "code",
   "execution_count": 95,
   "metadata": {},
   "outputs": [
    {
     "data": {
      "text/html": [
       "<div>\n",
       "<style scoped>\n",
       "    .dataframe tbody tr th:only-of-type {\n",
       "        vertical-align: middle;\n",
       "    }\n",
       "\n",
       "    .dataframe tbody tr th {\n",
       "        vertical-align: top;\n",
       "    }\n",
       "\n",
       "    .dataframe thead th {\n",
       "        text-align: right;\n",
       "    }\n",
       "</style>\n",
       "<table border=\"1\" class=\"dataframe\">\n",
       "  <thead>\n",
       "    <tr style=\"text-align: right;\">\n",
       "      <th></th>\n",
       "      <th>STATEFP</th>\n",
       "      <th>UNSDLEA</th>\n",
       "      <th>GEOID</th>\n",
       "      <th>NAME</th>\n",
       "      <th>LSAD</th>\n",
       "      <th>LOGRADE</th>\n",
       "      <th>HIGRADE</th>\n",
       "      <th>MTFCC</th>\n",
       "      <th>SDTYP</th>\n",
       "      <th>FUNCSTAT</th>\n",
       "      <th>ALAND</th>\n",
       "      <th>AWATER</th>\n",
       "      <th>INTPTLAT</th>\n",
       "      <th>INTPTLON</th>\n",
       "      <th>GEO_YEAR</th>\n",
       "      <th>SCHOOLYEAR</th>\n",
       "      <th>geometry</th>\n",
       "    </tr>\n",
       "  </thead>\n",
       "  <tbody>\n",
       "    <tr>\n",
       "      <th>0</th>\n",
       "      <td>01</td>\n",
       "      <td>00690</td>\n",
       "      <td>0100690</td>\n",
       "      <td>Choctaw County School District</td>\n",
       "      <td>00</td>\n",
       "      <td>KG</td>\n",
       "      <td>12</td>\n",
       "      <td>G5420</td>\n",
       "      <td>None</td>\n",
       "      <td>E</td>\n",
       "      <td>2.365870e+09</td>\n",
       "      <td>19144469.0</td>\n",
       "      <td>+31.9909539</td>\n",
       "      <td>-088.2488894</td>\n",
       "      <td>2018</td>\n",
       "      <td>2017-2018</td>\n",
       "      <td>POLYGON ((-88.47323 31.89386, -88.47309 31.895...</td>\n",
       "    </tr>\n",
       "    <tr>\n",
       "      <th>1</th>\n",
       "      <td>01</td>\n",
       "      <td>01590</td>\n",
       "      <td>0101590</td>\n",
       "      <td>Franklin County School District</td>\n",
       "      <td>00</td>\n",
       "      <td>PK</td>\n",
       "      <td>12</td>\n",
       "      <td>G5420</td>\n",
       "      <td>None</td>\n",
       "      <td>E</td>\n",
       "      <td>1.607120e+09</td>\n",
       "      <td>32368927.0</td>\n",
       "      <td>+34.4419892</td>\n",
       "      <td>-087.8428144</td>\n",
       "      <td>2018</td>\n",
       "      <td>2017-2018</td>\n",
       "      <td>POLYGON ((-88.17351 34.32200, -88.17351 34.322...</td>\n",
       "    </tr>\n",
       "    <tr>\n",
       "      <th>2</th>\n",
       "      <td>01</td>\n",
       "      <td>00750</td>\n",
       "      <td>0100750</td>\n",
       "      <td>Clay County School District</td>\n",
       "      <td>00</td>\n",
       "      <td>KG</td>\n",
       "      <td>12</td>\n",
       "      <td>G5420</td>\n",
       "      <td>None</td>\n",
       "      <td>E</td>\n",
       "      <td>1.564252e+09</td>\n",
       "      <td>5285207.0</td>\n",
       "      <td>+33.2703999</td>\n",
       "      <td>-085.8635254</td>\n",
       "      <td>2018</td>\n",
       "      <td>2017-2018</td>\n",
       "      <td>POLYGON ((-86.17435 33.10504, -86.17434 33.105...</td>\n",
       "    </tr>\n",
       "    <tr>\n",
       "      <th>3</th>\n",
       "      <td>01</td>\n",
       "      <td>01380</td>\n",
       "      <td>0101380</td>\n",
       "      <td>Etowah County School District</td>\n",
       "      <td>00</td>\n",
       "      <td>PK</td>\n",
       "      <td>12</td>\n",
       "      <td>G5420</td>\n",
       "      <td>None</td>\n",
       "      <td>E</td>\n",
       "      <td>1.263863e+09</td>\n",
       "      <td>31497856.0</td>\n",
       "      <td>+33.9693792</td>\n",
       "      <td>-085.9523391</td>\n",
       "      <td>2018</td>\n",
       "      <td>2017-2018</td>\n",
       "      <td>MULTIPOLYGON (((-85.95248 33.96948, -85.95219 ...</td>\n",
       "    </tr>\n",
       "    <tr>\n",
       "      <th>4</th>\n",
       "      <td>01</td>\n",
       "      <td>02610</td>\n",
       "      <td>0102610</td>\n",
       "      <td>Opp City School District</td>\n",
       "      <td>00</td>\n",
       "      <td>KG</td>\n",
       "      <td>12</td>\n",
       "      <td>G5420</td>\n",
       "      <td>None</td>\n",
       "      <td>E</td>\n",
       "      <td>6.128921e+07</td>\n",
       "      <td>2396858.0</td>\n",
       "      <td>+31.2843753</td>\n",
       "      <td>-086.2574417</td>\n",
       "      <td>2018</td>\n",
       "      <td>2017-2018</td>\n",
       "      <td>POLYGON ((-86.31394 31.27037, -86.31394 31.270...</td>\n",
       "    </tr>\n",
       "  </tbody>\n",
       "</table>\n",
       "</div>"
      ],
      "text/plain": [
       "  STATEFP UNSDLEA    GEOID                             NAME LSAD LOGRADE  \\\n",
       "0      01   00690  0100690   Choctaw County School District   00      KG   \n",
       "1      01   01590  0101590  Franklin County School District   00      PK   \n",
       "2      01   00750  0100750      Clay County School District   00      KG   \n",
       "3      01   01380  0101380    Etowah County School District   00      PK   \n",
       "4      01   02610  0102610         Opp City School District   00      KG   \n",
       "\n",
       "  HIGRADE  MTFCC SDTYP FUNCSTAT         ALAND      AWATER     INTPTLAT  \\\n",
       "0      12  G5420  None        E  2.365870e+09  19144469.0  +31.9909539   \n",
       "1      12  G5420  None        E  1.607120e+09  32368927.0  +34.4419892   \n",
       "2      12  G5420  None        E  1.564252e+09   5285207.0  +33.2703999   \n",
       "3      12  G5420  None        E  1.263863e+09  31497856.0  +33.9693792   \n",
       "4      12  G5420  None        E  6.128921e+07   2396858.0  +31.2843753   \n",
       "\n",
       "       INTPTLON GEO_YEAR SCHOOLYEAR  \\\n",
       "0  -088.2488894     2018  2017-2018   \n",
       "1  -087.8428144     2018  2017-2018   \n",
       "2  -085.8635254     2018  2017-2018   \n",
       "3  -085.9523391     2018  2017-2018   \n",
       "4  -086.2574417     2018  2017-2018   \n",
       "\n",
       "                                            geometry  \n",
       "0  POLYGON ((-88.47323 31.89386, -88.47309 31.895...  \n",
       "1  POLYGON ((-88.17351 34.32200, -88.17351 34.322...  \n",
       "2  POLYGON ((-86.17435 33.10504, -86.17434 33.105...  \n",
       "3  MULTIPOLYGON (((-85.95248 33.96948, -85.95219 ...  \n",
       "4  POLYGON ((-86.31394 31.27037, -86.31394 31.270...  "
      ]
     },
     "execution_count": 95,
     "metadata": {},
     "output_type": "execute_result"
    }
   ],
   "source": [
    "## Convert GEOID to LEAID to merge\n",
    "geodata_unified = geodata_unified.rename(columns =  {'GEOID' : 'LEAID'}).copy()\n",
    "## Preview data shape\n",
    "geodata_unified.info()"
   ]
  },
  {
   "cell_type": "code",
   "execution_count": 112,
   "metadata": {},
   "outputs": [
    {
     "data": {
      "text/html": [
       "<div>\n",
       "<style scoped>\n",
       "    .dataframe tbody tr th:only-of-type {\n",
       "        vertical-align: middle;\n",
       "    }\n",
       "\n",
       "    .dataframe tbody tr th {\n",
       "        vertical-align: top;\n",
       "    }\n",
       "\n",
       "    .dataframe thead th {\n",
       "        text-align: right;\n",
       "    }\n",
       "</style>\n",
       "<table border=\"1\" class=\"dataframe\">\n",
       "  <thead>\n",
       "    <tr style=\"text-align: right;\">\n",
       "      <th></th>\n",
       "      <th>STATEFP</th>\n",
       "      <th>UNSDLEA</th>\n",
       "      <th>LEAID</th>\n",
       "      <th>NAME</th>\n",
       "      <th>LSAD</th>\n",
       "      <th>LOGRADE</th>\n",
       "      <th>HIGRADE</th>\n",
       "      <th>MTFCC</th>\n",
       "      <th>SDTYP</th>\n",
       "      <th>FUNCSTAT</th>\n",
       "      <th>ALAND</th>\n",
       "      <th>AWATER</th>\n",
       "      <th>INTPTLAT</th>\n",
       "      <th>INTPTLON</th>\n",
       "      <th>GEO_YEAR</th>\n",
       "      <th>SCHOOLYEAR</th>\n",
       "      <th>geometry</th>\n",
       "      <th>math_prof</th>\n",
       "      <th>rla_prof</th>\n",
       "    </tr>\n",
       "  </thead>\n",
       "  <tbody>\n",
       "    <tr>\n",
       "      <th>0</th>\n",
       "      <td>01</td>\n",
       "      <td>00690</td>\n",
       "      <td>0100690</td>\n",
       "      <td>Choctaw County School District</td>\n",
       "      <td>00</td>\n",
       "      <td>KG</td>\n",
       "      <td>12</td>\n",
       "      <td>G5420</td>\n",
       "      <td>None</td>\n",
       "      <td>E</td>\n",
       "      <td>2.365870e+09</td>\n",
       "      <td>19144469.0</td>\n",
       "      <td>+31.9909539</td>\n",
       "      <td>-088.2488894</td>\n",
       "      <td>2018</td>\n",
       "      <td>2017-2018</td>\n",
       "      <td>POLYGON ((-88.47323 31.89386, -88.47309 31.895...</td>\n",
       "      <td>23.0</td>\n",
       "      <td>29.0</td>\n",
       "    </tr>\n",
       "    <tr>\n",
       "      <th>1</th>\n",
       "      <td>01</td>\n",
       "      <td>01590</td>\n",
       "      <td>0101590</td>\n",
       "      <td>Franklin County School District</td>\n",
       "      <td>00</td>\n",
       "      <td>PK</td>\n",
       "      <td>12</td>\n",
       "      <td>G5420</td>\n",
       "      <td>None</td>\n",
       "      <td>E</td>\n",
       "      <td>1.607120e+09</td>\n",
       "      <td>32368927.0</td>\n",
       "      <td>+34.4419892</td>\n",
       "      <td>-087.8428144</td>\n",
       "      <td>2018</td>\n",
       "      <td>2017-2018</td>\n",
       "      <td>POLYGON ((-88.17351 34.32200, -88.17351 34.322...</td>\n",
       "      <td>39.0</td>\n",
       "      <td>38.0</td>\n",
       "    </tr>\n",
       "    <tr>\n",
       "      <th>2</th>\n",
       "      <td>01</td>\n",
       "      <td>00750</td>\n",
       "      <td>0100750</td>\n",
       "      <td>Clay County School District</td>\n",
       "      <td>00</td>\n",
       "      <td>KG</td>\n",
       "      <td>12</td>\n",
       "      <td>G5420</td>\n",
       "      <td>None</td>\n",
       "      <td>E</td>\n",
       "      <td>1.564252e+09</td>\n",
       "      <td>5285207.0</td>\n",
       "      <td>+33.2703999</td>\n",
       "      <td>-085.8635254</td>\n",
       "      <td>2018</td>\n",
       "      <td>2017-2018</td>\n",
       "      <td>POLYGON ((-86.17435 33.10504, -86.17434 33.105...</td>\n",
       "      <td>42.0</td>\n",
       "      <td>39.0</td>\n",
       "    </tr>\n",
       "    <tr>\n",
       "      <th>3</th>\n",
       "      <td>01</td>\n",
       "      <td>01380</td>\n",
       "      <td>0101380</td>\n",
       "      <td>Etowah County School District</td>\n",
       "      <td>00</td>\n",
       "      <td>PK</td>\n",
       "      <td>12</td>\n",
       "      <td>G5420</td>\n",
       "      <td>None</td>\n",
       "      <td>E</td>\n",
       "      <td>1.263863e+09</td>\n",
       "      <td>31497856.0</td>\n",
       "      <td>+33.9693792</td>\n",
       "      <td>-085.9523391</td>\n",
       "      <td>2018</td>\n",
       "      <td>2017-2018</td>\n",
       "      <td>MULTIPOLYGON (((-85.95248 33.96948, -85.95219 ...</td>\n",
       "      <td>49.0</td>\n",
       "      <td>52.0</td>\n",
       "    </tr>\n",
       "    <tr>\n",
       "      <th>4</th>\n",
       "      <td>01</td>\n",
       "      <td>02610</td>\n",
       "      <td>0102610</td>\n",
       "      <td>Opp City School District</td>\n",
       "      <td>00</td>\n",
       "      <td>KG</td>\n",
       "      <td>12</td>\n",
       "      <td>G5420</td>\n",
       "      <td>None</td>\n",
       "      <td>E</td>\n",
       "      <td>6.128921e+07</td>\n",
       "      <td>2396858.0</td>\n",
       "      <td>+31.2843753</td>\n",
       "      <td>-086.2574417</td>\n",
       "      <td>2018</td>\n",
       "      <td>2017-2018</td>\n",
       "      <td>POLYGON ((-86.31394 31.27037, -86.31394 31.270...</td>\n",
       "      <td>42.0</td>\n",
       "      <td>46.0</td>\n",
       "    </tr>\n",
       "  </tbody>\n",
       "</table>\n",
       "</div>"
      ],
      "text/plain": [
       "  STATEFP UNSDLEA    LEAID                             NAME LSAD LOGRADE  \\\n",
       "0      01   00690  0100690   Choctaw County School District   00      KG   \n",
       "1      01   01590  0101590  Franklin County School District   00      PK   \n",
       "2      01   00750  0100750      Clay County School District   00      KG   \n",
       "3      01   01380  0101380    Etowah County School District   00      PK   \n",
       "4      01   02610  0102610         Opp City School District   00      KG   \n",
       "\n",
       "  HIGRADE  MTFCC SDTYP FUNCSTAT         ALAND      AWATER     INTPTLAT  \\\n",
       "0      12  G5420  None        E  2.365870e+09  19144469.0  +31.9909539   \n",
       "1      12  G5420  None        E  1.607120e+09  32368927.0  +34.4419892   \n",
       "2      12  G5420  None        E  1.564252e+09   5285207.0  +33.2703999   \n",
       "3      12  G5420  None        E  1.263863e+09  31497856.0  +33.9693792   \n",
       "4      12  G5420  None        E  6.128921e+07   2396858.0  +31.2843753   \n",
       "\n",
       "       INTPTLON GEO_YEAR SCHOOLYEAR  \\\n",
       "0  -088.2488894     2018  2017-2018   \n",
       "1  -087.8428144     2018  2017-2018   \n",
       "2  -085.8635254     2018  2017-2018   \n",
       "3  -085.9523391     2018  2017-2018   \n",
       "4  -086.2574417     2018  2017-2018   \n",
       "\n",
       "                                            geometry  math_prof  rla_prof  \n",
       "0  POLYGON ((-88.47323 31.89386, -88.47309 31.895...       23.0      29.0  \n",
       "1  POLYGON ((-88.17351 34.32200, -88.17351 34.322...       39.0      38.0  \n",
       "2  POLYGON ((-86.17435 33.10504, -86.17434 33.105...       42.0      39.0  \n",
       "3  MULTIPOLYGON (((-85.95248 33.96948, -85.95219 ...       49.0      52.0  \n",
       "4  POLYGON ((-86.31394 31.27037, -86.31394 31.270...       42.0      46.0  "
      ]
     },
     "execution_count": 112,
     "metadata": {},
     "output_type": "execute_result"
    }
   ],
   "source": [
    "## Merge geographic data with assessments data using LEAID as the key\n",
    "geo_assessments_2018_unified = geodata_unified.merge(new_assessments_2018, how='inner', on='LEAID')\n",
    "## Preview header to ensure successful merge\n",
    "geo_assessments_2018_unified.head()"
   ]
  },
  {
   "cell_type": "code",
   "execution_count": 113,
   "metadata": {},
   "outputs": [
    {
     "data": {
      "image/png": "[encoded data removed]",
      "text/plain": [
       "<Figure size 432x288 with 1 Axes>"
      ]
     },
     "metadata": {
      "needs_background": "light"
     },
     "output_type": "display_data"
    }
   ],
   "source": [
    "## Use geopandas to get a rough plot of the school districts\n",
    "## Use math proficiency scores to create heatmap\n",
    "geo_assessments_2018_unified.plot(column='math_prof');"
   ]
  },
  {
   "cell_type": "code",
   "execution_count": 155,
   "metadata": {},
   "outputs": [
    {
     "data": {
      "image/png": "[encoded data removed]",
      "text/plain": [
       "<Figure size 432x288 with 1 Axes>"
      ]
     },
     "metadata": {
      "needs_background": "light"
     },
     "output_type": "display_data"
    }
   ],
   "source": [
    "## Use geopandas to get a rough plot of the school districts\n",
    "## Use reading / language arts proficiency scores to create heatmap\n",
    "geo_assessments_2018_unified.plot(column='rla_prof');"
   ]
  },
  {
   "cell_type": "markdown",
   "metadata": {},
   "source": [
    "## Geographic Data Visualization Analysis\n",
    "\n",
    "Based on this visual, we can notice several issues:\n",
    "\n",
    "1. It looks like we're completely missing data for New Mexico\n",
    "2. Substantial areas in California are not listed\n",
    "3. Parts of Montana and North Dakota are also missing data.\n",
    "4. Virginia is completely missing data.\n",
    "\n",
    "We'll double-check elementary and secondary school districts to see if that helps any. Unfortunately, the Census allows individual states to define the differences between unified, secondary, and elementary school districts. While most states use the same standard, some don't, which makes the analysis a bit more difficult. More info is available and provided by the Census at the [School District Descriptions]('https://nces.ed.gov/programs/edge/docs/School_District_Descriptions_Census_2017.pdf') from 2017.\n",
    "\n",
    "However, even with those issues, we still have over 10,000 observations remaining to analyze. No an ideal situation to just cut data out, so let's investigate further."
   ]
  },
  {
   "cell_type": "markdown",
   "metadata": {},
   "source": [
    "### Missing geographical data"
   ]
  },
  {
   "cell_type": "markdown",
   "metadata": {},
   "source": [
    "#### Add elementary and secondary school districts\n",
    "\n",
    "First we'll start by adding the geographic data for the elementary (sde) and secondary school (sds) districts, which we had previously left off."
   ]
  },
  {
   "cell_type": "code",
   "execution_count": 156,
   "metadata": {},
   "outputs": [
    {
     "name": "stdout",
     "output_type": "stream",
     "text": [
      "<class 'geopandas.geodataframe.GeoDataFrame'>\n",
      "RangeIndex: 1958 entries, 0 to 1957\n",
      "Data columns (total 17 columns):\n",
      " #   Column      Non-Null Count  Dtype   \n",
      "---  ------      --------------  -----   \n",
      " 0   STATEFP     1958 non-null   object  \n",
      " 1   ELSDLEA     1958 non-null   object  \n",
      " 2   GEOID       1958 non-null   object  \n",
      " 3   NAME        1958 non-null   object  \n",
      " 4   LSAD        1958 non-null   object  \n",
      " 5   LOGRADE     1958 non-null   object  \n",
      " 6   HIGRADE     1958 non-null   object  \n",
      " 7   MTFCC       1958 non-null   object  \n",
      " 8   SDTYP       51 non-null     object  \n",
      " 9   FUNCSTAT    1958 non-null   object  \n",
      " 10  ALAND       1958 non-null   float64 \n",
      " 11  AWATER      1958 non-null   float64 \n",
      " 12  INTPTLAT    1958 non-null   object  \n",
      " 13  INTPTLON    1958 non-null   object  \n",
      " 14  GEO_YEAR    1958 non-null   object  \n",
      " 15  SCHOOLYEAR  1958 non-null   object  \n",
      " 16  geometry    1958 non-null   geometry\n",
      "dtypes: float64(2), geometry(1), object(14)\n",
      "memory usage: 260.2+ KB\n"
     ]
    }
   ],
   "source": [
    "## Open geodata for elementary schools, preview\n",
    "geodata_elementary = gpd.read_file('../data/geodata/sde_2018/tl_2018_us_sde.shp')\n",
    "geodata_elementary.info()"
   ]
  },
  {
   "cell_type": "code",
   "execution_count": 103,
   "metadata": {},
   "outputs": [
    {
     "name": "stdout",
     "output_type": "stream",
     "text": [
      "<class 'geopandas.geodataframe.GeoDataFrame'>\n",
      "RangeIndex: 486 entries, 0 to 485\n",
      "Data columns (total 17 columns):\n",
      " #   Column      Non-Null Count  Dtype   \n",
      "---  ------      --------------  -----   \n",
      " 0   STATEFP     486 non-null    object  \n",
      " 1   SCSDLEA     486 non-null    object  \n",
      " 2   GEOID       486 non-null    object  \n",
      " 3   NAME        486 non-null    object  \n",
      " 4   LSAD        486 non-null    object  \n",
      " 5   LOGRADE     486 non-null    object  \n",
      " 6   HIGRADE     486 non-null    object  \n",
      " 7   MTFCC       486 non-null    object  \n",
      " 8   SDTYP       95 non-null     object  \n",
      " 9   FUNCSTAT    486 non-null    object  \n",
      " 10  ALAND       486 non-null    float64 \n",
      " 11  AWATER      486 non-null    float64 \n",
      " 12  INTPTLAT    486 non-null    object  \n",
      " 13  INTPTLON    486 non-null    object  \n",
      " 14  GEO_YEAR    486 non-null    object  \n",
      " 15  SCHOOLYEAR  486 non-null    object  \n",
      " 16  geometry    486 non-null    geometry\n",
      "dtypes: float64(2), geometry(1), object(14)\n",
      "memory usage: 64.7+ KB\n"
     ]
    }
   ],
   "source": [
    "## Open geodata for secondary schools, preview\n",
    "geodata_secondary = gpd.read_file('../data/geodata/sds_2018/tl_2018_us_sds.shp')\n",
    "geodata_secondary.info()"
   ]
  },
  {
   "cell_type": "code",
   "execution_count": 104,
   "metadata": {},
   "outputs": [
    {
     "data": {
      "text/plain": [
       "13335"
      ]
     },
     "execution_count": 104,
     "metadata": {},
     "output_type": "execute_result"
    }
   ],
   "source": [
    "486 + 1958 +10891"
   ]
  },
  {
   "cell_type": "markdown",
   "metadata": {},
   "source": [
    "So adding those two districts gives us back about 2500 more data points. Let's continue investigating for the remaining ~2500."
   ]
  },
  {
   "cell_type": "code",
   "execution_count": 160,
   "metadata": {},
   "outputs": [
    {
     "name": "stdout",
     "output_type": "stream",
     "text": [
      "<class 'geopandas.geodataframe.GeoDataFrame'>\n",
      "Int64Index: 2005 entries, 0 to 2004\n",
      "Data columns (total 20 columns):\n",
      " #   Column      Non-Null Count  Dtype   \n",
      "---  ------      --------------  -----   \n",
      " 0   STATEFP     2005 non-null   object  \n",
      " 1   SCSDLEA     322 non-null    object  \n",
      " 2   LEAID       2005 non-null   object  \n",
      " 3   NAME        2005 non-null   object  \n",
      " 4   LSAD        2005 non-null   object  \n",
      " 5   LOGRADE     2005 non-null   object  \n",
      " 6   HIGRADE     2005 non-null   object  \n",
      " 7   MTFCC       2005 non-null   object  \n",
      " 8   SDTYP       38 non-null     object  \n",
      " 9   FUNCSTAT    2005 non-null   object  \n",
      " 10  ALAND       2005 non-null   float64 \n",
      " 11  AWATER      2005 non-null   float64 \n",
      " 12  INTPTLAT    2005 non-null   object  \n",
      " 13  INTPTLON    2005 non-null   object  \n",
      " 14  GEO_YEAR    2005 non-null   object  \n",
      " 15  SCHOOLYEAR  2005 non-null   object  \n",
      " 16  geometry    2005 non-null   geometry\n",
      " 17  ELSDLEA     1683 non-null   object  \n",
      " 18  math_prof   2005 non-null   float64 \n",
      " 19  rla_prof    2005 non-null   float64 \n",
      "dtypes: float64(4), geometry(1), object(15)\n",
      "memory usage: 328.9+ KB\n"
     ]
    }
   ],
   "source": [
    "## Combine smaller district units into one file\n",
    "geodata_smaller = pd.concat([geodata_secondary, geodata_elementary])\n",
    "## Rename GEOID to LEAID for merging later\n",
    "geodata_smaller = geodata_smaller.rename(columns={'GEOID':'LEAID'}).copy()\n",
    "## Merge geodata for smaller districts with assessment scores, to see on map\n",
    "geo_assessments_2018_smaller = geodata_smaller.merge(new_assessments_2018, how='inner', on='LEAID')\n",
    "## Preview shape\n",
    "geo_assessments_2018_smaller.info()"
   ]
  },
  {
   "cell_type": "code",
   "execution_count": 161,
   "metadata": {},
   "outputs": [
    {
     "data": {
      "image/png": "[encoded data removed]",
      "text/plain": [
       "<Figure size 432x288 with 1 Axes>"
      ]
     },
     "metadata": {
      "needs_background": "light"
     },
     "output_type": "display_data"
    }
   ],
   "source": [
    "## Visualize missing data\n",
    "geo_assessments_2018_smaller.plot(column='math_prof');"
   ]
  },
  {
   "cell_type": "markdown",
   "metadata": {},
   "source": [
    "The shape of this data shows that it can fill in a lot of what's missing in California and Montana / North Dakota; however, it doesn't show much for the entire states of New Mexico and Virginia. So for now, we'll concatenate the datasets, instead of having missing values, and continue investigation into those last two states."
   ]
  },
  {
   "cell_type": "code",
   "execution_count": 162,
   "metadata": {},
   "outputs": [
    {
     "name": "stdout",
     "output_type": "stream",
     "text": [
      "<class 'geopandas.geodataframe.GeoDataFrame'>\n",
      "Int64Index: 12216 entries, 0 to 10210\n",
      "Data columns (total 21 columns):\n",
      " #   Column      Non-Null Count  Dtype   \n",
      "---  ------      --------------  -----   \n",
      " 0   STATEFP     12216 non-null  object  \n",
      " 1   SCSDLEA     322 non-null    object  \n",
      " 2   LEAID       12216 non-null  object  \n",
      " 3   NAME        12216 non-null  object  \n",
      " 4   LSAD        12216 non-null  object  \n",
      " 5   LOGRADE     12216 non-null  object  \n",
      " 6   HIGRADE     12216 non-null  object  \n",
      " 7   MTFCC       12216 non-null  object  \n",
      " 8   SDTYP       136 non-null    object  \n",
      " 9   FUNCSTAT    12216 non-null  object  \n",
      " 10  ALAND       12216 non-null  float64 \n",
      " 11  AWATER      12216 non-null  float64 \n",
      " 12  INTPTLAT    12216 non-null  object  \n",
      " 13  INTPTLON    12216 non-null  object  \n",
      " 14  GEO_YEAR    12216 non-null  object  \n",
      " 15  SCHOOLYEAR  12216 non-null  object  \n",
      " 16  geometry    12216 non-null  geometry\n",
      " 17  ELSDLEA     1683 non-null   object  \n",
      " 18  math_prof   12216 non-null  float64 \n",
      " 19  rla_prof    12216 non-null  float64 \n",
      " 20  UNSDLEA     10211 non-null  object  \n",
      "dtypes: float64(4), geometry(1), object(16)\n",
      "memory usage: 2.1+ MB\n"
     ]
    }
   ],
   "source": [
    "## Create new dataset with unified, secondary, AND elementary school districts\n",
    "geo_assessments_2018_all = pd.concat([geo_assessments_2018_smaller, geo_assessments_2018_unified])\n",
    "geo_assessments_2018_all.info()"
   ]
  },
  {
   "cell_type": "markdown",
   "metadata": {},
   "source": [
    "Let's double check for duplicates just to be sure they're not all overlapping:"
   ]
  },
  {
   "cell_type": "code",
   "execution_count": 164,
   "metadata": {},
   "outputs": [
    {
     "data": {
      "text/plain": [
       "True"
      ]
     },
     "execution_count": 164,
     "metadata": {},
     "output_type": "execute_result"
    }
   ],
   "source": [
    "## Ensure that LEAID is a unique value for each observation\n",
    "## Returns True if all values are unique, False if there are duplicates\n",
    "geo_assessments_2018_all['LEAID'].nunique() == geo_assessments_2018_all['LEAID'].shape[0]"
   ]
  },
  {
   "cell_type": "markdown",
   "metadata": {},
   "source": [
    "And then we plot to see how much has improved / what's still missing:"
   ]
  },
  {
   "cell_type": "code",
   "execution_count": 165,
   "metadata": {},
   "outputs": [
    {
     "data": {
      "text/plain": [
       "<matplotlib.axes._subplots.AxesSubplot at 0x28a1de63d90>"
      ]
     },
     "execution_count": 165,
     "metadata": {},
     "output_type": "execute_result"
    },
    {
     "data": {
      "image/png": "[encoded data removed]",
      "text/plain": [
       "<Figure size 432x288 with 1 Axes>"
      ]
     },
     "metadata": {
      "needs_background": "light"
     },
     "output_type": "display_data"
    }
   ],
   "source": [
    "geo_assessments_2018_all.plot(column='rla_prof')"
   ]
  },
  {
   "cell_type": "markdown",
   "metadata": {},
   "source": [
    "#### NM & VA\n",
    "New Mexico and Virginia still holding out! Let's check the original dataset for their names:"
   ]
  },
  {
   "cell_type": "code",
   "execution_count": 177,
   "metadata": {},
   "outputs": [
    {
     "name": "stdout",
     "output_type": "stream",
     "text": [
      "<class 'pandas.core.frame.DataFrame'>\n",
      "Int64Index: 0 entries\n",
      "Columns: 523 entries, STNAM_x to MIL_RLAHSPCTPROF_1718\n",
      "dtypes: int64(4), object(519)\n",
      "memory usage: 0.0+ bytes\n",
      "None\n",
      "<class 'pandas.core.frame.DataFrame'>\n",
      "Int64Index: 0 entries\n",
      "Columns: 523 entries, STNAM_x to MIL_RLAHSPCTPROF_1718\n",
      "dtypes: int64(4), object(519)\n",
      "memory usage: 0.0+ bytes\n",
      "None\n"
     ]
    }
   ],
   "source": [
    "## Check assessments dataset at \"STNAM_x\" (state name value at column index 0) for New Mexico's entries:\n",
    "new_mexico = assessments_2018.loc[assessments_2018['STNAM_x'].str.startswith('NEW M')]\n",
    "print(new_mexico.info())\n",
    "virginia = assessments_2018.loc[assessments_2018['STNAM_x'].str.startswith('VIRG')]\n",
    "print(virginia.info())"
   ]
  },
  {
   "cell_type": "markdown",
   "metadata": {},
   "source": [
    "Alas, Virginia and New Mexico are not even in the assessments dataset, but I want to be sure that I didn't accidentally filter them out. So we'll refer to the original math_2018 dataset which was called directly from the website."
   ]
  },
  {
   "cell_type": "code",
   "execution_count": 180,
   "metadata": {},
   "outputs": [
    {
     "data": {
      "text/plain": [
       "48"
      ]
     },
     "execution_count": 180,
     "metadata": {},
     "output_type": "execute_result"
    }
   ],
   "source": [
    "len(math_2018.STNAM.unique())"
   ]
  },
  {
   "cell_type": "code",
   "execution_count": 181,
   "metadata": {},
   "outputs": [
    {
     "data": {
      "text/plain": [
       "49"
      ]
     },
     "execution_count": 181,
     "metadata": {},
     "output_type": "execute_result"
    }
   ],
   "source": [
    "len(rla_2018.STNAM.unique())"
   ]
  },
  {
   "cell_type": "code",
   "execution_count": 182,
   "metadata": {},
   "outputs": [
    {
     "data": {
      "text/plain": [
       "array(['ALABAMA', 'ALASKA', 'ARIZONA', 'ARKANSAS', 'CALIFORNIA',\n",
       "       'COLORADO', 'CONNECTICUT', 'DELAWARE', 'DISTRICT OF COLUMBIA',\n",
       "       'FLORIDA', 'GEORGIA', 'HAWAII', 'IDAHO', 'ILLINOIS', 'INDIANA',\n",
       "       'IOWA', 'KANSAS', 'KENTUCKY', 'LOUISIANA', 'MAINE',\n",
       "       'MASSACHUSETTS', 'MICHIGAN', 'MINNESOTA', 'MISSISSIPPI',\n",
       "       'MISSOURI', 'MONTANA', 'NEBRASKA', 'NEVADA', 'NEW HAMPSHIRE',\n",
       "       'NEW JERSEY', 'NEW YORK', 'NORTH CAROLINA', 'NORTH DAKOTA', 'OHIO',\n",
       "       'OKLAHOMA', 'OREGON', 'PENNSYLVANIA', 'PUERTO RICO',\n",
       "       'RHODE ISLAND', 'SOUTH CAROLINA', 'SOUTH DAKOTA', 'TENNESSEE',\n",
       "       'TEXAS', 'UTAH', 'VIRGINIA', 'WASHINGTON', 'WEST VIRGINIA',\n",
       "       'WISCONSIN', 'WYOMING'], dtype=object)"
      ]
     },
     "execution_count": 182,
     "metadata": {},
     "output_type": "execute_result"
    }
   ],
   "source": [
    "rla_2018.STNAM.unique()"
   ]
  },
  {
   "cell_type": "markdown",
   "metadata": {},
   "source": [
    "Very frustrating! 48 states in the math dataset, and 49 states in the reading / language arts dataset. Further investigation into the [data notes]('../data/education/assessments_2018_data_notes.xlsx') reveals:\n",
    "\n",
    "- **New Mexico** did not report achievement data for at the district-level\n",
    "- **Virginia** misclassified 50,000 students leading to suppression of their math statistics, but is available on their [Department of Education website](http://www.doe.virginia.gov/statistics_reports/index.shtml). Additionally, there is a data discrepancy of over 100,000 students in their reading / language arts proficiency scores\n",
    "\n",
    "Options here are:\n",
    "1. Do not include data for either state\n",
    "2. Get data for those states from another year\n",
    "3. Investigate into states' datasets for proficiency scores\n",
    "4. For Virginia, we could use the reading / language arts proficiency level, combined with what we've learned about the relationship between math and reading / language arts proficiency distributions, to impute new values to the math dataset.\n",
    "5. Change all the the datasets used to another, theoretically more complete year (2016-17)\n",
    "\n",
    "No option here is ideal. For the sake of \"simplicity\" we'll impute values from 2016-17 instead. The downside here is that the data is older, and technology moves quickly. So when we compare technology access to assessment scores, we should be cautious to note that these two states' data is outdated"
   ]
  },
  {
   "cell_type": "markdown",
   "metadata": {},
   "source": [
    "## Get NM and VA new data"
   ]
  },
  {
   "cell_type": "markdown",
   "metadata": {},
   "source": [
    "Thankfully, we saved the customizable function from earlier for quick grabbing of new data:"
   ]
  },
  {
   "cell_type": "markdown",
   "metadata": {},
   "source": [
    "#### Get Math 2016-17 Data"
   ]
  },
  {
   "cell_type": "code",
   "execution_count": 187,
   "metadata": {},
   "outputs": [
    {
     "name": "stdin",
     "output_type": "stream",
     "text": [
      "Enter Assessment Subject: 'math' for math OR 'rla' for reading / language arts math\n",
      "Enter Detail Level: 'lea' for Local Education Agency OR 'sch' for school lea\n",
      "Enter dataset type: 'achievement' for assessment proficiency OR 'participation' for assessment participation OR 'acgr' for Adjusted Cohort Graduation Rate achievement\n",
      "Enter academic year as: YYYY-YY 2016-17\n"
     ]
    },
    {
     "data": {
      "text/html": [
       "<div>\n",
       "<style scoped>\n",
       "    .dataframe tbody tr th:only-of-type {\n",
       "        vertical-align: middle;\n",
       "    }\n",
       "\n",
       "    .dataframe tbody tr th {\n",
       "        vertical-align: top;\n",
       "    }\n",
       "\n",
       "    .dataframe thead th {\n",
       "        text-align: right;\n",
       "    }\n",
       "</style>\n",
       "<table border=\"1\" class=\"dataframe\">\n",
       "  <thead>\n",
       "    <tr style=\"text-align: right;\">\n",
       "      <th></th>\n",
       "      <th>STNAM</th>\n",
       "      <th>FIPST</th>\n",
       "      <th>LEAID</th>\n",
       "      <th>ST_LEAID</th>\n",
       "      <th>LEANM</th>\n",
       "      <th>DATE_CUR</th>\n",
       "      <th>ALL_MTH00NUMVALID_1617</th>\n",
       "      <th>ALL_MTH00PCTPROF_1617</th>\n",
       "      <th>MAM_MTH00NUMVALID_1617</th>\n",
       "      <th>MAM_MTH00PCTPROF_1617</th>\n",
       "      <th>...</th>\n",
       "      <th>MIG_MTH05NUMVALID_1617</th>\n",
       "      <th>MIG_MTH05PCTPROF_1617</th>\n",
       "      <th>MIG_MTH06NUMVALID_1617</th>\n",
       "      <th>MIG_MTH06PCTPROF_1617</th>\n",
       "      <th>MIG_MTH07NUMVALID_1617</th>\n",
       "      <th>MIG_MTH07PCTPROF_1617</th>\n",
       "      <th>MIG_MTH08NUMVALID_1617</th>\n",
       "      <th>MIG_MTH08PCTPROF_1617</th>\n",
       "      <th>MIG_MTHHSNUMVALID_1617</th>\n",
       "      <th>MIG_MTHHSPCTPROF_1617</th>\n",
       "    </tr>\n",
       "  </thead>\n",
       "  <tbody>\n",
       "    <tr>\n",
       "      <th>0</th>\n",
       "      <td>ALABAMA</td>\n",
       "      <td>1</td>\n",
       "      <td>0100005</td>\n",
       "      <td>AL-101</td>\n",
       "      <td>Albertville City</td>\n",
       "      <td>12APR18</td>\n",
       "      <td>2837</td>\n",
       "      <td>35</td>\n",
       "      <td>3</td>\n",
       "      <td>PS</td>\n",
       "      <td>...</td>\n",
       "      <td>26</td>\n",
       "      <td>LE20</td>\n",
       "      <td>25</td>\n",
       "      <td>21-39</td>\n",
       "      <td>23</td>\n",
       "      <td>LE20</td>\n",
       "      <td>16</td>\n",
       "      <td>LE20</td>\n",
       "      <td>20</td>\n",
       "      <td>LE20</td>\n",
       "    </tr>\n",
       "    <tr>\n",
       "      <th>1</th>\n",
       "      <td>ALABAMA</td>\n",
       "      <td>1</td>\n",
       "      <td>0100006</td>\n",
       "      <td>AL-048</td>\n",
       "      <td>Marshall County</td>\n",
       "      <td>12APR18</td>\n",
       "      <td>2979</td>\n",
       "      <td>42</td>\n",
       "      <td>11</td>\n",
       "      <td>LT50</td>\n",
       "      <td>...</td>\n",
       "      <td>5</td>\n",
       "      <td>PS</td>\n",
       "      <td>5</td>\n",
       "      <td>PS</td>\n",
       "      <td>1</td>\n",
       "      <td>PS</td>\n",
       "      <td>4</td>\n",
       "      <td>PS</td>\n",
       "      <td>3</td>\n",
       "      <td>PS</td>\n",
       "    </tr>\n",
       "    <tr>\n",
       "      <th>2</th>\n",
       "      <td>ALABAMA</td>\n",
       "      <td>1</td>\n",
       "      <td>0100007</td>\n",
       "      <td>AL-158</td>\n",
       "      <td>Hoover City</td>\n",
       "      <td>12APR18</td>\n",
       "      <td>7465</td>\n",
       "      <td>67</td>\n",
       "      <td>8</td>\n",
       "      <td>GE50</td>\n",
       "      <td>...</td>\n",
       "      <td>NaN</td>\n",
       "      <td>NaN</td>\n",
       "      <td>NaN</td>\n",
       "      <td>NaN</td>\n",
       "      <td>NaN</td>\n",
       "      <td>NaN</td>\n",
       "      <td>NaN</td>\n",
       "      <td>NaN</td>\n",
       "      <td>NaN</td>\n",
       "      <td>NaN</td>\n",
       "    </tr>\n",
       "    <tr>\n",
       "      <th>3</th>\n",
       "      <td>ALABAMA</td>\n",
       "      <td>1</td>\n",
       "      <td>0100008</td>\n",
       "      <td>AL-169</td>\n",
       "      <td>Madison City</td>\n",
       "      <td>12APR18</td>\n",
       "      <td>5599</td>\n",
       "      <td>74</td>\n",
       "      <td>34</td>\n",
       "      <td>70-79</td>\n",
       "      <td>...</td>\n",
       "      <td>NaN</td>\n",
       "      <td>NaN</td>\n",
       "      <td>NaN</td>\n",
       "      <td>NaN</td>\n",
       "      <td>NaN</td>\n",
       "      <td>NaN</td>\n",
       "      <td>NaN</td>\n",
       "      <td>NaN</td>\n",
       "      <td>NaN</td>\n",
       "      <td>NaN</td>\n",
       "    </tr>\n",
       "    <tr>\n",
       "      <th>4</th>\n",
       "      <td>ALABAMA</td>\n",
       "      <td>1</td>\n",
       "      <td>0100011</td>\n",
       "      <td>AL-167</td>\n",
       "      <td>Leeds City</td>\n",
       "      <td>12APR18</td>\n",
       "      <td>1003</td>\n",
       "      <td>37</td>\n",
       "      <td>3</td>\n",
       "      <td>PS</td>\n",
       "      <td>...</td>\n",
       "      <td>NaN</td>\n",
       "      <td>NaN</td>\n",
       "      <td>NaN</td>\n",
       "      <td>NaN</td>\n",
       "      <td>NaN</td>\n",
       "      <td>NaN</td>\n",
       "      <td>NaN</td>\n",
       "      <td>NaN</td>\n",
       "      <td>NaN</td>\n",
       "      <td>NaN</td>\n",
       "    </tr>\n",
       "  </tbody>\n",
       "</table>\n",
       "<p>5 rows × 230 columns</p>\n",
       "</div>"
      ],
      "text/plain": [
       "     STNAM  FIPST    LEAID ST_LEAID             LEANM DATE_CUR  \\\n",
       "0  ALABAMA      1  0100005   AL-101  Albertville City  12APR18   \n",
       "1  ALABAMA      1  0100006   AL-048   Marshall County  12APR18   \n",
       "2  ALABAMA      1  0100007   AL-158       Hoover City  12APR18   \n",
       "3  ALABAMA      1  0100008   AL-169      Madison City  12APR18   \n",
       "4  ALABAMA      1  0100011   AL-167        Leeds City  12APR18   \n",
       "\n",
       "   ALL_MTH00NUMVALID_1617 ALL_MTH00PCTPROF_1617 MAM_MTH00NUMVALID_1617  \\\n",
       "0                    2837                    35                      3   \n",
       "1                    2979                    42                     11   \n",
       "2                    7465                    67                      8   \n",
       "3                    5599                    74                     34   \n",
       "4                    1003                    37                      3   \n",
       "\n",
       "  MAM_MTH00PCTPROF_1617  ... MIG_MTH05NUMVALID_1617 MIG_MTH05PCTPROF_1617  \\\n",
       "0                    PS  ...                     26                  LE20   \n",
       "1                  LT50  ...                      5                    PS   \n",
       "2                  GE50  ...                    NaN                   NaN   \n",
       "3                 70-79  ...                    NaN                   NaN   \n",
       "4                    PS  ...                    NaN                   NaN   \n",
       "\n",
       "  MIG_MTH06NUMVALID_1617 MIG_MTH06PCTPROF_1617 MIG_MTH07NUMVALID_1617  \\\n",
       "0                     25                 21-39                     23   \n",
       "1                      5                    PS                      1   \n",
       "2                    NaN                   NaN                    NaN   \n",
       "3                    NaN                   NaN                    NaN   \n",
       "4                    NaN                   NaN                    NaN   \n",
       "\n",
       "  MIG_MTH07PCTPROF_1617 MIG_MTH08NUMVALID_1617 MIG_MTH08PCTPROF_1617  \\\n",
       "0                  LE20                     16                  LE20   \n",
       "1                    PS                      4                    PS   \n",
       "2                   NaN                    NaN                   NaN   \n",
       "3                   NaN                    NaN                   NaN   \n",
       "4                   NaN                    NaN                   NaN   \n",
       "\n",
       "  MIG_MTHHSNUMVALID_1617 MIG_MTHHSPCTPROF_1617  \n",
       "0                     20                  LE20  \n",
       "1                      3                    PS  \n",
       "2                    NaN                   NaN  \n",
       "3                    NaN                   NaN  \n",
       "4                    NaN                   NaN  \n",
       "\n",
       "[5 rows x 230 columns]"
      ]
     },
     "execution_count": 187,
     "metadata": {},
     "output_type": "execute_result"
    }
   ],
   "source": [
    "## Prompt for input on customizable datasets\n",
    "subject=input(\"Enter Assessment Subject: 'math' for math OR 'rla' for reading / language arts\")\n",
    "geog=input(\"Enter Detail Level: 'lea' for Local Education Agency OR 'sch' for school\")\n",
    "data_file=input(\"Enter dataset type: 'achievement' for assessment proficiency OR 'participation' for assessment participation OR 'acgr' for Adjusted Cohort Graduation Rate\")\n",
    "school_year=input(\"Enter academic year as: YYYY-YY\")\n",
    "\n",
    "## Insert input specifications into URL to get from website\n",
    "math_2017 = pd.read_csv('https://www2.ed.gov/about/inits/ed/edfacts/data-files/{subject}-{data_file}-{geog}-sy{school_year}.csv'\n",
    "                 .format(subject=subject, data_file=data_file,  geog=geog, school_year=school_year),\n",
    "                 low_memory=False)\n",
    "\n",
    "## Convert the LEAID column to strings in order to manipulate for merging\n",
    "math_2017['LEAID'] = math_2017['LEAID'].astype(str)\n",
    "\n",
    "## Based on reading documentation, remove leading information from LEAID\n",
    "## Ensure that LEAID has 7 digits to facilitate merging later\n",
    "math_2017['LEAID'] = math_2017['LEAID'].str.lstrip('9700000US').str.zfill(7)\n",
    "\n",
    "## Save the file to the data folder with the appropriate name\n",
    "math_2017.to_pickle('../data/education/{subject}_{data_file}_{school_year}.pkl'.format(subject=subject, data_file=data_file, school_year=school_year))\n",
    "\n",
    "##Preview Data\n",
    "math_2017.head()"
   ]
  },
  {
   "cell_type": "markdown",
   "metadata": {},
   "source": [
    "#### Get Reading / Language Arts 2016-17 Data"
   ]
  },
  {
   "cell_type": "code",
   "execution_count": 185,
   "metadata": {},
   "outputs": [
    {
     "name": "stdin",
     "output_type": "stream",
     "text": [
      "Enter Assessment Subject: 'math' for math OR 'rla' for reading / language arts rla\n",
      "Enter Detail Level: 'lea' for Local Education Agency OR 'sch' for school lea\n",
      "Enter dataset type: 'achievement' for assessment proficiency OR 'participation' for assessment participation OR 'acgr' for Adjusted Cohort Graduation Rate achievement\n",
      "Enter academic year as: YYYY-YY 2016-17\n"
     ]
    },
    {
     "data": {
      "text/html": [
       "<div>\n",
       "<style scoped>\n",
       "    .dataframe tbody tr th:only-of-type {\n",
       "        vertical-align: middle;\n",
       "    }\n",
       "\n",
       "    .dataframe tbody tr th {\n",
       "        vertical-align: top;\n",
       "    }\n",
       "\n",
       "    .dataframe thead th {\n",
       "        text-align: right;\n",
       "    }\n",
       "</style>\n",
       "<table border=\"1\" class=\"dataframe\">\n",
       "  <thead>\n",
       "    <tr style=\"text-align: right;\">\n",
       "      <th></th>\n",
       "      <th>STNAM</th>\n",
       "      <th>FIPST</th>\n",
       "      <th>LEAID</th>\n",
       "      <th>ST_LEAID</th>\n",
       "      <th>LEANM</th>\n",
       "      <th>DATE_CUR</th>\n",
       "      <th>ALL_RLA00NUMVALID_1617</th>\n",
       "      <th>ALL_RLA00PCTPROF_1617</th>\n",
       "      <th>MAM_RLA00NUMVALID_1617</th>\n",
       "      <th>MAM_RLA00PCTPROF_1617</th>\n",
       "      <th>...</th>\n",
       "      <th>MIG_RLA05NUMVALID_1617</th>\n",
       "      <th>MIG_RLA05PCTPROF_1617</th>\n",
       "      <th>MIG_RLA06NUMVALID_1617</th>\n",
       "      <th>MIG_RLA06PCTPROF_1617</th>\n",
       "      <th>MIG_RLA07NUMVALID_1617</th>\n",
       "      <th>MIG_RLA07PCTPROF_1617</th>\n",
       "      <th>MIG_RLA08NUMVALID_1617</th>\n",
       "      <th>MIG_RLA08PCTPROF_1617</th>\n",
       "      <th>MIG_RLAHSNUMVALID_1617</th>\n",
       "      <th>MIG_RLAHSPCTPROF_1617</th>\n",
       "    </tr>\n",
       "  </thead>\n",
       "  <tbody>\n",
       "    <tr>\n",
       "      <th>0</th>\n",
       "      <td>ALABAMA</td>\n",
       "      <td>1</td>\n",
       "      <td>0100005</td>\n",
       "      <td>AL-101</td>\n",
       "      <td>Albertville City</td>\n",
       "      <td>12APR18</td>\n",
       "      <td>2797</td>\n",
       "      <td>28</td>\n",
       "      <td>3</td>\n",
       "      <td>PS</td>\n",
       "      <td>...</td>\n",
       "      <td>22</td>\n",
       "      <td>LE20</td>\n",
       "      <td>22</td>\n",
       "      <td>LE20</td>\n",
       "      <td>18</td>\n",
       "      <td>21-39</td>\n",
       "      <td>14</td>\n",
       "      <td>LT50</td>\n",
       "      <td>20</td>\n",
       "      <td>LE20</td>\n",
       "    </tr>\n",
       "    <tr>\n",
       "      <th>1</th>\n",
       "      <td>ALABAMA</td>\n",
       "      <td>1</td>\n",
       "      <td>0100006</td>\n",
       "      <td>AL-048</td>\n",
       "      <td>Marshall County</td>\n",
       "      <td>12APR18</td>\n",
       "      <td>2969</td>\n",
       "      <td>34</td>\n",
       "      <td>11</td>\n",
       "      <td>GE50</td>\n",
       "      <td>...</td>\n",
       "      <td>5</td>\n",
       "      <td>PS</td>\n",
       "      <td>4</td>\n",
       "      <td>PS</td>\n",
       "      <td>1</td>\n",
       "      <td>PS</td>\n",
       "      <td>3</td>\n",
       "      <td>PS</td>\n",
       "      <td>3</td>\n",
       "      <td>PS</td>\n",
       "    </tr>\n",
       "    <tr>\n",
       "      <th>2</th>\n",
       "      <td>ALABAMA</td>\n",
       "      <td>1</td>\n",
       "      <td>0100007</td>\n",
       "      <td>AL-158</td>\n",
       "      <td>Hoover City</td>\n",
       "      <td>12APR18</td>\n",
       "      <td>7421</td>\n",
       "      <td>58</td>\n",
       "      <td>8</td>\n",
       "      <td>LT50</td>\n",
       "      <td>...</td>\n",
       "      <td>NaN</td>\n",
       "      <td>NaN</td>\n",
       "      <td>NaN</td>\n",
       "      <td>NaN</td>\n",
       "      <td>NaN</td>\n",
       "      <td>NaN</td>\n",
       "      <td>NaN</td>\n",
       "      <td>NaN</td>\n",
       "      <td>NaN</td>\n",
       "      <td>NaN</td>\n",
       "    </tr>\n",
       "    <tr>\n",
       "      <th>3</th>\n",
       "      <td>ALABAMA</td>\n",
       "      <td>1</td>\n",
       "      <td>0100008</td>\n",
       "      <td>AL-169</td>\n",
       "      <td>Madison City</td>\n",
       "      <td>12APR18</td>\n",
       "      <td>5578</td>\n",
       "      <td>69</td>\n",
       "      <td>33</td>\n",
       "      <td>60-69</td>\n",
       "      <td>...</td>\n",
       "      <td>NaN</td>\n",
       "      <td>NaN</td>\n",
       "      <td>NaN</td>\n",
       "      <td>NaN</td>\n",
       "      <td>NaN</td>\n",
       "      <td>NaN</td>\n",
       "      <td>NaN</td>\n",
       "      <td>NaN</td>\n",
       "      <td>NaN</td>\n",
       "      <td>NaN</td>\n",
       "    </tr>\n",
       "    <tr>\n",
       "      <th>4</th>\n",
       "      <td>ALABAMA</td>\n",
       "      <td>1</td>\n",
       "      <td>0100011</td>\n",
       "      <td>AL-167</td>\n",
       "      <td>Leeds City</td>\n",
       "      <td>12APR18</td>\n",
       "      <td>997</td>\n",
       "      <td>33</td>\n",
       "      <td>3</td>\n",
       "      <td>PS</td>\n",
       "      <td>...</td>\n",
       "      <td>NaN</td>\n",
       "      <td>NaN</td>\n",
       "      <td>NaN</td>\n",
       "      <td>NaN</td>\n",
       "      <td>NaN</td>\n",
       "      <td>NaN</td>\n",
       "      <td>NaN</td>\n",
       "      <td>NaN</td>\n",
       "      <td>NaN</td>\n",
       "      <td>NaN</td>\n",
       "    </tr>\n",
       "  </tbody>\n",
       "</table>\n",
       "<p>5 rows × 230 columns</p>\n",
       "</div>"
      ],
      "text/plain": [
       "     STNAM  FIPST    LEAID ST_LEAID             LEANM DATE_CUR  \\\n",
       "0  ALABAMA      1  0100005   AL-101  Albertville City  12APR18   \n",
       "1  ALABAMA      1  0100006   AL-048   Marshall County  12APR18   \n",
       "2  ALABAMA      1  0100007   AL-158       Hoover City  12APR18   \n",
       "3  ALABAMA      1  0100008   AL-169      Madison City  12APR18   \n",
       "4  ALABAMA      1  0100011   AL-167        Leeds City  12APR18   \n",
       "\n",
       "   ALL_RLA00NUMVALID_1617 ALL_RLA00PCTPROF_1617 MAM_RLA00NUMVALID_1617  \\\n",
       "0                    2797                    28                      3   \n",
       "1                    2969                    34                     11   \n",
       "2                    7421                    58                      8   \n",
       "3                    5578                    69                     33   \n",
       "4                     997                    33                      3   \n",
       "\n",
       "  MAM_RLA00PCTPROF_1617  ... MIG_RLA05NUMVALID_1617 MIG_RLA05PCTPROF_1617  \\\n",
       "0                    PS  ...                     22                  LE20   \n",
       "1                  GE50  ...                      5                    PS   \n",
       "2                  LT50  ...                    NaN                   NaN   \n",
       "3                 60-69  ...                    NaN                   NaN   \n",
       "4                    PS  ...                    NaN                   NaN   \n",
       "\n",
       "  MIG_RLA06NUMVALID_1617 MIG_RLA06PCTPROF_1617 MIG_RLA07NUMVALID_1617  \\\n",
       "0                     22                  LE20                     18   \n",
       "1                      4                    PS                      1   \n",
       "2                    NaN                   NaN                    NaN   \n",
       "3                    NaN                   NaN                    NaN   \n",
       "4                    NaN                   NaN                    NaN   \n",
       "\n",
       "  MIG_RLA07PCTPROF_1617 MIG_RLA08NUMVALID_1617 MIG_RLA08PCTPROF_1617  \\\n",
       "0                 21-39                     14                  LT50   \n",
       "1                    PS                      3                    PS   \n",
       "2                   NaN                    NaN                   NaN   \n",
       "3                   NaN                    NaN                   NaN   \n",
       "4                   NaN                    NaN                   NaN   \n",
       "\n",
       "  MIG_RLAHSNUMVALID_1617 MIG_RLAHSPCTPROF_1617  \n",
       "0                     20                  LE20  \n",
       "1                      3                    PS  \n",
       "2                    NaN                   NaN  \n",
       "3                    NaN                   NaN  \n",
       "4                    NaN                   NaN  \n",
       "\n",
       "[5 rows x 230 columns]"
      ]
     },
     "execution_count": 185,
     "metadata": {},
     "output_type": "execute_result"
    }
   ],
   "source": [
    "## Prompt for input on customizable datasets\n",
    "subject=input(\"Enter Assessment Subject: 'math' for math OR 'rla' for reading / language arts\")\n",
    "geog=input(\"Enter Detail Level: 'lea' for Local Education Agency OR 'sch' for school\")\n",
    "data_file=input(\"Enter dataset type: 'achievement' for assessment proficiency OR 'participation' for assessment participation OR 'acgr' for Adjusted Cohort Graduation Rate\")\n",
    "school_year=input(\"Enter academic year as: YYYY-YY\")\n",
    "\n",
    "## Insert input specifications into URL to get from website\n",
    "rla_2017 = pd.read_csv('https://www2.ed.gov/about/inits/ed/edfacts/data-files/{subject}-{data_file}-{geog}-sy{school_year}.csv'\n",
    "                 .format(subject=subject, data_file=data_file,  geog=geog, school_year=school_year),\n",
    "                 low_memory=False)\n",
    "\n",
    "## Convert the LEAID column to strings in order to manipulate for merging\n",
    "rla_2017['LEAID'] = rla_2017['LEAID'].astype(str)\n",
    "\n",
    "## Based on reading documentation, remove leading information from LEAID\n",
    "## Ensure that LEAID has 7 digits to facilitate merging later\n",
    "rla_2017['LEAID'] = rla_2017['LEAID'].str.lstrip('9700000US').str.zfill(7)\n",
    "\n",
    "## Save the file to the data folder with the appropriate name\n",
    "rla_2017.to_pickle('../data/education/{subject}_{data_file}_{school_year}.pkl'.format(subject=subject, data_file=data_file, school_year=school_year))\n",
    "\n",
    "##Preview Data\n",
    "rla_2017.head()"
   ]
  },
  {
   "cell_type": "markdown",
   "metadata": {},
   "source": [
    "#### Merge 2016-17 Data"
   ]
  },
  {
   "cell_type": "code",
   "execution_count": 208,
   "metadata": {},
   "outputs": [
    {
     "data": {
      "text/html": [
       "<div>\n",
       "<style scoped>\n",
       "    .dataframe tbody tr th:only-of-type {\n",
       "        vertical-align: middle;\n",
       "    }\n",
       "\n",
       "    .dataframe tbody tr th {\n",
       "        vertical-align: top;\n",
       "    }\n",
       "\n",
       "    .dataframe thead th {\n",
       "        text-align: right;\n",
       "    }\n",
       "</style>\n",
       "<table border=\"1\" class=\"dataframe\">\n",
       "  <thead>\n",
       "    <tr style=\"text-align: right;\">\n",
       "      <th></th>\n",
       "      <th>STNAM_x</th>\n",
       "      <th>FIPST_x</th>\n",
       "      <th>LEAID</th>\n",
       "      <th>ST_LEAID_x</th>\n",
       "      <th>LEANM_x</th>\n",
       "      <th>DATE_CUR_x</th>\n",
       "      <th>ALL_MTH00NUMVALID_1617</th>\n",
       "      <th>ALL_MTH00PCTPROF_1617</th>\n",
       "      <th>MAM_MTH00NUMVALID_1617</th>\n",
       "      <th>MAM_MTH00PCTPROF_1617</th>\n",
       "      <th>...</th>\n",
       "      <th>MIG_RLA05NUMVALID_1617</th>\n",
       "      <th>MIG_RLA05PCTPROF_1617</th>\n",
       "      <th>MIG_RLA06NUMVALID_1617</th>\n",
       "      <th>MIG_RLA06PCTPROF_1617</th>\n",
       "      <th>MIG_RLA07NUMVALID_1617</th>\n",
       "      <th>MIG_RLA07PCTPROF_1617</th>\n",
       "      <th>MIG_RLA08NUMVALID_1617</th>\n",
       "      <th>MIG_RLA08PCTPROF_1617</th>\n",
       "      <th>MIG_RLAHSNUMVALID_1617</th>\n",
       "      <th>MIG_RLAHSPCTPROF_1617</th>\n",
       "    </tr>\n",
       "  </thead>\n",
       "  <tbody>\n",
       "    <tr>\n",
       "      <th>0</th>\n",
       "      <td>ALABAMA</td>\n",
       "      <td>1</td>\n",
       "      <td>0100005</td>\n",
       "      <td>AL-101</td>\n",
       "      <td>Albertville City</td>\n",
       "      <td>12APR18</td>\n",
       "      <td>2837</td>\n",
       "      <td>35</td>\n",
       "      <td>3</td>\n",
       "      <td>PS</td>\n",
       "      <td>...</td>\n",
       "      <td>22</td>\n",
       "      <td>LE20</td>\n",
       "      <td>22</td>\n",
       "      <td>LE20</td>\n",
       "      <td>18</td>\n",
       "      <td>21-39</td>\n",
       "      <td>14</td>\n",
       "      <td>LT50</td>\n",
       "      <td>20</td>\n",
       "      <td>LE20</td>\n",
       "    </tr>\n",
       "    <tr>\n",
       "      <th>1</th>\n",
       "      <td>ALABAMA</td>\n",
       "      <td>1</td>\n",
       "      <td>0100006</td>\n",
       "      <td>AL-048</td>\n",
       "      <td>Marshall County</td>\n",
       "      <td>12APR18</td>\n",
       "      <td>2979</td>\n",
       "      <td>42</td>\n",
       "      <td>11</td>\n",
       "      <td>LT50</td>\n",
       "      <td>...</td>\n",
       "      <td>5</td>\n",
       "      <td>PS</td>\n",
       "      <td>4</td>\n",
       "      <td>PS</td>\n",
       "      <td>1</td>\n",
       "      <td>PS</td>\n",
       "      <td>3</td>\n",
       "      <td>PS</td>\n",
       "      <td>3</td>\n",
       "      <td>PS</td>\n",
       "    </tr>\n",
       "    <tr>\n",
       "      <th>2</th>\n",
       "      <td>ALABAMA</td>\n",
       "      <td>1</td>\n",
       "      <td>0100007</td>\n",
       "      <td>AL-158</td>\n",
       "      <td>Hoover City</td>\n",
       "      <td>12APR18</td>\n",
       "      <td>7465</td>\n",
       "      <td>67</td>\n",
       "      <td>8</td>\n",
       "      <td>GE50</td>\n",
       "      <td>...</td>\n",
       "      <td>NaN</td>\n",
       "      <td>NaN</td>\n",
       "      <td>NaN</td>\n",
       "      <td>NaN</td>\n",
       "      <td>NaN</td>\n",
       "      <td>NaN</td>\n",
       "      <td>NaN</td>\n",
       "      <td>NaN</td>\n",
       "      <td>NaN</td>\n",
       "      <td>NaN</td>\n",
       "    </tr>\n",
       "    <tr>\n",
       "      <th>3</th>\n",
       "      <td>ALABAMA</td>\n",
       "      <td>1</td>\n",
       "      <td>0100008</td>\n",
       "      <td>AL-169</td>\n",
       "      <td>Madison City</td>\n",
       "      <td>12APR18</td>\n",
       "      <td>5599</td>\n",
       "      <td>74</td>\n",
       "      <td>34</td>\n",
       "      <td>70-79</td>\n",
       "      <td>...</td>\n",
       "      <td>NaN</td>\n",
       "      <td>NaN</td>\n",
       "      <td>NaN</td>\n",
       "      <td>NaN</td>\n",
       "      <td>NaN</td>\n",
       "      <td>NaN</td>\n",
       "      <td>NaN</td>\n",
       "      <td>NaN</td>\n",
       "      <td>NaN</td>\n",
       "      <td>NaN</td>\n",
       "    </tr>\n",
       "    <tr>\n",
       "      <th>4</th>\n",
       "      <td>ALABAMA</td>\n",
       "      <td>1</td>\n",
       "      <td>0100011</td>\n",
       "      <td>AL-167</td>\n",
       "      <td>Leeds City</td>\n",
       "      <td>12APR18</td>\n",
       "      <td>1003</td>\n",
       "      <td>37</td>\n",
       "      <td>3</td>\n",
       "      <td>PS</td>\n",
       "      <td>...</td>\n",
       "      <td>NaN</td>\n",
       "      <td>NaN</td>\n",
       "      <td>NaN</td>\n",
       "      <td>NaN</td>\n",
       "      <td>NaN</td>\n",
       "      <td>NaN</td>\n",
       "      <td>NaN</td>\n",
       "      <td>NaN</td>\n",
       "      <td>NaN</td>\n",
       "      <td>NaN</td>\n",
       "    </tr>\n",
       "  </tbody>\n",
       "</table>\n",
       "<p>5 rows × 459 columns</p>\n",
       "</div>"
      ],
      "text/plain": [
       "   STNAM_x  FIPST_x    LEAID ST_LEAID_x           LEANM_x DATE_CUR_x  \\\n",
       "0  ALABAMA        1  0100005     AL-101  Albertville City    12APR18   \n",
       "1  ALABAMA        1  0100006     AL-048   Marshall County    12APR18   \n",
       "2  ALABAMA        1  0100007     AL-158       Hoover City    12APR18   \n",
       "3  ALABAMA        1  0100008     AL-169      Madison City    12APR18   \n",
       "4  ALABAMA        1  0100011     AL-167        Leeds City    12APR18   \n",
       "\n",
       "   ALL_MTH00NUMVALID_1617 ALL_MTH00PCTPROF_1617 MAM_MTH00NUMVALID_1617  \\\n",
       "0                    2837                    35                      3   \n",
       "1                    2979                    42                     11   \n",
       "2                    7465                    67                      8   \n",
       "3                    5599                    74                     34   \n",
       "4                    1003                    37                      3   \n",
       "\n",
       "  MAM_MTH00PCTPROF_1617  ... MIG_RLA05NUMVALID_1617 MIG_RLA05PCTPROF_1617  \\\n",
       "0                    PS  ...                     22                  LE20   \n",
       "1                  LT50  ...                      5                    PS   \n",
       "2                  GE50  ...                    NaN                   NaN   \n",
       "3                 70-79  ...                    NaN                   NaN   \n",
       "4                    PS  ...                    NaN                   NaN   \n",
       "\n",
       "  MIG_RLA06NUMVALID_1617 MIG_RLA06PCTPROF_1617 MIG_RLA07NUMVALID_1617  \\\n",
       "0                     22                  LE20                     18   \n",
       "1                      4                    PS                      1   \n",
       "2                    NaN                   NaN                    NaN   \n",
       "3                    NaN                   NaN                    NaN   \n",
       "4                    NaN                   NaN                    NaN   \n",
       "\n",
       "  MIG_RLA07PCTPROF_1617 MIG_RLA08NUMVALID_1617 MIG_RLA08PCTPROF_1617  \\\n",
       "0                 21-39                     14                  LT50   \n",
       "1                    PS                      3                    PS   \n",
       "2                   NaN                    NaN                   NaN   \n",
       "3                   NaN                    NaN                   NaN   \n",
       "4                   NaN                    NaN                   NaN   \n",
       "\n",
       "  MIG_RLAHSNUMVALID_1617 MIG_RLAHSPCTPROF_1617  \n",
       "0                     20                  LE20  \n",
       "1                      3                    PS  \n",
       "2                    NaN                   NaN  \n",
       "3                    NaN                   NaN  \n",
       "4                    NaN                   NaN  \n",
       "\n",
       "[5 rows x 459 columns]"
      ]
     },
     "execution_count": 208,
     "metadata": {},
     "output_type": "execute_result"
    }
   ],
   "source": [
    "assessments_2017 = math_2017.merge(rla_2017, how='inner', on='LEAID').copy()\n",
    "assessments_2017.head()"
   ]
  },
  {
   "cell_type": "code",
   "execution_count": 231,
   "metadata": {},
   "outputs": [
    {
     "name": "stdout",
     "output_type": "stream",
     "text": [
      "<class 'pandas.core.frame.DataFrame'>\n",
      "Int64Index: 16473 entries, 0 to 16472\n",
      "Data columns (total 4 columns):\n",
      " #   Column                 Non-Null Count  Dtype \n",
      "---  ------                 --------------  ----- \n",
      " 0   STNAM_x                16473 non-null  object\n",
      " 1   LEAID                  16473 non-null  object\n",
      " 2   ALL_MTH00PCTPROF_1617  16473 non-null  object\n",
      " 3   ALL_RLA00PCTPROF_1617  16473 non-null  object\n",
      "dtypes: object(4)\n",
      "memory usage: 643.5+ KB\n"
     ]
    }
   ],
   "source": [
    "all_assessments_2017 = assessments_2017[['STNAM_x','LEAID','ALL_MTH00PCTPROF_1617','ALL_RLA00PCTPROF_1617']]\n",
    "all_assessments_2017.info()"
   ]
  },
  {
   "cell_type": "code",
   "execution_count": 232,
   "metadata": {},
   "outputs": [
    {
     "name": "stdout",
     "output_type": "stream",
     "text": [
      "['NEW MEXICO' 'VIRGINIA']\n",
      "<class 'pandas.core.frame.DataFrame'>\n",
      "Int64Index: 289 entries, 9761 to 15622\n",
      "Data columns (total 4 columns):\n",
      " #   Column                 Non-Null Count  Dtype \n",
      "---  ------                 --------------  ----- \n",
      " 0   STNAM_x                289 non-null    object\n",
      " 1   LEAID                  289 non-null    object\n",
      " 2   ALL_MTH00PCTPROF_1617  289 non-null    object\n",
      " 3   ALL_RLA00PCTPROF_1617  289 non-null    object\n",
      "dtypes: object(4)\n",
      "memory usage: 11.3+ KB\n",
      "None\n"
     ]
    }
   ],
   "source": [
    "## Keep only the observations for Virginia and New Mexico\n",
    "new_assessments_2017 = all_assessments_2017[(all_assessments_2017['STNAM_x'] == 'VIRGINIA') | \n",
    "                                            (all_assessments_2017['STNAM_x']=='NEW MEXICO')]\n",
    "## Check to make sure only Virginia, New Mexico\n",
    "print(new_assessments_2017.STNAM_x.unique())\n",
    "\n",
    "## Confirm data is actually there\n",
    "print(new_assessments_2017.info())"
   ]
  },
  {
   "cell_type": "markdown",
   "metadata": {},
   "source": [
    "#### Append '16-'17 NM and VA data\n",
    "Before proceeding, it must again be noted that the data we're adding is from a previous year."
   ]
  },
  {
   "cell_type": "code",
   "execution_count": 233,
   "metadata": {},
   "outputs": [
    {
     "data": {
      "text/html": [
       "<div>\n",
       "<style scoped>\n",
       "    .dataframe tbody tr th:only-of-type {\n",
       "        vertical-align: middle;\n",
       "    }\n",
       "\n",
       "    .dataframe tbody tr th {\n",
       "        vertical-align: top;\n",
       "    }\n",
       "\n",
       "    .dataframe thead th {\n",
       "        text-align: right;\n",
       "    }\n",
       "</style>\n",
       "<table border=\"1\" class=\"dataframe\">\n",
       "  <thead>\n",
       "    <tr style=\"text-align: right;\">\n",
       "      <th></th>\n",
       "      <th>STNAM_x</th>\n",
       "      <th>LEAID</th>\n",
       "      <th>math_prof</th>\n",
       "      <th>rla_prof</th>\n",
       "    </tr>\n",
       "  </thead>\n",
       "  <tbody>\n",
       "    <tr>\n",
       "      <th>9761</th>\n",
       "      <td>NEW MEXICO</td>\n",
       "      <td>3500001</td>\n",
       "      <td>LE10</td>\n",
       "      <td>11-19</td>\n",
       "    </tr>\n",
       "    <tr>\n",
       "      <th>9762</th>\n",
       "      <td>NEW MEXICO</td>\n",
       "      <td>3500010</td>\n",
       "      <td>29</td>\n",
       "      <td>40</td>\n",
       "    </tr>\n",
       "    <tr>\n",
       "      <th>9763</th>\n",
       "      <td>NEW MEXICO</td>\n",
       "      <td>3500011</td>\n",
       "      <td>PS</td>\n",
       "      <td>PS</td>\n",
       "    </tr>\n",
       "    <tr>\n",
       "      <th>9764</th>\n",
       "      <td>NEW MEXICO</td>\n",
       "      <td>3500013</td>\n",
       "      <td>21-39</td>\n",
       "      <td>40-59</td>\n",
       "    </tr>\n",
       "    <tr>\n",
       "      <th>9765</th>\n",
       "      <td>NEW MEXICO</td>\n",
       "      <td>3500014</td>\n",
       "      <td>25-29</td>\n",
       "      <td>25-29</td>\n",
       "    </tr>\n",
       "  </tbody>\n",
       "</table>\n",
       "</div>"
      ],
      "text/plain": [
       "         STNAM_x    LEAID math_prof rla_prof\n",
       "9761  NEW MEXICO  3500001      LE10    11-19\n",
       "9762  NEW MEXICO  3500010        29       40\n",
       "9763  NEW MEXICO  3500011        PS       PS\n",
       "9764  NEW MEXICO  3500013     21-39    40-59\n",
       "9765  NEW MEXICO  3500014     25-29    25-29"
      ]
     },
     "execution_count": 233,
     "metadata": {},
     "output_type": "execute_result"
    }
   ],
   "source": [
    "## Change column names to match previous datasets\n",
    "new_assessments_2017 = new_assessments_2017.rename(columns={'ALL_MTH00PCTPROF_1617': 'math_prof', 'ALL_RLA00PCTPROF_1617': 'rla_prof'}).copy()\n",
    "new_assessments_2017.head()"
   ]
  },
  {
   "cell_type": "code",
   "execution_count": 242,
   "metadata": {},
   "outputs": [
    {
     "data": {
      "text/html": [
       "<div>\n",
       "<style scoped>\n",
       "    .dataframe tbody tr th:only-of-type {\n",
       "        vertical-align: middle;\n",
       "    }\n",
       "\n",
       "    .dataframe tbody tr th {\n",
       "        vertical-align: top;\n",
       "    }\n",
       "\n",
       "    .dataframe thead th {\n",
       "        text-align: right;\n",
       "    }\n",
       "</style>\n",
       "<table border=\"1\" class=\"dataframe\">\n",
       "  <thead>\n",
       "    <tr style=\"text-align: right;\">\n",
       "      <th></th>\n",
       "      <th>LEAID</th>\n",
       "      <th>math_prof</th>\n",
       "      <th>rla_prof</th>\n",
       "    </tr>\n",
       "  </thead>\n",
       "  <tbody>\n",
       "    <tr>\n",
       "      <th>9762</th>\n",
       "      <td>3500010</td>\n",
       "      <td>29.0</td>\n",
       "      <td>40.0</td>\n",
       "    </tr>\n",
       "    <tr>\n",
       "      <th>9764</th>\n",
       "      <td>3500013</td>\n",
       "      <td>30.0</td>\n",
       "      <td>49.0</td>\n",
       "    </tr>\n",
       "    <tr>\n",
       "      <th>9765</th>\n",
       "      <td>3500014</td>\n",
       "      <td>27.0</td>\n",
       "      <td>27.0</td>\n",
       "    </tr>\n",
       "    <tr>\n",
       "      <th>9766</th>\n",
       "      <td>3500030</td>\n",
       "      <td>27.0</td>\n",
       "      <td>36.0</td>\n",
       "    </tr>\n",
       "    <tr>\n",
       "      <th>9767</th>\n",
       "      <td>3500060</td>\n",
       "      <td>20.0</td>\n",
       "      <td>27.0</td>\n",
       "    </tr>\n",
       "    <tr>\n",
       "      <th>...</th>\n",
       "      <td>...</td>\n",
       "      <td>...</td>\n",
       "      <td>...</td>\n",
       "    </tr>\n",
       "    <tr>\n",
       "      <th>15618</th>\n",
       "      <td>5104020</td>\n",
       "      <td>74.0</td>\n",
       "      <td>83.0</td>\n",
       "    </tr>\n",
       "    <tr>\n",
       "      <th>15619</th>\n",
       "      <td>5104050</td>\n",
       "      <td>67.0</td>\n",
       "      <td>68.0</td>\n",
       "    </tr>\n",
       "    <tr>\n",
       "      <th>15620</th>\n",
       "      <td>5104080</td>\n",
       "      <td>88.0</td>\n",
       "      <td>88.0</td>\n",
       "    </tr>\n",
       "    <tr>\n",
       "      <th>15621</th>\n",
       "      <td>5104110</td>\n",
       "      <td>79.0</td>\n",
       "      <td>83.0</td>\n",
       "    </tr>\n",
       "    <tr>\n",
       "      <th>15622</th>\n",
       "      <td>5104150</td>\n",
       "      <td>81.0</td>\n",
       "      <td>89.0</td>\n",
       "    </tr>\n",
       "  </tbody>\n",
       "</table>\n",
       "<p>270 rows × 3 columns</p>\n",
       "</div>"
      ],
      "text/plain": [
       "         LEAID  math_prof  rla_prof\n",
       "9762   3500010       29.0      40.0\n",
       "9764   3500013       30.0      49.0\n",
       "9765   3500014       27.0      27.0\n",
       "9766   3500030       27.0      36.0\n",
       "9767   3500060       20.0      27.0\n",
       "...        ...        ...       ...\n",
       "15618  5104020       74.0      83.0\n",
       "15619  5104050       67.0      68.0\n",
       "15620  5104080       88.0      88.0\n",
       "15621  5104110       79.0      83.0\n",
       "15622  5104150       81.0      89.0\n",
       "\n",
       "[270 rows x 3 columns]"
      ]
     },
     "execution_count": 242,
     "metadata": {},
     "output_type": "execute_result"
    }
   ],
   "source": [
    "new_assessments_2017.math_prof = new_assessments_2017.math_prof.apply(range_cleaner)\n",
    "new_assessments_2017.rla_prof = new_assessments_2017.rla_prof.apply(range_cleaner)\n",
    "new_assessments_2017.math_prof = new_assessments_2017.math_prof.apply(remove_letters)\n",
    "new_assessments_2017.rla_prof = new_assessments_2017.rla_prof.apply(remove_letters)\n",
    "new_assessments_2017.dropna().drop(columns='STNAM_x')"
   ]
  },
  {
   "cell_type": "markdown",
   "metadata": {},
   "source": [
    "#### Append Geodata to missing NM and VA values"
   ]
  },
  {
   "cell_type": "code",
   "execution_count": 244,
   "metadata": {},
   "outputs": [
    {
     "name": "stdout",
     "output_type": "stream",
     "text": [
      "<class 'geopandas.geodataframe.GeoDataFrame'>\n",
      "Int64Index: 13335 entries, 0 to 10890\n",
      "Data columns (total 19 columns):\n",
      " #   Column      Non-Null Count  Dtype   \n",
      "---  ------      --------------  -----   \n",
      " 0   STATEFP     13335 non-null  object  \n",
      " 1   SCSDLEA     486 non-null    object  \n",
      " 2   LEAID       13335 non-null  object  \n",
      " 3   NAME        13335 non-null  object  \n",
      " 4   LSAD        13335 non-null  object  \n",
      " 5   LOGRADE     13335 non-null  object  \n",
      " 6   HIGRADE     13335 non-null  object  \n",
      " 7   MTFCC       13335 non-null  object  \n",
      " 8   SDTYP       259 non-null    object  \n",
      " 9   FUNCSTAT    13335 non-null  object  \n",
      " 10  ALAND       13335 non-null  float64 \n",
      " 11  AWATER      13335 non-null  float64 \n",
      " 12  INTPTLAT    13335 non-null  object  \n",
      " 13  INTPTLON    13335 non-null  object  \n",
      " 14  GEO_YEAR    13335 non-null  object  \n",
      " 15  SCHOOLYEAR  13335 non-null  object  \n",
      " 16  geometry    13335 non-null  geometry\n",
      " 17  ELSDLEA     1958 non-null   object  \n",
      " 18  UNSDLEA     10891 non-null  object  \n",
      "dtypes: float64(2), geometry(1), object(16)\n",
      "memory usage: 2.0+ MB\n"
     ]
    }
   ],
   "source": [
    "## Combine all school district geodata (unified, secondary, and elementary)\n",
    "all_geo_2018 = pd.concat([geodata_smaller, geodata])\n",
    "all_geo_2018.info()"
   ]
  },
  {
   "cell_type": "code",
   "execution_count": 247,
   "metadata": {},
   "outputs": [
    {
     "name": "stdout",
     "output_type": "stream",
     "text": [
      "<class 'geopandas.geodataframe.GeoDataFrame'>\n",
      "Int64Index: 221 entries, 0 to 220\n",
      "Data columns (total 22 columns):\n",
      " #   Column      Non-Null Count  Dtype   \n",
      "---  ------      --------------  -----   \n",
      " 0   STATEFP     221 non-null    object  \n",
      " 1   SCSDLEA     0 non-null      object  \n",
      " 2   LEAID       221 non-null    object  \n",
      " 3   NAME        221 non-null    object  \n",
      " 4   LSAD        221 non-null    object  \n",
      " 5   LOGRADE     221 non-null    object  \n",
      " 6   HIGRADE     221 non-null    object  \n",
      " 7   MTFCC       221 non-null    object  \n",
      " 8   SDTYP       0 non-null      object  \n",
      " 9   FUNCSTAT    221 non-null    object  \n",
      " 10  ALAND       221 non-null    float64 \n",
      " 11  AWATER      221 non-null    float64 \n",
      " 12  INTPTLAT    221 non-null    object  \n",
      " 13  INTPTLON    221 non-null    object  \n",
      " 14  GEO_YEAR    221 non-null    object  \n",
      " 15  SCHOOLYEAR  221 non-null    object  \n",
      " 16  geometry    221 non-null    geometry\n",
      " 17  ELSDLEA     1 non-null      object  \n",
      " 18  UNSDLEA     220 non-null    object  \n",
      " 19  STNAM_x     221 non-null    object  \n",
      " 20  math_prof   220 non-null    float64 \n",
      " 21  rla_prof    221 non-null    float64 \n",
      "dtypes: float64(4), geometry(1), object(17)\n",
      "memory usage: 39.7+ KB\n"
     ]
    }
   ],
   "source": [
    "## Add geographic data to previously missing New Mexiceo and Virginia data\n",
    "missing_geo_assessments = pd.merge(all_geo_2018, new_assessments_2017, on='LEAID', how='inner')\n",
    "missing_geo_assessments.info()"
   ]
  },
  {
   "cell_type": "code",
   "execution_count": 251,
   "metadata": {},
   "outputs": [
    {
     "data": {
      "text/html": [
       "<div>\n",
       "<style scoped>\n",
       "    .dataframe tbody tr th:only-of-type {\n",
       "        vertical-align: middle;\n",
       "    }\n",
       "\n",
       "    .dataframe tbody tr th {\n",
       "        vertical-align: top;\n",
       "    }\n",
       "\n",
       "    .dataframe thead th {\n",
       "        text-align: right;\n",
       "    }\n",
       "</style>\n",
       "<table border=\"1\" class=\"dataframe\">\n",
       "  <thead>\n",
       "    <tr style=\"text-align: right;\">\n",
       "      <th></th>\n",
       "      <th>STATEFP</th>\n",
       "      <th>SCSDLEA</th>\n",
       "      <th>LEAID</th>\n",
       "      <th>NAME</th>\n",
       "      <th>LSAD</th>\n",
       "      <th>LOGRADE</th>\n",
       "      <th>HIGRADE</th>\n",
       "      <th>MTFCC</th>\n",
       "      <th>SDTYP</th>\n",
       "      <th>FUNCSTAT</th>\n",
       "      <th>...</th>\n",
       "      <th>INTPTLAT</th>\n",
       "      <th>INTPTLON</th>\n",
       "      <th>GEO_YEAR</th>\n",
       "      <th>SCHOOLYEAR</th>\n",
       "      <th>geometry</th>\n",
       "      <th>ELSDLEA</th>\n",
       "      <th>UNSDLEA</th>\n",
       "      <th>STNAM_x</th>\n",
       "      <th>math_prof</th>\n",
       "      <th>rla_prof</th>\n",
       "    </tr>\n",
       "  </thead>\n",
       "  <tbody>\n",
       "    <tr>\n",
       "      <th>0</th>\n",
       "      <td>51</td>\n",
       "      <td>NaN</td>\n",
       "      <td>5102220</td>\n",
       "      <td>Lexington City Public Schools</td>\n",
       "      <td>00</td>\n",
       "      <td>KG</td>\n",
       "      <td>12</td>\n",
       "      <td>G5400</td>\n",
       "      <td>None</td>\n",
       "      <td>E</td>\n",
       "      <td>...</td>\n",
       "      <td>+37.7823316</td>\n",
       "      <td>-079.4443196</td>\n",
       "      <td>2018</td>\n",
       "      <td>2017-2018</td>\n",
       "      <td>POLYGON ((-79.46158 37.78636, -79.45943 37.788...</td>\n",
       "      <td>02220</td>\n",
       "      <td>NaN</td>\n",
       "      <td>VIRGINIA</td>\n",
       "      <td>82.0</td>\n",
       "      <td>86.0</td>\n",
       "    </tr>\n",
       "    <tr>\n",
       "      <th>1</th>\n",
       "      <td>35</td>\n",
       "      <td>NaN</td>\n",
       "      <td>3500001</td>\n",
       "      <td>Vaughn Municipal Schools</td>\n",
       "      <td>00</td>\n",
       "      <td>PK</td>\n",
       "      <td>12</td>\n",
       "      <td>G5420</td>\n",
       "      <td>None</td>\n",
       "      <td>E</td>\n",
       "      <td>...</td>\n",
       "      <td>+34.6242043</td>\n",
       "      <td>-105.3108578</td>\n",
       "      <td>2018</td>\n",
       "      <td>2017-2018</td>\n",
       "      <td>POLYGON ((-105.83903 34.43646, -105.83902 34.4...</td>\n",
       "      <td>NaN</td>\n",
       "      <td>00001</td>\n",
       "      <td>NEW MEXICO</td>\n",
       "      <td>NaN</td>\n",
       "      <td>15.0</td>\n",
       "    </tr>\n",
       "    <tr>\n",
       "      <th>2</th>\n",
       "      <td>35</td>\n",
       "      <td>NaN</td>\n",
       "      <td>3500010</td>\n",
       "      <td>Rio Rancho Public Schools</td>\n",
       "      <td>00</td>\n",
       "      <td>PK</td>\n",
       "      <td>12</td>\n",
       "      <td>G5420</td>\n",
       "      <td>None</td>\n",
       "      <td>E</td>\n",
       "      <td>...</td>\n",
       "      <td>+35.3006590</td>\n",
       "      <td>-106.7347432</td>\n",
       "      <td>2018</td>\n",
       "      <td>2017-2018</td>\n",
       "      <td>POLYGON ((-106.86879 35.32870, -106.86830 35.3...</td>\n",
       "      <td>NaN</td>\n",
       "      <td>00010</td>\n",
       "      <td>NEW MEXICO</td>\n",
       "      <td>29.0</td>\n",
       "      <td>40.0</td>\n",
       "    </tr>\n",
       "    <tr>\n",
       "      <th>3</th>\n",
       "      <td>35</td>\n",
       "      <td>NaN</td>\n",
       "      <td>3500030</td>\n",
       "      <td>Alamogordo Public Schools</td>\n",
       "      <td>00</td>\n",
       "      <td>PK</td>\n",
       "      <td>12</td>\n",
       "      <td>G5420</td>\n",
       "      <td>None</td>\n",
       "      <td>E</td>\n",
       "      <td>...</td>\n",
       "      <td>+32.1736347</td>\n",
       "      <td>-106.3445741</td>\n",
       "      <td>2018</td>\n",
       "      <td>2017-2018</td>\n",
       "      <td>POLYGON ((-106.37739 32.17841, -106.37738 32.1...</td>\n",
       "      <td>NaN</td>\n",
       "      <td>00030</td>\n",
       "      <td>NEW MEXICO</td>\n",
       "      <td>27.0</td>\n",
       "      <td>36.0</td>\n",
       "    </tr>\n",
       "    <tr>\n",
       "      <th>4</th>\n",
       "      <td>35</td>\n",
       "      <td>NaN</td>\n",
       "      <td>3500060</td>\n",
       "      <td>Albuquerque Public Schools</td>\n",
       "      <td>00</td>\n",
       "      <td>PK</td>\n",
       "      <td>12</td>\n",
       "      <td>G5420</td>\n",
       "      <td>None</td>\n",
       "      <td>E</td>\n",
       "      <td>...</td>\n",
       "      <td>+35.0667858</td>\n",
       "      <td>-106.7022189</td>\n",
       "      <td>2018</td>\n",
       "      <td>2017-2018</td>\n",
       "      <td>POLYGON ((-107.19682 35.21946, -107.19676 35.2...</td>\n",
       "      <td>NaN</td>\n",
       "      <td>00060</td>\n",
       "      <td>NEW MEXICO</td>\n",
       "      <td>20.0</td>\n",
       "      <td>27.0</td>\n",
       "    </tr>\n",
       "  </tbody>\n",
       "</table>\n",
       "<p>5 rows × 22 columns</p>\n",
       "</div>"
      ],
      "text/plain": [
       "  STATEFP SCSDLEA    LEAID                           NAME LSAD LOGRADE  \\\n",
       "0      51     NaN  5102220  Lexington City Public Schools   00      KG   \n",
       "1      35     NaN  3500001       Vaughn Municipal Schools   00      PK   \n",
       "2      35     NaN  3500010      Rio Rancho Public Schools   00      PK   \n",
       "3      35     NaN  3500030      Alamogordo Public Schools   00      PK   \n",
       "4      35     NaN  3500060     Albuquerque Public Schools   00      PK   \n",
       "\n",
       "  HIGRADE  MTFCC SDTYP FUNCSTAT  ...     INTPTLAT      INTPTLON GEO_YEAR  \\\n",
       "0      12  G5400  None        E  ...  +37.7823316  -079.4443196     2018   \n",
       "1      12  G5420  None        E  ...  +34.6242043  -105.3108578     2018   \n",
       "2      12  G5420  None        E  ...  +35.3006590  -106.7347432     2018   \n",
       "3      12  G5420  None        E  ...  +32.1736347  -106.3445741     2018   \n",
       "4      12  G5420  None        E  ...  +35.0667858  -106.7022189     2018   \n",
       "\n",
       "  SCHOOLYEAR                                           geometry ELSDLEA  \\\n",
       "0  2017-2018  POLYGON ((-79.46158 37.78636, -79.45943 37.788...   02220   \n",
       "1  2017-2018  POLYGON ((-105.83903 34.43646, -105.83902 34.4...     NaN   \n",
       "2  2017-2018  POLYGON ((-106.86879 35.32870, -106.86830 35.3...     NaN   \n",
       "3  2017-2018  POLYGON ((-106.37739 32.17841, -106.37738 32.1...     NaN   \n",
       "4  2017-2018  POLYGON ((-107.19682 35.21946, -107.19676 35.2...     NaN   \n",
       "\n",
       "  UNSDLEA     STNAM_x math_prof rla_prof  \n",
       "0     NaN    VIRGINIA      82.0     86.0  \n",
       "1   00001  NEW MEXICO       NaN     15.0  \n",
       "2   00010  NEW MEXICO      29.0     40.0  \n",
       "3   00030  NEW MEXICO      27.0     36.0  \n",
       "4   00060  NEW MEXICO      20.0     27.0  \n",
       "\n",
       "[5 rows x 22 columns]"
      ]
     },
     "execution_count": 251,
     "metadata": {},
     "output_type": "execute_result"
    }
   ],
   "source": [
    "## Append NM  & VA assessment/geodata to main dataset\n",
    "completed_geo_assessments_2018 = missing_geo_assessments.append(geo_assessments_2018_all)\n",
    "completed_geo_assessments_2018.head()"
   ]
  },
  {
   "cell_type": "code",
   "execution_count": 252,
   "metadata": {},
   "outputs": [
    {
     "name": "stdout",
     "output_type": "stream",
     "text": [
      "<class 'geopandas.geodataframe.GeoDataFrame'>\n",
      "Int64Index: 12437 entries, 0 to 10210\n",
      "Data columns (total 22 columns):\n",
      " #   Column      Non-Null Count  Dtype   \n",
      "---  ------      --------------  -----   \n",
      " 0   STATEFP     12437 non-null  object  \n",
      " 1   SCSDLEA     322 non-null    object  \n",
      " 2   LEAID       12437 non-null  object  \n",
      " 3   NAME        12437 non-null  object  \n",
      " 4   LSAD        12437 non-null  object  \n",
      " 5   LOGRADE     12437 non-null  object  \n",
      " 6   HIGRADE     12437 non-null  object  \n",
      " 7   MTFCC       12437 non-null  object  \n",
      " 8   SDTYP       136 non-null    object  \n",
      " 9   FUNCSTAT    12437 non-null  object  \n",
      " 10  ALAND       12437 non-null  float64 \n",
      " 11  AWATER      12437 non-null  float64 \n",
      " 12  INTPTLAT    12437 non-null  object  \n",
      " 13  INTPTLON    12437 non-null  object  \n",
      " 14  GEO_YEAR    12437 non-null  object  \n",
      " 15  SCHOOLYEAR  12437 non-null  object  \n",
      " 16  geometry    12437 non-null  geometry\n",
      " 17  ELSDLEA     1684 non-null   object  \n",
      " 18  UNSDLEA     10431 non-null  object  \n",
      " 19  STNAM_x     221 non-null    object  \n",
      " 20  math_prof   12436 non-null  float64 \n",
      " 21  rla_prof    12437 non-null  float64 \n",
      "dtypes: float64(4), geometry(1), object(17)\n",
      "memory usage: 2.2+ MB\n"
     ]
    }
   ],
   "source": [
    "## Preview info to ensure proper merge\n",
    "completed_geo_assessments_2018.info()"
   ]
  },
  {
   "cell_type": "code",
   "execution_count": 278,
   "metadata": {},
   "outputs": [
    {
     "data": {
      "text/plain": [
       "<matplotlib.axes._subplots.AxesSubplot at 0x28a20899e80>"
      ]
     },
     "execution_count": 278,
     "metadata": {},
     "output_type": "execute_result"
    },
    {
     "data": {
      "image/png": "[encoded data removed]",
      "text/plain": [
       "<Figure size 432x288 with 1 Axes>"
      ]
     },
     "metadata": {
      "needs_background": "light"
     },
     "output_type": "display_data"
    }
   ],
   "source": [
    "## Plot Reading / Language Arts proficiency in United States\n",
    "completed_geo_assessments_2018.plot(column='rla_prof');"
   ]
  },
  {
   "cell_type": "code",
   "execution_count": 280,
   "metadata": {},
   "outputs": [
    {
     "data": {
      "text/plain": [
       "<matplotlib.axes._subplots.AxesSubplot at 0x289a539edf0>"
      ]
     },
     "execution_count": 280,
     "metadata": {},
     "output_type": "execute_result"
    },
    {
     "data": {
      "image/png": "[encoded data removed]",
      "text/plain": [
       "<Figure size 432x288 with 1 Axes>"
      ]
     },
     "metadata": {
      "needs_background": "light"
     },
     "output_type": "display_data"
    }
   ],
   "source": [
    "## Plot Math proficiency across US\n",
    "completed_geo_assessments_2018.plot(column='math_prof');"
   ]
  },
  {
   "cell_type": "code",
   "execution_count": 273,
   "metadata": {},
   "outputs": [
    {
     "data": {
      "text/html": [
       "<div>\n",
       "<style scoped>\n",
       "    .dataframe tbody tr th:only-of-type {\n",
       "        vertical-align: middle;\n",
       "    }\n",
       "\n",
       "    .dataframe tbody tr th {\n",
       "        vertical-align: top;\n",
       "    }\n",
       "\n",
       "    .dataframe thead th {\n",
       "        text-align: right;\n",
       "    }\n",
       "</style>\n",
       "<table border=\"1\" class=\"dataframe\">\n",
       "  <thead>\n",
       "    <tr style=\"text-align: right;\">\n",
       "      <th></th>\n",
       "      <th>LEAID</th>\n",
       "      <th>math_prof</th>\n",
       "      <th>rla_prof</th>\n",
       "      <th>STNAM_x</th>\n",
       "    </tr>\n",
       "  </thead>\n",
       "  <tbody>\n",
       "    <tr>\n",
       "      <th>0</th>\n",
       "      <td>0100005</td>\n",
       "      <td>45.0</td>\n",
       "      <td>38.0</td>\n",
       "      <td>NaN</td>\n",
       "    </tr>\n",
       "    <tr>\n",
       "      <th>1</th>\n",
       "      <td>0100006</td>\n",
       "      <td>43.0</td>\n",
       "      <td>36.0</td>\n",
       "      <td>NaN</td>\n",
       "    </tr>\n",
       "    <tr>\n",
       "      <th>2</th>\n",
       "      <td>0100007</td>\n",
       "      <td>70.0</td>\n",
       "      <td>65.0</td>\n",
       "      <td>NaN</td>\n",
       "    </tr>\n",
       "    <tr>\n",
       "      <th>3</th>\n",
       "      <td>0100008</td>\n",
       "      <td>76.0</td>\n",
       "      <td>74.0</td>\n",
       "      <td>NaN</td>\n",
       "    </tr>\n",
       "    <tr>\n",
       "      <th>4</th>\n",
       "      <td>0100011</td>\n",
       "      <td>40.0</td>\n",
       "      <td>41.0</td>\n",
       "      <td>NaN</td>\n",
       "    </tr>\n",
       "    <tr>\n",
       "      <th>...</th>\n",
       "      <td>...</td>\n",
       "      <td>...</td>\n",
       "      <td>...</td>\n",
       "      <td>...</td>\n",
       "    </tr>\n",
       "    <tr>\n",
       "      <th>15618</th>\n",
       "      <td>5104020</td>\n",
       "      <td>74.0</td>\n",
       "      <td>83.0</td>\n",
       "      <td>VIRGINIA</td>\n",
       "    </tr>\n",
       "    <tr>\n",
       "      <th>15619</th>\n",
       "      <td>5104050</td>\n",
       "      <td>67.0</td>\n",
       "      <td>68.0</td>\n",
       "      <td>VIRGINIA</td>\n",
       "    </tr>\n",
       "    <tr>\n",
       "      <th>15620</th>\n",
       "      <td>5104080</td>\n",
       "      <td>88.0</td>\n",
       "      <td>88.0</td>\n",
       "      <td>VIRGINIA</td>\n",
       "    </tr>\n",
       "    <tr>\n",
       "      <th>15621</th>\n",
       "      <td>5104110</td>\n",
       "      <td>79.0</td>\n",
       "      <td>83.0</td>\n",
       "      <td>VIRGINIA</td>\n",
       "    </tr>\n",
       "    <tr>\n",
       "      <th>15622</th>\n",
       "      <td>5104150</td>\n",
       "      <td>81.0</td>\n",
       "      <td>89.0</td>\n",
       "      <td>VIRGINIA</td>\n",
       "    </tr>\n",
       "  </tbody>\n",
       "</table>\n",
       "<p>15442 rows × 4 columns</p>\n",
       "</div>"
      ],
      "text/plain": [
       "         LEAID  math_prof  rla_prof   STNAM_x\n",
       "0      0100005       45.0      38.0       NaN\n",
       "1      0100006       43.0      36.0       NaN\n",
       "2      0100007       70.0      65.0       NaN\n",
       "3      0100008       76.0      74.0       NaN\n",
       "4      0100011       40.0      41.0       NaN\n",
       "...        ...        ...       ...       ...\n",
       "15618  5104020       74.0      83.0  VIRGINIA\n",
       "15619  5104050       67.0      68.0  VIRGINIA\n",
       "15620  5104080       88.0      88.0  VIRGINIA\n",
       "15621  5104110       79.0      83.0  VIRGINIA\n",
       "15622  5104150       81.0      89.0  VIRGINIA\n",
       "\n",
       "[15442 rows x 4 columns]"
      ]
     },
     "execution_count": 273,
     "metadata": {},
     "output_type": "execute_result"
    }
   ],
   "source": [
    "## Append separately educational data\n",
    "new_assessments_2018 = pd.concat([new_assessments_2018, new_assessments_2017]).copy()\n",
    "new_assessments_2018"
   ]
  },
  {
   "cell_type": "code",
   "execution_count": 283,
   "metadata": {},
   "outputs": [
    {
     "name": "stdout",
     "output_type": "stream",
     "text": [
      "<class 'pandas.core.frame.DataFrame'>\n",
      "Index: 15404 entries, 0100005 to 5104150\n",
      "Data columns (total 2 columns):\n",
      " #   Column     Non-Null Count  Dtype  \n",
      "---  ------     --------------  -----  \n",
      " 0   math_prof  15404 non-null  float64\n",
      " 1   rla_prof   15404 non-null  float64\n",
      "dtypes: float64(2)\n",
      "memory usage: 361.0+ KB\n"
     ]
    }
   ],
   "source": [
    "## Drop state names column, empty values, rename index using LEAID\n",
    "COMPLETED_assessments_2018 = new_assessments_2018.drop(columns='STNAM_x').dropna().set_index('LEAID')\n",
    "COMPLETED_assessments_2018.info()"
   ]
  },
  {
   "cell_type": "code",
   "execution_count": 284,
   "metadata": {},
   "outputs": [
    {
     "data": {
      "image/png": "[encoded data removed]",
      "text/plain": [
       "<Figure size 432x288 with 2 Axes>"
      ]
     },
     "metadata": {
      "needs_background": "light"
     },
     "output_type": "display_data"
    }
   ],
   "source": [
    "## Plot distributions\n",
    "COMPLETED_assessments_2018.hist();"
   ]
  },
  {
   "cell_type": "markdown",
   "metadata": {},
   "source": [
    "From here, my goals are:\n",
    "- replace color palette\n",
    "- remove tech objects"
   ]
  },
  {
   "cell_type": "code",
   "execution_count": null,
   "metadata": {},
   "outputs": [],
   "source": []
  }
 ],
 "metadata": {
  "kernelspec": {
   "display_name": "Python 3",
   "language": "python",
   "name": "python3"
  },
  "language_info": {
   "codemirror_mode": {
    "name": "ipython",
    "version": 3
   },
   "file_extension": ".py",
   "mimetype": "text/x-python",
   "name": "python",
   "nbconvert_exporter": "python",
   "pygments_lexer": "ipython3",
   "version": "3.8.5"
  },
  "toc-autonumbering": false,
  "toc-showmarkdowntxt": true,
  "toc-showtags": true
 },
 "nbformat": 4,
 "nbformat_minor": 4
}
