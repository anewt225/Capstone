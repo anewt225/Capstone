{
 "cells": [
  {
   "cell_type": "markdown",
   "metadata": {},
   "source": [
    "# Education EDA\n",
    "This notebook explores educational assessment data provided from NCES. The original datasets were achievement broken down by subject, Local Educational Agency (LEA), and school year. For now, we'll focus on 2017-18.\n",
    "\n",
    "1. [Import Data](#Import-Data)\n",
    "\n",
    "2. [Preview Data and Structure](#Preview-Data)\n",
    "\n",
    "3.  [MATH ASSESSMENT](#Math-Assessment-Data)\n",
    "\n",
    "4. [Reading & Language Arts (RLA) Assessment](#Reading-and-Language-Arts-Assessment)\n",
    "\n",
    "[Census Broadband Dataa](#Census-Broadband-Data)\n",
    "\n",
    "[Census Device Data](#Census-Device-Data)\n",
    "\n",
    "[Geographical Data](#Geographical-Data)\n"
   ]
  },
  {
   "cell_type": "markdown",
   "metadata": {},
   "source": [
    "# Import Data"
   ]
  },
  {
   "cell_type": "code",
   "execution_count": 1,
   "metadata": {},
   "outputs": [],
   "source": [
    "## Import necessary modules\n",
    "import pandas as pd\n",
    "import numpy as np\n",
    "import seaborn as sns\n",
    "import matplotlib.pyplot as plt\n",
    "from itertools import compress"
   ]
  },
  {
   "cell_type": "code",
   "execution_count": 2,
   "metadata": {},
   "outputs": [],
   "source": [
    "## Import 2018 LEA  math data to start\n",
    "math_2018 = pd.read_csv('../data/education/math-achievement-lea-sy2017-18.csv', low_memory=False)"
   ]
  },
  {
   "cell_type": "code",
   "execution_count": 3,
   "metadata": {},
   "outputs": [
    {
     "data": {
      "text/html": [
       "<div>\n",
       "<style scoped>\n",
       "    .dataframe tbody tr th:only-of-type {\n",
       "        vertical-align: middle;\n",
       "    }\n",
       "\n",
       "    .dataframe tbody tr th {\n",
       "        vertical-align: top;\n",
       "    }\n",
       "\n",
       "    .dataframe thead th {\n",
       "        text-align: right;\n",
       "    }\n",
       "</style>\n",
       "<table border=\"1\" class=\"dataframe\">\n",
       "  <thead>\n",
       "    <tr style=\"text-align: right;\">\n",
       "      <th></th>\n",
       "      <th>STNAM</th>\n",
       "      <th>FIPST</th>\n",
       "      <th>LEAID</th>\n",
       "      <th>ST_LEAID</th>\n",
       "      <th>LEANM</th>\n",
       "      <th>DATE_CUR</th>\n",
       "      <th>ALL_MTH00NUMVALID_1718</th>\n",
       "      <th>ALL_MTH00PCTPROF_1718</th>\n",
       "      <th>MAM_MTH00NUMVALID_1718</th>\n",
       "      <th>MAM_MTH00PCTPROF_1718</th>\n",
       "      <th>...</th>\n",
       "      <th>MIL_MTH05NUMVALID_1718</th>\n",
       "      <th>MIL_MTH05PCTPROF_1718</th>\n",
       "      <th>MIL_MTH06NUMVALID_1718</th>\n",
       "      <th>MIL_MTH06PCTPROF_1718</th>\n",
       "      <th>MIL_MTH07NUMVALID_1718</th>\n",
       "      <th>MIL_MTH07PCTPROF_1718</th>\n",
       "      <th>MIL_MTH08NUMVALID_1718</th>\n",
       "      <th>MIL_MTH08PCTPROF_1718</th>\n",
       "      <th>MIL_MTHHSNUMVALID_1718</th>\n",
       "      <th>MIL_MTHHSPCTPROF_1718</th>\n",
       "    </tr>\n",
       "  </thead>\n",
       "  <tbody>\n",
       "    <tr>\n",
       "      <th>0</th>\n",
       "      <td>ALABAMA</td>\n",
       "      <td>1</td>\n",
       "      <td>100005</td>\n",
       "      <td>AL-101</td>\n",
       "      <td>Albertville City</td>\n",
       "      <td>27MAR19</td>\n",
       "      <td>2892</td>\n",
       "      <td>45</td>\n",
       "      <td>5</td>\n",
       "      <td>PS</td>\n",
       "      <td>...</td>\n",
       "      <td>14</td>\n",
       "      <td>LT50</td>\n",
       "      <td>5</td>\n",
       "      <td>PS</td>\n",
       "      <td>11</td>\n",
       "      <td>GE50</td>\n",
       "      <td>14</td>\n",
       "      <td>GE50</td>\n",
       "      <td>10</td>\n",
       "      <td>GE50</td>\n",
       "    </tr>\n",
       "    <tr>\n",
       "      <th>1</th>\n",
       "      <td>ALABAMA</td>\n",
       "      <td>1</td>\n",
       "      <td>100006</td>\n",
       "      <td>AL-048</td>\n",
       "      <td>Marshall County</td>\n",
       "      <td>27MAR19</td>\n",
       "      <td>2987</td>\n",
       "      <td>43</td>\n",
       "      <td>12</td>\n",
       "      <td>GE50</td>\n",
       "      <td>...</td>\n",
       "      <td>1</td>\n",
       "      <td>PS</td>\n",
       "      <td>NaN</td>\n",
       "      <td>NaN</td>\n",
       "      <td>3</td>\n",
       "      <td>PS</td>\n",
       "      <td>2</td>\n",
       "      <td>PS</td>\n",
       "      <td>3</td>\n",
       "      <td>PS</td>\n",
       "    </tr>\n",
       "    <tr>\n",
       "      <th>2</th>\n",
       "      <td>ALABAMA</td>\n",
       "      <td>1</td>\n",
       "      <td>100007</td>\n",
       "      <td>AL-158</td>\n",
       "      <td>Hoover City</td>\n",
       "      <td>27MAR19</td>\n",
       "      <td>7551</td>\n",
       "      <td>70</td>\n",
       "      <td>5</td>\n",
       "      <td>PS</td>\n",
       "      <td>...</td>\n",
       "      <td>12</td>\n",
       "      <td>GE50</td>\n",
       "      <td>8</td>\n",
       "      <td>GE50</td>\n",
       "      <td>6</td>\n",
       "      <td>GE50</td>\n",
       "      <td>12</td>\n",
       "      <td>GE50</td>\n",
       "      <td>20</td>\n",
       "      <td>40-59</td>\n",
       "    </tr>\n",
       "    <tr>\n",
       "      <th>3</th>\n",
       "      <td>ALABAMA</td>\n",
       "      <td>1</td>\n",
       "      <td>100008</td>\n",
       "      <td>AL-169</td>\n",
       "      <td>Madison City</td>\n",
       "      <td>27MAR19</td>\n",
       "      <td>5668</td>\n",
       "      <td>76</td>\n",
       "      <td>47</td>\n",
       "      <td>60-69</td>\n",
       "      <td>...</td>\n",
       "      <td>34</td>\n",
       "      <td>60-69</td>\n",
       "      <td>38</td>\n",
       "      <td>70-79</td>\n",
       "      <td>42</td>\n",
       "      <td>60-69</td>\n",
       "      <td>51</td>\n",
       "      <td>70-79</td>\n",
       "      <td>44</td>\n",
       "      <td>70-79</td>\n",
       "    </tr>\n",
       "    <tr>\n",
       "      <th>4</th>\n",
       "      <td>ALABAMA</td>\n",
       "      <td>1</td>\n",
       "      <td>100011</td>\n",
       "      <td>AL-167</td>\n",
       "      <td>Leeds City</td>\n",
       "      <td>27MAR19</td>\n",
       "      <td>1017</td>\n",
       "      <td>40</td>\n",
       "      <td>2</td>\n",
       "      <td>PS</td>\n",
       "      <td>...</td>\n",
       "      <td>6</td>\n",
       "      <td>LT50</td>\n",
       "      <td>NaN</td>\n",
       "      <td>NaN</td>\n",
       "      <td>2</td>\n",
       "      <td>PS</td>\n",
       "      <td>4</td>\n",
       "      <td>PS</td>\n",
       "      <td>3</td>\n",
       "      <td>PS</td>\n",
       "    </tr>\n",
       "  </tbody>\n",
       "</table>\n",
       "<p>5 rows × 262 columns</p>\n",
       "</div>"
      ],
      "text/plain": [
       "     STNAM  FIPST   LEAID ST_LEAID             LEANM DATE_CUR  \\\n",
       "0  ALABAMA      1  100005   AL-101  Albertville City  27MAR19   \n",
       "1  ALABAMA      1  100006   AL-048   Marshall County  27MAR19   \n",
       "2  ALABAMA      1  100007   AL-158       Hoover City  27MAR19   \n",
       "3  ALABAMA      1  100008   AL-169      Madison City  27MAR19   \n",
       "4  ALABAMA      1  100011   AL-167        Leeds City  27MAR19   \n",
       "\n",
       "   ALL_MTH00NUMVALID_1718 ALL_MTH00PCTPROF_1718 MAM_MTH00NUMVALID_1718  \\\n",
       "0                    2892                    45                      5   \n",
       "1                    2987                    43                     12   \n",
       "2                    7551                    70                      5   \n",
       "3                    5668                    76                     47   \n",
       "4                    1017                    40                      2   \n",
       "\n",
       "  MAM_MTH00PCTPROF_1718  ... MIL_MTH05NUMVALID_1718 MIL_MTH05PCTPROF_1718  \\\n",
       "0                    PS  ...                     14                  LT50   \n",
       "1                  GE50  ...                      1                    PS   \n",
       "2                    PS  ...                     12                  GE50   \n",
       "3                 60-69  ...                     34                 60-69   \n",
       "4                    PS  ...                      6                  LT50   \n",
       "\n",
       "  MIL_MTH06NUMVALID_1718 MIL_MTH06PCTPROF_1718 MIL_MTH07NUMVALID_1718  \\\n",
       "0                      5                    PS                     11   \n",
       "1                    NaN                   NaN                      3   \n",
       "2                      8                  GE50                      6   \n",
       "3                     38                 70-79                     42   \n",
       "4                    NaN                   NaN                      2   \n",
       "\n",
       "  MIL_MTH07PCTPROF_1718 MIL_MTH08NUMVALID_1718 MIL_MTH08PCTPROF_1718  \\\n",
       "0                  GE50                     14                  GE50   \n",
       "1                    PS                      2                    PS   \n",
       "2                  GE50                     12                  GE50   \n",
       "3                 60-69                     51                 70-79   \n",
       "4                    PS                      4                    PS   \n",
       "\n",
       "  MIL_MTHHSNUMVALID_1718 MIL_MTHHSPCTPROF_1718  \n",
       "0                     10                  GE50  \n",
       "1                      3                    PS  \n",
       "2                     20                 40-59  \n",
       "3                     44                 70-79  \n",
       "4                      3                    PS  \n",
       "\n",
       "[5 rows x 262 columns]"
      ]
     },
     "execution_count": 3,
     "metadata": {},
     "output_type": "execute_result"
    }
   ],
   "source": [
    "## Preview dataset first 5\n",
    "math_2018.head()"
   ]
  },
  {
   "cell_type": "code",
   "execution_count": 4,
   "metadata": {},
   "outputs": [
    {
     "data": {
      "text/plain": [
       "(15984, 262)"
      ]
     },
     "execution_count": 4,
     "metadata": {},
     "output_type": "execute_result"
    }
   ],
   "source": [
    "math_2018.shape"
   ]
  },
  {
   "cell_type": "markdown",
   "metadata": {},
   "source": [
    "#### Rows\n",
    "There are almost 16,000 rows here. They appear to be unique observations for each Local Education Agency (LEA), but let's confirm:"
   ]
  },
  {
   "cell_type": "code",
   "execution_count": 5,
   "metadata": {},
   "outputs": [
    {
     "data": {
      "text/plain": [
       "True"
      ]
     },
     "execution_count": 5,
     "metadata": {},
     "output_type": "execute_result"
    }
   ],
   "source": [
    "## Ensure that LEAID is a unique value for each observation\n",
    "math_2018['LEAID'].nunique() == math_2018.shape[0]\n",
    "## Returns True if all values are unique"
   ]
  },
  {
   "cell_type": "markdown",
   "metadata": {},
   "source": [
    "Great. Since the unique number of LEAIDs (15984) matches the total number of observations for the dataset, we know that it is a unique value. We can use this value as our index later."
   ]
  },
  {
   "cell_type": "markdown",
   "metadata": {},
   "source": [
    "#### Columns\n",
    "To preview what's in them better, we'll look at just the columns to see if we can eliminate redundancies/noise.\n",
    "\n",
    "The first set of columns contains identifying data:\n",
    "- STNAME - State Name\n",
    "- FIPST - ANSI 2-digit code for state\n",
    "- LEAID - NCES-assigned District ID\n",
    "- ST_LEAID - State-assigned District ID\n",
    "- LEANM - District Name\n",
    "- DATE_CUR - Date of data snapshot\n",
    "\n",
    "And the rest contain various groupings of the data for each observation (LEA) in the following format:\n",
    "- \\[SUBGROUP\\]_\\[SUBJECT\\]\\[GRADE\\]\\[METRIC\\]_\\[SCHOOLYEAR\\]\n",
    "\n",
    "Reading the [documentation]('..\\data\\education\\education_documentation_2018.docx) provides an overview of those columns, along with their corresponding meanings:"
   ]
  },
  {
   "cell_type": "markdown",
   "metadata": {},
   "source": [
    "- **Subgroups** - Major Racial and Ethnic Groups / Special Populations\n",
    "    - ALL - All Students in the school\n",
    "    - Racial Subgroups (begin with M):\n",
    "        - MAM American Indian/Alaska Native\n",
    "        - MAS Asian/Pacific Islander\n",
    "        - MHI Hispanic\n",
    "        - MBL Black\n",
    "        - MWH White\n",
    "        - MTR Two or More Races\n",
    "    - Special Population Subgroups:\n",
    "        - CWD Children with disabilities\n",
    "        - ECD Economically disadvantaged\n",
    "        - LEP Limited English proficiency\n",
    "        - HOM Homeless\n",
    "        - MIG Migrant\n",
    "        - FCS Foster Care Status\n",
    "        - MIL Military Connected (new for '17-'18)\n",
    "        \n",
    "- **Subject** - Specific to each file.\n",
    "    - Math (MTH) or Reading/Language Arts (RLA)\n",
    "    \n",
    "- **Grade** \n",
    "    - 00 - aggregated across all grades\n",
    "    - 03-08 - Grades 3-8\n",
    "    - HS - High School\n",
    "    \n",
    "- **Metric**\n",
    "    - numvalid - # of students who completed assessment proficient\n",
    "    - pctprof - % of students proficient or higher\n",
    "    \n",
    "- **School Year**\n",
    "    - Limited to 2017-18 in this case\n",
    "    - May be able to add additional years later for better understanding\n",
    "    \n",
    "So, for example, the column labeled \"**MBL_MTH08PCTPROF_1718**\" describes: \n",
    "- in 2017-18 **\\[1718\\]**,\n",
    "- for Black students **\\[MBL\\]** \n",
    "- studying Math **\\[MTH\\]**\n",
    "- in the Eighth grade **\\[08\\]**, \n",
    "- what Percentage were deemed Proficient **\\[PCTPROF\\]**\n",
    "\n"
   ]
  },
  {
   "cell_type": "markdown",
   "metadata": {},
   "source": [
    "Knowing and observing this breakdown might prove helpful in improving the model later. For now, however, we'll keep only the following columns:\n",
    "- LEAID - as our unique identifier / index. We'll convert this to a 7-digit string for concatenation.\n",
    "- ALL_MTHHSPCTPROF_1718 - as our prediction column.\n",
    "\n",
    "Given the business understanding and limitation to HS students, this makes sense. Since we don't have a total number of students who took the exam, percentage proficient will standardize the number proficient across districts."
   ]
  },
  {
   "cell_type": "markdown",
   "metadata": {},
   "source": [
    "## Math Assessment Data"
   ]
  },
  {
   "cell_type": "code",
   "execution_count": 6,
   "metadata": {},
   "outputs": [],
   "source": [
    "def score_cleaner(score):\n",
    "    score = str(score)\n",
    "    \n",
    "    if \"-\" in score:\n",
    "        x, y = score.split(\"-\")\n",
    "        score = (int(x) + int(y))/ 2\n",
    "        return round(int((score)))\n",
    "    \n",
    "#     elif \"GT\" or \"GE\" in score:\n",
    "#         if \"GT\" in score:\n",
    "#             score = score.strip(\"GT\")\n",
    "#             score = (100 - int(score))/2\n",
    "#             return round(int((score)))\n",
    "\n",
    "#         elif \"GE\" in score:\n",
    "#             score = score.strip(\"GE\")\n",
    "#             score = (100 - int(score))/2\n",
    "#             return round(int((score)))\n",
    "    \n",
    "#     elif \"LT\" or \"LE\" in score:\n",
    "#         if \"LT\" in score:\n",
    "#             score = score.strip(\"LT\")\n",
    "#             score = (0 + int(score))/2\n",
    "#             return round(int((score)))\n",
    "\n",
    "#         elif \"LE\" in score:\n",
    "#             score = score.strip(\"LE\")\n",
    "#             score = (0 + int(score))/2\n",
    "#             return round(int((score)))\n",
    "    else:\n",
    "        return int(score)"
   ]
  },
  {
   "cell_type": "code",
   "execution_count": 8,
   "metadata": {},
   "outputs": [
    {
     "name": "stdout",
     "output_type": "stream",
     "text": [
      "     leaid math_score\n",
      "0  0100005         37\n",
      "1  0100006         43\n",
      "2  0100007         70\n",
      "3  0100008         75\n",
      "4  0100011      50-54\n",
      "<class 'pandas.core.frame.DataFrame'>\n",
      "Int64Index: 12358 entries, 0 to 15983\n",
      "Data columns (total 2 columns):\n",
      " #   Column      Non-Null Count  Dtype \n",
      "---  ------      --------------  ----- \n",
      " 0   leaid       12358 non-null  object\n",
      " 1   math_score  12358 non-null  object\n",
      "dtypes: object(2)\n",
      "memory usage: 289.6+ KB\n",
      "None\n"
     ]
    }
   ],
   "source": [
    "## Create new dataframe with just the two desired columns\n",
    "all_math_2018 = math_2018[['LEAID','ALL_MTHHSPCTPROF_1718']].dropna()\n",
    "all_math_2018.columns = all_math_2018.columns.str.lower()\n",
    "all_math_2018.rename(columns={'all_mthhspctprof_1718': 'math_score'}, inplace=True)\n",
    "all_math_2018.leaid = all_math_2018.leaid.apply(str)\n",
    "all_math_2018.math_score = all_math_2018.math_score.apply(str)\n",
    "all_math_2018.leaid = all_math_2018.leaid.str.zfill(7)\n",
    "all_math_2018 = pd.DataFrame(data=all_math_2018)\n",
    "print(all_math_2018.head())\n",
    "print(all_math_2018.info())"
   ]
  },
  {
   "cell_type": "code",
   "execution_count": 9,
   "metadata": {},
   "outputs": [
    {
     "name": "stdout",
     "output_type": "stream",
     "text": [
      "<class 'pandas.core.frame.DataFrame'>\n",
      "Int64Index: 9044 entries, 0 to 15983\n",
      "Data columns (total 2 columns):\n",
      " #   Column      Non-Null Count  Dtype \n",
      "---  ------      --------------  ----- \n",
      " 0   leaid       9044 non-null   object\n",
      " 1   math_score  9044 non-null   object\n",
      "dtypes: object(2)\n",
      "memory usage: 532.0+ KB\n"
     ]
    }
   ],
   "source": [
    "PS_values = all_math_2018[all_math_2018['math_score'] == \"PS\" ].index\n",
    "period_values = all_math_2018[all_math_2018['math_score'] == \".\" ].index\n",
    "LE_values = all_math_2018[all_math_2018.math_score.str.contains(\"LE\")].index\n",
    "GT_values = all_math_2018[all_math_2018.math_score.str.contains(\"GE\")].index\n",
    "GE_values = all_math_2018[all_math_2018.math_score.str.contains(\"GT\")].index\n",
    "LT_values = all_math_2018[all_math_2018.math_score.str.contains(\"LT\")].index\n",
    "\n",
    "all_math_2018.drop(PS_values, inplace = True)\n",
    "all_math_2018.drop(period_values, inplace = True)\n",
    "all_math_2018.drop(LT_values, inplace = True)\n",
    "all_math_2018.drop(LE_values, inplace = True)\n",
    "all_math_2018.drop(GT_values, inplace = True)\n",
    "all_math_2018.drop(GE_values, inplace = True)\n",
    "all_math_2018.info()"
   ]
  },
  {
   "cell_type": "code",
   "execution_count": 10,
   "metadata": {},
   "outputs": [
    {
     "name": "stdout",
     "output_type": "stream",
     "text": [
      "<class 'pandas.core.frame.DataFrame'>\n",
      "Int64Index: 9044 entries, 0 to 15983\n",
      "Data columns (total 2 columns):\n",
      " #   Column      Non-Null Count  Dtype \n",
      "---  ------      --------------  ----- \n",
      " 0   leaid       9044 non-null   object\n",
      " 1   math_score  9044 non-null   int64 \n",
      "dtypes: int64(1), object(1)\n",
      "memory usage: 532.0+ KB\n"
     ]
    }
   ],
   "source": [
    "all_math_2018.math_score = all_math_2018.math_score.apply(score_cleaner)\n",
    "all_math_2018.info()"
   ]
  },
  {
   "cell_type": "code",
   "execution_count": 11,
   "metadata": {},
   "outputs": [],
   "source": [
    "# all_math_2018.math_score = all_math_2018.loc[~all_math_2018.math_score.str.contains(\"LT\"),:]\n",
    "# all_math_2018.dropna(inplace=True)\n",
    "# all_math_2018.math_score = all_math_2018.loc[~all_math_2018.math_score.str.contains(\"GE\"),:]\n",
    "# all_math_2018.dropna(inplace=True)\n",
    "# all_math_2018.math_score = all_math_2018.loc[~all_math_2018.math_score.str.contains(\"GT\"),:]\n",
    "# all_math_2018.dropna(inplace=True)\n",
    "\n",
    "# all_math_2018.head()"
   ]
  },
  {
   "cell_type": "markdown",
   "metadata": {},
   "source": [
    "This dataset is much cleaner. \n",
    "\n",
    "However, looking closer at the target variable column we have two issues in the target variable column:\n",
    "1. Null values - around 3600\n",
    "2. Datatype - is classified as object\n",
    "\n",
    "Not only is the target variable classified as an object, but looking at the 5th observation, the objects do not appear to be readily convertible to integers, since some of them appear to be ranges. Taking a further look:"
   ]
  },
  {
   "cell_type": "code",
   "execution_count": 12,
   "metadata": {},
   "outputs": [
    {
     "data": {
      "text/plain": [
       "array([37, 43, 70, 75, 52, 42, 73, 47, 27, 72, 32, 57, 24, 62, 58, 53, 12,\n",
       "       18, 46, 40, 38, 17, 77, 22, 35, 39, 34, 44,  7, 82, 31, 50, 41, 55,\n",
       "       45, 91, 61, 33,  5, 30, 15, 25, 69, 23, 49, 64, 54, 84, 51, 74, 67,\n",
       "       16, 28, 92, 21, 36, 65, 66, 56, 48, 60, 59, 20,  6, 87,  8, 29, 10,\n",
       "       26, 63, 68, 71, 19, 13, 14,  9, 86,  4, 11, 81, 78, 79, 83,  2, 76,\n",
       "       80, 90, 95, 88, 85, 96, 89, 93, 97, 94,  3, 98], dtype=int64)"
      ]
     },
     "execution_count": 12,
     "metadata": {},
     "output_type": "execute_result"
    }
   ],
   "source": [
    "all_math_2018['math_score'].unique()"
   ]
  },
  {
   "cell_type": "markdown",
   "metadata": {},
   "source": [
    "Further inspection reveals that \"nan\" values, \".\" values (also described as blank in documentation),  ranges, and strings are complicating the numerical analysis. Referring again to the documentation, these variations were intentionally introduced for student privacy concerns, with the following codes:\n",
    "\n",
    "- GE - Greater than or equal to\n",
    "- LE - Less than or equal to\n",
    "- GT Greater than\n",
    "- LT - Less than\n",
    "- PS - Privacy Suppressed (<5 students)\n",
    "\n",
    "Specifically, as specified in Part 1.5 and Table 2 of the documentation for 2017-18, for schools with less than 300 students, \"As the number of students reported increases, the magnitude of the range decreases\". \n",
    "\n",
    "Given these ranges, we can make a few choices:\n",
    "\n",
    "1. Limit the study to large high schools (300+). \n",
    "    - Benefit: Leaves only whole numbers, enabling integer conversion. \n",
    "    - Benefit: Allows for the possible usage of linear regression since it would be a continuous variable\n",
    "    - Cost: Eliminates the potential for analyzing size as a factor; Unnecessarily eliminates data\n",
    "    \n",
    "\n",
    "2. Bin the score ranges...more options here: \n",
    "    - Smaller scale (e.g., 25-29)\n",
    "    - Medium-scale (e.g., Very High proficiency (>80%), high proficiency (60-80), proficient (40-60), low proficiency (20-40), very low proficiency (0-20)\n",
    "    - Large scale (e.g., >= 50% as proficient)\n",
    "    \n",
    "\n",
    "For now, let's focus on large high schools. In this dataset, this means limiting the observations selected to those with 1 or 2 characters that are not \"PS\":"
   ]
  },
  {
   "cell_type": "code",
   "execution_count": 16,
   "metadata": {},
   "outputs": [
    {
     "data": {
      "text/plain": [
       "array([[<AxesSubplot:title={'center':'math_score'}>]], dtype=object)"
      ]
     },
     "execution_count": 16,
     "metadata": {},
     "output_type": "execute_result"
    },
    {
     "data": {
      "image/png": "[encoded data removed]",
      "text/plain": [
       "<Figure size 432x288 with 1 Axes>"
      ]
     },
     "metadata": {
      "needs_background": "light"
     },
     "output_type": "display_data"
    }
   ],
   "source": [
    "all_math_2018.hist()"
   ]
  },
  {
   "cell_type": "markdown",
   "metadata": {},
   "source": [
    "Unfortunately, using only the schools that hadn't been \"blurred\" will result in too few datapoints. For now, though, let's continue by repeating this procedure for Reading and Language Arts data (RLA)."
   ]
  },
  {
   "cell_type": "markdown",
   "metadata": {},
   "source": [
    "## Reading and Language Arts Assessment"
   ]
  },
  {
   "cell_type": "code",
   "execution_count": 19,
   "metadata": {},
   "outputs": [
    {
     "name": "stdout",
     "output_type": "stream",
     "text": [
      "     leaid rla_score\n",
      "0  0100005        32\n",
      "1  0100006        40\n",
      "2  0100007        69\n",
      "3  0100008        71\n",
      "4  0100011     45-49\n",
      "<class 'pandas.core.frame.DataFrame'>\n",
      "Int64Index: 12487 entries, 0 to 16109\n",
      "Data columns (total 2 columns):\n",
      " #   Column     Non-Null Count  Dtype \n",
      "---  ------     --------------  ----- \n",
      " 0   leaid      12487 non-null  object\n",
      " 1   rla_score  12487 non-null  object\n",
      "dtypes: object(2)\n",
      "memory usage: 292.7+ KB\n",
      "None\n"
     ]
    }
   ],
   "source": [
    "rla_2018 = pd.read_csv('../data/education/rla-achievement-lea-sy2017-18.csv', low_memory=False)\n",
    "\n",
    "## Create new dataframe with just the two desired columns\n",
    "all_rla_2018 = rla_2018[['LEAID','ALL_RLAHSPCTPROF_1718']].dropna()\n",
    "all_rla_2018.columns = all_rla_2018.columns.str.lower()\n",
    "all_rla_2018.rename(columns={'all_rlahspctprof_1718': 'rla_score'}, inplace=True)\n",
    "all_rla_2018.leaid = all_rla_2018.leaid.apply(str)\n",
    "all_rla_2018.rla_score = all_rla_2018.rla_score.apply(str)\n",
    "all_rla_2018.leaid = all_rla_2018.leaid.str.zfill(7)\n",
    "all_rla_2018 = pd.DataFrame(data=all_rla_2018)\n",
    "print(all_rla_2018.head())\n",
    "print(all_rla_2018.info())"
   ]
  },
  {
   "cell_type": "code",
   "execution_count": 20,
   "metadata": {},
   "outputs": [
    {
     "data": {
      "text/html": [
       "<div>\n",
       "<style scoped>\n",
       "    .dataframe tbody tr th:only-of-type {\n",
       "        vertical-align: middle;\n",
       "    }\n",
       "\n",
       "    .dataframe tbody tr th {\n",
       "        vertical-align: top;\n",
       "    }\n",
       "\n",
       "    .dataframe thead th {\n",
       "        text-align: right;\n",
       "    }\n",
       "</style>\n",
       "<table border=\"1\" class=\"dataframe\">\n",
       "  <thead>\n",
       "    <tr style=\"text-align: right;\">\n",
       "      <th></th>\n",
       "      <th>STNAM</th>\n",
       "      <th>FIPST</th>\n",
       "      <th>LEAID</th>\n",
       "      <th>ST_LEAID</th>\n",
       "      <th>LEANM</th>\n",
       "      <th>DATE_CUR</th>\n",
       "      <th>ALL_RLA00NUMVALID_1718</th>\n",
       "      <th>ALL_RLA00PCTPROF_1718</th>\n",
       "      <th>MAM_RLA00NUMVALID_1718</th>\n",
       "      <th>MAM_RLA00PCTPROF_1718</th>\n",
       "      <th>...</th>\n",
       "      <th>MIL_RLA05NUMVALID_1718</th>\n",
       "      <th>MIL_RLA05PCTPROF_1718</th>\n",
       "      <th>MIL_RLA06NUMVALID_1718</th>\n",
       "      <th>MIL_RLA06PCTPROF_1718</th>\n",
       "      <th>MIL_RLA07NUMVALID_1718</th>\n",
       "      <th>MIL_RLA07PCTPROF_1718</th>\n",
       "      <th>MIL_RLA08NUMVALID_1718</th>\n",
       "      <th>MIL_RLA08PCTPROF_1718</th>\n",
       "      <th>MIL_RLAHSNUMVALID_1718</th>\n",
       "      <th>MIL_RLAHSPCTPROF_1718</th>\n",
       "    </tr>\n",
       "  </thead>\n",
       "  <tbody>\n",
       "    <tr>\n",
       "      <th>0</th>\n",
       "      <td>ALABAMA</td>\n",
       "      <td>1</td>\n",
       "      <td>100005</td>\n",
       "      <td>AL-101</td>\n",
       "      <td>Albertville City</td>\n",
       "      <td>27MAR19</td>\n",
       "      <td>2885</td>\n",
       "      <td>38</td>\n",
       "      <td>5</td>\n",
       "      <td>PS</td>\n",
       "      <td>...</td>\n",
       "      <td>14</td>\n",
       "      <td>LT50</td>\n",
       "      <td>5</td>\n",
       "      <td>PS</td>\n",
       "      <td>11</td>\n",
       "      <td>GE50</td>\n",
       "      <td>14</td>\n",
       "      <td>GE50</td>\n",
       "      <td>10</td>\n",
       "      <td>GE50</td>\n",
       "    </tr>\n",
       "    <tr>\n",
       "      <th>1</th>\n",
       "      <td>ALABAMA</td>\n",
       "      <td>1</td>\n",
       "      <td>100006</td>\n",
       "      <td>AL-048</td>\n",
       "      <td>Marshall County</td>\n",
       "      <td>27MAR19</td>\n",
       "      <td>2984</td>\n",
       "      <td>36</td>\n",
       "      <td>12</td>\n",
       "      <td>GE50</td>\n",
       "      <td>...</td>\n",
       "      <td>1</td>\n",
       "      <td>PS</td>\n",
       "      <td>NaN</td>\n",
       "      <td>NaN</td>\n",
       "      <td>3</td>\n",
       "      <td>PS</td>\n",
       "      <td>2</td>\n",
       "      <td>PS</td>\n",
       "      <td>3</td>\n",
       "      <td>PS</td>\n",
       "    </tr>\n",
       "    <tr>\n",
       "      <th>2</th>\n",
       "      <td>ALABAMA</td>\n",
       "      <td>1</td>\n",
       "      <td>100007</td>\n",
       "      <td>AL-158</td>\n",
       "      <td>Hoover City</td>\n",
       "      <td>27MAR19</td>\n",
       "      <td>7522</td>\n",
       "      <td>65</td>\n",
       "      <td>5</td>\n",
       "      <td>PS</td>\n",
       "      <td>...</td>\n",
       "      <td>11</td>\n",
       "      <td>GE50</td>\n",
       "      <td>8</td>\n",
       "      <td>GE50</td>\n",
       "      <td>6</td>\n",
       "      <td>GE50</td>\n",
       "      <td>12</td>\n",
       "      <td>GE50</td>\n",
       "      <td>20</td>\n",
       "      <td>40-59</td>\n",
       "    </tr>\n",
       "    <tr>\n",
       "      <th>3</th>\n",
       "      <td>ALABAMA</td>\n",
       "      <td>1</td>\n",
       "      <td>100008</td>\n",
       "      <td>AL-169</td>\n",
       "      <td>Madison City</td>\n",
       "      <td>27MAR19</td>\n",
       "      <td>5654</td>\n",
       "      <td>74</td>\n",
       "      <td>46</td>\n",
       "      <td>50-59</td>\n",
       "      <td>...</td>\n",
       "      <td>34</td>\n",
       "      <td>80-89</td>\n",
       "      <td>38</td>\n",
       "      <td>70-79</td>\n",
       "      <td>42</td>\n",
       "      <td>70-79</td>\n",
       "      <td>51</td>\n",
       "      <td>70-79</td>\n",
       "      <td>44</td>\n",
       "      <td>60-69</td>\n",
       "    </tr>\n",
       "    <tr>\n",
       "      <th>4</th>\n",
       "      <td>ALABAMA</td>\n",
       "      <td>1</td>\n",
       "      <td>100011</td>\n",
       "      <td>AL-167</td>\n",
       "      <td>Leeds City</td>\n",
       "      <td>27MAR19</td>\n",
       "      <td>1017</td>\n",
       "      <td>41</td>\n",
       "      <td>2</td>\n",
       "      <td>PS</td>\n",
       "      <td>...</td>\n",
       "      <td>6</td>\n",
       "      <td>LT50</td>\n",
       "      <td>NaN</td>\n",
       "      <td>NaN</td>\n",
       "      <td>2</td>\n",
       "      <td>PS</td>\n",
       "      <td>4</td>\n",
       "      <td>PS</td>\n",
       "      <td>3</td>\n",
       "      <td>PS</td>\n",
       "    </tr>\n",
       "  </tbody>\n",
       "</table>\n",
       "<p>5 rows × 262 columns</p>\n",
       "</div>"
      ],
      "text/plain": [
       "     STNAM  FIPST   LEAID ST_LEAID             LEANM DATE_CUR  \\\n",
       "0  ALABAMA      1  100005   AL-101  Albertville City  27MAR19   \n",
       "1  ALABAMA      1  100006   AL-048   Marshall County  27MAR19   \n",
       "2  ALABAMA      1  100007   AL-158       Hoover City  27MAR19   \n",
       "3  ALABAMA      1  100008   AL-169      Madison City  27MAR19   \n",
       "4  ALABAMA      1  100011   AL-167        Leeds City  27MAR19   \n",
       "\n",
       "   ALL_RLA00NUMVALID_1718 ALL_RLA00PCTPROF_1718 MAM_RLA00NUMVALID_1718  \\\n",
       "0                    2885                    38                      5   \n",
       "1                    2984                    36                     12   \n",
       "2                    7522                    65                      5   \n",
       "3                    5654                    74                     46   \n",
       "4                    1017                    41                      2   \n",
       "\n",
       "  MAM_RLA00PCTPROF_1718  ... MIL_RLA05NUMVALID_1718 MIL_RLA05PCTPROF_1718  \\\n",
       "0                    PS  ...                     14                  LT50   \n",
       "1                  GE50  ...                      1                    PS   \n",
       "2                    PS  ...                     11                  GE50   \n",
       "3                 50-59  ...                     34                 80-89   \n",
       "4                    PS  ...                      6                  LT50   \n",
       "\n",
       "  MIL_RLA06NUMVALID_1718 MIL_RLA06PCTPROF_1718 MIL_RLA07NUMVALID_1718  \\\n",
       "0                      5                    PS                     11   \n",
       "1                    NaN                   NaN                      3   \n",
       "2                      8                  GE50                      6   \n",
       "3                     38                 70-79                     42   \n",
       "4                    NaN                   NaN                      2   \n",
       "\n",
       "  MIL_RLA07PCTPROF_1718 MIL_RLA08NUMVALID_1718 MIL_RLA08PCTPROF_1718  \\\n",
       "0                  GE50                     14                  GE50   \n",
       "1                    PS                      2                    PS   \n",
       "2                  GE50                     12                  GE50   \n",
       "3                 70-79                     51                 70-79   \n",
       "4                    PS                      4                    PS   \n",
       "\n",
       "  MIL_RLAHSNUMVALID_1718 MIL_RLAHSPCTPROF_1718  \n",
       "0                     10                  GE50  \n",
       "1                      3                    PS  \n",
       "2                     20                 40-59  \n",
       "3                     44                 60-69  \n",
       "4                      3                    PS  \n",
       "\n",
       "[5 rows x 262 columns]"
      ]
     },
     "execution_count": 20,
     "metadata": {},
     "output_type": "execute_result"
    }
   ],
   "source": [
    "rla_2018.head()"
   ]
  },
  {
   "cell_type": "code",
   "execution_count": 21,
   "metadata": {},
   "outputs": [
    {
     "name": "stdout",
     "output_type": "stream",
     "text": [
      "<class 'pandas.core.frame.DataFrame'>\n",
      "Int64Index: 9655 entries, 0 to 16109\n",
      "Data columns (total 2 columns):\n",
      " #   Column     Non-Null Count  Dtype \n",
      "---  ------     --------------  ----- \n",
      " 0   leaid      9655 non-null   object\n",
      " 1   rla_score  9655 non-null   object\n",
      "dtypes: object(2)\n",
      "memory usage: 546.3+ KB\n"
     ]
    }
   ],
   "source": [
    "PS_values = all_rla_2018[all_rla_2018['rla_score'] == \"PS\" ].index\n",
    "period_values = all_rla_2018[all_rla_2018['rla_score'] == \".\" ].index\n",
    "LE_values = all_rla_2018[all_rla_2018.rla_score.str.contains(\"LE\")].index\n",
    "GT_values = all_rla_2018[all_rla_2018.rla_score.str.contains(\"GE\")].index\n",
    "GE_values = all_rla_2018[all_rla_2018.rla_score.str.contains(\"GT\")].index\n",
    "LT_values = all_rla_2018[all_rla_2018.rla_score.str.contains(\"LT\")].index\n",
    "\n",
    "all_rla_2018.drop(PS_values, inplace = True)\n",
    "all_rla_2018.drop(period_values, inplace = True)\n",
    "all_rla_2018.drop(LT_values, inplace = True)\n",
    "all_rla_2018.drop(LE_values, inplace = True)\n",
    "all_rla_2018.drop(GT_values, inplace = True)\n",
    "all_rla_2018.drop(GE_values, inplace = True)\n",
    "all_rla_2018.info()"
   ]
  },
  {
   "cell_type": "code",
   "execution_count": 22,
   "metadata": {},
   "outputs": [
    {
     "name": "stdout",
     "output_type": "stream",
     "text": [
      "<class 'pandas.core.frame.DataFrame'>\n",
      "Int64Index: 9655 entries, 0 to 16109\n",
      "Data columns (total 2 columns):\n",
      " #   Column     Non-Null Count  Dtype \n",
      "---  ------     --------------  ----- \n",
      " 0   leaid      9655 non-null   object\n",
      " 1   rla_score  9655 non-null   int64 \n",
      "dtypes: int64(1), object(1)\n",
      "memory usage: 546.3+ KB\n"
     ]
    }
   ],
   "source": [
    "all_rla_2018.rla_score = all_rla_2018.rla_score.apply(score_cleaner)\n",
    "all_rla_2018.info()"
   ]
  },
  {
   "cell_type": "code",
   "execution_count": 28,
   "metadata": {},
   "outputs": [
    {
     "data": {
      "text/html": [
       "<div>\n",
       "<style scoped>\n",
       "    .dataframe tbody tr th:only-of-type {\n",
       "        vertical-align: middle;\n",
       "    }\n",
       "\n",
       "    .dataframe tbody tr th {\n",
       "        vertical-align: top;\n",
       "    }\n",
       "\n",
       "    .dataframe thead th {\n",
       "        text-align: right;\n",
       "    }\n",
       "</style>\n",
       "<table border=\"1\" class=\"dataframe\">\n",
       "  <thead>\n",
       "    <tr style=\"text-align: right;\">\n",
       "      <th></th>\n",
       "      <th>leaid</th>\n",
       "      <th>rla_score</th>\n",
       "    </tr>\n",
       "  </thead>\n",
       "  <tbody>\n",
       "    <tr>\n",
       "      <th>0</th>\n",
       "      <td>0100005</td>\n",
       "      <td>32</td>\n",
       "    </tr>\n",
       "    <tr>\n",
       "      <th>1</th>\n",
       "      <td>0100006</td>\n",
       "      <td>40</td>\n",
       "    </tr>\n",
       "    <tr>\n",
       "      <th>2</th>\n",
       "      <td>0100007</td>\n",
       "      <td>69</td>\n",
       "    </tr>\n",
       "    <tr>\n",
       "      <th>3</th>\n",
       "      <td>0100008</td>\n",
       "      <td>71</td>\n",
       "    </tr>\n",
       "    <tr>\n",
       "      <th>4</th>\n",
       "      <td>0100011</td>\n",
       "      <td>47</td>\n",
       "    </tr>\n",
       "  </tbody>\n",
       "</table>\n",
       "</div>"
      ],
      "text/plain": [
       "     leaid  rla_score\n",
       "0  0100005         32\n",
       "1  0100006         40\n",
       "2  0100007         69\n",
       "3  0100008         71\n",
       "4  0100011         47"
      ]
     },
     "execution_count": 28,
     "metadata": {},
     "output_type": "execute_result"
    }
   ],
   "source": [
    "all_rla_2018.head()"
   ]
  },
  {
   "cell_type": "code",
   "execution_count": 39,
   "metadata": {},
   "outputs": [
    {
     "data": {
      "text/plain": [
       "<bound method DataFrame.info of         leaid  rla_score  math_score  year\n",
       "0     0100005         32          37  2018\n",
       "1     0100006         40          43  2018\n",
       "2     0100007         69          70  2018\n",
       "3     0100008         71          75  2018\n",
       "4     0100011         47          52  2018\n",
       "...       ...        ...         ...   ...\n",
       "8696  5605762         52          40  2018\n",
       "8697  5605820         49          49  2018\n",
       "8698  5605830         60          58  2018\n",
       "8699  5606090         44          44  2018\n",
       "8700  5606240         62          47  2018\n",
       "\n",
       "[8701 rows x 4 columns]>"
      ]
     },
     "execution_count": 39,
     "metadata": {},
     "output_type": "execute_result"
    }
   ],
   "source": [
    "hs_assessments_2018 = pd.merge(all_rla_2018, all_math_2018, how='inner', on='leaid').dropna()\n",
    "hs_assessments_2018['year'] = 2018\n",
    "hs_assessments_2018.info"
   ]
  },
  {
   "cell_type": "code",
   "execution_count": 40,
   "metadata": {},
   "outputs": [],
   "source": [
    "hs_assessments_2018.to_pickle('../data/education/hs_assessments_2018.pkl')"
   ]
  },
  {
   "cell_type": "code",
   "execution_count": 26,
   "metadata": {},
   "outputs": [
    {
     "data": {
      "image/png": "[encoded data removed]",
      "text/plain": [
       "<Figure size 360x360 with 6 Axes>"
      ]
     },
     "metadata": {
      "needs_background": "light"
     },
     "output_type": "display_data"
    }
   ],
   "source": [
    "sns.pairplot(assessments_2018, vars=['math_score', 'rla_score'], kind='reg', diag_kind='kde');"
   ]
  },
  {
   "cell_type": "markdown",
   "metadata": {},
   "source": [
    "As is probably expected, there is a definite correlation between Reading/Language Arts Scores and Math Scores for the limited dataset we're observing. It should be noted that the math score distribution skews slightly to the left. The RLA score skews to the right. This phenomenon is confirmed in the statistical summary which shows us that the mean math score is 45% and the mean reading/language arts score is 55%."
   ]
  },
  {
   "cell_type": "markdown",
   "metadata": {},
   "source": [
    "### K-12"
   ]
  },
  {
   "cell_type": "markdown",
   "metadata": {},
   "source": [
    "#### k-12 math"
   ]
  },
  {
   "cell_type": "code",
   "execution_count": 41,
   "metadata": {},
   "outputs": [
    {
     "name": "stdout",
     "output_type": "stream",
     "text": [
      "     leaid math_score\n",
      "0  0100005         45\n",
      "1  0100006         43\n",
      "2  0100007         70\n",
      "3  0100008         76\n",
      "4  0100011         40\n",
      "<class 'pandas.core.frame.DataFrame'>\n",
      "Int64Index: 15984 entries, 0 to 15983\n",
      "Data columns (total 2 columns):\n",
      " #   Column      Non-Null Count  Dtype \n",
      "---  ------      --------------  ----- \n",
      " 0   leaid       15984 non-null  object\n",
      " 1   math_score  15984 non-null  object\n",
      "dtypes: object(2)\n",
      "memory usage: 374.6+ KB\n",
      "None\n"
     ]
    }
   ],
   "source": [
    "whole_math_2018 = math_2018[['LEAID','ALL_MTH00PCTPROF_1718']].dropna()\n",
    "whole_math_2018.columns = whole_math_2018.columns.str.lower()\n",
    "whole_math_2018.rename(columns={'all_mth00pctprof_1718': 'math_score'}, inplace=True)\n",
    "whole_math_2018.leaid = whole_math_2018.leaid.apply(str)\n",
    "whole_math_2018.math_score = whole_math_2018.math_score.apply(str)\n",
    "whole_math_2018.leaid = whole_math_2018.leaid.str.zfill(7)\n",
    "whole_math_2018 = pd.DataFrame(data=whole_math_2018)\n",
    "print(whole_math_2018.head())\n",
    "print(whole_math_2018.info())"
   ]
  },
  {
   "cell_type": "code",
   "execution_count": 42,
   "metadata": {},
   "outputs": [
    {
     "name": "stdout",
     "output_type": "stream",
     "text": [
      "<class 'pandas.core.frame.DataFrame'>\n",
      "Int64Index: 14932 entries, 0 to 15983\n",
      "Data columns (total 2 columns):\n",
      " #   Column      Non-Null Count  Dtype \n",
      "---  ------      --------------  ----- \n",
      " 0   leaid       14932 non-null  object\n",
      " 1   math_score  14932 non-null  object\n",
      "dtypes: object(2)\n",
      "memory usage: 990.0+ KB\n"
     ]
    }
   ],
   "source": [
    "PS_values = whole_math_2018[whole_math_2018['math_score'] == \"PS\" ].index\n",
    "period_values = whole_math_2018[whole_math_2018['math_score'] == \".\" ].index\n",
    "LE_values = whole_math_2018[whole_math_2018.math_score.str.contains(\"LE\")].index\n",
    "GT_values = whole_math_2018[whole_math_2018.math_score.str.contains(\"GE\")].index\n",
    "GE_values = whole_math_2018[whole_math_2018.math_score.str.contains(\"GT\")].index\n",
    "LT_values = whole_math_2018[whole_math_2018.math_score.str.contains(\"LT\")].index\n",
    "\n",
    "whole_math_2018.drop(PS_values, inplace = True)\n",
    "whole_math_2018.drop(period_values, inplace = True)\n",
    "whole_math_2018.drop(LT_values, inplace = True)\n",
    "whole_math_2018.drop(LE_values, inplace = True)\n",
    "whole_math_2018.drop(GT_values, inplace = True)\n",
    "whole_math_2018.drop(GE_values, inplace = True)\n",
    "whole_math_2018.info()"
   ]
  },
  {
   "cell_type": "code",
   "execution_count": 44,
   "metadata": {},
   "outputs": [
    {
     "name": "stdout",
     "output_type": "stream",
     "text": [
      "<class 'pandas.core.frame.DataFrame'>\n",
      "Int64Index: 14932 entries, 0 to 15983\n",
      "Data columns (total 2 columns):\n",
      " #   Column      Non-Null Count  Dtype \n",
      "---  ------      --------------  ----- \n",
      " 0   leaid       14932 non-null  object\n",
      " 1   math_score  14932 non-null  int64 \n",
      "dtypes: int64(1), object(1)\n",
      "memory usage: 990.0+ KB\n"
     ]
    }
   ],
   "source": [
    "whole_math_2018.math_score = whole_math_2018.math_score.apply(score_cleaner)\n",
    "whole_math_2018.info()"
   ]
  },
  {
   "cell_type": "code",
   "execution_count": 45,
   "metadata": {},
   "outputs": [],
   "source": [
    "whole_math_2018.to_pickle('../data/education/whole_math_2018.pkl')"
   ]
  },
  {
   "cell_type": "markdown",
   "metadata": {},
   "source": [
    "#### k-12 rla"
   ]
  },
  {
   "cell_type": "code",
   "execution_count": 33,
   "metadata": {},
   "outputs": [
    {
     "name": "stdout",
     "output_type": "stream",
     "text": [
      "     leaid rla_score\n",
      "0  0100005        38\n",
      "1  0100006        36\n",
      "2  0100007        65\n",
      "3  0100008        74\n",
      "4  0100011        41\n",
      "<class 'pandas.core.frame.DataFrame'>\n",
      "Int64Index: 16110 entries, 0 to 16109\n",
      "Data columns (total 2 columns):\n",
      " #   Column     Non-Null Count  Dtype \n",
      "---  ------     --------------  ----- \n",
      " 0   leaid      16110 non-null  object\n",
      " 1   rla_score  16110 non-null  object\n",
      "dtypes: object(2)\n",
      "memory usage: 377.6+ KB\n",
      "None\n"
     ]
    }
   ],
   "source": [
    "## Create new dataframe with just the two desired columns\n",
    "\n",
    "whole_rla_2018 = rla_2018[['LEAID','ALL_RLA00PCTPROF_1718']].dropna()\n",
    "whole_rla_2018.columns = whole_rla_2018.columns.str.lower()\n",
    "whole_rla_2018.rename(columns={'all_rla00pctprof_1718': 'rla_score'}, inplace=True)\n",
    "whole_rla_2018.leaid = whole_rla_2018.leaid.apply(str)\n",
    "whole_rla_2018.rla_score = whole_rla_2018.rla_score.apply(str)\n",
    "whole_rla_2018.leaid = whole_rla_2018.leaid.str.zfill(7)\n",
    "whole_rla_2018 = pd.DataFrame(data=whole_rla_2018)\n",
    "print(whole_rla_2018.head())\n",
    "print(whole_rla_2018.info())"
   ]
  },
  {
   "cell_type": "code",
   "execution_count": 35,
   "metadata": {},
   "outputs": [
    {
     "name": "stdout",
     "output_type": "stream",
     "text": [
      "<class 'pandas.core.frame.DataFrame'>\n",
      "Int64Index: 15245 entries, 0 to 16109\n",
      "Data columns (total 2 columns):\n",
      " #   Column     Non-Null Count  Dtype \n",
      "---  ------     --------------  ----- \n",
      " 0   leaid      15245 non-null  object\n",
      " 1   rla_score  15245 non-null  object\n",
      "dtypes: object(2)\n",
      "memory usage: 997.3+ KB\n"
     ]
    }
   ],
   "source": [
    "PS_values = whole_rla_2018[whole_rla_2018['rla_score'] == \"PS\" ].index\n",
    "period_values = whole_rla_2018[whole_rla_2018['rla_score'] == \".\" ].index\n",
    "LE_values = whole_rla_2018[whole_rla_2018.rla_score.str.contains(\"LE\")].index\n",
    "GT_values = whole_rla_2018[whole_rla_2018.rla_score.str.contains(\"GE\")].index\n",
    "GE_values = whole_rla_2018[whole_rla_2018.rla_score.str.contains(\"GT\")].index\n",
    "LT_values = whole_rla_2018[whole_rla_2018.rla_score.str.contains(\"LT\")].index\n",
    "\n",
    "whole_rla_2018.drop(PS_values, inplace = True)\n",
    "whole_rla_2018.drop(period_values, inplace = True)\n",
    "whole_rla_2018.drop(LT_values, inplace = True)\n",
    "whole_rla_2018.drop(LE_values, inplace = True)\n",
    "whole_rla_2018.drop(GT_values, inplace = True)\n",
    "whole_rla_2018.drop(GE_values, inplace = True)\n",
    "whole_rla_2018.info()"
   ]
  },
  {
   "cell_type": "code",
   "execution_count": 37,
   "metadata": {},
   "outputs": [
    {
     "name": "stdout",
     "output_type": "stream",
     "text": [
      "<class 'pandas.core.frame.DataFrame'>\n",
      "Int64Index: 15245 entries, 0 to 16109\n",
      "Data columns (total 2 columns):\n",
      " #   Column     Non-Null Count  Dtype \n",
      "---  ------     --------------  ----- \n",
      " 0   leaid      15245 non-null  object\n",
      " 1   rla_score  15245 non-null  int64 \n",
      "dtypes: int64(1), object(1)\n",
      "memory usage: 997.3+ KB\n"
     ]
    }
   ],
   "source": [
    "whole_rla_2018.rla_score = whole_rla_2018.rla_score.apply(score_cleaner)\n",
    "whole_rla_2018.info()"
   ]
  },
  {
   "cell_type": "code",
   "execution_count": 43,
   "metadata": {},
   "outputs": [],
   "source": [
    "whole_rla_2018.to_pickle('../data/education/whole_rla_2018.pkl')"
   ]
  },
  {
   "cell_type": "markdown",
   "metadata": {},
   "source": [
    "#### k-12 combined"
   ]
  },
  {
   "cell_type": "code",
   "execution_count": 46,
   "metadata": {},
   "outputs": [
    {
     "data": {
      "text/plain": [
       "<bound method DataFrame.info of          leaid  rla_score  math_score  year\n",
       "0      0100005         38          45  2018\n",
       "1      0100006         36          43  2018\n",
       "2      0100007         65          70  2018\n",
       "3      0100008         74          76  2018\n",
       "4      0100011         41          40  2018\n",
       "...        ...        ...         ...   ...\n",
       "14869  5605762         57          56  2018\n",
       "14870  5605820         64          64  2018\n",
       "14871  5605830         61          55  2018\n",
       "14872  5606090         52          42  2018\n",
       "14873  5606240         63          57  2018\n",
       "\n",
       "[14874 rows x 4 columns]>"
      ]
     },
     "execution_count": 46,
     "metadata": {},
     "output_type": "execute_result"
    }
   ],
   "source": [
    "combined_assessments_2018 = pd.merge(whole_rla_2018, whole_math_2018, how='inner', on='leaid').dropna()\n",
    "combined_assessments_2018['year'] = 2018\n",
    "combined_assessments_2018.info"
   ]
  },
  {
   "cell_type": "code",
   "execution_count": 47,
   "metadata": {},
   "outputs": [],
   "source": [
    "combined_assessments_2018.to_pickle('../data/education/combined_assessments_2018.pkl')"
   ]
  },
  {
   "cell_type": "markdown",
   "metadata": {},
   "source": [
    "## Census Broadband Data"
   ]
  },
  {
   "cell_type": "markdown",
   "metadata": {},
   "source": [
    "## Census Device Data"
   ]
  },
  {
   "cell_type": "markdown",
   "metadata": {},
   "source": [
    "## Geographical Data"
   ]
  }
 ],
 "metadata": {
  "kernelspec": {
   "display_name": "Python 3",
   "language": "python",
   "name": "python3"
  },
  "language_info": {
   "codemirror_mode": {
    "name": "ipython",
    "version": 3
   },
   "file_extension": ".py",
   "mimetype": "text/x-python",
   "name": "python",
   "nbconvert_exporter": "python",
   "pygments_lexer": "ipython3",
   "version": "3.8.5"
  },
  "toc-autonumbering": true,
  "toc-showtags": true
 },
 "nbformat": 4,
 "nbformat_minor": 4
}
