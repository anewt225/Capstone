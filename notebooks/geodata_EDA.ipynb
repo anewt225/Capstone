{
 "cells": [
  {
   "cell_type": "code",
   "execution_count": 2,
   "metadata": {},
   "outputs": [],
   "source": [
    "## import the necessary tools for data analysis\n",
    "import pandas as pd\n",
    "import numpy as np\n",
    "import matplotlib.pyplot as plt\n",
    "import seaborn as sns"
   ]
  },
  {
   "cell_type": "code",
   "execution_count": 8,
   "metadata": {},
   "outputs": [],
   "source": [
    "# open Census data which is stored in 'sas7bdat' format for SAS\n",
    "grf_18_lea_tract = pd.read_sas('data/geodata/GRF18/grf18_lea_tract.sas7bdat')"
   ]
  },
  {
   "cell_type": "code",
   "execution_count": 9,
   "metadata": {},
   "outputs": [
    {
     "data": {
      "text/html": [
       "<div>\n",
       "<style scoped>\n",
       "    .dataframe tbody tr th:only-of-type {\n",
       "        vertical-align: middle;\n",
       "    }\n",
       "\n",
       "    .dataframe tbody tr th {\n",
       "        vertical-align: top;\n",
       "    }\n",
       "\n",
       "    .dataframe thead th {\n",
       "        text-align: right;\n",
       "    }\n",
       "</style>\n",
       "<table border=\"1\" class=\"dataframe\">\n",
       "  <thead>\n",
       "    <tr style=\"text-align: right;\">\n",
       "      <th></th>\n",
       "      <th>LEAID</th>\n",
       "      <th>NAME_LEA18</th>\n",
       "      <th>TRACT</th>\n",
       "      <th>COUNT</th>\n",
       "      <th>LANDAREA</th>\n",
       "      <th>WATERAREA</th>\n",
       "    </tr>\n",
       "  </thead>\n",
       "  <tbody>\n",
       "    <tr>\n",
       "      <th>0</th>\n",
       "      <td>b'0100001'</td>\n",
       "      <td>b'Fort Rucker School District'</td>\n",
       "      <td>b'01031010300'</td>\n",
       "      <td>2.0</td>\n",
       "      <td>23.428498</td>\n",
       "      <td>0.000000</td>\n",
       "    </tr>\n",
       "    <tr>\n",
       "      <th>1</th>\n",
       "      <td>b'0100001'</td>\n",
       "      <td>b'Fort Rucker School District'</td>\n",
       "      <td>b'01045020000'</td>\n",
       "      <td>2.0</td>\n",
       "      <td>66.508510</td>\n",
       "      <td>1.081745</td>\n",
       "    </tr>\n",
       "    <tr>\n",
       "      <th>2</th>\n",
       "      <td>b'0100003'</td>\n",
       "      <td>b'Maxwell AFB School District'</td>\n",
       "      <td>b'01101000900'</td>\n",
       "      <td>3.0</td>\n",
       "      <td>3.356594</td>\n",
       "      <td>0.143795</td>\n",
       "    </tr>\n",
       "    <tr>\n",
       "      <th>3</th>\n",
       "      <td>b'0100003'</td>\n",
       "      <td>b'Maxwell AFB School District'</td>\n",
       "      <td>b'01101001000'</td>\n",
       "      <td>3.0</td>\n",
       "      <td>0.001526</td>\n",
       "      <td>0.000000</td>\n",
       "    </tr>\n",
       "    <tr>\n",
       "      <th>4</th>\n",
       "      <td>b'0100003'</td>\n",
       "      <td>b'Maxwell AFB School District'</td>\n",
       "      <td>b'01101006000'</td>\n",
       "      <td>3.0</td>\n",
       "      <td>0.003588</td>\n",
       "      <td>0.000000</td>\n",
       "    </tr>\n",
       "  </tbody>\n",
       "</table>\n",
       "</div>"
      ],
      "text/plain": [
       "        LEAID                      NAME_LEA18           TRACT  COUNT  \\\n",
       "0  b'0100001'  b'Fort Rucker School District'  b'01031010300'    2.0   \n",
       "1  b'0100001'  b'Fort Rucker School District'  b'01045020000'    2.0   \n",
       "2  b'0100003'  b'Maxwell AFB School District'  b'01101000900'    3.0   \n",
       "3  b'0100003'  b'Maxwell AFB School District'  b'01101001000'    3.0   \n",
       "4  b'0100003'  b'Maxwell AFB School District'  b'01101006000'    3.0   \n",
       "\n",
       "    LANDAREA  WATERAREA  \n",
       "0  23.428498   0.000000  \n",
       "1  66.508510   1.081745  \n",
       "2   3.356594   0.143795  \n",
       "3   0.001526   0.000000  \n",
       "4   0.003588   0.000000  "
      ]
     },
     "execution_count": 9,
     "metadata": {},
     "output_type": "execute_result"
    }
   ],
   "source": [
    "grf_18_lea_tract.head()"
   ]
  },
  {
   "cell_type": "code",
   "execution_count": 10,
   "metadata": {},
   "outputs": [
    {
     "name": "stdout",
     "output_type": "stream",
     "text": [
      "<class 'pandas.core.frame.DataFrame'>\n",
      "RangeIndex: 113302 entries, 0 to 113301\n",
      "Data columns (total 6 columns):\n",
      " #   Column      Non-Null Count   Dtype  \n",
      "---  ------      --------------   -----  \n",
      " 0   LEAID       113302 non-null  object \n",
      " 1   NAME_LEA18  113302 non-null  object \n",
      " 2   TRACT       113302 non-null  object \n",
      " 3   COUNT       113302 non-null  float64\n",
      " 4   LANDAREA    113302 non-null  float64\n",
      " 5   WATERAREA   113302 non-null  float64\n",
      "dtypes: float64(3), object(3)\n",
      "memory usage: 5.2+ MB\n"
     ]
    }
   ],
   "source": [
    "grf_18_lea_tract.info()"
   ]
  },
  {
   "cell_type": "code",
   "execution_count": 11,
   "metadata": {},
   "outputs": [
    {
     "data": {
      "text/plain": [
       "13314"
      ]
     },
     "execution_count": 11,
     "metadata": {},
     "output_type": "execute_result"
    }
   ],
   "source": [
    "len(grf_18_lea_tract.LEAID.unique())"
   ]
  },
  {
   "cell_type": "code",
   "execution_count": 12,
   "metadata": {},
   "outputs": [
    {
     "data": {
      "text/plain": [
       "74072"
      ]
     },
     "execution_count": 12,
     "metadata": {},
     "output_type": "execute_result"
    }
   ],
   "source": [
    "len(grf_18_lea_tract.TRACT.unique())"
   ]
  },
  {
   "cell_type": "code",
   "execution_count": 14,
   "metadata": {},
   "outputs": [
    {
     "data": {
      "text/plain": [
       "154"
      ]
     },
     "execution_count": 14,
     "metadata": {},
     "output_type": "execute_result"
    }
   ],
   "source": [
    "len(grf_18_lea_tract.COUNT.unique())"
   ]
  }
 ],
 "metadata": {
  "kernelspec": {
   "display_name": "tf2-1",
   "language": "python",
   "name": "tf2-1"
  },
  "language_info": {
   "codemirror_mode": {
    "name": "ipython",
    "version": 3
   },
   "file_extension": ".py",
   "mimetype": "text/x-python",
   "name": "python",
   "nbconvert_exporter": "python",
   "pygments_lexer": "ipython3",
   "version": "3.7.7"
  }
 },
 "nbformat": 4,
 "nbformat_minor": 4
}
