{
 "cells": [
  {
   "cell_type": "code",
   "execution_count": 20,
   "metadata": {},
   "outputs": [],
   "source": [
    "import pandas as pd\n",
    "import numpy as np\n",
    "import matplotlib.pyplot as plt\n",
    "import geopandas as gpd\n",
    "from shapely.geometry import linestring"
   ]
  },
  {
   "cell_type": "code",
   "execution_count": 13,
   "metadata": {},
   "outputs": [],
   "source": [
    "zipfile = \"tl_2019_us_sdu.shp\"\n",
    "states = gpd.read_file(zipfile)"
   ]
  },
  {
   "cell_type": "code",
   "execution_count": 14,
   "metadata": {},
   "outputs": [
    {
     "data": {
      "text/html": [
       "<div>\n",
       "<style scoped>\n",
       "    .dataframe tbody tr th:only-of-type {\n",
       "        vertical-align: middle;\n",
       "    }\n",
       "\n",
       "    .dataframe tbody tr th {\n",
       "        vertical-align: top;\n",
       "    }\n",
       "\n",
       "    .dataframe thead th {\n",
       "        text-align: right;\n",
       "    }\n",
       "</style>\n",
       "<table border=\"1\" class=\"dataframe\">\n",
       "  <thead>\n",
       "    <tr style=\"text-align: right;\">\n",
       "      <th></th>\n",
       "      <th>STATEFP</th>\n",
       "      <th>UNSDLEA</th>\n",
       "      <th>GEOID</th>\n",
       "      <th>NAME</th>\n",
       "      <th>LSAD</th>\n",
       "      <th>LOGRADE</th>\n",
       "      <th>HIGRADE</th>\n",
       "      <th>MTFCC</th>\n",
       "      <th>SDTYP</th>\n",
       "      <th>FUNCSTAT</th>\n",
       "      <th>ALAND</th>\n",
       "      <th>AWATER</th>\n",
       "      <th>INTPTLAT</th>\n",
       "      <th>INTPTLON</th>\n",
       "      <th>GEO_YEAR</th>\n",
       "      <th>SCHOOLYEAR</th>\n",
       "      <th>geometry</th>\n",
       "    </tr>\n",
       "  </thead>\n",
       "  <tbody>\n",
       "    <tr>\n",
       "      <th>0</th>\n",
       "      <td>02</td>\n",
       "      <td>00001</td>\n",
       "      <td>0200001</td>\n",
       "      <td>Lower Kuskokwim School District</td>\n",
       "      <td>00</td>\n",
       "      <td>PK</td>\n",
       "      <td>12</td>\n",
       "      <td>G5420</td>\n",
       "      <td>None</td>\n",
       "      <td>E</td>\n",
       "      <td>5.520808e+10</td>\n",
       "      <td>1.286247e+10</td>\n",
       "      <td>+60.2133219</td>\n",
       "      <td>-163.4349829</td>\n",
       "      <td>2019</td>\n",
       "      <td>2018-2019</td>\n",
       "      <td>MULTIPOLYGON (((-165.94413 61.28196, -165.9069...</td>\n",
       "    </tr>\n",
       "    <tr>\n",
       "      <th>1</th>\n",
       "      <td>02</td>\n",
       "      <td>00003</td>\n",
       "      <td>0200003</td>\n",
       "      <td>Lower Yukon School District</td>\n",
       "      <td>00</td>\n",
       "      <td>PK</td>\n",
       "      <td>12</td>\n",
       "      <td>G5420</td>\n",
       "      <td>None</td>\n",
       "      <td>E</td>\n",
       "      <td>4.559659e+10</td>\n",
       "      <td>5.841221e+09</td>\n",
       "      <td>+62.2835878</td>\n",
       "      <td>-163.1901714</td>\n",
       "      <td>2019</td>\n",
       "      <td>2018-2019</td>\n",
       "      <td>POLYGON ((-166.28643 61.60310, -166.27993 61.6...</td>\n",
       "    </tr>\n",
       "    <tr>\n",
       "      <th>2</th>\n",
       "      <td>02</td>\n",
       "      <td>00004</td>\n",
       "      <td>0200004</td>\n",
       "      <td>Yupiit School District</td>\n",
       "      <td>00</td>\n",
       "      <td>KG</td>\n",
       "      <td>12</td>\n",
       "      <td>G5420</td>\n",
       "      <td>None</td>\n",
       "      <td>E</td>\n",
       "      <td>3.391126e+07</td>\n",
       "      <td>9.276006e+06</td>\n",
       "      <td>+60.8956284</td>\n",
       "      <td>-161.4186234</td>\n",
       "      <td>2019</td>\n",
       "      <td>2018-2019</td>\n",
       "      <td>MULTIPOLYGON (((-160.98419 61.11599, -160.9840...</td>\n",
       "    </tr>\n",
       "    <tr>\n",
       "      <th>3</th>\n",
       "      <td>02</td>\n",
       "      <td>00840</td>\n",
       "      <td>0200840</td>\n",
       "      <td>Yakutat School District</td>\n",
       "      <td>00</td>\n",
       "      <td>PK</td>\n",
       "      <td>12</td>\n",
       "      <td>G5420</td>\n",
       "      <td>None</td>\n",
       "      <td>E</td>\n",
       "      <td>1.974420e+10</td>\n",
       "      <td>3.986129e+09</td>\n",
       "      <td>+60.0174528</td>\n",
       "      <td>-140.4169420</td>\n",
       "      <td>2019</td>\n",
       "      <td>2018-2019</td>\n",
       "      <td>POLYGON ((-143.89333 59.98598, -143.89333 59.9...</td>\n",
       "    </tr>\n",
       "    <tr>\n",
       "      <th>4</th>\n",
       "      <td>02</td>\n",
       "      <td>00005</td>\n",
       "      <td>0200005</td>\n",
       "      <td>Kashunamiut School District</td>\n",
       "      <td>00</td>\n",
       "      <td>PK</td>\n",
       "      <td>12</td>\n",
       "      <td>G5420</td>\n",
       "      <td>None</td>\n",
       "      <td>E</td>\n",
       "      <td>2.961589e+06</td>\n",
       "      <td>0.000000e+00</td>\n",
       "      <td>+61.5295597</td>\n",
       "      <td>-165.5941259</td>\n",
       "      <td>2019</td>\n",
       "      <td>2018-2019</td>\n",
       "      <td>POLYGON ((-165.61100 61.52334, -165.61099 61.5...</td>\n",
       "    </tr>\n",
       "  </tbody>\n",
       "</table>\n",
       "</div>"
      ],
      "text/plain": [
       "  STATEFP UNSDLEA    GEOID                             NAME LSAD LOGRADE  \\\n",
       "0      02   00001  0200001  Lower Kuskokwim School District   00      PK   \n",
       "1      02   00003  0200003      Lower Yukon School District   00      PK   \n",
       "2      02   00004  0200004           Yupiit School District   00      KG   \n",
       "3      02   00840  0200840          Yakutat School District   00      PK   \n",
       "4      02   00005  0200005      Kashunamiut School District   00      PK   \n",
       "\n",
       "  HIGRADE  MTFCC SDTYP FUNCSTAT         ALAND        AWATER     INTPTLAT  \\\n",
       "0      12  G5420  None        E  5.520808e+10  1.286247e+10  +60.2133219   \n",
       "1      12  G5420  None        E  4.559659e+10  5.841221e+09  +62.2835878   \n",
       "2      12  G5420  None        E  3.391126e+07  9.276006e+06  +60.8956284   \n",
       "3      12  G5420  None        E  1.974420e+10  3.986129e+09  +60.0174528   \n",
       "4      12  G5420  None        E  2.961589e+06  0.000000e+00  +61.5295597   \n",
       "\n",
       "       INTPTLON GEO_YEAR SCHOOLYEAR  \\\n",
       "0  -163.4349829     2019  2018-2019   \n",
       "1  -163.1901714     2019  2018-2019   \n",
       "2  -161.4186234     2019  2018-2019   \n",
       "3  -140.4169420     2019  2018-2019   \n",
       "4  -165.5941259     2019  2018-2019   \n",
       "\n",
       "                                            geometry  \n",
       "0  MULTIPOLYGON (((-165.94413 61.28196, -165.9069...  \n",
       "1  POLYGON ((-166.28643 61.60310, -166.27993 61.6...  \n",
       "2  MULTIPOLYGON (((-160.98419 61.11599, -160.9840...  \n",
       "3  POLYGON ((-143.89333 59.98598, -143.89333 59.9...  \n",
       "4  POLYGON ((-165.61100 61.52334, -165.61099 61.5...  "
      ]
     },
     "execution_count": 14,
     "metadata": {},
     "output_type": "execute_result"
    }
   ],
   "source": [
    "states.head()"
   ]
  },
  {
   "cell_type": "code",
   "execution_count": 16,
   "metadata": {},
   "outputs": [
    {
     "name": "stdout",
     "output_type": "stream",
     "text": [
      "Collecting descartes\n",
      "  Downloading descartes-1.1.0-py3-none-any.whl (5.8 kB)\n",
      "Requirement already satisfied: matplotlib in c:\\anaconda3\\envs\\capstone\\lib\\site-packages (from descartes) (3.3.1)\n",
      "Requirement already satisfied: certifi>=2020.06.20 in c:\\anaconda3\\envs\\capstone\\lib\\site-packages (from matplotlib->descartes) (2020.6.20)\n",
      "Requirement already satisfied: python-dateutil>=2.1 in c:\\anaconda3\\envs\\capstone\\lib\\site-packages (from matplotlib->descartes) (2.8.1)\n",
      "Requirement already satisfied: kiwisolver>=1.0.1 in c:\\anaconda3\\envs\\capstone\\lib\\site-packages (from matplotlib->descartes) (1.2.0)\n",
      "Requirement already satisfied: numpy>=1.15 in c:\\anaconda3\\envs\\capstone\\lib\\site-packages (from matplotlib->descartes) (1.19.1)\n",
      "Requirement already satisfied: cycler>=0.10 in c:\\anaconda3\\envs\\capstone\\lib\\site-packages (from matplotlib->descartes) (0.10.0)\n",
      "Requirement already satisfied: pyparsing!=2.0.4,!=2.1.2,!=2.1.6,>=2.0.3 in c:\\anaconda3\\envs\\capstone\\lib\\site-packages (from matplotlib->descartes) (2.4.7)\n",
      "Requirement already satisfied: pillow>=6.2.0 in c:\\anaconda3\\envs\\capstone\\lib\\site-packages (from matplotlib->descartes) (7.2.0)\n",
      "Requirement already satisfied: six>=1.5 in c:\\anaconda3\\envs\\capstone\\lib\\site-packages (from python-dateutil>=2.1->matplotlib->descartes) (1.15.0)\n",
      "Installing collected packages: descartes\n",
      "Successfully installed descartes-1.1.0\n"
     ]
    }
   ],
   "source": [
    "! pip install descartes"
   ]
  },
  {
   "cell_type": "code",
   "execution_count": 21,
   "metadata": {},
   "outputs": [
    {
     "ename": "ImportError",
     "evalue": "The descartes package is required for plotting polygons in geopandas. You can install it using 'conda install -c conda-forge descartes' or 'pip install descartes'.",
     "output_type": "error",
     "traceback": [
      "\u001b[1;31m---------------------------------------------------------------------------\u001b[0m",
      "\u001b[1;31mModuleNotFoundError\u001b[0m                       Traceback (most recent call last)",
      "\u001b[1;32mC:\\Anaconda3\\envs\\tf2-1\\lib\\site-packages\\geopandas\\plotting.py\u001b[0m in \u001b[0;36m_plot_polygon_collection\u001b[1;34m(ax, geoms, values, color, cmap, vmin, vmax, **kwargs)\u001b[0m\n\u001b[0;32m    119\u001b[0m     \u001b[1;32mtry\u001b[0m\u001b[1;33m:\u001b[0m\u001b[1;33m\u001b[0m\u001b[1;33m\u001b[0m\u001b[0m\n\u001b[1;32m--> 120\u001b[1;33m         \u001b[1;32mfrom\u001b[0m \u001b[0mdescartes\u001b[0m\u001b[1;33m.\u001b[0m\u001b[0mpatch\u001b[0m \u001b[1;32mimport\u001b[0m \u001b[0mPolygonPatch\u001b[0m\u001b[1;33m\u001b[0m\u001b[1;33m\u001b[0m\u001b[0m\n\u001b[0m\u001b[0;32m    121\u001b[0m     \u001b[1;32mexcept\u001b[0m \u001b[0mImportError\u001b[0m\u001b[1;33m:\u001b[0m\u001b[1;33m\u001b[0m\u001b[1;33m\u001b[0m\u001b[0m\n",
      "\u001b[1;31mModuleNotFoundError\u001b[0m: No module named 'descartes'",
      "\nDuring handling of the above exception, another exception occurred:\n",
      "\u001b[1;31mImportError\u001b[0m                               Traceback (most recent call last)",
      "\u001b[1;32m<ipython-input-21-aed799f80fdc>\u001b[0m in \u001b[0;36m<module>\u001b[1;34m\u001b[0m\n\u001b[1;32m----> 1\u001b[1;33m \u001b[0mstates\u001b[0m\u001b[1;33m.\u001b[0m\u001b[0mplot\u001b[0m\u001b[1;33m(\u001b[0m\u001b[1;33m)\u001b[0m\u001b[1;33m\u001b[0m\u001b[1;33m\u001b[0m\u001b[0m\n\u001b[0m",
      "\u001b[1;32mC:\\Anaconda3\\envs\\tf2-1\\lib\\site-packages\\geopandas\\geodataframe.py\u001b[0m in \u001b[0;36mplot\u001b[1;34m(self, *args, **kwargs)\u001b[0m\n\u001b[0;32m    919\u001b[0m         \u001b[1;32mfrom\u001b[0m \u001b[0mthere\u001b[0m\u001b[1;33m.\u001b[0m\u001b[1;33m\u001b[0m\u001b[1;33m\u001b[0m\u001b[0m\n\u001b[0;32m    920\u001b[0m         \"\"\"\n\u001b[1;32m--> 921\u001b[1;33m         \u001b[1;32mreturn\u001b[0m \u001b[0mplot_dataframe\u001b[0m\u001b[1;33m(\u001b[0m\u001b[0mself\u001b[0m\u001b[1;33m,\u001b[0m \u001b[1;33m*\u001b[0m\u001b[0margs\u001b[0m\u001b[1;33m,\u001b[0m \u001b[1;33m**\u001b[0m\u001b[0mkwargs\u001b[0m\u001b[1;33m)\u001b[0m\u001b[1;33m\u001b[0m\u001b[1;33m\u001b[0m\u001b[0m\n\u001b[0m\u001b[0;32m    922\u001b[0m \u001b[1;33m\u001b[0m\u001b[0m\n\u001b[0;32m    923\u001b[0m     \u001b[0mplot\u001b[0m\u001b[1;33m.\u001b[0m\u001b[0m__doc__\u001b[0m \u001b[1;33m=\u001b[0m \u001b[0mplot_dataframe\u001b[0m\u001b[1;33m.\u001b[0m\u001b[0m__doc__\u001b[0m\u001b[1;33m\u001b[0m\u001b[1;33m\u001b[0m\u001b[0m\n",
      "\u001b[1;32mC:\\Anaconda3\\envs\\tf2-1\\lib\\site-packages\\geopandas\\plotting.py\u001b[0m in \u001b[0;36mplot_dataframe\u001b[1;34m(df, column, cmap, color, ax, cax, categorical, legend, scheme, k, vmin, vmax, markersize, figsize, legend_kwds, categories, classification_kwds, missing_kwds, aspect, **style_kwds)\u001b[0m\n\u001b[0;32m    621\u001b[0m             \u001b[0mmarkersize\u001b[0m\u001b[1;33m=\u001b[0m\u001b[0mmarkersize\u001b[0m\u001b[1;33m,\u001b[0m\u001b[1;33m\u001b[0m\u001b[1;33m\u001b[0m\u001b[0m\n\u001b[0;32m    622\u001b[0m             \u001b[0maspect\u001b[0m\u001b[1;33m=\u001b[0m\u001b[0maspect\u001b[0m\u001b[1;33m,\u001b[0m\u001b[1;33m\u001b[0m\u001b[1;33m\u001b[0m\u001b[0m\n\u001b[1;32m--> 623\u001b[1;33m             \u001b[1;33m**\u001b[0m\u001b[0mstyle_kwds\u001b[0m\u001b[1;33m\u001b[0m\u001b[1;33m\u001b[0m\u001b[0m\n\u001b[0m\u001b[0;32m    624\u001b[0m         )\n\u001b[0;32m    625\u001b[0m \u001b[1;33m\u001b[0m\u001b[0m\n",
      "\u001b[1;32mC:\\Anaconda3\\envs\\tf2-1\\lib\\site-packages\\geopandas\\plotting.py\u001b[0m in \u001b[0;36mplot_series\u001b[1;34m(s, cmap, color, ax, figsize, aspect, **style_kwds)\u001b[0m\n\u001b[0;32m    412\u001b[0m         \u001b[0mvalues_\u001b[0m \u001b[1;33m=\u001b[0m \u001b[0mvalues\u001b[0m\u001b[1;33m[\u001b[0m\u001b[0mpoly_idx\u001b[0m\u001b[1;33m]\u001b[0m \u001b[1;32mif\u001b[0m \u001b[0mcmap\u001b[0m \u001b[1;32melse\u001b[0m \u001b[1;32mNone\u001b[0m\u001b[1;33m\u001b[0m\u001b[1;33m\u001b[0m\u001b[0m\n\u001b[0;32m    413\u001b[0m         _plot_polygon_collection(\n\u001b[1;32m--> 414\u001b[1;33m             \u001b[0max\u001b[0m\u001b[1;33m,\u001b[0m \u001b[0mpolys\u001b[0m\u001b[1;33m,\u001b[0m \u001b[0mvalues_\u001b[0m\u001b[1;33m,\u001b[0m \u001b[0mfacecolor\u001b[0m\u001b[1;33m=\u001b[0m\u001b[0mfacecolor\u001b[0m\u001b[1;33m,\u001b[0m \u001b[0mcmap\u001b[0m\u001b[1;33m=\u001b[0m\u001b[0mcmap\u001b[0m\u001b[1;33m,\u001b[0m \u001b[1;33m**\u001b[0m\u001b[0mstyle_kwds\u001b[0m\u001b[1;33m\u001b[0m\u001b[1;33m\u001b[0m\u001b[0m\n\u001b[0m\u001b[0;32m    415\u001b[0m         )\n\u001b[0;32m    416\u001b[0m \u001b[1;33m\u001b[0m\u001b[0m\n",
      "\u001b[1;32mC:\\Anaconda3\\envs\\tf2-1\\lib\\site-packages\\geopandas\\plotting.py\u001b[0m in \u001b[0;36m_plot_polygon_collection\u001b[1;34m(ax, geoms, values, color, cmap, vmin, vmax, **kwargs)\u001b[0m\n\u001b[0;32m    121\u001b[0m     \u001b[1;32mexcept\u001b[0m \u001b[0mImportError\u001b[0m\u001b[1;33m:\u001b[0m\u001b[1;33m\u001b[0m\u001b[1;33m\u001b[0m\u001b[0m\n\u001b[0;32m    122\u001b[0m         raise ImportError(\n\u001b[1;32m--> 123\u001b[1;33m             \u001b[1;34m\"The descartes package is required for plotting polygons in geopandas. \"\u001b[0m\u001b[1;33m\u001b[0m\u001b[1;33m\u001b[0m\u001b[0m\n\u001b[0m\u001b[0;32m    124\u001b[0m             \u001b[1;34m\"You can install it using 'conda install -c conda-forge descartes' or \"\u001b[0m\u001b[1;33m\u001b[0m\u001b[1;33m\u001b[0m\u001b[0m\n\u001b[0;32m    125\u001b[0m             \u001b[1;34m\"'pip install descartes'.\"\u001b[0m\u001b[1;33m\u001b[0m\u001b[1;33m\u001b[0m\u001b[0m\n",
      "\u001b[1;31mImportError\u001b[0m: The descartes package is required for plotting polygons in geopandas. You can install it using 'conda install -c conda-forge descartes' or 'pip install descartes'."
     ]
    },
    {
     "data": {
      "image/png": "[encoded data removed]",
      "text/plain": [
       "<Figure size 432x288 with 1 Axes>"
      ]
     },
     "metadata": {
      "needs_background": "light"
     },
     "output_type": "display_data"
    }
   ],
   "source": [
    "states.plot()"
   ]
  },
  {
   "cell_type": "code",
   "execution_count": null,
   "metadata": {},
   "outputs": [],
   "source": []
  }
 ],
 "metadata": {
  "kernelspec": {
   "display_name": "tf2-1",
   "language": "python",
   "name": "tf2-1"
  },
  "language_info": {
   "codemirror_mode": {
    "name": "ipython",
    "version": 3
   },
   "file_extension": ".py",
   "mimetype": "text/x-python",
   "name": "python",
   "nbconvert_exporter": "python",
   "pygments_lexer": "ipython3",
   "version": "3.7.7"
  }
 },
 "nbformat": 4,
 "nbformat_minor": 4
}
