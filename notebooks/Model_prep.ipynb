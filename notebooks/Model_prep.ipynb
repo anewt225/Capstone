{
 "cells": [
  {
   "cell_type": "markdown",
   "metadata": {},
   "source": [
    "# Model prep\n",
    "\n",
    "This notebook prepares some of the data for modelling."
   ]
  },
  {
   "cell_type": "markdown",
   "metadata": {},
   "source": [
    "# Imports"
   ]
  },
  {
   "cell_type": "markdown",
   "metadata": {},
   "source": [
    "## Modules"
   ]
  },
  {
   "cell_type": "code",
   "execution_count": 2,
   "metadata": {},
   "outputs": [],
   "source": [
    "import pandas as pd\n",
    "import numpy as np\n",
    "import matplotlib.pyplot as plt\n",
    "import seaborn as sns\n",
    "from sklearn.model_selection import train_test_split\n",
    "from pandas.plotting import scatter_matrix"
   ]
  },
  {
   "cell_type": "code",
   "execution_count": 4,
   "metadata": {},
   "outputs": [],
   "source": [
    "from sklearn.pipeline import Pipeline\n",
    "from sklearn.preprocessing import StandardScaler\n",
    "from sklearn.compose import ColumnTransformer\n",
    "from sklearn.linear_model import LinearRegression\n",
    "from sklearn.metrics import mean_squared_error\n",
    "from sklearn.model_selection import cross_val_score\n",
    "from sklearn.model_selection import GridSearchCV\n",
    "from sklearn.ensemble import RandomForestRegressor"
   ]
  },
  {
   "cell_type": "markdown",
   "metadata": {},
   "source": [
    "## Data"
   ]
  },
  {
   "cell_type": "code",
   "execution_count": 6,
   "metadata": {},
   "outputs": [
    {
     "data": {
      "text/html": [
       "<div>\n",
       "<style scoped>\n",
       "    .dataframe tbody tr th:only-of-type {\n",
       "        vertical-align: middle;\n",
       "    }\n",
       "\n",
       "    .dataframe tbody tr th {\n",
       "        vertical-align: top;\n",
       "    }\n",
       "\n",
       "    .dataframe thead th {\n",
       "        text-align: right;\n",
       "    }\n",
       "</style>\n",
       "<table border=\"1\" class=\"dataframe\">\n",
       "  <thead>\n",
       "    <tr style=\"text-align: right;\">\n",
       "      <th></th>\n",
       "      <th>rla_score</th>\n",
       "      <th>math_score</th>\n",
       "      <th>DP02_0152PE</th>\n",
       "      <th>DP02_0151PE</th>\n",
       "    </tr>\n",
       "    <tr>\n",
       "      <th>leaid</th>\n",
       "      <th></th>\n",
       "      <th></th>\n",
       "      <th></th>\n",
       "      <th></th>\n",
       "    </tr>\n",
       "  </thead>\n",
       "  <tbody>\n",
       "    <tr>\n",
       "      <th>0100005</th>\n",
       "      <td>38</td>\n",
       "      <td>45</td>\n",
       "      <td>75.4</td>\n",
       "      <td>83.4</td>\n",
       "    </tr>\n",
       "    <tr>\n",
       "      <th>0100006</th>\n",
       "      <td>36</td>\n",
       "      <td>43</td>\n",
       "      <td>72.9</td>\n",
       "      <td>80.8</td>\n",
       "    </tr>\n",
       "    <tr>\n",
       "      <th>0100007</th>\n",
       "      <td>65</td>\n",
       "      <td>70</td>\n",
       "      <td>91.1</td>\n",
       "      <td>95.5</td>\n",
       "    </tr>\n",
       "    <tr>\n",
       "      <th>0100008</th>\n",
       "      <td>74</td>\n",
       "      <td>76</td>\n",
       "      <td>89.9</td>\n",
       "      <td>96.1</td>\n",
       "    </tr>\n",
       "    <tr>\n",
       "      <th>0100011</th>\n",
       "      <td>41</td>\n",
       "      <td>40</td>\n",
       "      <td>76.7</td>\n",
       "      <td>88.0</td>\n",
       "    </tr>\n",
       "  </tbody>\n",
       "</table>\n",
       "</div>"
      ],
      "text/plain": [
       "         rla_score  math_score DP02_0152PE DP02_0151PE\n",
       "leaid                                                 \n",
       "0100005         38          45        75.4        83.4\n",
       "0100006         36          43        72.9        80.8\n",
       "0100007         65          70        91.1        95.5\n",
       "0100008         74          76        89.9        96.1\n",
       "0100011         41          40        76.7        88.0"
      ]
     },
     "execution_count": 6,
     "metadata": {},
     "output_type": "execute_result"
    }
   ],
   "source": [
    "broadband_assessment = pd.read_pickle('../data/prepped/combined_broadband_assessment_2018.pkl')\n",
    "broadband_assessment.head()"
   ]
  },
  {
   "cell_type": "code",
   "execution_count": 7,
   "metadata": {},
   "outputs": [
    {
     "name": "stdout",
     "output_type": "stream",
     "text": [
      "<class 'pandas.core.frame.DataFrame'>\n",
      "Index: 10211 entries, 0100005 to 5606240\n",
      "Data columns (total 4 columns):\n",
      " #   Column       Non-Null Count  Dtype \n",
      "---  ------       --------------  ----- \n",
      " 0   rla_score    10211 non-null  int64 \n",
      " 1   math_score   10211 non-null  int64 \n",
      " 2   DP02_0152PE  10211 non-null  object\n",
      " 3   DP02_0151PE  10211 non-null  object\n",
      "dtypes: int64(2), object(2)\n",
      "memory usage: 398.9+ KB\n"
     ]
    }
   ],
   "source": [
    "broadband_assessment.info()"
   ]
  },
  {
   "cell_type": "code",
   "execution_count": 18,
   "metadata": {},
   "outputs": [
    {
     "data": {
      "text/html": [
       "<div>\n",
       "<style scoped>\n",
       "    .dataframe tbody tr th:only-of-type {\n",
       "        vertical-align: middle;\n",
       "    }\n",
       "\n",
       "    .dataframe tbody tr th {\n",
       "        vertical-align: top;\n",
       "    }\n",
       "\n",
       "    .dataframe thead th {\n",
       "        text-align: right;\n",
       "    }\n",
       "</style>\n",
       "<table border=\"1\" class=\"dataframe\">\n",
       "  <thead>\n",
       "    <tr style=\"text-align: right;\">\n",
       "      <th></th>\n",
       "      <th>poverty_ratio</th>\n",
       "    </tr>\n",
       "    <tr>\n",
       "      <th>leaid</th>\n",
       "      <th></th>\n",
       "    </tr>\n",
       "  </thead>\n",
       "  <tbody>\n",
       "    <tr>\n",
       "      <th>0100001</th>\n",
       "      <td>12.4</td>\n",
       "    </tr>\n",
       "    <tr>\n",
       "      <th>0100003</th>\n",
       "      <td>15.2</td>\n",
       "    </tr>\n",
       "    <tr>\n",
       "      <th>0100005</th>\n",
       "      <td>30.1</td>\n",
       "    </tr>\n",
       "    <tr>\n",
       "      <th>0100006</th>\n",
       "      <td>26.6</td>\n",
       "    </tr>\n",
       "    <tr>\n",
       "      <th>0100007</th>\n",
       "      <td>7.3</td>\n",
       "    </tr>\n",
       "  </tbody>\n",
       "</table>\n",
       "</div>"
      ],
      "text/plain": [
       "0       poverty_ratio\n",
       "leaid                \n",
       "0100001          12.4\n",
       "0100003          15.2\n",
       "0100005          30.1\n",
       "0100006          26.6\n",
       "0100007           7.3"
      ]
     },
     "execution_count": 18,
     "metadata": {},
     "output_type": "execute_result"
    }
   ],
   "source": [
    "poverty_2018 = pd.read_pickle('../data/poverty_2018.pkl')\n",
    "poverty_2018.rename(columns={'SAEPOVRAT5_17RV_PT':'poverty_ratio'}, inplace=True)\n",
    "poverty_2018.index.rename('leaid', inplace=True)\n",
    "poverty_2018.head()\n"
   ]
  },
  {
   "cell_type": "code",
   "execution_count": 19,
   "metadata": {},
   "outputs": [],
   "source": [
    "poverty_2018 = pd.to_numeric(poverty_2018['poverty_ratio'])"
   ]
  },
  {
   "cell_type": "code",
   "execution_count": 20,
   "metadata": {},
   "outputs": [
    {
     "data": {
      "text/html": [
       "<div>\n",
       "<style scoped>\n",
       "    .dataframe tbody tr th:only-of-type {\n",
       "        vertical-align: middle;\n",
       "    }\n",
       "\n",
       "    .dataframe tbody tr th {\n",
       "        vertical-align: top;\n",
       "    }\n",
       "\n",
       "    .dataframe thead th {\n",
       "        text-align: right;\n",
       "    }\n",
       "</style>\n",
       "<table border=\"1\" class=\"dataframe\">\n",
       "  <thead>\n",
       "    <tr style=\"text-align: right;\">\n",
       "      <th></th>\n",
       "      <th>rla_score</th>\n",
       "      <th>math_score</th>\n",
       "      <th>broadband_pct</th>\n",
       "      <th>comp_pct</th>\n",
       "      <th>poverty_ratio</th>\n",
       "    </tr>\n",
       "    <tr>\n",
       "      <th>leaid</th>\n",
       "      <th></th>\n",
       "      <th></th>\n",
       "      <th></th>\n",
       "      <th></th>\n",
       "      <th></th>\n",
       "    </tr>\n",
       "  </thead>\n",
       "  <tbody>\n",
       "    <tr>\n",
       "      <th>0100005</th>\n",
       "      <td>38</td>\n",
       "      <td>45</td>\n",
       "      <td>75.4</td>\n",
       "      <td>83.4</td>\n",
       "      <td>30.1</td>\n",
       "    </tr>\n",
       "    <tr>\n",
       "      <th>0100006</th>\n",
       "      <td>36</td>\n",
       "      <td>43</td>\n",
       "      <td>72.9</td>\n",
       "      <td>80.8</td>\n",
       "      <td>26.6</td>\n",
       "    </tr>\n",
       "    <tr>\n",
       "      <th>0100007</th>\n",
       "      <td>65</td>\n",
       "      <td>70</td>\n",
       "      <td>91.1</td>\n",
       "      <td>95.5</td>\n",
       "      <td>7.3</td>\n",
       "    </tr>\n",
       "    <tr>\n",
       "      <th>0100008</th>\n",
       "      <td>74</td>\n",
       "      <td>76</td>\n",
       "      <td>89.9</td>\n",
       "      <td>96.1</td>\n",
       "      <td>8.3</td>\n",
       "    </tr>\n",
       "    <tr>\n",
       "      <th>0100011</th>\n",
       "      <td>41</td>\n",
       "      <td>40</td>\n",
       "      <td>76.7</td>\n",
       "      <td>88.0</td>\n",
       "      <td>16.9</td>\n",
       "    </tr>\n",
       "  </tbody>\n",
       "</table>\n",
       "</div>"
      ],
      "text/plain": [
       "         rla_score  math_score broadband_pct comp_pct  poverty_ratio\n",
       "leaid                                                               \n",
       "0100005         38          45          75.4     83.4           30.1\n",
       "0100006         36          43          72.9     80.8           26.6\n",
       "0100007         65          70          91.1     95.5            7.3\n",
       "0100008         74          76          89.9     96.1            8.3\n",
       "0100011         41          40          76.7     88.0           16.9"
      ]
     },
     "execution_count": 20,
     "metadata": {},
     "output_type": "execute_result"
    }
   ],
   "source": [
    "bpa_2018 = pd.merge(broadband_assessment, poverty_2018, on='leaid', how='inner')\n",
    "bpa_2018.rename(columns={'DP02_0151PE':'comp_pct', 'DP02_0152PE':'broadband_pct'},\n",
    "                inplace=True)\n",
    "bpa_2018.head()"
   ]
  },
  {
   "cell_type": "code",
   "execution_count": 8,
   "metadata": {},
   "outputs": [],
   "source": [
    "bpa_2018.to_pickle('../data/full_working_set.pkl')"
   ]
  },
  {
   "cell_type": "code",
   "execution_count": 27,
   "metadata": {},
   "outputs": [
    {
     "name": "stdout",
     "output_type": "stream",
     "text": [
      "<class 'pandas.core.frame.DataFrame'>\n",
      "Index: 10203 entries, 0100005 to 5606240\n",
      "Data columns (total 6 columns):\n",
      " #   Column           Non-Null Count  Dtype  \n",
      "---  ------           --------------  -----  \n",
      " 0   rla_score        10203 non-null  int64  \n",
      " 1   math_score       10203 non-null  int64  \n",
      " 2   broadband_pct    10203 non-null  float64\n",
      " 3   comp_pct         10203 non-null  float64\n",
      " 4   poverty_ratio    10203 non-null  float64\n",
      " 5   composite_score  10203 non-null  float64\n",
      "dtypes: float64(4), int64(2)\n",
      "memory usage: 558.0+ KB\n"
     ]
    }
   ],
   "source": [
    "bpa_2018.info()\n",
    "## bpa = broadband, poverty, assessment"
   ]
  },
  {
   "cell_type": "code",
   "execution_count": 25,
   "metadata": {},
   "outputs": [],
   "source": [
    "bpa_2018['comp_pct'] = pd.to_numeric(bpa_2018['comp_pct'],downcast='integer')\n",
    "bpa_2018['broadband_pct'] = pd.to_numeric(bpa_2018['broadband_pct'], downcast='integer')"
   ]
  },
  {
   "cell_type": "code",
   "execution_count": 26,
   "metadata": {},
   "outputs": [
    {
     "name": "stdout",
     "output_type": "stream",
     "text": [
      "<class 'pandas.core.frame.DataFrame'>\n",
      "Index: 10203 entries, 0100005 to 5606240\n",
      "Data columns (total 6 columns):\n",
      " #   Column           Non-Null Count  Dtype  \n",
      "---  ------           --------------  -----  \n",
      " 0   rla_score        10203 non-null  int64  \n",
      " 1   math_score       10203 non-null  int64  \n",
      " 2   broadband_pct    10203 non-null  float64\n",
      " 3   comp_pct         10203 non-null  float64\n",
      " 4   poverty_ratio    10203 non-null  float64\n",
      " 5   composite_score  10203 non-null  float64\n",
      "dtypes: float64(4), int64(2)\n",
      "memory usage: 558.0+ KB\n"
     ]
    }
   ],
   "source": [
    "bpa_2018['composite_score'] = (bpa_2018['rla_score'] + bpa_2018['math_score'])/2\n",
    "bpa_2018.info()"
   ]
  },
  {
   "cell_type": "code",
   "execution_count": 22,
   "metadata": {},
   "outputs": [],
   "source": []
  },
  {
   "cell_type": "code",
   "execution_count": null,
   "metadata": {},
   "outputs": [],
   "source": [
    "digital_divide = train_set.copy()"
   ]
  },
  {
   "cell_type": "code",
   "execution_count": null,
   "metadata": {},
   "outputs": [],
   "source": [
    "divide_labels = digital_divide['composite_score']\n",
    "divide = digital_divide.drop(['rla_score','math_score','composite_score'],axis=1)"
   ]
  },
  {
   "cell_type": "code",
   "execution_count": null,
   "metadata": {},
   "outputs": [],
   "source": [
    "num_pipeline = Pipeline([\n",
    "    ##Eventually add imputer\n",
    "    ##Eventually add feature engineering functions\n",
    "    ('std_scaler', StandardScaler())\n",
    "])"
   ]
  },
  {
   "cell_type": "code",
   "execution_count": null,
   "metadata": {},
   "outputs": [],
   "source": [
    "num_attribs = list(divide)\n",
    "## cat_attibs = []\n",
    "\n",
    "full_pipeline = ColumnTransformer([\n",
    "    ('num', num_pipeline, num_attribs)\n",
    "    ##('cat', cat_pipeline[OneHotEncoder()], cat_attribs)\n",
    "])"
   ]
  },
  {
   "cell_type": "code",
   "execution_count": null,
   "metadata": {},
   "outputs": [],
   "source": [
    "divide_prepped = full_pipeline.fit_transform(divide)"
   ]
  },
  {
   "cell_type": "code",
   "execution_count": null,
   "metadata": {},
   "outputs": [],
   "source": [
    "lin_reg = LinearRegression()\n",
    "lin_reg.fit(divide_prepped, divide_labels)"
   ]
  },
  {
   "cell_type": "code",
   "execution_count": null,
   "metadata": {},
   "outputs": [],
   "source": [
    "divide_predictions = lin_reg.predict(divide_prepped)\n",
    "print(divide_predictions)\n",
    "print(divide_labels)\n",
    "error = mean_squared_error(divide_labels, divide_predictions)"
   ]
  },
  {
   "cell_type": "code",
   "execution_count": null,
   "metadata": {},
   "outputs": [],
   "source": [
    "pre_err = np.sqrt(error)\n",
    "RMSE = pre_err"
   ]
  },
  {
   "cell_type": "code",
   "execution_count": null,
   "metadata": {},
   "outputs": [],
   "source": [
    "print(RMSE)"
   ]
  },
  {
   "cell_type": "code",
   "execution_count": null,
   "metadata": {},
   "outputs": [],
   "source": [
    "state_dfs = []\n",
    "\n",
    "for state in state_list['state']:  \n",
    "    state = str(state)\n",
    "    get_acs_data = requests.get('https://api.census.gov/data/{year}/acs/acs5/profile?get=group({group})&for={geofor}:*&in=state:{stateID}&key={key}'\n",
    "                                .format(year=year, group=group, geofor=geofor, stateID=state, key=my_key))\n",
    "    acs_content = json.loads(get_acs_data.content)\n",
    "    state_census_info = pd.DataFrame(data=acs_content)\n",
    "    state_census_info.columns = state_census_info.iloc[0]\n",
    "    state_census_info = state_census_info[1:]\n",
    "    state_census_info['GEO_ID'] = state_census_info['GEO_ID'].str.lstrip('9700000US').str.zfill(7)\n",
    "    state_census_info.rename(columns={'GEO_ID':'leaid'}, inplace=True)\n",
    "    state_dfs.append(state_census_info) \n",
    "    \n",
    "all_census_info = pd.concat(state_dfs)\n",
    "print(all_census_info.info())\n",
    "print(all_census_info.head())\n",
    "print(all_census_info.tail())"
   ]
  },
  {
   "cell_type": "code",
   "execution_count": null,
   "metadata": {},
   "outputs": [],
   "source": []
  },
  {
   "cell_type": "code",
   "execution_count": 1,
   "metadata": {},
   "outputs": [],
   "source": [
    "## COLUMNS to keep from cenSus_combined_assessment_2018.pkl:\n",
    "\n",
    "question_numbers = ['DP05_0037PE', 'DP02_0066PE', 'DP03_0062E', 'DP04_0134E','DP03_0009PE','DP02_0112PE', 'DP02_0071PE']"
   ]
  },
  {
   "cell_type": "code",
   "execution_count": null,
   "metadata": {},
   "outputs": [],
   "source": [
    "census_combined_assessment = pd.read_pickle('census_combined_assessment')"
   ]
  }
 ],
 "metadata": {
  "kernelspec": {
   "display_name": "Python 3",
   "language": "python",
   "name": "python3"
  },
  "language_info": {
   "codemirror_mode": {
    "name": "ipython",
    "version": 3
   },
   "file_extension": ".py",
   "mimetype": "text/x-python",
   "name": "python",
   "nbconvert_exporter": "python",
   "pygments_lexer": "ipython3",
   "version": "3.8.5"
  }
 },
 "nbformat": 4,
 "nbformat_minor": 4
}
