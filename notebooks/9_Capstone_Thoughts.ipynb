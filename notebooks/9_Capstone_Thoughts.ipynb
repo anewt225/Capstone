version https://git-lfs.github.com/spec/v1
oid sha256:a06912ffb4cdaea5886459db1a3cd6cbbfce75cc29ac42364baeea4238fdc776
size 10223
