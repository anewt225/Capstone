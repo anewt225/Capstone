{
 "cells": [
  {
   "cell_type": "markdown",
   "metadata": {},
   "source": [
    "# Education EDA\n",
    "\n",
    "This notebook explores educational assessment data provided by the [Department of Education's National Center for Education Statistics (NCES) in the Ed*Facts*]('https://www2.ed.gov/about/inits/ed/edfacts/data-files/index.html') dataset collection."
   ]
  },
  {
   "cell_type": "markdown",
   "metadata": {},
   "source": [
    "# Notebook Outline\n",
    "\n",
    "1. [Get the Data](#Get-the-Data)\n",
    "\n",
    "2. [Preview Data and Structure](#Preview-Data)\n",
    "\n",
    "3.  [MATH ASSESSMENT](#Math-Assessment-Data)\n",
    "\n",
    "4. [Reading & Language Arts (RLA) Assessment](#Reading-and-Language-Arts-Assessment)\n",
    "\n",
    "[Census Broadband Dataa](#Census-Broadband-Data)\n",
    "\n",
    "[Census Device Data](#Census-Device-Data)\n",
    "\n",
    "[Geographical Data](#Geographical-Data)"
   ]
  },
  {
   "cell_type": "code",
   "execution_count": 4,
   "metadata": {},
   "outputs": [],
   "source": [
    "## Import necessary modules:\n",
    "\n",
    "import pandas as pd \n",
    "import numpy as np\n",
    "import matplotlib.pyplot as plt\n",
    "## for visualizations:\n",
    "import seaborn as sns\n",
    "## for viewing missing values\n",
    "import missingno as msno\n",
    "## for editing Regular Expressions:\n",
    "import re"
   ]
  },
  {
   "cell_type": "markdown",
   "metadata": {},
   "source": [
    "# Get the Data:"
   ]
  },
  {
   "cell_type": "markdown",
   "metadata": {},
   "source": [
    "## Data Overview\n",
    "\n",
    "The website contains:\n",
    "\n",
    "### Data Files:\n",
    "- School Year (AY 2013 - 2018)\n",
    "- Subject (Math or Reading/Language Arts)\n",
    "- Metric (achievement, participation, or adjusted cohort graduation rate)\n",
    "- Geographical Unit (Local Education Agency (LEA) or school)\n",
    "\n",
    "### Documentation:\n",
    "- Documentation\n",
    "- Data Notes (state notes)\n",
    "- Performance Mapping\n",
    "\n",
    "For this project, we're focusing on:\n",
    "- Academic Year **2017-18** published April 2020\n",
    "- **Math** AND **Reading / Language Arts** Scores\n",
    "- **Achievement** metric for success\n",
    "- **Local Education Agency** to link with census data"
   ]
  },
  {
   "cell_type": "markdown",
   "metadata": {},
   "source": [
    "### Direct Links:\n",
    "\n",
    "The datasets used in this project are linked here directly.\n",
    "\n",
    "[Math Achievement Percentage Proficiency by Local Education Agency, 2017-18](https://www2.ed.gov/about/inits/ed/edfacts/data-files/math-achievement-lea-sy2017-18.csv)\n",
    "\n",
    "[Reading / Language Arts Achievement Percentage Proficiency by Local Education Agency, 2017-18](https://www2.ed.gov/about/inits/ed/edfacts/data-files/rla-achievement-lea-sy2017-18.csv)"
   ]
  },
  {
   "cell_type": "markdown",
   "metadata": {},
   "source": [
    "### Additional Data:\n",
    "\n",
    "The workflow below can be used to quickly select additional datasets by year, subject, metric, or geography:"
   ]
  },
  {
   "cell_type": "code",
   "execution_count": 6,
   "metadata": {},
   "outputs": [
    {
     "ename": "SyntaxError",
     "evalue": "invalid syntax (<ipython-input-6-dd7d3329df60>, line 1)",
     "output_type": "error",
     "traceback": [
      "\u001b[1;36m  File \u001b[1;32m\"<ipython-input-6-dd7d3329df60>\"\u001b[1;36m, line \u001b[1;32m1\u001b[0m\n\u001b[1;33m    <!--\u001b[0m\n\u001b[1;37m    ^\u001b[0m\n\u001b[1;31mSyntaxError\u001b[0m\u001b[1;31m:\u001b[0m invalid syntax\n"
     ]
    }
   ],
   "source": [
    "<!--\n",
    "\n",
    "## Prompt for input on customizable datasets\n",
    "subject=input(\"Enter Assessment Subject: 'math' for math OR 'rla' for reading / language arts\")\n",
    "geog=input(\"Enter Detail Level: 'lea' for Local Education Agency OR 'sch' for school\")\n",
    "data_file=input(\"Enter dataset type: 'achievement' for assessment proficiency OR 'participation' for assessment participation OR 'acgr' for Adjusted Cohort Graduation Rate\")\n",
    "school_year=input(\"Enter academic year as: YYYY-YY\")\n",
    "\n",
    "## Insert input specifications into URL to get from website\n",
    "df = pd.read_csv('https://www2.ed.gov/about/inits/ed/edfacts/data-files/{subject}-{data_file}-{geog}-sy{school_year}.csv'\n",
    "                 .format(subject=subject, data_file=data_file,  geog=geog, school_year=school_year),\n",
    "                 low_memory=False)\n",
    "\n",
    "## Convert the LEAID column to strings in order to manipulate for merging\n",
    "df['LEAID'] = df['LEAID'].astype(str)\n",
    "\n",
    "## Based on reading documentation, remove leading information from LEAID\n",
    "## Ensure that LEAID has 7 digits to facilitate merging later\n",
    "df['LEAID'] = df['LEAID'].str.lstrip('9700000US').str.zfill(7)\n",
    "\n",
    "## Save the file to the data folder with the appropriate name\n",
    "df.to_pickle('../data/education/{subject}_{data_file}_{school_year}.pkl'.format(subject=subject, data_file=data_file, school_year=school_year))\n",
    "\n",
    "##Preview Data\n",
    "df.head()\n",
    "\n",
    "-->"
   ]
  },
  {
   "cell_type": "markdown",
   "metadata": {},
   "source": [
    "Since we know what data we want, we're going to pass those parameters directly into the data query / call. From here, we'll bring in math data as well as reading / languagee arts data, and then merge the datasets to have one complete dataset of academic achievement: \n",
    "- **Percent Proficient in Math and Reading / Language Arts in each Local Education Agency (LEA) for Academic Year 2017-18** "
   ]
  },
  {
   "cell_type": "markdown",
   "metadata": {},
   "source": [
    "## Import Math Data"
   ]
  },
  {
   "cell_type": "code",
   "execution_count": 7,
   "metadata": {},
   "outputs": [
    {
     "name": "stdout",
     "output_type": "stream",
     "text": [
      "<class 'pandas.core.frame.DataFrame'>\n",
      "RangeIndex: 15984 entries, 0 to 15983\n",
      "Columns: 262 entries, STNAM to MIL_MTHHSPCTPROF_1718\n",
      "dtypes: int64(2), object(260)\n",
      "memory usage: 32.0+ MB\n",
      "None\n",
      "     STNAM  FIPST    LEAID ST_LEAID             LEANM DATE_CUR  \\\n",
      "0  ALABAMA      1  0100005   AL-101  Albertville City  27MAR19   \n",
      "1  ALABAMA      1  0100006   AL-048   Marshall County  27MAR19   \n",
      "2  ALABAMA      1  0100007   AL-158       Hoover City  27MAR19   \n",
      "3  ALABAMA      1  0100008   AL-169      Madison City  27MAR19   \n",
      "4  ALABAMA      1  0100011   AL-167        Leeds City  27MAR19   \n",
      "\n",
      "   ALL_MTH00NUMVALID_1718 ALL_MTH00PCTPROF_1718 MAM_MTH00NUMVALID_1718  \\\n",
      "0                    2892                    45                      5   \n",
      "1                    2987                    43                     12   \n",
      "2                    7551                    70                      5   \n",
      "3                    5668                    76                     47   \n",
      "4                    1017                    40                      2   \n",
      "\n",
      "  MAM_MTH00PCTPROF_1718  ... MIL_MTH05NUMVALID_1718 MIL_MTH05PCTPROF_1718  \\\n",
      "0                    PS  ...                     14                  LT50   \n",
      "1                  GE50  ...                      1                    PS   \n",
      "2                    PS  ...                     12                  GE50   \n",
      "3                 60-69  ...                     34                 60-69   \n",
      "4                    PS  ...                      6                  LT50   \n",
      "\n",
      "  MIL_MTH06NUMVALID_1718 MIL_MTH06PCTPROF_1718 MIL_MTH07NUMVALID_1718  \\\n",
      "0                      5                    PS                     11   \n",
      "1                    NaN                   NaN                      3   \n",
      "2                      8                  GE50                      6   \n",
      "3                     38                 70-79                     42   \n",
      "4                    NaN                   NaN                      2   \n",
      "\n",
      "  MIL_MTH07PCTPROF_1718 MIL_MTH08NUMVALID_1718 MIL_MTH08PCTPROF_1718  \\\n",
      "0                  GE50                     14                  GE50   \n",
      "1                    PS                      2                    PS   \n",
      "2                  GE50                     12                  GE50   \n",
      "3                 60-69                     51                 70-79   \n",
      "4                    PS                      4                    PS   \n",
      "\n",
      "  MIL_MTHHSNUMVALID_1718 MIL_MTHHSPCTPROF_1718  \n",
      "0                     10                  GE50  \n",
      "1                      3                    PS  \n",
      "2                     20                 40-59  \n",
      "3                     44                 70-79  \n",
      "4                      3                    PS  \n",
      "\n",
      "[5 rows x 262 columns]\n"
     ]
    }
   ],
   "source": [
    "## Define specific variables\n",
    "subject='math'\n",
    "data_file='achievement'\n",
    "geog='lea'\n",
    "school_year='2017-18'\n",
    "\n",
    "## Insert input specifications into URL to get from website\n",
    "math_2018 = pd.read_csv('https://www2.ed.gov/about/inits/ed/edfacts/data-files/{subject}-{data_file}-{geog}-sy{school_year}.csv'\n",
    "                 .format(subject=subject, data_file=data_file,  geog=geog, school_year=school_year),\n",
    "                 low_memory=False)\n",
    "\n",
    "## Convert the LEAID column to strings in order to manipulate for merging\n",
    "math_2018['LEAID'] = math_2018['LEAID'].astype(str)\n",
    "\n",
    "## Based on reading documentation, remove leading information from LEAID\n",
    "## Ensure that LEAID has 7 digits to facilitate merging later\n",
    "math_2018['LEAID'] = math_2018['LEAID'].str.lstrip('9700000US').str.zfill(7)\n",
    "\n",
    "## Save the file to the data folder with the appropriate name\n",
    "math_2018.to_pickle('../data/education/{subject}_{data_file}_{school_year}.pkl'.format(subject=subject, data_file=data_file, school_year=school_year))\n",
    "\n",
    "## Preview first five observations of dataset\n",
    "print(math_2018.info())\n",
    "print(math_2018.head())"
   ]
  },
  {
   "cell_type": "markdown",
   "metadata": {},
   "source": [
    "From here, the important things we see are:\n",
    "- Rows: there are just under 16,000 observations in this dataset, each corresponding to a specific LEAID\n",
    "- Columns: the columns have specific formatting, and perhaps some redundancies\n",
    "\n",
    "Before touching anything, let's make sure we grabe the Reading and Language Arts dataset so that we can look at them both as a whole. Follow the same steps as prior, ensuring that we get the same general shape (same number of observations, at least - the exact number of features is not important at the moment)."
   ]
  },
  {
   "cell_type": "markdown",
   "metadata": {},
   "source": [
    "## Import Reading / Language Arts Data"
   ]
  },
  {
   "cell_type": "code",
   "execution_count": 8,
   "metadata": {},
   "outputs": [
    {
     "name": "stdout",
     "output_type": "stream",
     "text": [
      "     STNAM  FIPST    LEAID ST_LEAID             LEANM DATE_CUR  \\\n",
      "0  ALABAMA      1  0100005   AL-101  Albertville City  27MAR19   \n",
      "1  ALABAMA      1  0100006   AL-048   Marshall County  27MAR19   \n",
      "2  ALABAMA      1  0100007   AL-158       Hoover City  27MAR19   \n",
      "3  ALABAMA      1  0100008   AL-169      Madison City  27MAR19   \n",
      "4  ALABAMA      1  0100011   AL-167        Leeds City  27MAR19   \n",
      "\n",
      "   ALL_RLA00NUMVALID_1718 ALL_RLA00PCTPROF_1718 MAM_RLA00NUMVALID_1718  \\\n",
      "0                    2885                    38                      5   \n",
      "1                    2984                    36                     12   \n",
      "2                    7522                    65                      5   \n",
      "3                    5654                    74                     46   \n",
      "4                    1017                    41                      2   \n",
      "\n",
      "  MAM_RLA00PCTPROF_1718  ... MIL_RLA05NUMVALID_1718 MIL_RLA05PCTPROF_1718  \\\n",
      "0                    PS  ...                     14                  LT50   \n",
      "1                  GE50  ...                      1                    PS   \n",
      "2                    PS  ...                     11                  GE50   \n",
      "3                 50-59  ...                     34                 80-89   \n",
      "4                    PS  ...                      6                  LT50   \n",
      "\n",
      "  MIL_RLA06NUMVALID_1718 MIL_RLA06PCTPROF_1718 MIL_RLA07NUMVALID_1718  \\\n",
      "0                      5                    PS                     11   \n",
      "1                    NaN                   NaN                      3   \n",
      "2                      8                  GE50                      6   \n",
      "3                     38                 70-79                     42   \n",
      "4                    NaN                   NaN                      2   \n",
      "\n",
      "  MIL_RLA07PCTPROF_1718 MIL_RLA08NUMVALID_1718 MIL_RLA08PCTPROF_1718  \\\n",
      "0                  GE50                     14                  GE50   \n",
      "1                    PS                      2                    PS   \n",
      "2                  GE50                     12                  GE50   \n",
      "3                 70-79                     51                 70-79   \n",
      "4                    PS                      4                    PS   \n",
      "\n",
      "  MIL_RLAHSNUMVALID_1718 MIL_RLAHSPCTPROF_1718  \n",
      "0                     10                  GE50  \n",
      "1                      3                    PS  \n",
      "2                     20                 40-59  \n",
      "3                     44                 60-69  \n",
      "4                      3                    PS  \n",
      "\n",
      "[5 rows x 262 columns]\n",
      "<class 'pandas.core.frame.DataFrame'>\n",
      "RangeIndex: 16110 entries, 0 to 16109\n",
      "Columns: 262 entries, STNAM to MIL_RLAHSPCTPROF_1718\n",
      "dtypes: int64(2), object(260)\n",
      "memory usage: 32.2+ MB\n",
      "None\n"
     ]
    }
   ],
   "source": [
    "subject='rla'\n",
    "data_file='achievement'\n",
    "geog='lea'\n",
    "school_year='2017-18'\n",
    "\n",
    "## Insert input specifications into URL to get from website\n",
    "rla_2018 = pd.read_csv('https://www2.ed.gov/about/inits/ed/edfacts/data-files/{subject}-{data_file}-{geog}-sy{school_year}.csv'\n",
    "                 .format(subject=subject, data_file=data_file,  geog=geog, school_year=school_year),\n",
    "                 low_memory=False)\n",
    "\n",
    "## Convert the LEAID column to strings in order to manipulate for merging\n",
    "rla_2018['LEAID'] = rla_2018['LEAID'].astype(str)\n",
    "\n",
    "## Based on reading documentation, remove leading information from LEAID\n",
    "## Ensure that LEAID has 7 digits to facilitate merging later\n",
    "rla_2018['LEAID'] = rla_2018['LEAID'].str.lstrip('9700000US').str.zfill(7)\n",
    "\n",
    "## Save the file to the data folder with the appropriate name\n",
    "rla_2018.to_pickle('../data/education/{subject}_{data_file}_{school_year}.pkl'\n",
    "                   .format(subject=subject, data_file=data_file, school_year=school_year))\n",
    "\n",
    "## Preview first five observations of dataset\n",
    "print(rla_2018.head())\n",
    "print(rla_2018.info())"
   ]
  },
  {
   "cell_type": "markdown",
   "metadata": {},
   "source": [
    "Interestingly, the number of columns matches, but the range of observations is slightly bigger (just over 16,000) The explanation for why is in the previously linked documentation. However, since the number is minimal (about 200), we'll go ahead and continue merging the math and reading/language arts datasets, using LEAID as the common identifier."
   ]
  },
  {
   "cell_type": "code",
   "execution_count": 9,
   "metadata": {},
   "outputs": [
    {
     "name": "stdout",
     "output_type": "stream",
     "text": [
      "<class 'pandas.core.frame.DataFrame'>\n",
      "Int64Index: 16020 entries, 0 to 16019\n",
      "Columns: 523 entries, STNAM_x to MIL_RLAHSPCTPROF_1718\n",
      "dtypes: int64(4), object(519)\n",
      "memory usage: 64.0+ MB\n"
     ]
    }
   ],
   "source": [
    "## Merge observations, using LEAID index as merging reference\n",
    "## Only keep the data from each set that has an index in the other set (inner)\n",
    "assessments_2018 = pd.merge(math_2018, rla_2018, how='inner', on='LEAID')\n",
    "\n",
    "## Save all assessments data\n",
    "assessments_2018.to_pickle('../data/education/assessments_2018.pkl')\n",
    "\n",
    "## Preview information about dataframe\n",
    "assessments_2018.info()"
   ]
  },
  {
   "cell_type": "code",
   "execution_count": 10,
   "metadata": {},
   "outputs": [
    {
     "name": "stdout",
     "output_type": "stream",
     "text": [
      "<class 'pandas.core.frame.DataFrame'>\n",
      "Int64Index: 16020 entries, 0 to 16019\n",
      "Columns: 523 entries, STNAM_x to MIL_RLAHSPCTPROF_1718\n",
      "dtypes: int64(4), object(519)\n",
      "memory usage: 64.0+ MB\n"
     ]
    }
   ],
   "source": [
    "## Ensure that data saved correctly by reading\n",
    "assessments_2018 = pd.read_pickle('../data/education/assessments_2018.pkl')\n",
    "assessments_2018.info()"
   ]
  },
  {
   "cell_type": "markdown",
   "metadata": {},
   "source": [
    "Now we have one dataset that contains all the information for nationwide assessments saved."
   ]
  },
  {
   "cell_type": "markdown",
   "metadata": {},
   "source": [
    "## Preview Assessment Data Shape"
   ]
  },
  {
   "cell_type": "code",
   "execution_count": 11,
   "metadata": {},
   "outputs": [
    {
     "data": {
      "text/plain": [
       "(16020, 523)"
      ]
     },
     "execution_count": 11,
     "metadata": {},
     "output_type": "execute_result"
    }
   ],
   "source": [
    "## Observe shape of data\n",
    "assessments_2018.shape"
   ]
  },
  {
   "cell_type": "markdown",
   "metadata": {},
   "source": [
    "Great. So this merge shows us that we have a dataset with 2 datatypes, 523 columns, and around 16,000 entries. In the following steps, we get some more quick observations about the data in order to combine it with Census data shortly."
   ]
  },
  {
   "cell_type": "code",
   "execution_count": 12,
   "metadata": {},
   "outputs": [
    {
     "name": "stdout",
     "output_type": "stream",
     "text": [
      "<class 'pandas.core.frame.DataFrame'>\n",
      "Int64Index: 16020 entries, 0 to 16019\n",
      "Columns: 523 entries, STNAM_x to MIL_RLAHSPCTPROF_1718\n",
      "dtypes: int64(4), object(519)\n",
      "memory usage: 64.0+ MB\n"
     ]
    }
   ],
   "source": [
    "## Observe types of data\n",
    "assessments_2018.info()"
   ]
  },
  {
   "cell_type": "markdown",
   "metadata": {},
   "source": [
    "By looking at the shape and information of the data, we can immediately glean some useful informatino that will be applicable to our analysis later:\n",
    "\n",
    "- **Too many unknown columns** - Observing the info we know that 523 columns is too many to read completely through. \n",
    "- **Incorrect datatypes** - We see that only 4 of these columns are listed as integers, even though the documentation listed these valess as percentages, so we'll have to handle those later. \n",
    "- **Unique identifiers?** - While we think we have 16,000 observations for school districts, we should confirm that these are in fact unique values that can be used to join census data later. \n",
    "\n",
    "Reading the documentation helps us with the first issue of too many columns."
   ]
  },
  {
   "cell_type": "markdown",
   "metadata": {},
   "source": [
    "#### Columns\n",
    "\n",
    "\n",
    "The first set of columns contains identifying data:\n",
    "- STNAME - State Name\n",
    "- FIPST - ANSI 2-digit code for state\n",
    "- LEAID - NCES-assigned District ID\n",
    "- ST_LEAID - State-assigned District ID\n",
    "- LEANM - District Name\n",
    "- DATE_CUR - Date of data snapshot\n",
    "\n",
    "And the rest contain various groupings of the data for each observation (LEA) in the following format:\n",
    "- \\[SUBGROUP\\]_\\[SUBJECT\\]\\[GRADE\\]\\[METRIC\\]_\\[SCHOOLYEAR\\]\n",
    "\n",
    "Reading the [documentation]('https://www2.ed.gov/about/inits/ed/edfacts/data-files/assessments-sy2017-18-public-file-documentation.docx') provides an overview of those columns, along with their corresponding meanings:"
   ]
  },
  {
   "cell_type": "markdown",
   "metadata": {},
   "source": [
    "- **Subgroups** - Major Racial and Ethnic Groups / Special Populations\n",
    "    - ALL - All Students in the school\n",
    "    - Racial Subgroups (begin with M):\n",
    "        - MAM American Indian/Alaska Native\n",
    "        - MAS Asian/Pacific Islander\n",
    "        - MHI Hispanic\n",
    "        - MBL Black\n",
    "        - MWH White\n",
    "        - MTR Two or More Races\n",
    "    - Special Population Subgroups:\n",
    "        - CWD Children with disabilities\n",
    "        - ECD Economically disadvantaged\n",
    "        - LEP Limited English proficiency\n",
    "        - HOM Homeless\n",
    "        - MIG Migrant\n",
    "        - FCS Foster Care Status\n",
    "        - MIL Military Connected (new for '17-'18)\n",
    "        \n",
    "- **Subject** - Specific to each file.\n",
    "    - Math (MTH) or Reading/Language Arts (RLA)\n",
    "    \n",
    "- **Grade** \n",
    "    - 00 - aggregated across all grades\n",
    "    - 03-08 - Grades 3-8\n",
    "    - HS - High School\n",
    "    \n",
    "- **Metric**\n",
    "    - numvalid - # of students who completed assessment proficient\n",
    "    - pctprof - % of students proficient or higher\n",
    "    \n",
    "- **School Year**\n",
    "    - Limited to 2017-18 in this case\n",
    "    - May be able to add additional years later for better understanding\n",
    "    \n",
    "So, for example, the column labeled \"**MBL_MTH08PCTPROF_1718**\" describes: \n",
    "- in 2017-18 **\\[1718\\]**,\n",
    "- for Black students **\\[MBL\\]** \n",
    "- studying Math **\\[MTH\\]**\n",
    "- in the Eighth grade **\\[08\\]**, \n",
    "- what Percentage were deemed Proficient **\\[PCTPROF\\]**\n",
    "\n"
   ]
  },
  {
   "cell_type": "markdown",
   "metadata": {},
   "source": [
    "Knowing and observing this breakdown and groupings could prove helpful in improving the model later. For now, however, we'll keep only the following columns:\n",
    "- 'LEAID' - as our identifier / index. We'll convert this to a 7-digit string for concatenation.\n",
    "- 'ALL_MTH00PCTPROF_1718' and 'ALL_RLA00PCTPROF_1718' - This provides predictor columns to which we can append other datasets to get predictions\n",
    "\n",
    "Given the business understanding established previously, it makes sense to limit ourselves to these two predictor columns. So for the scope of this project, we'll limit the dataset to these three columns:"
   ]
  },
  {
   "cell_type": "code",
   "execution_count": 13,
   "metadata": {},
   "outputs": [
    {
     "name": "stdout",
     "output_type": "stream",
     "text": [
      "<class 'pandas.core.frame.DataFrame'>\n",
      "Int64Index: 16020 entries, 0 to 16019\n",
      "Data columns (total 3 columns):\n",
      " #   Column                 Non-Null Count  Dtype \n",
      "---  ------                 --------------  ----- \n",
      " 0   LEAID                  16020 non-null  object\n",
      " 1   ALL_MTH00PCTPROF_1718  16020 non-null  object\n",
      " 2   ALL_RLA00PCTPROF_1718  16020 non-null  object\n",
      "dtypes: object(3)\n",
      "memory usage: 500.6+ KB\n",
      "None\n",
      "     LEAID ALL_MTH00PCTPROF_1718 ALL_RLA00PCTPROF_1718\n",
      "0  0100005                    45                    38\n",
      "1  0100006                    43                    36\n",
      "2  0100007                    70                    65\n",
      "3  0100008                    76                    74\n",
      "4  0100011                    40                    41\n"
     ]
    }
   ],
   "source": [
    "## Create new dataframe which only contains desired features\n",
    "all_assessments_2018 = assessments_2018[['LEAID','ALL_MTH00PCTPROF_1718','ALL_RLA00PCTPROF_1718']]\n",
    "print(all_assessments_2018.info())\n",
    "print(all_assessments_2018.head())"
   ]
  },
  {
   "cell_type": "markdown",
   "metadata": {},
   "source": [
    "#### Rows\n",
    "There are almost 16,000 rows here. They appear to be unique observations for each Local Education Agency (LEA), but let's confirm:"
   ]
  },
  {
   "cell_type": "code",
   "execution_count": 14,
   "metadata": {},
   "outputs": [
    {
     "data": {
      "text/plain": [
       "False"
      ]
     },
     "execution_count": 14,
     "metadata": {},
     "output_type": "execute_result"
    }
   ],
   "source": [
    "## Ensure that LEAID is a unique value for each observation\n",
    "all_assessments_2018['LEAID'].nunique() == all_assessments_2018.shape[0]\n",
    "## Returns True if all values are unique, False if there are duplicates"
   ]
  },
  {
   "cell_type": "markdown",
   "metadata": {},
   "source": [
    "Alas, it appears that there are duplicate values. Let's see how many before we proceed, as this could impact our merge with census data, since we're using the LEAID as our merging identifier."
   ]
  },
  {
   "cell_type": "code",
   "execution_count": 15,
   "metadata": {},
   "outputs": [
    {
     "data": {
      "text/plain": [
       "0000000    49\n",
       "0000030     4\n",
       "0200030     4\n",
       "0000010     4\n",
       "0000060     4\n",
       "3904421     1\n",
       "2012900     1\n",
       "2311220     1\n",
       "4014100     1\n",
       "1811430     1\n",
       "Name: LEAID, dtype: int64"
      ]
     },
     "execution_count": 15,
     "metadata": {},
     "output_type": "execute_result"
    }
   ],
   "source": [
    "## Show how frequently each LEAID appears\n",
    "all_assessments_2018['LEAID'].value_counts(sort=True).head(10)"
   ]
  },
  {
   "cell_type": "markdown",
   "metadata": {},
   "source": [
    "From the documentation, LEAID = State FIPS \\[2 digits\\] + Unified School District (UNSD) Code \\[5 digits\\]. Since no state is assigned to \"00\", these are probably pseudo-districts or placeholders of some sort. Relative to the roughly 16,000 other school districts, this is a small number. So we'll only select the observations which have a unique LEAID before merging and preparing the data for the Machine Learning task."
   ]
  },
  {
   "cell_type": "code",
   "execution_count": 364,
   "metadata": {},
   "outputs": [],
   "source": [
    "## Drop observations with duplicate LEAIDs\n",
    "new_assessments_2018 = all_assessments_2018.drop_duplicates(subset='LEAID')\n",
    "\n",
    "## Create a copy so that \"copy of slice of dataframe\" error does not appear\n",
    "new_assessments_2018 = pd.DataFrame(new_assessments_2018).copy()"
   ]
  },
  {
   "cell_type": "code",
   "execution_count": 365,
   "metadata": {},
   "outputs": [
    {
     "data": {
      "text/plain": [
       "True"
      ]
     },
     "execution_count": 365,
     "metadata": {},
     "output_type": "execute_result"
    }
   ],
   "source": [
    "## Confirm unique identifiers again\n",
    "## Prints True if all items are unique, prints False if not\n",
    "new_assessments_2018['LEAID'].nunique() == new_assessments_2018.shape[0]"
   ]
  },
  {
   "cell_type": "code",
   "execution_count": 366,
   "metadata": {},
   "outputs": [
    {
     "data": {
      "text/html": [
       "<div>\n",
       "<style scoped>\n",
       "    .dataframe tbody tr th:only-of-type {\n",
       "        vertical-align: middle;\n",
       "    }\n",
       "\n",
       "    .dataframe tbody tr th {\n",
       "        vertical-align: top;\n",
       "    }\n",
       "\n",
       "    .dataframe thead th {\n",
       "        text-align: right;\n",
       "    }\n",
       "</style>\n",
       "<table border=\"1\" class=\"dataframe\">\n",
       "  <thead>\n",
       "    <tr style=\"text-align: right;\">\n",
       "      <th></th>\n",
       "      <th>LEAID</th>\n",
       "      <th>ALL_MTH00PCTPROF_1718</th>\n",
       "      <th>ALL_RLA00PCTPROF_1718</th>\n",
       "    </tr>\n",
       "  </thead>\n",
       "  <tbody>\n",
       "    <tr>\n",
       "      <th>0</th>\n",
       "      <td>0100005</td>\n",
       "      <td>45</td>\n",
       "      <td>38</td>\n",
       "    </tr>\n",
       "    <tr>\n",
       "      <th>1</th>\n",
       "      <td>0100006</td>\n",
       "      <td>43</td>\n",
       "      <td>36</td>\n",
       "    </tr>\n",
       "    <tr>\n",
       "      <th>2</th>\n",
       "      <td>0100007</td>\n",
       "      <td>70</td>\n",
       "      <td>65</td>\n",
       "    </tr>\n",
       "    <tr>\n",
       "      <th>3</th>\n",
       "      <td>0100008</td>\n",
       "      <td>76</td>\n",
       "      <td>74</td>\n",
       "    </tr>\n",
       "    <tr>\n",
       "      <th>4</th>\n",
       "      <td>0100011</td>\n",
       "      <td>40</td>\n",
       "      <td>41</td>\n",
       "    </tr>\n",
       "  </tbody>\n",
       "</table>\n",
       "</div>"
      ],
      "text/plain": [
       "     LEAID ALL_MTH00PCTPROF_1718 ALL_RLA00PCTPROF_1718\n",
       "0  0100005                    45                    38\n",
       "1  0100006                    43                    36\n",
       "2  0100007                    70                    65\n",
       "3  0100008                    76                    74\n",
       "4  0100011                    40                    41"
      ]
     },
     "execution_count": 366,
     "metadata": {},
     "output_type": "execute_result"
    }
   ],
   "source": [
    "## Preview new dataset\n",
    "new_assessments_2018.head()"
   ]
  },
  {
   "cell_type": "code",
   "execution_count": 367,
   "metadata": {},
   "outputs": [
    {
     "name": "stdout",
     "output_type": "stream",
     "text": [
      "<class 'pandas.core.frame.DataFrame'>\n",
      "Int64Index: 15960 entries, 0 to 16019\n",
      "Data columns (total 3 columns):\n",
      " #   Column                 Non-Null Count  Dtype \n",
      "---  ------                 --------------  ----- \n",
      " 0   LEAID                  15960 non-null  object\n",
      " 1   ALL_MTH00PCTPROF_1718  15960 non-null  object\n",
      " 2   ALL_RLA00PCTPROF_1718  15960 non-null  object\n",
      "dtypes: object(3)\n",
      "memory usage: 498.8+ KB\n"
     ]
    }
   ],
   "source": [
    "#Ensure that most of the data remains unharmed\n",
    "new_assessments_2018.info()"
   ]
  },
  {
   "cell_type": "markdown",
   "metadata": {},
   "source": [
    "Great. Since the unique number of LEAIDs (15960) matches the total number of observations for the dataset, we know that it is a unique value. We can use this value as our index later. The only issue remaining, which we will return to later, is the datatypes for all the columns - they are objects and not integers or floats, as we would want them to be if they were percentages being put into a regression."
   ]
  },
  {
   "cell_type": "markdown",
   "metadata": {},
   "source": [
    "# Explore Data"
   ]
  },
  {
   "cell_type": "markdown",
   "metadata": {},
   "source": [
    "In this section we'll explore and visualize the assessment data a little bit more, and prepare it for merging with geographic data and eventually census data as well: handling missing values, converting datatypes, and visualizing the data.\n",
    "\n",
    "First, for better readability, we'll change the names of the columns:"
   ]
  },
  {
   "cell_type": "code",
   "execution_count": 368,
   "metadata": {},
   "outputs": [
    {
     "data": {
      "text/html": [
       "<div>\n",
       "<style scoped>\n",
       "    .dataframe tbody tr th:only-of-type {\n",
       "        vertical-align: middle;\n",
       "    }\n",
       "\n",
       "    .dataframe tbody tr th {\n",
       "        vertical-align: top;\n",
       "    }\n",
       "\n",
       "    .dataframe thead th {\n",
       "        text-align: right;\n",
       "    }\n",
       "</style>\n",
       "<table border=\"1\" class=\"dataframe\">\n",
       "  <thead>\n",
       "    <tr style=\"text-align: right;\">\n",
       "      <th></th>\n",
       "      <th>LEAID</th>\n",
       "      <th>math_prof</th>\n",
       "      <th>rla_prof</th>\n",
       "    </tr>\n",
       "  </thead>\n",
       "  <tbody>\n",
       "    <tr>\n",
       "      <th>0</th>\n",
       "      <td>0100005</td>\n",
       "      <td>45</td>\n",
       "      <td>38</td>\n",
       "    </tr>\n",
       "    <tr>\n",
       "      <th>1</th>\n",
       "      <td>0100006</td>\n",
       "      <td>43</td>\n",
       "      <td>36</td>\n",
       "    </tr>\n",
       "    <tr>\n",
       "      <th>2</th>\n",
       "      <td>0100007</td>\n",
       "      <td>70</td>\n",
       "      <td>65</td>\n",
       "    </tr>\n",
       "    <tr>\n",
       "      <th>3</th>\n",
       "      <td>0100008</td>\n",
       "      <td>76</td>\n",
       "      <td>74</td>\n",
       "    </tr>\n",
       "    <tr>\n",
       "      <th>4</th>\n",
       "      <td>0100011</td>\n",
       "      <td>40</td>\n",
       "      <td>41</td>\n",
       "    </tr>\n",
       "  </tbody>\n",
       "</table>\n",
       "</div>"
      ],
      "text/plain": [
       "     LEAID math_prof rla_prof\n",
       "0  0100005        45       38\n",
       "1  0100006        43       36\n",
       "2  0100007        70       65\n",
       "3  0100008        76       74\n",
       "4  0100011        40       41"
      ]
     },
     "execution_count": 368,
     "metadata": {},
     "output_type": "execute_result"
    }
   ],
   "source": [
    "new_assessments_2018.rename(columns={'ALL_MTH00PCTPROF_1718': 'math_prof', 'ALL_RLA00PCTPROF_1718': 'rla_prof'}, inplace=True)\n",
    "new_assessments_2018.head()"
   ]
  },
  {
   "cell_type": "markdown",
   "metadata": {},
   "source": [
    "## Missing Values"
   ]
  },
  {
   "cell_type": "code",
   "execution_count": 369,
   "metadata": {},
   "outputs": [
    {
     "name": "stdout",
     "output_type": "stream",
     "text": [
      "<class 'pandas.core.frame.DataFrame'>\n",
      "Int64Index: 15960 entries, 0 to 16019\n",
      "Data columns (total 3 columns):\n",
      " #   Column     Non-Null Count  Dtype \n",
      "---  ------     --------------  ----- \n",
      " 0   LEAID      15960 non-null  object\n",
      " 1   math_prof  15960 non-null  object\n",
      " 2   rla_prof   15960 non-null  object\n",
      "dtypes: object(3)\n",
      "memory usage: 498.8+ KB\n"
     ]
    }
   ],
   "source": [
    "## Look at the shape of the dataset again\n",
    "new_assessments_2018.info()"
   ]
  },
  {
   "cell_type": "markdown",
   "metadata": {},
   "source": [
    "This shows that the dataset has 15960 entries, with 15960 of them non-null - i.e., zero null values!\n",
    "\n",
    "Can this be true? We'll take a further look. The missingno package helps to visualize if there are any missing values in the dataframe:"
   ]
  },
  {
   "cell_type": "code",
   "execution_count": 370,
   "metadata": {},
   "outputs": [
    {
     "data": {
      "image/png": "[encoded data removed]",
      "text/plain": [
       "<Figure size 1800x720 with 2 Axes>"
      ]
     },
     "metadata": {
      "needs_background": "light"
     },
     "output_type": "display_data"
    }
   ],
   "source": [
    "## Display missing values in missing no package\n",
    "msno.matrix(new_assessments_2018);"
   ]
  },
  {
   "cell_type": "markdown",
   "metadata": {},
   "source": [
    "Looking more granularly at the data:"
   ]
  },
  {
   "cell_type": "code",
   "execution_count": 371,
   "metadata": {},
   "outputs": [
    {
     "data": {
      "text/html": [
       "<div>\n",
       "<style scoped>\n",
       "    .dataframe tbody tr th:only-of-type {\n",
       "        vertical-align: middle;\n",
       "    }\n",
       "\n",
       "    .dataframe tbody tr th {\n",
       "        vertical-align: top;\n",
       "    }\n",
       "\n",
       "    .dataframe thead th {\n",
       "        text-align: right;\n",
       "    }\n",
       "</style>\n",
       "<table border=\"1\" class=\"dataframe\">\n",
       "  <thead>\n",
       "    <tr style=\"text-align: right;\">\n",
       "      <th></th>\n",
       "      <th>LEAID</th>\n",
       "      <th>math_prof</th>\n",
       "      <th>rla_prof</th>\n",
       "    </tr>\n",
       "  </thead>\n",
       "  <tbody>\n",
       "    <tr>\n",
       "      <th>0</th>\n",
       "      <td>0100005</td>\n",
       "      <td>45</td>\n",
       "      <td>38</td>\n",
       "    </tr>\n",
       "    <tr>\n",
       "      <th>1</th>\n",
       "      <td>0100006</td>\n",
       "      <td>43</td>\n",
       "      <td>36</td>\n",
       "    </tr>\n",
       "    <tr>\n",
       "      <th>2</th>\n",
       "      <td>0100007</td>\n",
       "      <td>70</td>\n",
       "      <td>65</td>\n",
       "    </tr>\n",
       "    <tr>\n",
       "      <th>3</th>\n",
       "      <td>0100008</td>\n",
       "      <td>76</td>\n",
       "      <td>74</td>\n",
       "    </tr>\n",
       "    <tr>\n",
       "      <th>4</th>\n",
       "      <td>0100011</td>\n",
       "      <td>40</td>\n",
       "      <td>41</td>\n",
       "    </tr>\n",
       "    <tr>\n",
       "      <th>5</th>\n",
       "      <td>0100012</td>\n",
       "      <td>41</td>\n",
       "      <td>40</td>\n",
       "    </tr>\n",
       "    <tr>\n",
       "      <th>6</th>\n",
       "      <td>0100013</td>\n",
       "      <td>76</td>\n",
       "      <td>71</td>\n",
       "    </tr>\n",
       "    <tr>\n",
       "      <th>7</th>\n",
       "      <td>0100030</td>\n",
       "      <td>42</td>\n",
       "      <td>40</td>\n",
       "    </tr>\n",
       "    <tr>\n",
       "      <th>8</th>\n",
       "      <td>0100060</td>\n",
       "      <td>39</td>\n",
       "      <td>41</td>\n",
       "    </tr>\n",
       "    <tr>\n",
       "      <th>9</th>\n",
       "      <td>0100090</td>\n",
       "      <td>21</td>\n",
       "      <td>25</td>\n",
       "    </tr>\n",
       "    <tr>\n",
       "      <th>10</th>\n",
       "      <td>0100100</td>\n",
       "      <td>74</td>\n",
       "      <td>68</td>\n",
       "    </tr>\n",
       "    <tr>\n",
       "      <th>11</th>\n",
       "      <td>0100120</td>\n",
       "      <td>54</td>\n",
       "      <td>51</td>\n",
       "    </tr>\n",
       "    <tr>\n",
       "      <th>12</th>\n",
       "      <td>0100180</td>\n",
       "      <td>41</td>\n",
       "      <td>44</td>\n",
       "    </tr>\n",
       "    <tr>\n",
       "      <th>13</th>\n",
       "      <td>0100185</td>\n",
       "      <td>72</td>\n",
       "      <td>63</td>\n",
       "    </tr>\n",
       "    <tr>\n",
       "      <th>14</th>\n",
       "      <td>0100188</td>\n",
       "      <td>21</td>\n",
       "      <td>24</td>\n",
       "    </tr>\n",
       "    <tr>\n",
       "      <th>15</th>\n",
       "      <td>0100189</td>\n",
       "      <td>59</td>\n",
       "      <td>61</td>\n",
       "    </tr>\n",
       "    <tr>\n",
       "      <th>16</th>\n",
       "      <td>0100190</td>\n",
       "      <td>55</td>\n",
       "      <td>54</td>\n",
       "    </tr>\n",
       "    <tr>\n",
       "      <th>17</th>\n",
       "      <td>0100194</td>\n",
       "      <td>54</td>\n",
       "      <td>53</td>\n",
       "    </tr>\n",
       "    <tr>\n",
       "      <th>18</th>\n",
       "      <td>0100195</td>\n",
       "      <td>47</td>\n",
       "      <td>55</td>\n",
       "    </tr>\n",
       "    <tr>\n",
       "      <th>19</th>\n",
       "      <td>0100197</td>\n",
       "      <td>20-29</td>\n",
       "      <td>20-29</td>\n",
       "    </tr>\n",
       "  </tbody>\n",
       "</table>\n",
       "</div>"
      ],
      "text/plain": [
       "      LEAID math_prof rla_prof\n",
       "0   0100005        45       38\n",
       "1   0100006        43       36\n",
       "2   0100007        70       65\n",
       "3   0100008        76       74\n",
       "4   0100011        40       41\n",
       "5   0100012        41       40\n",
       "6   0100013        76       71\n",
       "7   0100030        42       40\n",
       "8   0100060        39       41\n",
       "9   0100090        21       25\n",
       "10  0100100        74       68\n",
       "11  0100120        54       51\n",
       "12  0100180        41       44\n",
       "13  0100185        72       63\n",
       "14  0100188        21       24\n",
       "15  0100189        59       61\n",
       "16  0100190        55       54\n",
       "17  0100194        54       53\n",
       "18  0100195        47       55\n",
       "19  0100197     20-29    20-29"
      ]
     },
     "execution_count": 371,
     "metadata": {},
     "output_type": "execute_result"
    }
   ],
   "source": [
    "## View first 20 values in each column\n",
    "new_assessments_2018.head(20)"
   ]
  },
  {
   "cell_type": "markdown",
   "metadata": {},
   "source": [
    "Already we see one major issue, it looks like some of the data is saved as ranges, and not integers or floats. Let's look at the tail:"
   ]
  },
  {
   "cell_type": "code",
   "execution_count": 372,
   "metadata": {},
   "outputs": [
    {
     "data": {
      "text/html": [
       "<div>\n",
       "<style scoped>\n",
       "    .dataframe tbody tr th:only-of-type {\n",
       "        vertical-align: middle;\n",
       "    }\n",
       "\n",
       "    .dataframe tbody tr th {\n",
       "        vertical-align: top;\n",
       "    }\n",
       "\n",
       "    .dataframe thead th {\n",
       "        text-align: right;\n",
       "    }\n",
       "</style>\n",
       "<table border=\"1\" class=\"dataframe\">\n",
       "  <thead>\n",
       "    <tr style=\"text-align: right;\">\n",
       "      <th></th>\n",
       "      <th>LEAID</th>\n",
       "      <th>math_prof</th>\n",
       "      <th>rla_prof</th>\n",
       "    </tr>\n",
       "  </thead>\n",
       "  <tbody>\n",
       "    <tr>\n",
       "      <th>16000</th>\n",
       "      <td>5604260</td>\n",
       "      <td>40</td>\n",
       "      <td>53</td>\n",
       "    </tr>\n",
       "    <tr>\n",
       "      <th>16001</th>\n",
       "      <td>5604380</td>\n",
       "      <td>70-74</td>\n",
       "      <td>55-59</td>\n",
       "    </tr>\n",
       "    <tr>\n",
       "      <th>16002</th>\n",
       "      <td>5604450</td>\n",
       "      <td>9</td>\n",
       "      <td>12</td>\n",
       "    </tr>\n",
       "    <tr>\n",
       "      <th>16003</th>\n",
       "      <td>5604500</td>\n",
       "      <td>53</td>\n",
       "      <td>55</td>\n",
       "    </tr>\n",
       "    <tr>\n",
       "      <th>16004</th>\n",
       "      <td>5604510</td>\n",
       "      <td>46</td>\n",
       "      <td>51</td>\n",
       "    </tr>\n",
       "    <tr>\n",
       "      <th>16005</th>\n",
       "      <td>5604830</td>\n",
       "      <td>51</td>\n",
       "      <td>60</td>\n",
       "    </tr>\n",
       "    <tr>\n",
       "      <th>16006</th>\n",
       "      <td>5604860</td>\n",
       "      <td>65</td>\n",
       "      <td>63</td>\n",
       "    </tr>\n",
       "    <tr>\n",
       "      <th>16007</th>\n",
       "      <td>5605090</td>\n",
       "      <td>51</td>\n",
       "      <td>54</td>\n",
       "    </tr>\n",
       "    <tr>\n",
       "      <th>16008</th>\n",
       "      <td>5605160</td>\n",
       "      <td>60</td>\n",
       "      <td>61</td>\n",
       "    </tr>\n",
       "    <tr>\n",
       "      <th>16009</th>\n",
       "      <td>5605220</td>\n",
       "      <td>41</td>\n",
       "      <td>41</td>\n",
       "    </tr>\n",
       "    <tr>\n",
       "      <th>16010</th>\n",
       "      <td>5605302</td>\n",
       "      <td>47</td>\n",
       "      <td>52</td>\n",
       "    </tr>\n",
       "    <tr>\n",
       "      <th>16011</th>\n",
       "      <td>5605680</td>\n",
       "      <td>50-54</td>\n",
       "      <td>55-59</td>\n",
       "    </tr>\n",
       "    <tr>\n",
       "      <th>16012</th>\n",
       "      <td>5605690</td>\n",
       "      <td>57</td>\n",
       "      <td>58</td>\n",
       "    </tr>\n",
       "    <tr>\n",
       "      <th>16013</th>\n",
       "      <td>5605695</td>\n",
       "      <td>72</td>\n",
       "      <td>75</td>\n",
       "    </tr>\n",
       "    <tr>\n",
       "      <th>16014</th>\n",
       "      <td>5605700</td>\n",
       "      <td>48</td>\n",
       "      <td>48</td>\n",
       "    </tr>\n",
       "    <tr>\n",
       "      <th>16015</th>\n",
       "      <td>5605762</td>\n",
       "      <td>56</td>\n",
       "      <td>57</td>\n",
       "    </tr>\n",
       "    <tr>\n",
       "      <th>16016</th>\n",
       "      <td>5605820</td>\n",
       "      <td>60-69</td>\n",
       "      <td>60-69</td>\n",
       "    </tr>\n",
       "    <tr>\n",
       "      <th>16017</th>\n",
       "      <td>5605830</td>\n",
       "      <td>55</td>\n",
       "      <td>61</td>\n",
       "    </tr>\n",
       "    <tr>\n",
       "      <th>16018</th>\n",
       "      <td>5606090</td>\n",
       "      <td>40-44</td>\n",
       "      <td>50-54</td>\n",
       "    </tr>\n",
       "    <tr>\n",
       "      <th>16019</th>\n",
       "      <td>5606240</td>\n",
       "      <td>57</td>\n",
       "      <td>63</td>\n",
       "    </tr>\n",
       "  </tbody>\n",
       "</table>\n",
       "</div>"
      ],
      "text/plain": [
       "         LEAID math_prof rla_prof\n",
       "16000  5604260        40       53\n",
       "16001  5604380     70-74    55-59\n",
       "16002  5604450         9       12\n",
       "16003  5604500        53       55\n",
       "16004  5604510        46       51\n",
       "16005  5604830        51       60\n",
       "16006  5604860        65       63\n",
       "16007  5605090        51       54\n",
       "16008  5605160        60       61\n",
       "16009  5605220        41       41\n",
       "16010  5605302        47       52\n",
       "16011  5605680     50-54    55-59\n",
       "16012  5605690        57       58\n",
       "16013  5605695        72       75\n",
       "16014  5605700        48       48\n",
       "16015  5605762        56       57\n",
       "16016  5605820     60-69    60-69\n",
       "16017  5605830        55       61\n",
       "16018  5606090     40-44    50-54\n",
       "16019  5606240        57       63"
      ]
     },
     "execution_count": 372,
     "metadata": {},
     "output_type": "execute_result"
    }
   ],
   "source": [
    "## View last 20 values in each column\n",
    "new_assessments_2018.tail(20)"
   ]
  },
  {
   "cell_type": "code",
   "execution_count": 373,
   "metadata": {},
   "outputs": [
    {
     "data": {
      "text/plain": [
       "30-34    320\n",
       "35-39    304\n",
       "40-44    294\n",
       "25-29    293\n",
       "45-49    280\n",
       "        ... \n",
       "95         4\n",
       "96         2\n",
       "94         2\n",
       "GE99       2\n",
       "97         1\n",
       "Name: math_prof, Length: 137, dtype: int64"
      ]
     },
     "execution_count": 373,
     "metadata": {},
     "output_type": "execute_result"
    }
   ],
   "source": [
    "## Check values in individual columns\n",
    "new_assessments_2018.math_prof.value_counts()"
   ]
  },
  {
   "cell_type": "code",
   "execution_count": 374,
   "metadata": {},
   "outputs": [
    {
     "data": {
      "text/plain": [
       "40-44    355\n",
       "35-39    320\n",
       "45-49    316\n",
       "30-34    285\n",
       "50-54    283\n",
       "        ... \n",
       "96         5\n",
       "95         5\n",
       "6          4\n",
       "94         4\n",
       "3          3\n",
       "Name: rla_prof, Length: 136, dtype: int64"
      ]
     },
     "execution_count": 374,
     "metadata": {},
     "output_type": "execute_result"
    }
   ],
   "source": [
    "# check values in individual columns\n",
    "new_assessments_2018.rla_prof.value_counts()"
   ]
  },
  {
   "cell_type": "markdown",
   "metadata": {},
   "source": [
    "So before we can begin analyzing and visualizing the data, we'll have to handle the numerical data that's represented by strings in the proficiency columns."
   ]
  },
  {
   "cell_type": "markdown",
   "metadata": {},
   "source": [
    "## Convert Datatypes"
   ]
  },
  {
   "cell_type": "markdown",
   "metadata": {},
   "source": [
    "Further inspection reveals that \"nan\" values, \".\" values (also described as blank in documentation),  ranges, and strings are complicating the numerical analysis. Referring again to the documentation, these variations were intentionally introduced for student privacy concerns, with the following codes:\n",
    "\n",
    "- GE - Greater than or equal to\n",
    "- LE - Less than or equal to\n",
    "- GT Greater than\n",
    "- LT - Less than\n",
    "- PS - Privacy Suppressed (<5 students)\n",
    "\n",
    "Specifically, as specified in Part 1.5 and Table 2 of the documentation for 2017-18, for schools with less than 300 students, \"As the number of students reported increases, the magnitude of the range decreases\". \n",
    "\n",
    "Given these ranges, we could make a few choices:\n",
    "\n",
    "1. Dropna\n",
    "    - Drop all values that are not integers\n",
    "    - This would leave too few observations\n",
    "    \n",
    "2. Bin score ranges, for example:\n",
    "    - Smaller scale (e.g., 25-29)\n",
    "    - Medium-scale (e.g., Very High proficiency (>80%), high proficiency (60-80), proficient (40-60), low proficiency (20-40), very low proficiency (0-20)\n",
    "    - Large scale (e.g., >= 50% as proficient)\n",
    "\n",
    "3. Create integer out of ranges:\n",
    "    - Replace the string ranges (e.g., 50-55) with averages \n",
    "    - We can then convert these strings to numerical datatypes\n",
    "    \n",
    "\n",
    "For this analysis, we'll go with:\n",
    "- option 1 (drop) for observations that have letters in them\n",
    "    - Those ranges would be too wide to provide informative datapoints \n",
    "    - (e.g., % proficient > 50 could be anywhere between 50-100, and is not very accurate\n",
    "    \n",
    "- option 3 (create integer) for observations that have ranges\n",
    "    - We'll do this by averaging the two scores within the range\n",
    "    - This will allow us to perform a regression instead of a classification\n",
    "    - A regression will allow us to perform more detailed analysis later on\n",
    "    - This will also allow for better customization later on after the model is created."
   ]
  },
  {
   "cell_type": "markdown",
   "metadata": {},
   "source": [
    "### Convert ranges to integer averages"
   ]
  },
  {
   "cell_type": "code",
   "execution_count": 375,
   "metadata": {},
   "outputs": [],
   "source": [
    "assessments_test = new_assessments_2018.copy()"
   ]
  },
  {
   "cell_type": "code",
   "execution_count": 376,
   "metadata": {},
   "outputs": [],
   "source": [
    "## Create function to turn ranges into integer averages\n",
    "\n",
    "def range_cleaner(number):\n",
    "    \"\"\"Create average from range of numbers with \"-\" in them.\n",
    "    \n",
    "    Parameters: \n",
    "    number(string, int, float): Any number that might be a range (have \"-\")\n",
    "    \n",
    "    Returns:\n",
    "    int:Returning value\n",
    "    \n",
    "    \"\"\"\n",
    "    \n",
    "    number = str(number) # Convert values to string to enable RegEx functionality\n",
    "    if '-' in number: # Check if there is a dash in the string\n",
    "        x, y = number.split('-') # Divide the string into two numbers, splitting on dash\n",
    "        number = (int(x) + int(y)) / 2 # set number equal to the average  of x and y\n",
    "        number = int(number) # convert these new values to integers\n",
    "        return number #returns modified number\n",
    "    else:\n",
    "        return number #returns untouched numbers\n",
    "    "
   ]
  },
  {
   "cell_type": "code",
   "execution_count": 377,
   "metadata": {},
   "outputs": [
    {
     "name": "stdout",
     "output_type": "stream",
     "text": [
      "36\n",
      "<class 'int'>\n"
     ]
    }
   ],
   "source": [
    "## Test the function\n",
    "number = '31-42'\n",
    "number = range_cleaner(number)\n",
    "print(number)\n",
    "print(type(number))"
   ]
  },
  {
   "cell_type": "code",
   "execution_count": 378,
   "metadata": {},
   "outputs": [],
   "source": [
    "## Apply range cleaner function to test dataset math proficiency column\n",
    "assessments_test.math_prof = assessments_test.math_prof.apply(range_cleaner)\n",
    "\n",
    "## Apply range cleaner function to test dataset reading/language arts proficiency column\n",
    "assessments_test.rla_prof = assessments_test.rla_prof.apply(range_cleaner)"
   ]
  },
  {
   "cell_type": "code",
   "execution_count": 379,
   "metadata": {},
   "outputs": [
    {
     "name": "stdout",
     "output_type": "stream",
     "text": [
      "<class 'pandas.core.frame.DataFrame'>\n",
      "Int64Index: 15960 entries, 0 to 16019\n",
      "Data columns (total 3 columns):\n",
      " #   Column     Non-Null Count  Dtype \n",
      "---  ------     --------------  ----- \n",
      " 0   LEAID      15960 non-null  object\n",
      " 1   math_prof  15960 non-null  object\n",
      " 2   rla_prof   15960 non-null  object\n",
      "dtypes: object(3)\n",
      "memory usage: 498.8+ KB\n"
     ]
    }
   ],
   "source": [
    "assessments_test.info()"
   ]
  },
  {
   "cell_type": "markdown",
   "metadata": {},
   "source": [
    "### Remove letter range observations"
   ]
  },
  {
   "cell_type": "code",
   "execution_count": 380,
   "metadata": {
    "tags": [
     "function"
    ]
   },
   "outputs": [],
   "source": [
    "## Create function to change values with letters to NaN\n",
    "def remove_letters(number):\n",
    "    \"\"\"Remove range abbreviations GE, GT, LT, LE, PS from series\n",
    "    \n",
    "    Parameters: \n",
    "    number(string, int, float): A number that may have any of the above abbreviations in it\n",
    "    \n",
    "    Returns:\n",
    "    int:Returning value\n",
    "    \n",
    "    \"\"\"\n",
    "    number = str(number) # Convert values to string to enable RegEx functionality\n",
    "    remove_values = ['GT', 'GE', 'LT', 'LE', 'PS',] # Specify values to remove, as defined above\n",
    "    for value in remove_values: # Loop through each of the 5 values\n",
    "        if re.search(value, number): # Check if the value is in the string\n",
    "            number = 'REMOVE' # Assign a string to know to remove/convert to nan for dropping\n",
    "        else:\n",
    "            number = number # If not satisfied, only return untouched number\n",
    "    number = pd.to_numeric(number, errors='coerce') # set all values to numeric datatypes\n",
    "    return number"
   ]
  },
  {
   "cell_type": "code",
   "execution_count": 381,
   "metadata": {
    "tags": [
     "function"
    ]
   },
   "outputs": [
    {
     "name": "stdout",
     "output_type": "stream",
     "text": [
      "24\n",
      "<class 'numpy.int64'>\n"
     ]
    }
   ],
   "source": [
    "## Test the function\n",
    "\n",
    "new = '24'\n",
    "new = remove_letters(new)\n",
    "print(new)\n",
    "print(type(new))"
   ]
  },
  {
   "cell_type": "code",
   "execution_count": 382,
   "metadata": {},
   "outputs": [],
   "source": [
    "## Apply remove letters function to test dataset math proficiency column\n",
    "assessments_test.math_prof = assessments_test.math_prof.apply(remove_letters)\n",
    "\n",
    "## Apply remove letters function to test dataset reading/language arts proficiency column\n",
    "assessments_test.rla_prof = assessments_test.rla_prof.apply(remove_letters)"
   ]
  },
  {
   "cell_type": "code",
   "execution_count": 383,
   "metadata": {},
   "outputs": [],
   "source": [
    "## Drop nan values (which we intentionally created in the previous steps)\n",
    "assessments_test.dropna(inplace=True)"
   ]
  },
  {
   "cell_type": "code",
   "execution_count": 384,
   "metadata": {},
   "outputs": [
    {
     "name": "stdout",
     "output_type": "stream",
     "text": [
      "<class 'pandas.core.frame.DataFrame'>\n",
      "Int64Index: 14864 entries, 0 to 16019\n",
      "Data columns (total 3 columns):\n",
      " #   Column     Non-Null Count  Dtype  \n",
      "---  ------     --------------  -----  \n",
      " 0   LEAID      14864 non-null  object \n",
      " 1   math_prof  14864 non-null  float64\n",
      " 2   rla_prof   14864 non-null  float64\n",
      "dtypes: float64(2), object(1)\n",
      "memory usage: 464.5+ KB\n"
     ]
    }
   ],
   "source": [
    "## Preview the new shape of the dataset\n",
    "## Ensure not too many values dropped\n",
    "## Double check datatypes, etc.\n",
    "assessments_test.info()"
   ]
  },
  {
   "cell_type": "markdown",
   "metadata": {},
   "source": [
    "Looking at the shape of the dataset above, it looks like we're still good. We went from about 16,000 observations to just under 15,000. So we deleted about 1,000 observations which had wide ranges as values.\n",
    "\n",
    "Additionally, we can see that since we removed letter values, the math and reading / language arts proficiency percentages are all numerical datatyes. \n",
    "\n",
    "Since this works, we'll apply both functions to the dataset:"
   ]
  },
  {
   "cell_type": "markdown",
   "metadata": {},
   "source": [
    "### Apply both functions to both columns"
   ]
  },
  {
   "cell_type": "code",
   "execution_count": 385,
   "metadata": {},
   "outputs": [
    {
     "name": "stdout",
     "output_type": "stream",
     "text": [
      "<class 'pandas.core.frame.DataFrame'>\n",
      "Int64Index: 15960 entries, 0 to 16019\n",
      "Data columns (total 3 columns):\n",
      " #   Column     Non-Null Count  Dtype \n",
      "---  ------     --------------  ----- \n",
      " 0   LEAID      15960 non-null  object\n",
      " 1   math_prof  15960 non-null  object\n",
      " 2   rla_prof   15960 non-null  object\n",
      "dtypes: object(3)\n",
      "memory usage: 498.8+ KB\n"
     ]
    }
   ],
   "source": [
    "## Apply range cleaner function to test dataset math proficiency column\n",
    "new_assessments_2018.math_prof = new_assessments_2018.math_prof.apply(range_cleaner)\n",
    "\n",
    "## Apply range cleaner function to test dataset reading/language arts proficiency column\n",
    "new_assessments_2018.rla_prof = new_assessments_2018.rla_prof.apply(range_cleaner)\n",
    "\n",
    "new_assessments_2018.info()"
   ]
  },
  {
   "cell_type": "code",
   "execution_count": 386,
   "metadata": {},
   "outputs": [
    {
     "name": "stdout",
     "output_type": "stream",
     "text": [
      "<class 'pandas.core.frame.DataFrame'>\n",
      "Int64Index: 15960 entries, 0 to 16019\n",
      "Data columns (total 3 columns):\n",
      " #   Column     Non-Null Count  Dtype  \n",
      "---  ------     --------------  -----  \n",
      " 0   LEAID      15960 non-null  object \n",
      " 1   math_prof  14920 non-null  float64\n",
      " 2   rla_prof   15099 non-null  float64\n",
      "dtypes: float64(2), object(1)\n",
      "memory usage: 498.8+ KB\n"
     ]
    }
   ],
   "source": [
    "## Apply remove letters  function to dataset math proficiency column\n",
    "new_assessments_2018.math_prof = new_assessments_2018.math_prof.apply(remove_letters)\n",
    "\n",
    "## Apply remove letters function to dataset reading/language arts proficiency column\n",
    "new_assessments_2018.rla_prof = new_assessments_2018.rla_prof.apply(remove_letters)\n",
    "new_assessments_2018.info()"
   ]
  },
  {
   "cell_type": "code",
   "execution_count": 388,
   "metadata": {},
   "outputs": [
    {
     "data": {
      "text/plain": [
       "(14864, 3)"
      ]
     },
     "execution_count": 388,
     "metadata": {},
     "output_type": "execute_result"
    }
   ],
   "source": [
    "## Remove the values we intentionally set to nan\n",
    "new_assessments_2018.dropna(inplace=True)\n",
    "new_assessments_2018.shape"
   ]
  },
  {
   "cell_type": "code",
   "execution_count": 389,
   "metadata": {},
   "outputs": [
    {
     "data": {
      "text/html": [
       "<div>\n",
       "<style scoped>\n",
       "    .dataframe tbody tr th:only-of-type {\n",
       "        vertical-align: middle;\n",
       "    }\n",
       "\n",
       "    .dataframe tbody tr th {\n",
       "        vertical-align: top;\n",
       "    }\n",
       "\n",
       "    .dataframe thead th {\n",
       "        text-align: right;\n",
       "    }\n",
       "</style>\n",
       "<table border=\"1\" class=\"dataframe\">\n",
       "  <thead>\n",
       "    <tr style=\"text-align: right;\">\n",
       "      <th></th>\n",
       "      <th>LEAID</th>\n",
       "      <th>math_prof</th>\n",
       "      <th>rla_prof</th>\n",
       "    </tr>\n",
       "  </thead>\n",
       "  <tbody>\n",
       "    <tr>\n",
       "      <th>0</th>\n",
       "      <td>0100005</td>\n",
       "      <td>45.0</td>\n",
       "      <td>38.0</td>\n",
       "    </tr>\n",
       "    <tr>\n",
       "      <th>1</th>\n",
       "      <td>0100006</td>\n",
       "      <td>43.0</td>\n",
       "      <td>36.0</td>\n",
       "    </tr>\n",
       "    <tr>\n",
       "      <th>2</th>\n",
       "      <td>0100007</td>\n",
       "      <td>70.0</td>\n",
       "      <td>65.0</td>\n",
       "    </tr>\n",
       "    <tr>\n",
       "      <th>3</th>\n",
       "      <td>0100008</td>\n",
       "      <td>76.0</td>\n",
       "      <td>74.0</td>\n",
       "    </tr>\n",
       "    <tr>\n",
       "      <th>4</th>\n",
       "      <td>0100011</td>\n",
       "      <td>40.0</td>\n",
       "      <td>41.0</td>\n",
       "    </tr>\n",
       "  </tbody>\n",
       "</table>\n",
       "</div>"
      ],
      "text/plain": [
       "     LEAID  math_prof  rla_prof\n",
       "0  0100005       45.0      38.0\n",
       "1  0100006       43.0      36.0\n",
       "2  0100007       70.0      65.0\n",
       "3  0100008       76.0      74.0\n",
       "4  0100011       40.0      41.0"
      ]
     },
     "execution_count": 389,
     "metadata": {},
     "output_type": "execute_result"
    }
   ],
   "source": [
    "new_assessments_2018.head()"
   ]
  },
  {
   "cell_type": "code",
   "execution_count": 390,
   "metadata": {},
   "outputs": [
    {
     "data": {
      "text/html": [
       "<div>\n",
       "<style scoped>\n",
       "    .dataframe tbody tr th:only-of-type {\n",
       "        vertical-align: middle;\n",
       "    }\n",
       "\n",
       "    .dataframe tbody tr th {\n",
       "        vertical-align: top;\n",
       "    }\n",
       "\n",
       "    .dataframe thead th {\n",
       "        text-align: right;\n",
       "    }\n",
       "</style>\n",
       "<table border=\"1\" class=\"dataframe\">\n",
       "  <thead>\n",
       "    <tr style=\"text-align: right;\">\n",
       "      <th></th>\n",
       "      <th>math_prof</th>\n",
       "      <th>rla_prof</th>\n",
       "    </tr>\n",
       "  </thead>\n",
       "  <tbody>\n",
       "    <tr>\n",
       "      <th>count</th>\n",
       "      <td>14864.000000</td>\n",
       "      <td>14864.000000</td>\n",
       "    </tr>\n",
       "    <tr>\n",
       "      <th>mean</th>\n",
       "      <td>43.466362</td>\n",
       "      <td>48.853471</td>\n",
       "    </tr>\n",
       "    <tr>\n",
       "      <th>std</th>\n",
       "      <td>18.372749</td>\n",
       "      <td>17.386347</td>\n",
       "    </tr>\n",
       "    <tr>\n",
       "      <th>min</th>\n",
       "      <td>2.000000</td>\n",
       "      <td>2.000000</td>\n",
       "    </tr>\n",
       "    <tr>\n",
       "      <th>25%</th>\n",
       "      <td>30.000000</td>\n",
       "      <td>37.000000</td>\n",
       "    </tr>\n",
       "    <tr>\n",
       "      <th>50%</th>\n",
       "      <td>42.000000</td>\n",
       "      <td>48.000000</td>\n",
       "    </tr>\n",
       "    <tr>\n",
       "      <th>75%</th>\n",
       "      <td>56.000000</td>\n",
       "      <td>62.000000</td>\n",
       "    </tr>\n",
       "    <tr>\n",
       "      <th>max</th>\n",
       "      <td>98.000000</td>\n",
       "      <td>98.000000</td>\n",
       "    </tr>\n",
       "  </tbody>\n",
       "</table>\n",
       "</div>"
      ],
      "text/plain": [
       "          math_prof      rla_prof\n",
       "count  14864.000000  14864.000000\n",
       "mean      43.466362     48.853471\n",
       "std       18.372749     17.386347\n",
       "min        2.000000      2.000000\n",
       "25%       30.000000     37.000000\n",
       "50%       42.000000     48.000000\n",
       "75%       56.000000     62.000000\n",
       "max       98.000000     98.000000"
      ]
     },
     "execution_count": 390,
     "metadata": {},
     "output_type": "execute_result"
    }
   ],
   "source": [
    "new_assessments_2018.describe()"
   ]
  },
  {
   "cell_type": "code",
   "execution_count": 391,
   "metadata": {},
   "outputs": [
    {
     "data": {
      "image/png": "[encoded data removed]",
      "text/plain": [
       "<Figure size 432x288 with 2 Axes>"
      ]
     },
     "metadata": {
      "needs_background": "light"
     },
     "output_type": "display_data"
    }
   ],
   "source": [
    "new_assessments_2018.hist();"
   ]
  },
  {
   "cell_type": "code",
   "execution_count": 394,
   "metadata": {},
   "outputs": [],
   "source": [
    "new_assessments_2018.to_pickle('../data/education/new_assessments_2018.pkl')"
   ]
  },
  {
   "cell_type": "markdown",
   "metadata": {},
   "source": [
    "## Reading and Language Arts Assessment"
   ]
  },
  {
   "cell_type": "code",
   "execution_count": null,
   "metadata": {},
   "outputs": [],
   "source": [
    "PS_values = new_assessments_2018[new_assessments_2018['math_prof'] == \"PS\" ].index\n",
    "period_values = new_assessments_2018[new_assessments_2018['math_prof'] == \".\" ].index\n",
    "LE_values = new_assessments_2018[new_assessments_2018.math_prof.str.contains(\"LE\")].index\n",
    "GT_values = new_assessments_2018[new_assessments_2018.math_prof.str.contains(\"GE\")].index\n",
    "GE_values = new_assessments_2018[new_assessments_2018.math_prof.str.contains(\"GT\")].index\n",
    "LT_values = new_assessments_2018[new_assessments_2018.math_prof.str.contains(\"LT\")].index\n",
    "\n",
    "new_assessments_2018.drop(PS_values, inplace = True)\n",
    "new_assessments_2018.drop(period_values, inplace = True)\n",
    "new_assessments_2018.drop(LT_values, inplace = True)\n",
    "new_assessments_2018.drop(LE_values, inplace = True)\n",
    "new_assessments_2018.drop(GT_values, inplace = True)\n",
    "new_assessments_2018.drop(GE_values, inplace = True)\n",
    "new_assessments_2018.info()"
   ]
  },
  {
   "cell_type": "code",
   "execution_count": null,
   "metadata": {},
   "outputs": [],
   "source": [
    "rla_2018 = pd.read_csv('../data/education/rla-achievement-lea-sy2017-18.csv', low_memory=False)\n",
    "\n",
    "## Create new dataframe with just the two desired columns\n",
    "all_rla_2018 = rla_2018[['LEAID','ALL_RLAHSPCTPROF_1718']].dropna()\n",
    "all_rla_2018.columns = all_rla_2018.columns.str.lower()\n",
    "all_rla_2018.rename(columns={'all_rlahspctprof_1718': 'rla_score'}, inplace=True)\n",
    "all_rla_2018.LEAID = all_rla_2018.LEAID.apply(str)\n",
    "all_rla_2018.rla_score = all_rla_2018.rla_score.apply(str)\n",
    "all_rla_2018.LEAID = all_rla_2018.LEAID.str.zfill(7)\n",
    "all_rla_2018 = pd.DataFrame(data=all_rla_2018)\n",
    "print(all_rla_2018.head())\n",
    "print(all_rla_2018.info())"
   ]
  },
  {
   "cell_type": "code",
   "execution_count": null,
   "metadata": {},
   "outputs": [],
   "source": [
    "rla_2018.head()"
   ]
  },
  {
   "cell_type": "code",
   "execution_count": null,
   "metadata": {},
   "outputs": [],
   "source": [
    "PS_values = all_rla_2018[all_rla_2018['rla_score'] == \"PS\" ].index\n",
    "period_values = all_rla_2018[all_rla_2018['rla_score'] == \".\" ].index\n",
    "LE_values = all_rla_2018[all_rla_2018.rla_score.str.contains(\"LE\")].index\n",
    "GT_values = all_rla_2018[all_rla_2018.rla_score.str.contains(\"GE\")].index\n",
    "GE_values = all_rla_2018[all_rla_2018.rla_score.str.contains(\"GT\")].index\n",
    "LT_values = all_rla_2018[all_rla_2018.rla_score.str.contains(\"LT\")].index\n",
    "\n",
    "all_rla_2018.drop(PS_values, inplace = True)\n",
    "all_rla_2018.drop(period_values, inplace = True)\n",
    "all_rla_2018.drop(LT_values, inplace = True)\n",
    "all_rla_2018.drop(LE_values, inplace = True)\n",
    "all_rla_2018.drop(GT_values, inplace = True)\n",
    "all_rla_2018.drop(GE_values, inplace = True)\n",
    "all_rla_2018.info()"
   ]
  },
  {
   "cell_type": "code",
   "execution_count": null,
   "metadata": {},
   "outputs": [],
   "source": [
    "all_rla_2018.rla_score = all_rla_2018.rla_score.apply(score_cleaner)\n",
    "all_rla_2018.info()"
   ]
  },
  {
   "cell_type": "code",
   "execution_count": null,
   "metadata": {},
   "outputs": [],
   "source": [
    "all_rla_2018.head()"
   ]
  },
  {
   "cell_type": "code",
   "execution_count": null,
   "metadata": {},
   "outputs": [],
   "source": [
    "hs_assessments_2018 = pd.merge(all_rla_2018, all_math_2018, how='inner', on='LEAID').dropna()\n",
    "hs_assessments_2018['year'] = 2018\n",
    "hs_assessments_2018.info"
   ]
  },
  {
   "cell_type": "code",
   "execution_count": null,
   "metadata": {},
   "outputs": [],
   "source": [
    "hs_assessments_2018.to_pickle('../data/education/hs_assessments_2018.pkl')"
   ]
  },
  {
   "cell_type": "code",
   "execution_count": null,
   "metadata": {},
   "outputs": [],
   "source": [
    "sns.pairplot(assessments_2018, vars=['math_score', 'rla_score'], kind='reg', diag_kind='kde');"
   ]
  },
  {
   "cell_type": "markdown",
   "metadata": {},
   "source": [
    "As is probably expected, there is a definite correlation between Reading/Language Arts Scores and Math Scores for the limited dataset we're observing. It should be noted that the math score distribution skews slightly to the left. The RLA score skews to the right. This phenomenon is confirmed in the statistical summary which shows us that the mean math score is 45% and the mean reading/language arts score is 55%."
   ]
  },
  {
   "cell_type": "markdown",
   "metadata": {},
   "source": [
    "### K-12"
   ]
  },
  {
   "cell_type": "markdown",
   "metadata": {},
   "source": [
    "#### k-12 math"
   ]
  },
  {
   "cell_type": "code",
   "execution_count": null,
   "metadata": {},
   "outputs": [],
   "source": [
    "PS_values = whole_math_2018[whole_math_2018['math_score'] == \"PS\" ].index\n",
    "period_values = whole_math_2018[whole_math_2018['math_score'] == \".\" ].index\n",
    "LE_values = whole_math_2018[whole_math_2018.math_score.str.contains(\"LE\")].index\n",
    "GT_values = whole_math_2018[whole_math_2018.math_score.str.contains(\"GE\")].index\n",
    "GE_values = whole_math_2018[whole_math_2018.math_score.str.contains(\"GT\")].index\n",
    "LT_values = whole_math_2018[whole_math_2018.math_score.str.contains(\"LT\")].index\n",
    "\n",
    "whole_math_2018.drop(PS_values, inplace = True)\n",
    "whole_math_2018.drop(period_values, inplace = True)\n",
    "whole_math_2018.drop(LT_values, inplace = True)\n",
    "whole_math_2018.drop(LE_values, inplace = True)\n",
    "whole_math_2018.drop(GT_values, inplace = True)\n",
    "whole_math_2018.drop(GE_values, inplace = True)\n",
    "whole_math_2018.info()"
   ]
  },
  {
   "cell_type": "code",
   "execution_count": null,
   "metadata": {},
   "outputs": [],
   "source": [
    "whole_math_2018.math_score = whole_math_2018.math_score.apply(score_cleaner)\n",
    "whole_math_2018.info()"
   ]
  },
  {
   "cell_type": "markdown",
   "metadata": {},
   "source": [
    "#### k-12 rla"
   ]
  },
  {
   "cell_type": "code",
   "execution_count": null,
   "metadata": {},
   "outputs": [],
   "source": [
    "## Create new dataframe with just the two desired columns\n",
    "\n",
    "whole_rla_2018 = rla_2018[['LEAID','ALL_RLA00PCTPROF_1718']].dropna()\n",
    "whole_rla_2018.columns = whole_rla_2018.columns.str.lower()\n",
    "whole_rla_2018.rename(columns={'all_rla00pctprof_1718': 'rla_score'}, inplace=True)\n",
    "whole_rla_2018.LEAID = whole_rla_2018.LEAID.apply(str)\n",
    "whole_rla_2018.rla_score = whole_rla_2018.rla_score.apply(str)\n",
    "whole_rla_2018.LEAID = whole_rla_2018.LEAID.str.zfill(7)\n",
    "whole_rla_2018 = pd.DataFrame(data=whole_rla_2018)\n",
    "print(whole_rla_2018.head())\n",
    "print(whole_rla_2018.info())"
   ]
  },
  {
   "cell_type": "code",
   "execution_count": null,
   "metadata": {},
   "outputs": [],
   "source": [
    "PS_values = whole_rla_2018[whole_rla_2018['rla_score'] == \"PS\" ].index\n",
    "period_values = whole_rla_2018[whole_rla_2018['rla_score'] == \".\" ].index\n",
    "LE_values = whole_rla_2018[whole_rla_2018.rla_score.str.contains(\"LE\")].index\n",
    "GT_values = whole_rla_2018[whole_rla_2018.rla_score.str.contains(\"GE\")].index\n",
    "GE_values = whole_rla_2018[whole_rla_2018.rla_score.str.contains(\"GT\")].index\n",
    "LT_values = whole_rla_2018[whole_rla_2018.rla_score.str.contains(\"LT\")].index\n",
    "\n",
    "whole_rla_2018.drop(PS_values, inplace = True)\n",
    "whole_rla_2018.drop(period_values, inplace = True)\n",
    "whole_rla_2018.drop(LT_values, inplace = True)\n",
    "whole_rla_2018.drop(LE_values, inplace = True)\n",
    "whole_rla_2018.drop(GT_values, inplace = True)\n",
    "whole_rla_2018.drop(GE_values, inplace = True)\n",
    "whole_rla_2018.info()"
   ]
  },
  {
   "cell_type": "code",
   "execution_count": null,
   "metadata": {},
   "outputs": [],
   "source": [
    "whole_rla_2018.rla_score = whole_rla_2018.rla_score.apply(score_cleaner)\n",
    "whole_rla_2018.info()"
   ]
  },
  {
   "cell_type": "code",
   "execution_count": null,
   "metadata": {},
   "outputs": [],
   "source": [
    "whole_rla_2018.to_pickle('../data/education/whole_rla_2018.pkl')"
   ]
  },
  {
   "cell_type": "markdown",
   "metadata": {},
   "source": [
    "#### k-12 combined"
   ]
  },
  {
   "cell_type": "code",
   "execution_count": null,
   "metadata": {},
   "outputs": [],
   "source": [
    "combined_assessments_2018 = pd.merge(whole_rla_2018, whole_math_2018, how='inner', on='LEAID').dropna()\n",
    "combined_assessments_2018['year'] = 2018\n",
    "combined_assessments_2018.info"
   ]
  },
  {
   "cell_type": "code",
   "execution_count": null,
   "metadata": {},
   "outputs": [],
   "source": [
    "combined_assessments_2018.to_pickle('../data/education/combined_assessments_2018.pkl')"
   ]
  },
  {
   "cell_type": "markdown",
   "metadata": {},
   "source": [
    "## Census Broadband Data"
   ]
  },
  {
   "cell_type": "markdown",
   "metadata": {},
   "source": [
    "## Census Device Data"
   ]
  },
  {
   "cell_type": "markdown",
   "metadata": {},
   "source": [
    "## Geographical Data"
   ]
  },
  {
   "cell_type": "markdown",
   "metadata": {},
   "source": [
    "## Census Other Features"
   ]
  },
  {
   "cell_type": "code",
   "execution_count": null,
   "metadata": {},
   "outputs": [],
   "source": [
    "acs5_2018 = pd.read_pickle('../data/digital/acs5_2018.pkl')"
   ]
  },
  {
   "cell_type": "code",
   "execution_count": null,
   "metadata": {},
   "outputs": [],
   "source": [
    "full_working_set = pd.read_pickle('../data/full_working_set.pkl')"
   ]
  },
  {
   "cell_type": "code",
   "execution_count": null,
   "metadata": {},
   "outputs": [],
   "source": [
    "complete_df = pd.read_pickle('../data/complete_df.pkl')\n",
    "complete_df.head()"
   ]
  }
 ],
 "metadata": {
  "kernelspec": {
   "display_name": "Python 3",
   "language": "python",
   "name": "python3"
  },
  "language_info": {
   "codemirror_mode": {
    "name": "ipython",
    "version": 3
   },
   "file_extension": ".py",
   "mimetype": "text/x-python",
   "name": "python",
   "nbconvert_exporter": "python",
   "pygments_lexer": "ipython3",
   "version": "3.8.5"
  },
  "toc-autonumbering": false,
  "toc-showmarkdowntxt": true,
  "toc-showtags": true
 },
 "nbformat": 4,
 "nbformat_minor": 4
}
