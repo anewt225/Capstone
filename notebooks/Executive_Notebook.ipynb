{
 "cells": [
  {
   "cell_type": "markdown",
   "metadata": {},
   "source": [
    "# Executive Notebook\n",
    "This notebook summarizes the analysis process of the \"Demystifying the Digital Divide\" project."
   ]
  },
  {
   "cell_type": "markdown",
   "metadata": {},
   "source": [
    "### Outline:\n",
    "\n",
    "1. [Business Understanding](#Business-Understanding)\n",
    "2. [Data Understanding](#Data-Understanding)\n",
    "    1. [Census Data](#Census-Data)\n",
    "        1. [Import Data](#Import-Census)\n",
    "        2. [Explore Data](#Explore-Census)\n",
    "        3. [Visualize Data](#Visualize-Census)\n",
    "        4. [CLEAN DATA????]\n",
    "    2. [Education Assessment Data](#Assessment-Data)\n",
    "        1. [Import Data](#Import-Education)\n",
    "        2. [Explore Data](#Explore-Education)\n",
    "        3. [Visualize Data](#Visualize-Education)\n",
    "        4. [CLEAN DATA????]\n",
    "    3. [Merge Datasets](#Merge-Data)\n",
    "    4. [CLEAN DATA????]\n",
    "3. [Data Preparation](#Data-Preparation)\n",
    "    1. Determine Model Types\n",
    "    2. Create Model Preprocessing Pipeline\n",
    "    3. Determine Performance Metrics\n",
    "    4. Fit Models\n",
    "4. [Model Evaluation](#Model-Evaluation)\n",
    "    1. Predict Outcomes\n",
    "    2. Evaluate Initial Results\n",
    "    3. Iterate and Improve Models\n",
    "    4. Evaluate Performance & Select Best Model\n",
    "    \n",
    "    \n",
    "5. [Conclusion]\n",
    "    1. Make Predictions with Final Model\n",
    "    2. Business Question - Recommendations\n",
    "    3. Demonstrate Utility\n",
    "    4. Further Work & Improvements"
   ]
  },
  {
   "cell_type": "markdown",
   "metadata": {},
   "source": [
    "# Import"
   ]
  },
  {
   "cell_type": "markdown",
   "metadata": {},
   "source": [
    "## Census Data\n",
    "\n",
    "Specific variables were chosen ahead of time based on their "
   ]
  },
  {
   "cell_type": "code",
   "execution_count": null,
   "metadata": {},
   "outputs": [],
   "source": []
  },
  {
   "cell_type": "markdown",
   "metadata": {},
   "source": [
    "# Explore"
   ]
  },
  {
   "cell_type": "markdown",
   "metadata": {},
   "source": [
    "# Visualize"
   ]
  },
  {
   "cell_type": "markdown",
   "metadata": {},
   "source": [
    "# Clean"
   ]
  },
  {
   "cell_type": "markdown",
   "metadata": {},
   "source": [
    "# Modelling"
   ]
  },
  {
   "cell_type": "markdown",
   "metadata": {},
   "source": [
    "## Preparation"
   ]
  },
  {
   "cell_type": "markdown",
   "metadata": {},
   "source": [
    "## Models"
   ]
  },
  {
   "cell_type": "markdown",
   "metadata": {},
   "source": [
    "## Performance / Evaluation\n"
   ]
  },
  {
   "cell_type": "markdown",
   "metadata": {},
   "source": [
    "## Iteration"
   ]
  },
  {
   "cell_type": "markdown",
   "metadata": {},
   "source": [
    "# Conclusion"
   ]
  },
  {
   "cell_type": "markdown",
   "metadata": {},
   "source": [
    "## Recommendations"
   ]
  },
  {
   "cell_type": "markdown",
   "metadata": {},
   "source": [
    "## Further Work / Research"
   ]
  }
 ],
 "metadata": {
  "kernelspec": {
   "display_name": "Python 3",
   "language": "python",
   "name": "python3"
  },
  "language_info": {
   "codemirror_mode": {
    "name": "ipython",
    "version": 3
   },
   "file_extension": ".py",
   "mimetype": "text/x-python",
   "name": "python",
   "nbconvert_exporter": "python",
   "pygments_lexer": "ipython3",
   "version": "3.8.5"
  },
  "toc-autonumbering": false,
  "toc-showtags": true
 },
 "nbformat": 4,
 "nbformat_minor": 4
}
