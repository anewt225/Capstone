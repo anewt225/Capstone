{
 "cells": [
  {
   "cell_type": "markdown",
   "metadata": {},
   "source": [
    "Random thoughts:\n",
    "\n",
    "\n",
    "find and save dc schools article washington post\n",
    "\n",
    "Data creation\n",
    "- Composite score? on already defined scale, or normalized/standardized?\n",
    "- run separate algorithms?\n",
    "- how to incorporate digital literacy? with esl?\n",
    "- merge datasets!!!\n",
    "- broadband/device composite?\n",
    "    - ordinal or categorical?\n",
    "    - ordinal: # of devices, device type\n",
    "    - categorical - has device, does not have device\n",
    "    - ordinal: none, dsl, broadband\n",
    "    - categorical: has  broadband, does not have broadband\n",
    "- which features to use from census:\n",
    "    - race/ethnicity (categorical)\n",
    "    - rural vs urban (categorical, ordinal?)\n",
    "    - number of children\n",
    "        - if possible, limit to children between 14 and 18\n",
    "    - median household income\n",
    "\n",
    "Model selection\n",
    "- Linear regression - probably not: continuous variable\n",
    "- logistic regressioon - categorical predefined variables\n",
    "- classification vs clustering:\n",
    "    - classification - predefined categories (possibly introduces bias)\n",
    "    - clustering - algorithm selects categories\n",
    "        - does this allow for viewing of input features?\n",
    "        \n",
    "Visualization\n",
    "- broadband vs device??\n",
    "- broadband/device"
   ]
  },
  {
   "cell_type": "code",
   "execution_count": null,
   "metadata": {},
   "outputs": [],
   "source": []
  }
 ],
 "metadata": {
  "kernelspec": {
   "display_name": "Python 3",
   "language": "python",
   "name": "python3"
  },
  "language_info": {
   "codemirror_mode": {
    "name": "ipython",
    "version": 3
   },
   "file_extension": ".py",
   "mimetype": "text/x-python",
   "name": "python",
   "nbconvert_exporter": "python",
   "pygments_lexer": "ipython3",
   "version": "3.8.5"
  }
 },
 "nbformat": 4,
 "nbformat_minor": 4
}
