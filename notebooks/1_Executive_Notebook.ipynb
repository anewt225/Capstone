version https://git-lfs.github.com/spec/v1
oid sha256:3e928f87e9a899062967bf1a4d608ebd2390907a7a55590ed0f64673c4ac3401
size 420344
