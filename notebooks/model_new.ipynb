{
 "cells": [
  {
   "cell_type": "markdown",
   "metadata": {},
   "source": [
    "# Model prep\n",
    "\n",
    "This notebook prepares some of the data for modelling."
   ]
  },
  {
   "cell_type": "markdown",
   "metadata": {},
   "source": [
    "# Imports"
   ]
  },
  {
   "cell_type": "markdown",
   "metadata": {},
   "source": [
    "## Modules"
   ]
  },
  {
   "cell_type": "code",
   "execution_count": 1,
   "metadata": {},
   "outputs": [],
   "source": [
    "import pandas as pd\n",
    "import numpy as np\n",
    "import matplotlib.pyplot as plt\n",
    "import seaborn as sns\n",
    "from sklearn.model_selection import train_test_split\n",
    "from pandas.plotting import scatter_matrix\n",
    "%matplotlib inline"
   ]
  },
  {
   "cell_type": "code",
   "execution_count": 2,
   "metadata": {},
   "outputs": [],
   "source": [
    "from sklearn.pipeline import Pipeline\n",
    "from sklearn.preprocessing import StandardScaler\n",
    "from sklearn.compose import ColumnTransformer\n",
    "from sklearn.linear_model import LinearRegression\n",
    "from sklearn.tree import DecisionTreeRegressor\n",
    "from sklearn.metrics import mean_squared_error\n",
    "from sklearn.model_selection import cross_val_score\n",
    "from sklearn.model_selection import GridSearchCV\n",
    "from sklearn.ensemble import RandomForestRegressor"
   ]
  },
  {
   "cell_type": "markdown",
   "metadata": {},
   "source": [
    "# columns eda"
   ]
  },
  {
   "cell_type": "code",
   "execution_count": 33,
   "metadata": {},
   "outputs": [
    {
     "data": {
      "text/plain": [
       "count    9988.000000\n",
       "mean       16.683911\n",
       "std         9.059927\n",
       "min         1.300000\n",
       "25%        10.000000\n",
       "50%        15.300000\n",
       "75%        21.800000\n",
       "max        65.400000\n",
       "Name: poverty_ratio, dtype: float64"
      ]
     },
     "execution_count": 33,
     "metadata": {},
     "output_type": "execute_result"
    }
   ],
   "source": [
    "divide_data.poverty_ratio.describe()"
   ]
  },
  {
   "cell_type": "code",
   "execution_count": null,
   "metadata": {},
   "outputs": [],
   "source": []
  },
  {
   "cell_type": "code",
   "execution_count": 34,
   "metadata": {},
   "outputs": [
    {
     "data": {
      "text/plain": [
       "count    9988.000000\n",
       "mean       85.752473\n",
       "std        16.086297\n",
       "min         0.500000\n",
       "25%        81.300000\n",
       "50%        92.200000\n",
       "75%        96.300000\n",
       "max       100.000000\n",
       "Name: white_pct, dtype: float64"
      ]
     },
     "execution_count": 34,
     "metadata": {},
     "output_type": "execute_result"
    }
   ],
   "source": [
    "divide_data.white_pct.describe()"
   ]
  },
  {
   "cell_type": "code",
   "execution_count": null,
   "metadata": {},
   "outputs": [],
   "source": []
  },
  {
   "cell_type": "code",
   "execution_count": 88,
   "metadata": {},
   "outputs": [
    {
     "ename": "AttributeError",
     "evalue": "'DataFrame' object has no attribute 'violinplot'",
     "output_type": "error",
     "traceback": [
      "\u001b[1;31m---------------------------------------------------------------------------\u001b[0m",
      "\u001b[1;31mAttributeError\u001b[0m                            Traceback (most recent call last)",
      "\u001b[1;32m<ipython-input-88-cc046c1b2191>\u001b[0m in \u001b[0;36m<module>\u001b[1;34m\u001b[0m\n\u001b[1;32m----> 1\u001b[1;33m \u001b[0mdivide_data\u001b[0m\u001b[1;33m.\u001b[0m\u001b[0mviolinplot\u001b[0m\u001b[1;33m(\u001b[0m\u001b[1;33m)\u001b[0m\u001b[1;33m\u001b[0m\u001b[1;33m\u001b[0m\u001b[0m\n\u001b[0m",
      "\u001b[1;32mC:\\Anaconda3\\envs\\capstone\\lib\\site-packages\\pandas\\core\\generic.py\u001b[0m in \u001b[0;36m__getattr__\u001b[1;34m(self, name)\u001b[0m\n\u001b[0;32m   5128\u001b[0m             \u001b[1;32mif\u001b[0m \u001b[0mself\u001b[0m\u001b[1;33m.\u001b[0m\u001b[0m_info_axis\u001b[0m\u001b[1;33m.\u001b[0m\u001b[0m_can_hold_identifiers_and_holds_name\u001b[0m\u001b[1;33m(\u001b[0m\u001b[0mname\u001b[0m\u001b[1;33m)\u001b[0m\u001b[1;33m:\u001b[0m\u001b[1;33m\u001b[0m\u001b[1;33m\u001b[0m\u001b[0m\n\u001b[0;32m   5129\u001b[0m                 \u001b[1;32mreturn\u001b[0m \u001b[0mself\u001b[0m\u001b[1;33m[\u001b[0m\u001b[0mname\u001b[0m\u001b[1;33m]\u001b[0m\u001b[1;33m\u001b[0m\u001b[1;33m\u001b[0m\u001b[0m\n\u001b[1;32m-> 5130\u001b[1;33m             \u001b[1;32mreturn\u001b[0m \u001b[0mobject\u001b[0m\u001b[1;33m.\u001b[0m\u001b[0m__getattribute__\u001b[0m\u001b[1;33m(\u001b[0m\u001b[0mself\u001b[0m\u001b[1;33m,\u001b[0m \u001b[0mname\u001b[0m\u001b[1;33m)\u001b[0m\u001b[1;33m\u001b[0m\u001b[1;33m\u001b[0m\u001b[0m\n\u001b[0m\u001b[0;32m   5131\u001b[0m \u001b[1;33m\u001b[0m\u001b[0m\n\u001b[0;32m   5132\u001b[0m     \u001b[1;32mdef\u001b[0m \u001b[0m__setattr__\u001b[0m\u001b[1;33m(\u001b[0m\u001b[0mself\u001b[0m\u001b[1;33m,\u001b[0m \u001b[0mname\u001b[0m\u001b[1;33m:\u001b[0m \u001b[0mstr\u001b[0m\u001b[1;33m,\u001b[0m \u001b[0mvalue\u001b[0m\u001b[1;33m)\u001b[0m \u001b[1;33m->\u001b[0m \u001b[1;32mNone\u001b[0m\u001b[1;33m:\u001b[0m\u001b[1;33m\u001b[0m\u001b[1;33m\u001b[0m\u001b[0m\n",
      "\u001b[1;31mAttributeError\u001b[0m: 'DataFrame' object has no attribute 'violinplot'"
     ]
    }
   ],
   "source": [
    "divide_data.violinplot()"
   ]
  },
  {
   "cell_type": "code",
   "execution_count": 44,
   "metadata": {},
   "outputs": [],
   "source": [
    "divide_data['median_income'] = abs(divide_data['median_income'])"
   ]
  },
  {
   "cell_type": "code",
   "execution_count": 51,
   "metadata": {},
   "outputs": [
    {
     "data": {
      "text/plain": [
       "8554"
      ]
     },
     "execution_count": 51,
     "metadata": {},
     "output_type": "execute_result"
    }
   ],
   "source": [
    "divide_data.median_income"
   ]
  },
  {
   "cell_type": "code",
   "execution_count": 89,
   "metadata": {},
   "outputs": [
    {
     "data": {
      "text/plain": [
       "array([[<matplotlib.axes._subplots.AxesSubplot object at 0x0000026779165C40>,\n",
       "        <matplotlib.axes._subplots.AxesSubplot object at 0x00000267791C3EE0>,\n",
       "        <matplotlib.axes._subplots.AxesSubplot object at 0x00000267791F7610>,\n",
       "        <matplotlib.axes._subplots.AxesSubplot object at 0x000002677921FD90>],\n",
       "       [<matplotlib.axes._subplots.AxesSubplot object at 0x0000026779255580>,\n",
       "        <matplotlib.axes._subplots.AxesSubplot object at 0x0000026779280C40>,\n",
       "        <matplotlib.axes._subplots.AxesSubplot object at 0x0000026779280D30>,\n",
       "        <matplotlib.axes._subplots.AxesSubplot object at 0x00000267792B5550>],\n",
       "       [<matplotlib.axes._subplots.AxesSubplot object at 0x0000026779314400>,\n",
       "        <matplotlib.axes._subplots.AxesSubplot object at 0x000002677933CB80>,\n",
       "        <matplotlib.axes._subplots.AxesSubplot object at 0x0000026779372340>,\n",
       "        <matplotlib.axes._subplots.AxesSubplot object at 0x0000026779399AC0>],\n",
       "       [<matplotlib.axes._subplots.AxesSubplot object at 0x00000267793D1280>,\n",
       "        <matplotlib.axes._subplots.AxesSubplot object at 0x00000267793FA940>,\n",
       "        <matplotlib.axes._subplots.AxesSubplot object at 0x00000267794222B0>,\n",
       "        <matplotlib.axes._subplots.AxesSubplot object at 0x000002677944AA30>]],\n",
       "      dtype=object)"
      ]
     },
     "execution_count": 89,
     "metadata": {},
     "output_type": "execute_result"
    },
    {
     "data": {
      "image/png": "[encoded data removed]",
      "text/plain": [
       "<Figure size 432x288 with 16 Axes>"
      ]
     },
     "metadata": {
      "needs_background": "light"
     },
     "output_type": "display_data"
    }
   ],
   "source": [
    "divide_data.hist()"
   ]
  },
  {
   "cell_type": "code",
   "execution_count": 47,
   "metadata": {},
   "outputs": [
    {
     "data": {
      "text/html": [
       "<div>\n",
       "<style scoped>\n",
       "    .dataframe tbody tr th:only-of-type {\n",
       "        vertical-align: middle;\n",
       "    }\n",
       "\n",
       "    .dataframe tbody tr th {\n",
       "        vertical-align: top;\n",
       "    }\n",
       "\n",
       "    .dataframe thead th {\n",
       "        text-align: right;\n",
       "    }\n",
       "</style>\n",
       "<table border=\"1\" class=\"dataframe\">\n",
       "  <thead>\n",
       "    <tr style=\"text-align: right;\">\n",
       "      <th></th>\n",
       "      <th>reading_score</th>\n",
       "      <th>math_score</th>\n",
       "      <th>comp_pct</th>\n",
       "      <th>broadband_pct</th>\n",
       "      <th>poverty_ratio</th>\n",
       "      <th>white_pct</th>\n",
       "      <th>college_pct</th>\n",
       "      <th>median_income</th>\n",
       "      <th>median_rent</th>\n",
       "      <th>unemployment_pct</th>\n",
       "      <th>home_lang_not_eng</th>\n",
       "      <th>disability_pct</th>\n",
       "      <th>composite_score</th>\n",
       "    </tr>\n",
       "  </thead>\n",
       "  <tbody>\n",
       "    <tr>\n",
       "      <th>count</th>\n",
       "      <td>9988.000000</td>\n",
       "      <td>9988.000000</td>\n",
       "      <td>9988.000000</td>\n",
       "      <td>9988.000000</td>\n",
       "      <td>9988.000000</td>\n",
       "      <td>9988.000000</td>\n",
       "      <td>9988.000000</td>\n",
       "      <td>9.988000e+03</td>\n",
       "      <td>9.988000e+03</td>\n",
       "      <td>9988.000000</td>\n",
       "      <td>9988.000000</td>\n",
       "      <td>9988.000000</td>\n",
       "      <td>9988.000000</td>\n",
       "    </tr>\n",
       "    <tr>\n",
       "      <th>mean</th>\n",
       "      <td>49.785342</td>\n",
       "      <td>45.383260</td>\n",
       "      <td>85.306278</td>\n",
       "      <td>75.330447</td>\n",
       "      <td>16.683911</td>\n",
       "      <td>85.752473</td>\n",
       "      <td>88.112565</td>\n",
       "      <td>2.587628e+05</td>\n",
       "      <td>-4.003978e+06</td>\n",
       "      <td>5.470685</td>\n",
       "      <td>10.357099</td>\n",
       "      <td>14.944403</td>\n",
       "      <td>47.584301</td>\n",
       "    </tr>\n",
       "    <tr>\n",
       "      <th>std</th>\n",
       "      <td>16.486362</td>\n",
       "      <td>17.658938</td>\n",
       "      <td>6.996305</td>\n",
       "      <td>10.036105</td>\n",
       "      <td>9.059927</td>\n",
       "      <td>16.086297</td>\n",
       "      <td>7.147725</td>\n",
       "      <td>1.155179e+07</td>\n",
       "      <td>5.151800e+07</td>\n",
       "      <td>3.160376</td>\n",
       "      <td>13.767899</td>\n",
       "      <td>4.939173</td>\n",
       "      <td>14.514709</td>\n",
       "    </tr>\n",
       "    <tr>\n",
       "      <th>min</th>\n",
       "      <td>2.000000</td>\n",
       "      <td>2.000000</td>\n",
       "      <td>25.300000</td>\n",
       "      <td>14.600000</td>\n",
       "      <td>1.300000</td>\n",
       "      <td>0.500000</td>\n",
       "      <td>33.700000</td>\n",
       "      <td>1.946200e+04</td>\n",
       "      <td>-6.666667e+08</td>\n",
       "      <td>0.000000</td>\n",
       "      <td>0.000000</td>\n",
       "      <td>0.000000</td>\n",
       "      <td>2.500000</td>\n",
       "    </tr>\n",
       "    <tr>\n",
       "      <th>25%</th>\n",
       "      <td>37.000000</td>\n",
       "      <td>32.000000</td>\n",
       "      <td>81.400000</td>\n",
       "      <td>69.400000</td>\n",
       "      <td>10.000000</td>\n",
       "      <td>81.300000</td>\n",
       "      <td>84.800000</td>\n",
       "      <td>4.504725e+04</td>\n",
       "      <td>6.440000e+02</td>\n",
       "      <td>3.500000</td>\n",
       "      <td>2.400000</td>\n",
       "      <td>11.400000</td>\n",
       "      <td>37.000000</td>\n",
       "    </tr>\n",
       "    <tr>\n",
       "      <th>50%</th>\n",
       "      <td>49.000000</td>\n",
       "      <td>44.000000</td>\n",
       "      <td>85.900000</td>\n",
       "      <td>76.000000</td>\n",
       "      <td>15.300000</td>\n",
       "      <td>92.200000</td>\n",
       "      <td>89.700000</td>\n",
       "      <td>5.403400e+04</td>\n",
       "      <td>7.440000e+02</td>\n",
       "      <td>4.900000</td>\n",
       "      <td>5.100000</td>\n",
       "      <td>14.400000</td>\n",
       "      <td>46.500000</td>\n",
       "    </tr>\n",
       "    <tr>\n",
       "      <th>75%</th>\n",
       "      <td>62.000000</td>\n",
       "      <td>57.000000</td>\n",
       "      <td>90.300000</td>\n",
       "      <td>82.400000</td>\n",
       "      <td>21.800000</td>\n",
       "      <td>96.300000</td>\n",
       "      <td>93.100000</td>\n",
       "      <td>6.596250e+04</td>\n",
       "      <td>9.210000e+02</td>\n",
       "      <td>6.800000</td>\n",
       "      <td>12.000000</td>\n",
       "      <td>17.900000</td>\n",
       "      <td>57.500000</td>\n",
       "    </tr>\n",
       "    <tr>\n",
       "      <th>max</th>\n",
       "      <td>94.000000</td>\n",
       "      <td>98.000000</td>\n",
       "      <td>100.000000</td>\n",
       "      <td>100.000000</td>\n",
       "      <td>65.400000</td>\n",
       "      <td>100.000000</td>\n",
       "      <td>100.000000</td>\n",
       "      <td>6.666667e+08</td>\n",
       "      <td>3.439000e+03</td>\n",
       "      <td>38.300000</td>\n",
       "      <td>97.600000</td>\n",
       "      <td>65.800000</td>\n",
       "      <td>91.000000</td>\n",
       "    </tr>\n",
       "  </tbody>\n",
       "</table>\n",
       "</div>"
      ],
      "text/plain": [
       "       reading_score   math_score     comp_pct  broadband_pct  poverty_ratio  \\\n",
       "count    9988.000000  9988.000000  9988.000000    9988.000000    9988.000000   \n",
       "mean       49.785342    45.383260    85.306278      75.330447      16.683911   \n",
       "std        16.486362    17.658938     6.996305      10.036105       9.059927   \n",
       "min         2.000000     2.000000    25.300000      14.600000       1.300000   \n",
       "25%        37.000000    32.000000    81.400000      69.400000      10.000000   \n",
       "50%        49.000000    44.000000    85.900000      76.000000      15.300000   \n",
       "75%        62.000000    57.000000    90.300000      82.400000      21.800000   \n",
       "max        94.000000    98.000000   100.000000     100.000000      65.400000   \n",
       "\n",
       "         white_pct  college_pct  median_income   median_rent  \\\n",
       "count  9988.000000  9988.000000   9.988000e+03  9.988000e+03   \n",
       "mean     85.752473    88.112565   2.587628e+05 -4.003978e+06   \n",
       "std      16.086297     7.147725   1.155179e+07  5.151800e+07   \n",
       "min       0.500000    33.700000   1.946200e+04 -6.666667e+08   \n",
       "25%      81.300000    84.800000   4.504725e+04  6.440000e+02   \n",
       "50%      92.200000    89.700000   5.403400e+04  7.440000e+02   \n",
       "75%      96.300000    93.100000   6.596250e+04  9.210000e+02   \n",
       "max     100.000000   100.000000   6.666667e+08  3.439000e+03   \n",
       "\n",
       "       unemployment_pct  home_lang_not_eng  disability_pct  composite_score  \n",
       "count       9988.000000        9988.000000     9988.000000      9988.000000  \n",
       "mean           5.470685          10.357099       14.944403        47.584301  \n",
       "std            3.160376          13.767899        4.939173        14.514709  \n",
       "min            0.000000           0.000000        0.000000         2.500000  \n",
       "25%            3.500000           2.400000       11.400000        37.000000  \n",
       "50%            4.900000           5.100000       14.400000        46.500000  \n",
       "75%            6.800000          12.000000       17.900000        57.500000  \n",
       "max           38.300000          97.600000       65.800000        91.000000  "
      ]
     },
     "execution_count": 47,
     "metadata": {},
     "output_type": "execute_result"
    }
   ],
   "source": [
    "divide_data.describe()"
   ]
  },
  {
   "cell_type": "code",
   "execution_count": 52,
   "metadata": {},
   "outputs": [
    {
     "data": {
      "text/plain": [
       "<matplotlib.axes._subplots.AxesSubplot at 0x26773cde340>"
      ]
     },
     "execution_count": 52,
     "metadata": {},
     "output_type": "execute_result"
    },
    {
     "data": {
      "image/png": "[encoded data removed]",
      "text/plain": [
       "<Figure size 432x288 with 1 Axes>"
      ]
     },
     "metadata": {
      "needs_background": "light"
     },
     "output_type": "display_data"
    }
   ],
   "source": [
    "divide_data.median_rent.hist()"
   ]
  },
  {
   "cell_type": "code",
   "execution_count": 55,
   "metadata": {},
   "outputs": [],
   "source": [
    "divide_data['median_rent'] = divide_data[divide_data['median_rent']>0]"
   ]
  },
  {
   "cell_type": "code",
   "execution_count": 84,
   "metadata": {},
   "outputs": [
    {
     "name": "stdout",
     "output_type": "stream",
     "text": [
      "<class 'pandas.core.frame.DataFrame'>\n",
      "Index: 9928 entries, 0102650 to 5502880\n",
      "Data columns (total 13 columns):\n",
      " #   Column             Non-Null Count  Dtype  \n",
      "---  ------             --------------  -----  \n",
      " 0   reading_score      9928 non-null   int64  \n",
      " 1   math_score         9928 non-null   int64  \n",
      " 2   comp_pct           9928 non-null   float64\n",
      " 3   broadband_pct      9928 non-null   float64\n",
      " 4   poverty_ratio      9928 non-null   float64\n",
      " 5   white_pct          9928 non-null   float64\n",
      " 6   college_pct        9928 non-null   float64\n",
      " 7   median_income      9928 non-null   float64\n",
      " 8   median_rent        9928 non-null   float64\n",
      " 9   unemployment_pct   9928 non-null   float64\n",
      " 10  home_lang_not_eng  9928 non-null   float64\n",
      " 11  disability_pct     9928 non-null   float64\n",
      " 12  composite_score    9928 non-null   float64\n",
      "dtypes: float64(11), int64(2)\n",
      "memory usage: 1.1+ MB\n"
     ]
    }
   ],
   "source": [
    "divide_data.dropna(inplace=True)\n",
    "divide_data.info()"
   ]
  },
  {
   "cell_type": "code",
   "execution_count": 85,
   "metadata": {},
   "outputs": [],
   "source": [
    "divide_data.to_pickle('../data/divide_9928.pkl')"
   ]
  },
  {
   "cell_type": "code",
   "execution_count": 61,
   "metadata": {},
   "outputs": [
    {
     "data": {
      "text/plain": [
       "count    9928.000000\n",
       "mean       49.782836\n",
       "std        16.490773\n",
       "min         2.000000\n",
       "25%        37.000000\n",
       "50%        49.000000\n",
       "75%        62.000000\n",
       "max        94.000000\n",
       "Name: median_rent, dtype: float64"
      ]
     },
     "execution_count": 61,
     "metadata": {},
     "output_type": "execute_result"
    }
   ],
   "source": [
    "divide_data.median_rent.describe()"
   ]
  },
  {
   "cell_type": "code",
   "execution_count": 86,
   "metadata": {},
   "outputs": [
    {
     "data": {
      "text/plain": [
       "reading_score        49.0\n",
       "math_score           44.0\n",
       "comp_pct             85.9\n",
       "broadband_pct        76.0\n",
       "poverty_ratio        15.3\n",
       "white_pct            92.1\n",
       "college_pct          89.7\n",
       "median_income        49.0\n",
       "median_rent          49.0\n",
       "unemployment_pct      4.9\n",
       "home_lang_not_eng     5.1\n",
       "disability_pct       14.4\n",
       "composite_score      46.5\n",
       "dtype: float64"
      ]
     },
     "execution_count": 86,
     "metadata": {},
     "output_type": "execute_result"
    }
   ],
   "source": [
    "divide_data.median()"
   ]
  },
  {
   "cell_type": "markdown",
   "metadata": {},
   "source": [
    "## Data"
   ]
  },
  {
   "cell_type": "code",
   "execution_count": 62,
   "metadata": {},
   "outputs": [
    {
     "data": {
      "text/html": [
       "<div>\n",
       "<style scoped>\n",
       "    .dataframe tbody tr th:only-of-type {\n",
       "        vertical-align: middle;\n",
       "    }\n",
       "\n",
       "    .dataframe tbody tr th {\n",
       "        vertical-align: top;\n",
       "    }\n",
       "\n",
       "    .dataframe thead th {\n",
       "        text-align: right;\n",
       "    }\n",
       "</style>\n",
       "<table border=\"1\" class=\"dataframe\">\n",
       "  <thead>\n",
       "    <tr style=\"text-align: right;\">\n",
       "      <th></th>\n",
       "      <th>reading_score</th>\n",
       "      <th>math_score</th>\n",
       "      <th>comp_pct</th>\n",
       "      <th>broadband_pct</th>\n",
       "      <th>poverty_ratio</th>\n",
       "      <th>white_pct</th>\n",
       "      <th>college_pct</th>\n",
       "      <th>median_income</th>\n",
       "      <th>median_rent</th>\n",
       "      <th>unemployment_pct</th>\n",
       "      <th>home_lang_not_eng</th>\n",
       "      <th>disability_pct</th>\n",
       "      <th>composite_score</th>\n",
       "    </tr>\n",
       "    <tr>\n",
       "      <th>LEAID</th>\n",
       "      <th></th>\n",
       "      <th></th>\n",
       "      <th></th>\n",
       "      <th></th>\n",
       "      <th></th>\n",
       "      <th></th>\n",
       "      <th></th>\n",
       "      <th></th>\n",
       "      <th></th>\n",
       "      <th></th>\n",
       "      <th></th>\n",
       "      <th></th>\n",
       "      <th></th>\n",
       "    </tr>\n",
       "  </thead>\n",
       "  <tbody>\n",
       "    <tr>\n",
       "      <th>0102650</th>\n",
       "      <td>48</td>\n",
       "      <td>48</td>\n",
       "      <td>81.2</td>\n",
       "      <td>72.9</td>\n",
       "      <td>16.5</td>\n",
       "      <td>89.2</td>\n",
       "      <td>83.4</td>\n",
       "      <td>48161</td>\n",
       "      <td>750</td>\n",
       "      <td>7.8</td>\n",
       "      <td>3.0</td>\n",
       "      <td>18.4</td>\n",
       "      <td>48.0</td>\n",
       "    </tr>\n",
       "    <tr>\n",
       "      <th>0102670</th>\n",
       "      <td>17</td>\n",
       "      <td>15</td>\n",
       "      <td>55.9</td>\n",
       "      <td>46.2</td>\n",
       "      <td>49.0</td>\n",
       "      <td>29.9</td>\n",
       "      <td>78.1</td>\n",
       "      <td>23561</td>\n",
       "      <td>574</td>\n",
       "      <td>12.3</td>\n",
       "      <td>1.4</td>\n",
       "      <td>25.2</td>\n",
       "      <td>16.0</td>\n",
       "    </tr>\n",
       "    <tr>\n",
       "      <th>0102700</th>\n",
       "      <td>41</td>\n",
       "      <td>43</td>\n",
       "      <td>83.5</td>\n",
       "      <td>68.1</td>\n",
       "      <td>32.3</td>\n",
       "      <td>49.4</td>\n",
       "      <td>84.2</td>\n",
       "      <td>40218</td>\n",
       "      <td>825</td>\n",
       "      <td>9.2</td>\n",
       "      <td>4.9</td>\n",
       "      <td>16.6</td>\n",
       "      <td>42.0</td>\n",
       "    </tr>\n",
       "    <tr>\n",
       "      <th>0102730</th>\n",
       "      <td>37</td>\n",
       "      <td>29</td>\n",
       "      <td>72.9</td>\n",
       "      <td>62.8</td>\n",
       "      <td>29.4</td>\n",
       "      <td>56.0</td>\n",
       "      <td>80.6</td>\n",
       "      <td>37458</td>\n",
       "      <td>456</td>\n",
       "      <td>10.6</td>\n",
       "      <td>4.3</td>\n",
       "      <td>24.5</td>\n",
       "      <td>33.0</td>\n",
       "    </tr>\n",
       "    <tr>\n",
       "      <th>0102760</th>\n",
       "      <td>48</td>\n",
       "      <td>53</td>\n",
       "      <td>81.5</td>\n",
       "      <td>70.5</td>\n",
       "      <td>27.9</td>\n",
       "      <td>88.8</td>\n",
       "      <td>82.8</td>\n",
       "      <td>36306</td>\n",
       "      <td>492</td>\n",
       "      <td>7.3</td>\n",
       "      <td>1.4</td>\n",
       "      <td>23.7</td>\n",
       "      <td>50.5</td>\n",
       "    </tr>\n",
       "  </tbody>\n",
       "</table>\n",
       "</div>"
      ],
      "text/plain": [
       "         reading_score  math_score  comp_pct  broadband_pct  poverty_ratio  \\\n",
       "LEAID                                                                        \n",
       "0102650             48          48      81.2           72.9           16.5   \n",
       "0102670             17          15      55.9           46.2           49.0   \n",
       "0102700             41          43      83.5           68.1           32.3   \n",
       "0102730             37          29      72.9           62.8           29.4   \n",
       "0102760             48          53      81.5           70.5           27.9   \n",
       "\n",
       "         white_pct  college_pct  median_income  median_rent  unemployment_pct  \\\n",
       "LEAID                                                                           \n",
       "0102650       89.2         83.4          48161          750               7.8   \n",
       "0102670       29.9         78.1          23561          574              12.3   \n",
       "0102700       49.4         84.2          40218          825               9.2   \n",
       "0102730       56.0         80.6          37458          456              10.6   \n",
       "0102760       88.8         82.8          36306          492               7.3   \n",
       "\n",
       "         home_lang_not_eng  disability_pct  composite_score  \n",
       "LEAID                                                        \n",
       "0102650                3.0            18.4             48.0  \n",
       "0102670                1.4            25.2             16.0  \n",
       "0102700                4.9            16.6             42.0  \n",
       "0102730                4.3            24.5             33.0  \n",
       "0102760                1.4            23.7             50.5  "
      ]
     },
     "execution_count": 62,
     "metadata": {},
     "output_type": "execute_result"
    }
   ],
   "source": [
    "divide_data = pd.read_pickle('../data/CLEANED_df.pkl')\n",
    "divide_data.head()"
   ]
  },
  {
   "cell_type": "code",
   "execution_count": 64,
   "metadata": {},
   "outputs": [
    {
     "data": {
      "text/html": [
       "<div>\n",
       "<style scoped>\n",
       "    .dataframe tbody tr th:only-of-type {\n",
       "        vertical-align: middle;\n",
       "    }\n",
       "\n",
       "    .dataframe tbody tr th {\n",
       "        vertical-align: top;\n",
       "    }\n",
       "\n",
       "    .dataframe thead th {\n",
       "        text-align: right;\n",
       "    }\n",
       "</style>\n",
       "<table border=\"1\" class=\"dataframe\">\n",
       "  <thead>\n",
       "    <tr style=\"text-align: right;\">\n",
       "      <th></th>\n",
       "      <th>reading_score</th>\n",
       "      <th>math_score</th>\n",
       "      <th>comp_pct</th>\n",
       "      <th>broadband_pct</th>\n",
       "      <th>poverty_ratio</th>\n",
       "      <th>white_pct</th>\n",
       "      <th>college_pct</th>\n",
       "      <th>median_income</th>\n",
       "      <th>median_rent</th>\n",
       "      <th>unemployment_pct</th>\n",
       "      <th>home_lang_not_eng</th>\n",
       "      <th>disability_pct</th>\n",
       "      <th>composite_score</th>\n",
       "    </tr>\n",
       "  </thead>\n",
       "  <tbody>\n",
       "    <tr>\n",
       "      <th>count</th>\n",
       "      <td>9988.000000</td>\n",
       "      <td>9988.000000</td>\n",
       "      <td>9988.000000</td>\n",
       "      <td>9988.000000</td>\n",
       "      <td>9988.000000</td>\n",
       "      <td>9988.000000</td>\n",
       "      <td>9988.000000</td>\n",
       "      <td>9.988000e+03</td>\n",
       "      <td>9.988000e+03</td>\n",
       "      <td>9988.000000</td>\n",
       "      <td>9988.000000</td>\n",
       "      <td>9988.000000</td>\n",
       "      <td>9988.000000</td>\n",
       "    </tr>\n",
       "    <tr>\n",
       "      <th>mean</th>\n",
       "      <td>49.785342</td>\n",
       "      <td>45.383260</td>\n",
       "      <td>85.306278</td>\n",
       "      <td>75.330447</td>\n",
       "      <td>16.683911</td>\n",
       "      <td>85.752473</td>\n",
       "      <td>88.112565</td>\n",
       "      <td>-1.417178e+05</td>\n",
       "      <td>-4.003978e+06</td>\n",
       "      <td>5.470685</td>\n",
       "      <td>10.357099</td>\n",
       "      <td>14.944403</td>\n",
       "      <td>47.584301</td>\n",
       "    </tr>\n",
       "    <tr>\n",
       "      <th>std</th>\n",
       "      <td>16.486362</td>\n",
       "      <td>17.658938</td>\n",
       "      <td>6.996305</td>\n",
       "      <td>10.036105</td>\n",
       "      <td>9.059927</td>\n",
       "      <td>16.086297</td>\n",
       "      <td>7.147725</td>\n",
       "      <td>1.155382e+07</td>\n",
       "      <td>5.151800e+07</td>\n",
       "      <td>3.160376</td>\n",
       "      <td>13.767899</td>\n",
       "      <td>4.939173</td>\n",
       "      <td>14.514709</td>\n",
       "    </tr>\n",
       "    <tr>\n",
       "      <th>min</th>\n",
       "      <td>2.000000</td>\n",
       "      <td>2.000000</td>\n",
       "      <td>25.300000</td>\n",
       "      <td>14.600000</td>\n",
       "      <td>1.300000</td>\n",
       "      <td>0.500000</td>\n",
       "      <td>33.700000</td>\n",
       "      <td>-6.666667e+08</td>\n",
       "      <td>-6.666667e+08</td>\n",
       "      <td>0.000000</td>\n",
       "      <td>0.000000</td>\n",
       "      <td>0.000000</td>\n",
       "      <td>2.500000</td>\n",
       "    </tr>\n",
       "    <tr>\n",
       "      <th>25%</th>\n",
       "      <td>37.000000</td>\n",
       "      <td>32.000000</td>\n",
       "      <td>81.400000</td>\n",
       "      <td>69.400000</td>\n",
       "      <td>10.000000</td>\n",
       "      <td>81.300000</td>\n",
       "      <td>84.800000</td>\n",
       "      <td>4.504200e+04</td>\n",
       "      <td>6.440000e+02</td>\n",
       "      <td>3.500000</td>\n",
       "      <td>2.400000</td>\n",
       "      <td>11.400000</td>\n",
       "      <td>37.000000</td>\n",
       "    </tr>\n",
       "    <tr>\n",
       "      <th>50%</th>\n",
       "      <td>49.000000</td>\n",
       "      <td>44.000000</td>\n",
       "      <td>85.900000</td>\n",
       "      <td>76.000000</td>\n",
       "      <td>15.300000</td>\n",
       "      <td>92.200000</td>\n",
       "      <td>89.700000</td>\n",
       "      <td>5.402200e+04</td>\n",
       "      <td>7.440000e+02</td>\n",
       "      <td>4.900000</td>\n",
       "      <td>5.100000</td>\n",
       "      <td>14.400000</td>\n",
       "      <td>46.500000</td>\n",
       "    </tr>\n",
       "    <tr>\n",
       "      <th>75%</th>\n",
       "      <td>62.000000</td>\n",
       "      <td>57.000000</td>\n",
       "      <td>90.300000</td>\n",
       "      <td>82.400000</td>\n",
       "      <td>21.800000</td>\n",
       "      <td>96.300000</td>\n",
       "      <td>93.100000</td>\n",
       "      <td>6.592550e+04</td>\n",
       "      <td>9.210000e+02</td>\n",
       "      <td>6.800000</td>\n",
       "      <td>12.000000</td>\n",
       "      <td>17.900000</td>\n",
       "      <td>57.500000</td>\n",
       "    </tr>\n",
       "    <tr>\n",
       "      <th>max</th>\n",
       "      <td>94.000000</td>\n",
       "      <td>98.000000</td>\n",
       "      <td>100.000000</td>\n",
       "      <td>100.000000</td>\n",
       "      <td>65.400000</td>\n",
       "      <td>100.000000</td>\n",
       "      <td>100.000000</td>\n",
       "      <td>2.500010e+05</td>\n",
       "      <td>3.439000e+03</td>\n",
       "      <td>38.300000</td>\n",
       "      <td>97.600000</td>\n",
       "      <td>65.800000</td>\n",
       "      <td>91.000000</td>\n",
       "    </tr>\n",
       "  </tbody>\n",
       "</table>\n",
       "</div>"
      ],
      "text/plain": [
       "       reading_score   math_score     comp_pct  broadband_pct  poverty_ratio  \\\n",
       "count    9988.000000  9988.000000  9988.000000    9988.000000    9988.000000   \n",
       "mean       49.785342    45.383260    85.306278      75.330447      16.683911   \n",
       "std        16.486362    17.658938     6.996305      10.036105       9.059927   \n",
       "min         2.000000     2.000000    25.300000      14.600000       1.300000   \n",
       "25%        37.000000    32.000000    81.400000      69.400000      10.000000   \n",
       "50%        49.000000    44.000000    85.900000      76.000000      15.300000   \n",
       "75%        62.000000    57.000000    90.300000      82.400000      21.800000   \n",
       "max        94.000000    98.000000   100.000000     100.000000      65.400000   \n",
       "\n",
       "         white_pct  college_pct  median_income   median_rent  \\\n",
       "count  9988.000000  9988.000000   9.988000e+03  9.988000e+03   \n",
       "mean     85.752473    88.112565  -1.417178e+05 -4.003978e+06   \n",
       "std      16.086297     7.147725   1.155382e+07  5.151800e+07   \n",
       "min       0.500000    33.700000  -6.666667e+08 -6.666667e+08   \n",
       "25%      81.300000    84.800000   4.504200e+04  6.440000e+02   \n",
       "50%      92.200000    89.700000   5.402200e+04  7.440000e+02   \n",
       "75%      96.300000    93.100000   6.592550e+04  9.210000e+02   \n",
       "max     100.000000   100.000000   2.500010e+05  3.439000e+03   \n",
       "\n",
       "       unemployment_pct  home_lang_not_eng  disability_pct  composite_score  \n",
       "count       9988.000000        9988.000000     9988.000000      9988.000000  \n",
       "mean           5.470685          10.357099       14.944403        47.584301  \n",
       "std            3.160376          13.767899        4.939173        14.514709  \n",
       "min            0.000000           0.000000        0.000000         2.500000  \n",
       "25%            3.500000           2.400000       11.400000        37.000000  \n",
       "50%            4.900000           5.100000       14.400000        46.500000  \n",
       "75%            6.800000          12.000000       17.900000        57.500000  \n",
       "max           38.300000          97.600000       65.800000        91.000000  "
      ]
     },
     "execution_count": 64,
     "metadata": {},
     "output_type": "execute_result"
    }
   ],
   "source": [
    "divide_data.describe()"
   ]
  },
  {
   "cell_type": "code",
   "execution_count": 63,
   "metadata": {},
   "outputs": [
    {
     "name": "stdout",
     "output_type": "stream",
     "text": [
      "<class 'pandas.core.frame.DataFrame'>\n",
      "Index: 9988 entries, 0102650 to 5502880\n",
      "Data columns (total 13 columns):\n",
      " #   Column             Non-Null Count  Dtype  \n",
      "---  ------             --------------  -----  \n",
      " 0   reading_score      9988 non-null   int64  \n",
      " 1   math_score         9988 non-null   int64  \n",
      " 2   comp_pct           9988 non-null   float64\n",
      " 3   broadband_pct      9988 non-null   float64\n",
      " 4   poverty_ratio      9988 non-null   float64\n",
      " 5   white_pct          9988 non-null   float64\n",
      " 6   college_pct        9988 non-null   float64\n",
      " 7   median_income      9988 non-null   int64  \n",
      " 8   median_rent        9988 non-null   int64  \n",
      " 9   unemployment_pct   9988 non-null   float64\n",
      " 10  home_lang_not_eng  9988 non-null   float64\n",
      " 11  disability_pct     9988 non-null   float64\n",
      " 12  composite_score    9988 non-null   float64\n",
      "dtypes: float64(9), int64(4)\n",
      "memory usage: 1.1+ MB\n"
     ]
    }
   ],
   "source": [
    "divide_data.info()"
   ]
  },
  {
   "cell_type": "code",
   "execution_count": 65,
   "metadata": {},
   "outputs": [],
   "source": [
    "divide_data['median_income']  = divide_data[divide_data['median_income']>0]"
   ]
  },
  {
   "cell_type": "code",
   "execution_count": 66,
   "metadata": {},
   "outputs": [],
   "source": [
    "divide_data['median_rent'] = divide_data[divide_data['median_rent']>0]"
   ]
  },
  {
   "cell_type": "code",
   "execution_count": 68,
   "metadata": {},
   "outputs": [
    {
     "name": "stdout",
     "output_type": "stream",
     "text": [
      "<class 'pandas.core.frame.DataFrame'>\n",
      "Index: 9988 entries, 0102650 to 5502880\n",
      "Data columns (total 13 columns):\n",
      " #   Column             Non-Null Count  Dtype  \n",
      "---  ------             --------------  -----  \n",
      " 0   reading_score      9988 non-null   int64  \n",
      " 1   math_score         9988 non-null   int64  \n",
      " 2   comp_pct           9988 non-null   float64\n",
      " 3   broadband_pct      9988 non-null   float64\n",
      " 4   poverty_ratio      9988 non-null   float64\n",
      " 5   white_pct          9988 non-null   float64\n",
      " 6   college_pct        9988 non-null   float64\n",
      " 7   median_income      9985 non-null   float64\n",
      " 8   median_rent        9928 non-null   float64\n",
      " 9   unemployment_pct   9988 non-null   float64\n",
      " 10  home_lang_not_eng  9988 non-null   float64\n",
      " 11  disability_pct     9988 non-null   float64\n",
      " 12  composite_score    9988 non-null   float64\n",
      "dtypes: float64(11), int64(2)\n",
      "memory usage: 1.1+ MB\n"
     ]
    }
   ],
   "source": [
    "divide_data.info()"
   ]
  },
  {
   "cell_type": "code",
   "execution_count": 69,
   "metadata": {},
   "outputs": [],
   "source": [
    "divide_data.dropna(inplace=True)"
   ]
  },
  {
   "cell_type": "code",
   "execution_count": 72,
   "metadata": {},
   "outputs": [
    {
     "name": "stdout",
     "output_type": "stream",
     "text": [
      "<class 'pandas.core.frame.DataFrame'>\n",
      "Index: 9928 entries, 0102650 to 5502880\n",
      "Data columns (total 13 columns):\n",
      " #   Column             Non-Null Count  Dtype  \n",
      "---  ------             --------------  -----  \n",
      " 0   reading_score      9928 non-null   int64  \n",
      " 1   math_score         9928 non-null   int64  \n",
      " 2   comp_pct           9928 non-null   float64\n",
      " 3   broadband_pct      9928 non-null   float64\n",
      " 4   poverty_ratio      9928 non-null   float64\n",
      " 5   white_pct          9928 non-null   float64\n",
      " 6   college_pct        9928 non-null   float64\n",
      " 7   median_income      9928 non-null   float64\n",
      " 8   median_rent        9928 non-null   float64\n",
      " 9   unemployment_pct   9928 non-null   float64\n",
      " 10  home_lang_not_eng  9928 non-null   float64\n",
      " 11  disability_pct     9928 non-null   float64\n",
      " 12  composite_score    9928 non-null   float64\n",
      "dtypes: float64(11), int64(2)\n",
      "memory usage: 1.1+ MB\n"
     ]
    }
   ],
   "source": [
    "divide_data.info()"
   ]
  },
  {
   "cell_type": "code",
   "execution_count": 74,
   "metadata": {},
   "outputs": [
    {
     "data": {
      "text/plain": [
       "<matplotlib.axes._subplots.AxesSubplot at 0x26773f03700>"
      ]
     },
     "execution_count": 74,
     "metadata": {},
     "output_type": "execute_result"
    },
    {
     "data": {
      "image/png": "[encoded data removed]",
      "text/plain": [
       "<Figure size 432x288 with 1 Axes>"
      ]
     },
     "metadata": {
      "needs_background": "light"
     },
     "output_type": "display_data"
    }
   ],
   "source": [
    "divide_data.median_income.hist()"
   ]
  },
  {
   "cell_type": "code",
   "execution_count": 75,
   "metadata": {},
   "outputs": [
    {
     "data": {
      "text/plain": [
       "<matplotlib.axes._subplots.AxesSubplot at 0x26775009df0>"
      ]
     },
     "execution_count": 75,
     "metadata": {},
     "output_type": "execute_result"
    },
    {
     "data": {
      "image/png": "[encoded data removed]",
      "text/plain": [
       "<Figure size 432x288 with 1 Axes>"
      ]
     },
     "metadata": {
      "needs_background": "light"
     },
     "output_type": "display_data"
    }
   ],
   "source": [
    "divide_data.median_rent.hist()"
   ]
  },
  {
   "cell_type": "code",
   "execution_count": null,
   "metadata": {},
   "outputs": [],
   "source": []
  },
  {
   "cell_type": "code",
   "execution_count": 5,
   "metadata": {},
   "outputs": [],
   "source": [
    "train_set, test_set = train_test_split(divide_data, test_size=0.2, random_state=31)"
   ]
  },
  {
   "cell_type": "code",
   "execution_count": 6,
   "metadata": {},
   "outputs": [],
   "source": [
    "dd_test = test_set.copy()"
   ]
  },
  {
   "cell_type": "code",
   "execution_count": 7,
   "metadata": {},
   "outputs": [],
   "source": [
    "digital_divide = train_set.copy()"
   ]
  },
  {
   "cell_type": "code",
   "execution_count": 8,
   "metadata": {},
   "outputs": [],
   "source": [
    "divide_labels = digital_divide['composite_score']\n",
    "divide = digital_divide.drop(['reading_score','math_score','composite_score'],axis=1)"
   ]
  },
  {
   "cell_type": "code",
   "execution_count": 9,
   "metadata": {},
   "outputs": [
    {
     "data": {
      "text/plain": [
       "Index(['comp_pct', 'broadband_pct', 'poverty_ratio', 'white_pct',\n",
       "       'college_pct', 'median_income', 'median_rent', 'unemployment_pct',\n",
       "       'home_lang_not_eng', 'disability_pct'],\n",
       "      dtype='object')"
      ]
     },
     "execution_count": 9,
     "metadata": {},
     "output_type": "execute_result"
    }
   ],
   "source": [
    "divide.columns"
   ]
  },
  {
   "cell_type": "code",
   "execution_count": 11,
   "metadata": {},
   "outputs": [],
   "source": [
    "num_pipeline = Pipeline([\n",
    "    ##Eventually add imputer\n",
    "    ##Eventually add feature engineering functions\n",
    "    ('std_scaler', StandardScaler())\n",
    "])"
   ]
  },
  {
   "cell_type": "code",
   "execution_count": 12,
   "metadata": {},
   "outputs": [],
   "source": [
    "num_attribs = list(divide)\n",
    "## cat_attibs = []\n",
    "\n",
    "full_pipeline = ColumnTransformer([\n",
    "    ('num', num_pipeline, num_attribs)\n",
    "    ##('cat', cat_pipeline[OneHotEncoder()], cat_attribs)\n",
    "])"
   ]
  },
  {
   "cell_type": "code",
   "execution_count": 13,
   "metadata": {},
   "outputs": [],
   "source": [
    "divide_prepped = full_pipeline.fit_transform(divide)"
   ]
  },
  {
   "cell_type": "markdown",
   "metadata": {},
   "source": [
    "# Linear Regression"
   ]
  },
  {
   "cell_type": "code",
   "execution_count": 14,
   "metadata": {},
   "outputs": [
    {
     "data": {
      "text/plain": [
       "LinearRegression()"
      ]
     },
     "execution_count": 14,
     "metadata": {},
     "output_type": "execute_result"
    }
   ],
   "source": [
    "lin_reg = LinearRegression()\n",
    "lin_reg.fit(divide_prepped, divide_labels)"
   ]
  },
  {
   "cell_type": "code",
   "execution_count": 15,
   "metadata": {},
   "outputs": [
    {
     "name": "stdout",
     "output_type": "stream",
     "text": [
      "[51.12871257 55.34207479 43.49517234 ... 49.80034032 52.40252435\n",
      " 50.0721725 ]\n",
      "LEAID\n",
      "2623490    32.5\n",
      "3621930    59.5\n",
      "1302430    39.5\n",
      "5401170    37.5\n",
      "4900142    45.5\n",
      "           ... \n",
      "3626430    53.0\n",
      "0103450    41.5\n",
      "0643560    42.0\n",
      "2723550    65.0\n",
      "3100122    57.5\n",
      "Name: composite_score, Length: 7990, dtype: float64\n"
     ]
    }
   ],
   "source": [
    "lin_reg_predictions = lin_reg.predict(divide_prepped)\n",
    "print(lin_reg_predictions)\n",
    "print(divide_labels)\n",
    "error = mean_squared_error(divide_labels, lin_reg_predictions)\n",
    "pre_err = np.sqrt(error)\n",
    "RMSE = pre_err"
   ]
  },
  {
   "cell_type": "code",
   "execution_count": 16,
   "metadata": {},
   "outputs": [
    {
     "name": "stdout",
     "output_type": "stream",
     "text": [
      "12.858917422236514\n"
     ]
    }
   ],
   "source": [
    "print(RMSE)"
   ]
  },
  {
   "cell_type": "markdown",
   "metadata": {},
   "source": [
    "## Model Performance Evaluation"
   ]
  },
  {
   "cell_type": "code",
   "execution_count": null,
   "metadata": {},
   "outputs": [],
   "source": []
  },
  {
   "cell_type": "markdown",
   "metadata": {},
   "source": [
    "## Linear Regression Feature Importance"
   ]
  },
  {
   "cell_type": "code",
   "execution_count": 39,
   "metadata": {},
   "outputs": [
    {
     "name": "stdout",
     "output_type": "stream",
     "text": [
      "Feature: 0, Score: -2.64448\n",
      "Feature: 1, Score: 3.61820\n",
      "Feature: 2, Score: -2.02197\n",
      "Feature: 3, Score: 2.16448\n",
      "Feature: 4, Score: 0.99059\n",
      "Feature: 5, Score: -0.20056\n",
      "Feature: 6, Score: 0.04197\n",
      "Feature: 7, Score: -0.81239\n",
      "Feature: 8, Score: -0.35061\n",
      "Feature: 9, Score: -1.95392\n"
     ]
    },
    {
     "data": {
      "image/png": "[encoded data removed]",
      "text/plain": [
       "<Figure size 432x288 with 1 Axes>"
      ]
     },
     "metadata": {
      "needs_background": "light"
     },
     "output_type": "display_data"
    }
   ],
   "source": [
    "importance = lin_reg.coef_\n",
    "for i,v in enumerate(importance):\n",
    "\tprint('Feature: %0d, Score: %.5f' % (i,v))\n",
    "# plot feature importance\n",
    "plt.barh([x for x in range(len(importance))], divide.columns)\n",
    "plt.show()"
   ]
  },
  {
   "cell_type": "markdown",
   "metadata": {},
   "source": [
    "# Decision Tree Regressor"
   ]
  },
  {
   "cell_type": "code",
   "execution_count": 25,
   "metadata": {},
   "outputs": [
    {
     "data": {
      "text/plain": [
       "DecisionTreeRegressor()"
      ]
     },
     "execution_count": 25,
     "metadata": {},
     "output_type": "execute_result"
    }
   ],
   "source": [
    "dt_reg = DecisionTreeRegressor()\n",
    "dt_reg.fit(divide_prepped, divide_labels)"
   ]
  },
  {
   "cell_type": "code",
   "execution_count": 26,
   "metadata": {},
   "outputs": [
    {
     "name": "stdout",
     "output_type": "stream",
     "text": [
      "[32.5 59.5 39.5 ... 42.  65.  57.5]\n",
      "LEAID\n",
      "2623490    32.5\n",
      "3621930    59.5\n",
      "1302430    39.5\n",
      "5401170    37.5\n",
      "4900142    45.5\n",
      "           ... \n",
      "3626430    53.0\n",
      "0103450    41.5\n",
      "0643560    42.0\n",
      "2723550    65.0\n",
      "3100122    57.5\n",
      "Name: composite_score, Length: 7990, dtype: float64\n",
      "0.0\n"
     ]
    }
   ],
   "source": [
    "dt_predictions = dt_reg.predict(divide_prepped)\n",
    "print(dt_predictions)\n",
    "print(divide_labels)\n",
    "RMSE_dt = np.sqrt(\n",
    "    mean_squared_error(divide_labels, dt_predictions))\n",
    "print(RMSE_dt)"
   ]
  },
  {
   "cell_type": "code",
   "execution_count": null,
   "metadata": {},
   "outputs": [],
   "source": []
  },
  {
   "cell_type": "markdown",
   "metadata": {},
   "source": [
    "## Model Performance Evaluation"
   ]
  },
  {
   "cell_type": "code",
   "execution_count": null,
   "metadata": {},
   "outputs": [],
   "source": []
  },
  {
   "cell_type": "markdown",
   "metadata": {},
   "source": [
    "## Feature Importance"
   ]
  },
  {
   "cell_type": "code",
   "execution_count": 103,
   "metadata": {},
   "outputs": [],
   "source": [
    "def plot_feature_importances(model):\n",
    "    n_features = divide_prepped.shape[1]\n",
    "    plt.barh(np.arange(n_features), model.feature_importances_, align='center')\n",
    "    plt.yticks(np.arange(n_features), \n",
    "               divide.columns.str.replace('_', ' ', ))\n",
    "    plt.xlabel('Feature Importance')\n",
    "    plt.ylabel(\"Feature\")\n",
    "    "
   ]
  },
  {
   "cell_type": "code",
   "execution_count": 105,
   "metadata": {},
   "outputs": [
    {
     "ename": "AttributeError",
     "evalue": "'NoneType' object has no attribute 'savefig'",
     "output_type": "error",
     "traceback": [
      "\u001b[1;31m---------------------------------------------------------------------------\u001b[0m",
      "\u001b[1;31mAttributeError\u001b[0m                            Traceback (most recent call last)",
      "\u001b[1;32m<ipython-input-105-2fd20b6eb5b5>\u001b[0m in \u001b[0;36m<module>\u001b[1;34m\u001b[0m\n\u001b[1;32m----> 1\u001b[1;33m \u001b[0mplot_feature_importances\u001b[0m\u001b[1;33m(\u001b[0m\u001b[0mdt_reg\u001b[0m\u001b[1;33m)\u001b[0m\u001b[1;33m.\u001b[0m\u001b[0msavefig\u001b[0m\u001b[1;33m(\u001b[0m\u001b[1;33m)\u001b[0m\u001b[1;33m\u001b[0m\u001b[1;33m\u001b[0m\u001b[0m\n\u001b[0m",
      "\u001b[1;31mAttributeError\u001b[0m: 'NoneType' object has no attribute 'savefig'"
     ]
    },
    {
     "data": {
      "image/png": "[encoded data removed]",
      "text/plain": [
       "<Figure size 432x288 with 1 Axes>"
      ]
     },
     "metadata": {
      "needs_background": "light"
     },
     "output_type": "display_data"
    }
   ],
   "source": [
    "plot_feature_importances(dt_reg).savefig('')"
   ]
  },
  {
   "cell_type": "code",
   "execution_count": null,
   "metadata": {},
   "outputs": [],
   "source": []
  },
  {
   "cell_type": "code",
   "execution_count": 78,
   "metadata": {},
   "outputs": [
    {
     "ename": "TypeError",
     "evalue": "not all arguments converted during string formatting",
     "output_type": "error",
     "traceback": [
      "\u001b[1;31m---------------------------------------------------------------------------\u001b[0m",
      "\u001b[1;31mTypeError\u001b[0m                                 Traceback (most recent call last)",
      "\u001b[1;32m<ipython-input-78-c29f4d0bed26>\u001b[0m in \u001b[0;36m<module>\u001b[1;34m\u001b[0m\n\u001b[0;32m      1\u001b[0m \u001b[0mdt_importance\u001b[0m \u001b[1;33m=\u001b[0m \u001b[0mdt_reg\u001b[0m\u001b[1;33m.\u001b[0m\u001b[0mfeature_importances_\u001b[0m\u001b[1;33m\u001b[0m\u001b[1;33m\u001b[0m\u001b[0m\n\u001b[0;32m      2\u001b[0m \u001b[1;32mfor\u001b[0m \u001b[0mi\u001b[0m\u001b[1;33m,\u001b[0m\u001b[0mv\u001b[0m \u001b[1;32min\u001b[0m \u001b[0menumerate\u001b[0m\u001b[1;33m(\u001b[0m\u001b[0mdt_importance\u001b[0m\u001b[1;33m)\u001b[0m\u001b[1;33m:\u001b[0m\u001b[1;33m\u001b[0m\u001b[1;33m\u001b[0m\u001b[0m\n\u001b[1;32m----> 3\u001b[1;33m         \u001b[0mprint\u001b[0m\u001b[1;33m(\u001b[0m\u001b[1;34m'divide.columns, Score: %.5f'\u001b[0m \u001b[1;33m%\u001b[0m \u001b[1;33m(\u001b[0m\u001b[0mi\u001b[0m\u001b[1;33m,\u001b[0m\u001b[0mv\u001b[0m\u001b[1;33m)\u001b[0m\u001b[1;33m)\u001b[0m\u001b[1;33m\u001b[0m\u001b[1;33m\u001b[0m\u001b[0m\n\u001b[0m\u001b[0;32m      4\u001b[0m \u001b[1;31m# plot feature importance\u001b[0m\u001b[1;33m\u001b[0m\u001b[1;33m\u001b[0m\u001b[1;33m\u001b[0m\u001b[0m\n\u001b[0;32m      5\u001b[0m \u001b[0mplt\u001b[0m\u001b[1;33m.\u001b[0m\u001b[0mbar\u001b[0m\u001b[1;33m(\u001b[0m\u001b[1;33m[\u001b[0m\u001b[0mx\u001b[0m \u001b[1;32mfor\u001b[0m \u001b[0mx\u001b[0m \u001b[1;32min\u001b[0m \u001b[0mrange\u001b[0m\u001b[1;33m(\u001b[0m\u001b[0mlen\u001b[0m\u001b[1;33m(\u001b[0m\u001b[0mdt_importance\u001b[0m\u001b[1;33m)\u001b[0m\u001b[1;33m)\u001b[0m\u001b[1;33m]\u001b[0m\u001b[1;33m,\u001b[0m \u001b[0mdivide\u001b[0m\u001b[1;33m.\u001b[0m\u001b[0mcolumns\u001b[0m\u001b[1;33m)\u001b[0m\u001b[1;33m\u001b[0m\u001b[1;33m\u001b[0m\u001b[0m\n",
      "\u001b[1;31mTypeError\u001b[0m: not all arguments converted during string formatting"
     ]
    }
   ],
   "source": [
    "dt_importance = dt_reg.feature_importances_\n",
    "for i,v in enumerate(dt_importance):\n",
    "\tprint('divide.columns, Score: %.5f' % (i,v))\n",
    "# plot feature importance\n",
    "plt.bar([x for x in range(len(dt_importance))], divide.columns)\n",
    "plt.show()"
   ]
  },
  {
   "cell_type": "markdown",
   "metadata": {},
   "source": [
    "# Random Forest Regressor"
   ]
  },
  {
   "cell_type": "code",
   "execution_count": 80,
   "metadata": {},
   "outputs": [
    {
     "data": {
      "text/plain": [
       "RandomForestRegressor()"
      ]
     },
     "execution_count": 80,
     "metadata": {},
     "output_type": "execute_result"
    }
   ],
   "source": [
    "rf_reg = RandomForestRegressor()\n",
    "rf_reg.fit(divide_prepped, divide_labels)"
   ]
  },
  {
   "cell_type": "code",
   "execution_count": 81,
   "metadata": {},
   "outputs": [
    {
     "name": "stdout",
     "output_type": "stream",
     "text": [
      "[41.31  58.725 40.875 ... 42.68  61.15  55.78 ]\n",
      "LEAID\n",
      "2623490    32.5\n",
      "3621930    59.5\n",
      "1302430    39.5\n",
      "5401170    37.5\n",
      "4900142    45.5\n",
      "           ... \n",
      "3626430    53.0\n",
      "0103450    41.5\n",
      "0643560    42.0\n",
      "2723550    65.0\n",
      "3100122    57.5\n",
      "Name: composite_score, Length: 7990, dtype: float64\n",
      "4.744000388277806\n"
     ]
    }
   ],
   "source": [
    "rf_predictions = rf_reg.predict(divide_prepped)\n",
    "print(rf_predictions)\n",
    "print(divide_labels)\n",
    "RMSE_rf = np.sqrt(\n",
    "    mean_squared_error(divide_labels, rf_predictions))\n",
    "\n",
    "print(RMSE_rf)"
   ]
  },
  {
   "cell_type": "code",
   "execution_count": 82,
   "metadata": {},
   "outputs": [
    {
     "data": {
      "text/plain": [
       "{'bootstrap': True,\n",
       " 'ccp_alpha': 0.0,\n",
       " 'criterion': 'mse',\n",
       " 'max_depth': None,\n",
       " 'max_features': 'auto',\n",
       " 'max_leaf_nodes': None,\n",
       " 'max_samples': None,\n",
       " 'min_impurity_decrease': 0.0,\n",
       " 'min_impurity_split': None,\n",
       " 'min_samples_leaf': 1,\n",
       " 'min_samples_split': 2,\n",
       " 'min_weight_fraction_leaf': 0.0,\n",
       " 'n_estimators': 100,\n",
       " 'n_jobs': None,\n",
       " 'oob_score': False,\n",
       " 'random_state': None,\n",
       " 'verbose': 0,\n",
       " 'warm_start': False}"
      ]
     },
     "execution_count": 82,
     "metadata": {},
     "output_type": "execute_result"
    }
   ],
   "source": [
    "rf_reg.get_params()"
   ]
  },
  {
   "cell_type": "code",
   "execution_count": 37,
   "metadata": {},
   "outputs": [
    {
     "name": "stdout",
     "output_type": "stream",
     "text": [
      "Feature: 0, Score: -2.64448\n",
      "Feature: 1, Score: 3.61820\n",
      "Feature: 2, Score: -2.02197\n",
      "Feature: 3, Score: 2.16448\n",
      "Feature: 4, Score: 0.99059\n",
      "Feature: 5, Score: -0.20056\n",
      "Feature: 6, Score: 0.04197\n",
      "Feature: 7, Score: -0.81239\n",
      "Feature: 8, Score: -0.35061\n",
      "Feature: 9, Score: -1.95392\n"
     ]
    },
    {
     "data": {
      "image/png": "[encoded data removed]",
      "text/plain": [
       "<Figure size 432x288 with 1 Axes>"
      ]
     },
     "metadata": {
      "needs_background": "light"
     },
     "output_type": "display_data"
    }
   ],
   "source": [
    "for i, v in enumerate(importance):\n",
    "    print('Feature: %0d, Score: %.5f' % (i, v))\n",
    "\n",
    "plt.bar([x for x in range(len(importance))], importance)\n",
    "plt.show()"
   ]
  },
  {
   "cell_type": "markdown",
   "metadata": {},
   "source": [
    "# CART Algorithm"
   ]
  },
  {
   "cell_type": "markdown",
   "metadata": {},
   "source": [
    "# Model Evaluation"
   ]
  },
  {
   "cell_type": "code",
   "execution_count": null,
   "metadata": {},
   "outputs": [],
   "source": []
  }
 ],
 "metadata": {
  "kernelspec": {
   "display_name": "Python 3",
   "language": "python",
   "name": "python3"
  },
  "language_info": {
   "codemirror_mode": {
    "name": "ipython",
    "version": 3
   },
   "file_extension": ".py",
   "mimetype": "text/x-python",
   "name": "python",
   "nbconvert_exporter": "python",
   "pygments_lexer": "ipython3",
   "version": "3.8.5"
  }
 },
 "nbformat": 4,
 "nbformat_minor": 4
}
