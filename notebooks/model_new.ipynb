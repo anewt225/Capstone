{
 "cells": [
  {
   "cell_type": "markdown",
   "metadata": {},
   "source": [
    "# Model prep\n",
    "\n",
    "This notebook prepares some of the data for modelling."
   ]
  },
  {
   "cell_type": "markdown",
   "metadata": {},
   "source": [
    "# Imports"
   ]
  },
  {
   "cell_type": "markdown",
   "metadata": {},
   "source": [
    "## Modules"
   ]
  },
  {
   "cell_type": "code",
   "execution_count": 1,
   "metadata": {},
   "outputs": [],
   "source": [
    "import pandas as pd\n",
    "import numpy as np\n",
    "import matplotlib.pyplot as plt\n",
    "import seaborn as sns\n",
    "from sklearn.model_selection import train_test_split\n",
    "from pandas.plotting import scatter_matrix"
   ]
  },
  {
   "cell_type": "code",
   "execution_count": 21,
   "metadata": {},
   "outputs": [],
   "source": [
    "from sklearn.pipeline import Pipeline\n",
    "from sklearn.preprocessing import StandardScaler\n",
    "from sklearn.compose import ColumnTransformer\n",
    "from sklearn.linear_model import LinearRegression\n",
    "from sklearn.tree import DecisionTreeRegressor\n",
    "from sklearn.metrics import mean_squared_error\n",
    "from sklearn.model_selection import cross_val_score\n",
    "from sklearn.model_selection import GridSearchCV\n",
    "from sklearn.ensemble import RandomForestRegressor"
   ]
  },
  {
   "cell_type": "markdown",
   "metadata": {},
   "source": [
    "## Data"
   ]
  },
  {
   "cell_type": "code",
   "execution_count": 4,
   "metadata": {},
   "outputs": [
    {
     "data": {
      "text/html": [
       "<div>\n",
       "<style scoped>\n",
       "    .dataframe tbody tr th:only-of-type {\n",
       "        vertical-align: middle;\n",
       "    }\n",
       "\n",
       "    .dataframe tbody tr th {\n",
       "        vertical-align: top;\n",
       "    }\n",
       "\n",
       "    .dataframe thead th {\n",
       "        text-align: right;\n",
       "    }\n",
       "</style>\n",
       "<table border=\"1\" class=\"dataframe\">\n",
       "  <thead>\n",
       "    <tr style=\"text-align: right;\">\n",
       "      <th></th>\n",
       "      <th>reading_score</th>\n",
       "      <th>math_score</th>\n",
       "      <th>comp_pct</th>\n",
       "      <th>broadband_pct</th>\n",
       "      <th>poverty_ratio</th>\n",
       "      <th>white_pct</th>\n",
       "      <th>college_pct</th>\n",
       "      <th>median_income</th>\n",
       "      <th>median_rent</th>\n",
       "      <th>unemployment_pct</th>\n",
       "      <th>home_lang_not_eng</th>\n",
       "      <th>disability_pct</th>\n",
       "      <th>composite_score</th>\n",
       "    </tr>\n",
       "    <tr>\n",
       "      <th>LEAID</th>\n",
       "      <th></th>\n",
       "      <th></th>\n",
       "      <th></th>\n",
       "      <th></th>\n",
       "      <th></th>\n",
       "      <th></th>\n",
       "      <th></th>\n",
       "      <th></th>\n",
       "      <th></th>\n",
       "      <th></th>\n",
       "      <th></th>\n",
       "      <th></th>\n",
       "      <th></th>\n",
       "    </tr>\n",
       "  </thead>\n",
       "  <tbody>\n",
       "    <tr>\n",
       "      <th>0102650</th>\n",
       "      <td>48</td>\n",
       "      <td>48</td>\n",
       "      <td>81.2</td>\n",
       "      <td>72.9</td>\n",
       "      <td>16.5</td>\n",
       "      <td>89.2</td>\n",
       "      <td>83.4</td>\n",
       "      <td>48161</td>\n",
       "      <td>750</td>\n",
       "      <td>7.8</td>\n",
       "      <td>3.0</td>\n",
       "      <td>18.4</td>\n",
       "      <td>48.0</td>\n",
       "    </tr>\n",
       "    <tr>\n",
       "      <th>0102670</th>\n",
       "      <td>17</td>\n",
       "      <td>15</td>\n",
       "      <td>55.9</td>\n",
       "      <td>46.2</td>\n",
       "      <td>49.0</td>\n",
       "      <td>29.9</td>\n",
       "      <td>78.1</td>\n",
       "      <td>23561</td>\n",
       "      <td>574</td>\n",
       "      <td>12.3</td>\n",
       "      <td>1.4</td>\n",
       "      <td>25.2</td>\n",
       "      <td>16.0</td>\n",
       "    </tr>\n",
       "    <tr>\n",
       "      <th>0102700</th>\n",
       "      <td>41</td>\n",
       "      <td>43</td>\n",
       "      <td>83.5</td>\n",
       "      <td>68.1</td>\n",
       "      <td>32.3</td>\n",
       "      <td>49.4</td>\n",
       "      <td>84.2</td>\n",
       "      <td>40218</td>\n",
       "      <td>825</td>\n",
       "      <td>9.2</td>\n",
       "      <td>4.9</td>\n",
       "      <td>16.6</td>\n",
       "      <td>42.0</td>\n",
       "    </tr>\n",
       "    <tr>\n",
       "      <th>0102730</th>\n",
       "      <td>37</td>\n",
       "      <td>29</td>\n",
       "      <td>72.9</td>\n",
       "      <td>62.8</td>\n",
       "      <td>29.4</td>\n",
       "      <td>56.0</td>\n",
       "      <td>80.6</td>\n",
       "      <td>37458</td>\n",
       "      <td>456</td>\n",
       "      <td>10.6</td>\n",
       "      <td>4.3</td>\n",
       "      <td>24.5</td>\n",
       "      <td>33.0</td>\n",
       "    </tr>\n",
       "    <tr>\n",
       "      <th>0102760</th>\n",
       "      <td>48</td>\n",
       "      <td>53</td>\n",
       "      <td>81.5</td>\n",
       "      <td>70.5</td>\n",
       "      <td>27.9</td>\n",
       "      <td>88.8</td>\n",
       "      <td>82.8</td>\n",
       "      <td>36306</td>\n",
       "      <td>492</td>\n",
       "      <td>7.3</td>\n",
       "      <td>1.4</td>\n",
       "      <td>23.7</td>\n",
       "      <td>50.5</td>\n",
       "    </tr>\n",
       "  </tbody>\n",
       "</table>\n",
       "</div>"
      ],
      "text/plain": [
       "         reading_score  math_score  comp_pct  broadband_pct  poverty_ratio  \\\n",
       "LEAID                                                                        \n",
       "0102650             48          48      81.2           72.9           16.5   \n",
       "0102670             17          15      55.9           46.2           49.0   \n",
       "0102700             41          43      83.5           68.1           32.3   \n",
       "0102730             37          29      72.9           62.8           29.4   \n",
       "0102760             48          53      81.5           70.5           27.9   \n",
       "\n",
       "         white_pct  college_pct  median_income  median_rent  unemployment_pct  \\\n",
       "LEAID                                                                           \n",
       "0102650       89.2         83.4          48161          750               7.8   \n",
       "0102670       29.9         78.1          23561          574              12.3   \n",
       "0102700       49.4         84.2          40218          825               9.2   \n",
       "0102730       56.0         80.6          37458          456              10.6   \n",
       "0102760       88.8         82.8          36306          492               7.3   \n",
       "\n",
       "         home_lang_not_eng  disability_pct  composite_score  \n",
       "LEAID                                                        \n",
       "0102650                3.0            18.4             48.0  \n",
       "0102670                1.4            25.2             16.0  \n",
       "0102700                4.9            16.6             42.0  \n",
       "0102730                4.3            24.5             33.0  \n",
       "0102760                1.4            23.7             50.5  "
      ]
     },
     "execution_count": 4,
     "metadata": {},
     "output_type": "execute_result"
    }
   ],
   "source": [
    "divide_data = pd.read_pickle('../data/CLEANED_df.pkl')\n",
    "divide_data.head()"
   ]
  },
  {
   "cell_type": "code",
   "execution_count": 5,
   "metadata": {},
   "outputs": [
    {
     "name": "stdout",
     "output_type": "stream",
     "text": [
      "<class 'pandas.core.frame.DataFrame'>\n",
      "Index: 9988 entries, 0102650 to 5502880\n",
      "Data columns (total 13 columns):\n",
      " #   Column             Non-Null Count  Dtype  \n",
      "---  ------             --------------  -----  \n",
      " 0   reading_score      9988 non-null   int64  \n",
      " 1   math_score         9988 non-null   int64  \n",
      " 2   comp_pct           9988 non-null   float64\n",
      " 3   broadband_pct      9988 non-null   float64\n",
      " 4   poverty_ratio      9988 non-null   float64\n",
      " 5   white_pct          9988 non-null   float64\n",
      " 6   college_pct        9988 non-null   float64\n",
      " 7   median_income      9988 non-null   int64  \n",
      " 8   median_rent        9988 non-null   int64  \n",
      " 9   unemployment_pct   9988 non-null   float64\n",
      " 10  home_lang_not_eng  9988 non-null   float64\n",
      " 11  disability_pct     9988 non-null   float64\n",
      " 12  composite_score    9988 non-null   float64\n",
      "dtypes: float64(9), int64(4)\n",
      "memory usage: 1.1+ MB\n"
     ]
    }
   ],
   "source": [
    "divide_data.info()"
   ]
  },
  {
   "cell_type": "code",
   "execution_count": 6,
   "metadata": {},
   "outputs": [],
   "source": [
    "train_set, test_set = train_test_split(divide_data, test_size=0.2, random_state=31)"
   ]
  },
  {
   "cell_type": "code",
   "execution_count": 7,
   "metadata": {},
   "outputs": [],
   "source": [
    "digital_divide = train_set.copy()"
   ]
  },
  {
   "cell_type": "code",
   "execution_count": 9,
   "metadata": {},
   "outputs": [],
   "source": [
    "divide_labels = digital_divide['composite_score']\n",
    "divide = digital_divide.drop(['reading_score','math_score','composite_score'],axis=1)"
   ]
  },
  {
   "cell_type": "code",
   "execution_count": 13,
   "metadata": {},
   "outputs": [],
   "source": [
    "num_pipeline = Pipeline([\n",
    "    ##Eventually add imputer\n",
    "    ##Eventually add feature engineering functions\n",
    "    ('std_scaler', StandardScaler())\n",
    "])"
   ]
  },
  {
   "cell_type": "code",
   "execution_count": 14,
   "metadata": {},
   "outputs": [],
   "source": [
    "num_attribs = list(divide)\n",
    "## cat_attibs = []\n",
    "\n",
    "full_pipeline = ColumnTransformer([\n",
    "    ('num', num_pipeline, num_attribs)\n",
    "    ##('cat', cat_pipeline[OneHotEncoder()], cat_attribs)\n",
    "])"
   ]
  },
  {
   "cell_type": "code",
   "execution_count": 15,
   "metadata": {},
   "outputs": [],
   "source": [
    "divide_prepped = full_pipeline.fit_transform(divide)"
   ]
  },
  {
   "cell_type": "markdown",
   "metadata": {},
   "source": [
    "# Linear Regression"
   ]
  },
  {
   "cell_type": "code",
   "execution_count": 16,
   "metadata": {},
   "outputs": [
    {
     "data": {
      "text/plain": [
       "LinearRegression()"
      ]
     },
     "execution_count": 16,
     "metadata": {},
     "output_type": "execute_result"
    }
   ],
   "source": [
    "lin_reg = LinearRegression()\n",
    "lin_reg.fit(divide_prepped, divide_labels)"
   ]
  },
  {
   "cell_type": "code",
   "execution_count": 17,
   "metadata": {},
   "outputs": [
    {
     "name": "stdout",
     "output_type": "stream",
     "text": [
      "[51.12871257 55.34207479 43.49517234 ... 49.80034032 52.40252435\n",
      " 50.0721725 ]\n",
      "LEAID\n",
      "2623490    32.5\n",
      "3621930    59.5\n",
      "1302430    39.5\n",
      "5401170    37.5\n",
      "4900142    45.5\n",
      "           ... \n",
      "3626430    53.0\n",
      "0103450    41.5\n",
      "0643560    42.0\n",
      "2723550    65.0\n",
      "3100122    57.5\n",
      "Name: composite_score, Length: 7990, dtype: float64\n"
     ]
    }
   ],
   "source": [
    "divide_predictions = lin_reg.predict(divide_prepped)\n",
    "print(divide_predictions)\n",
    "print(divide_labels)\n",
    "error = mean_squared_error(divide_labels, divide_predictions)\n",
    "pre_err = np.sqrt(error)\n",
    "RMSE = pre_err"
   ]
  },
  {
   "cell_type": "code",
   "execution_count": 19,
   "metadata": {},
   "outputs": [
    {
     "name": "stdout",
     "output_type": "stream",
     "text": [
      "12.858917422236514\n"
     ]
    }
   ],
   "source": [
    "print(RMSE)"
   ]
  },
  {
   "cell_type": "markdown",
   "metadata": {},
   "source": [
    "# Decision Tree Regressor"
   ]
  },
  {
   "cell_type": "code",
   "execution_count": 22,
   "metadata": {},
   "outputs": [
    {
     "data": {
      "text/plain": [
       "DecisionTreeRegressor()"
      ]
     },
     "execution_count": 22,
     "metadata": {},
     "output_type": "execute_result"
    }
   ],
   "source": [
    "dt_reg = DecisionTreeRegressor()\n",
    "dt_reg.fit(divide_prepped, divide_labels)"
   ]
  },
  {
   "cell_type": "code",
   "execution_count": 23,
   "metadata": {},
   "outputs": [
    {
     "name": "stdout",
     "output_type": "stream",
     "text": [
      "[32.5 59.5 39.5 ... 42.  65.  57.5]\n",
      "LEAID\n",
      "2623490    32.5\n",
      "3621930    59.5\n",
      "1302430    39.5\n",
      "5401170    37.5\n",
      "4900142    45.5\n",
      "           ... \n",
      "3626430    53.0\n",
      "0103450    41.5\n",
      "0643560    42.0\n",
      "2723550    65.0\n",
      "3100122    57.5\n",
      "Name: composite_score, Length: 7990, dtype: float64\n",
      "12.858917422236514\n"
     ]
    }
   ],
   "source": [
    "divide_predictions_tree = dt_reg.predict(divide_prepped)\n",
    "print(divide_predictions_tree)\n",
    "print(divide_labels)\n",
    "error_tree = mean_squared_error(divide_labels, divide_predictions)\n",
    "pre_err_tree = np.sqrt(error)\n",
    "RMSE_tree = pre_err\n",
    "print(RMSE_tree)"
   ]
  },
  {
   "cell_type": "markdown",
   "metadata": {},
   "source": [
    "# Random Forest Regressor"
   ]
  },
  {
   "cell_type": "code",
   "execution_count": 25,
   "metadata": {},
   "outputs": [
    {
     "data": {
      "text/plain": [
       "RandomForestRegressor()"
      ]
     },
     "execution_count": 25,
     "metadata": {},
     "output_type": "execute_result"
    }
   ],
   "source": [
    "forest_reg = RandomForestRegressor()\n",
    "forest_reg.fit(divide_prepped, divide_labels)"
   ]
  },
  {
   "cell_type": "code",
   "execution_count": 26,
   "metadata": {},
   "outputs": [
    {
     "name": "stdout",
     "output_type": "stream",
     "text": [
      "[39.125 58.485 39.525 ... 43.335 60.025 53.995]\n",
      "LEAID\n",
      "2623490    32.5\n",
      "3621930    59.5\n",
      "1302430    39.5\n",
      "5401170    37.5\n",
      "4900142    45.5\n",
      "           ... \n",
      "3626430    53.0\n",
      "0103450    41.5\n",
      "0643560    42.0\n",
      "2723550    65.0\n",
      "3100122    57.5\n",
      "Name: composite_score, Length: 7990, dtype: float64\n",
      "4.760302655342733\n"
     ]
    }
   ],
   "source": [
    "prediction_forest = forest_reg.predict(divide_prepped)\n",
    "print(prediction_forest)\n",
    "print(divide_labels)\n",
    "error_forest = mean_squared_error(divide_labels, prediction_forest)\n",
    "RMSE_forest = np.sqrt(error_forest)\n",
    "print(RMSE_forest)"
   ]
  },
  {
   "cell_type": "code",
   "execution_count": null,
   "metadata": {},
   "outputs": [],
   "source": [
    "for feature, score in "
   ]
  },
  {
   "cell_type": "markdown",
   "metadata": {},
   "source": [
    "# CART Algorithm"
   ]
  },
  {
   "cell_type": "markdown",
   "metadata": {},
   "source": [
    "# Model Evaluation"
   ]
  },
  {
   "cell_type": "code",
   "execution_count": null,
   "metadata": {},
   "outputs": [],
   "source": []
  }
 ],
 "metadata": {
  "kernelspec": {
   "display_name": "Python 3",
   "language": "python",
   "name": "python3"
  },
  "language_info": {
   "codemirror_mode": {
    "name": "ipython",
    "version": 3
   },
   "file_extension": ".py",
   "mimetype": "text/x-python",
   "name": "python",
   "nbconvert_exporter": "python",
   "pygments_lexer": "ipython3",
   "version": "3.8.5"
  }
 },
 "nbformat": 4,
 "nbformat_minor": 4
}
