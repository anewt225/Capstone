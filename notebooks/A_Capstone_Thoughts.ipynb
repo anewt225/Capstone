version https://git-lfs.github.com/spec/v1
oid sha256:8f2e5a235594088d9e4e8b5336c2b2a19ea4c961774f995b5eb83afb787a5a13
size 12053
